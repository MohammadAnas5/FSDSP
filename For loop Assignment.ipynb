{
 "cells": [
  {
   "cell_type": "markdown",
   "id": "7314cfca-c367-43fd-95b5-959793e24330",
   "metadata": {},
   "source": [
    "## For Loop Assignment"
   ]
  },
  {
   "cell_type": "raw",
   "id": "1c7d7169-8704-4088-ad50-491500761c2b",
   "metadata": {},
   "source": [
    "# Basic Level:"
   ]
  },
  {
   "cell_type": "code",
   "execution_count": null,
   "id": "3b9e749f-394f-4927-8121-1a285bdcd47c",
   "metadata": {},
   "outputs": [],
   "source": [
    "# 1. Print numbers from 1 to 10 using a for loop\n",
    "for i in range(1, 11):\n",
    "    print(i)"
   ]
  },
  {
   "cell_type": "code",
   "execution_count": null,
   "id": "026df36b-97a9-4cf2-ad70-9270eae77f4c",
   "metadata": {},
   "outputs": [],
   "source": [
    "# 2. Calculate the sum of all numbers in a list using a for loop\n",
    "numbers = [1, 2, 3, 4, 5]\n",
    "sum_of_numbers = 0\n",
    "for num in numbers:\n",
    "    sum_of_numbers += num\n",
    "print(\"Sum of numbers:\", sum_of_numbers)"
   ]
  },
  {
   "cell_type": "code",
   "execution_count": null,
   "id": "322da72b-0c6e-4476-89f9-1f70f467f7df",
   "metadata": {},
   "outputs": [],
   "source": [
    "# 3. Print characters of a string in reverse order using a for loop\n",
    "text = \"Hello, World!\"\n",
    "reverse_text = \"\"\n",
    "for char in reversed(text):\n",
    "    reverse_text += char\n",
    "print(\"Reversed text:\", reverse_text)"
   ]
  },
  {
   "cell_type": "code",
   "execution_count": null,
   "id": "c6739129-3ecf-4398-9ae3-39b7af5a9bbc",
   "metadata": {},
   "outputs": [],
   "source": [
    "# 4. Find the factorial of a given number using a for loop\n",
    "number = 5\n",
    "factorial = 1\n",
    "for i in range(1, number + 1):\n",
    "    factorial *= i\n",
    "print(f\"Factorial of {number} is {factorial}\")"
   ]
  },
  {
   "cell_type": "code",
   "execution_count": null,
   "id": "2bb58a23-aff4-41f5-96a8-f92b3e316cd9",
   "metadata": {},
   "outputs": [],
   "source": [
    "# 5. Print the multiplication table of a given number using a for loop\n",
    "number = 7\n",
    "for i in range(1, 11):\n",
    "    product = number * i\n",
    "    print(f\"{number} x {i} = {product}\")"
   ]
  },
  {
   "cell_type": "code",
   "execution_count": null,
   "id": "3ee05255-5824-4558-bc40-68d72637e1b6",
   "metadata": {},
   "outputs": [],
   "source": [
    "# 6. Count the number of even and odd numbers in a list using a for loop\n",
    "numbers = [1, 2, 3, 4, 5, 6, 7, 8, 9, 10]\n",
    "even_count = 0\n",
    "odd_count = 0\n",
    "for num in numbers:\n",
    "    if num % 2 == 0:\n",
    "        even_count += 1\n",
    "    else:\n",
    "        odd_count += 1\n",
    "print(f\"Even numbers: {even_count}, Odd numbers: {odd_count}\")"
   ]
  },
  {
   "cell_type": "code",
   "execution_count": null,
   "id": "f5f8526a-6470-48ea-ade2-5d2eb88a602c",
   "metadata": {},
   "outputs": [],
   "source": [
    "# 7. Print the squares of numbers from 1 to 5 using a for loop\n",
    "for i in range(1, 6):\n",
    "    square = i ** 2\n",
    "    print(f\"{i} squared is {square}\")\n",
    "\n",
    "# 8. Find the length of a string without using the len() function\n",
    "text = \"Python Programming\"\n",
    "length = 0\n",
    "for char in text:\n",
    "    length += 1\n",
    "print(f\"Length of the string: {length}\")"
   ]
  },
  {
   "cell_type": "code",
   "execution_count": null,
   "id": "9bb285e6-e9ef-451a-b069-e112364f2294",
   "metadata": {},
   "outputs": [],
   "source": [
    "# 9. Calculate the average of a list of numbers using a for loop\n",
    "numbers = [10, 20, 30, 40, 50]\n",
    "total = 0\n",
    "for num in numbers:\n",
    "    total += num\n",
    "average = total / len(numbers)\n",
    "print(\"Average:\", average)\n",
    "\n",
    "# 10. Print the first n Fibonacci numbers using a for loop\n",
    "n = 10\n",
    "fibonacci_sequence = [0, 1]\n",
    "for i in range(2, n):\n",
    "    next_fib = fibonacci_sequence[-1] + fibonacci_sequence[-2]\n",
    "    fibonacci_sequence.append(next_fib)\n",
    "print(f\"First {n} Fibonacci numbers: {fibonacci_sequence}\")"
   ]
  },
  {
   "cell_type": "raw",
   "id": "2c772ee4-8e6d-414a-818b-1b9548da5b58",
   "metadata": {},
   "source": [
    "# Intermediate Level:"
   ]
  },
  {
   "cell_type": "code",
   "execution_count": null,
   "id": "57367965-0a87-4e50-bb4e-0a8bce8b3c7f",
   "metadata": {},
   "outputs": [],
   "source": [
    "# 11. Check if a given list contains any duplicates using a for loop\n",
    "def has_duplicates(input_list):\n",
    "    seen = set()\n",
    "    for item in input_list:\n",
    "        if item in seen:\n",
    "            return True\n",
    "        seen.add(item)\n",
    "    return False\n",
    "\n",
    "numbers_with_duplicates = [1, 2, 2, 3, 4, 4, 5]\n",
    "if has_duplicates(numbers_with_duplicates):\n",
    "    print(\"11. The list contains duplicates\")\n",
    "else:\n",
    "    print(\"11. The list does not contain duplicates\")"
   ]
  },
  {
   "cell_type": "code",
   "execution_count": null,
   "id": "5fd5f137-c696-4cf1-b32b-90442d86e4e3",
   "metadata": {},
   "outputs": [],
   "source": [
    "# 12. Print prime numbers in a given range using a for loop\n",
    "def is_prime(num):\n",
    "    if num <= 1:\n",
    "        return False\n",
    "    for i in range(2, int(num**0.5) + 1):\n",
    "        if num % i == 0:\n",
    "            return False\n",
    "    return True\n",
    "\n",
    "start = 1\n",
    "end = 20\n",
    "prime_numbers = [num for num in range(start, end + 1) if is_prime(num)]\n",
    "print(\"12. Prime numbers in the range:\", prime_numbers)"
   ]
  },
  {
   "cell_type": "code",
   "execution_count": null,
   "id": "c0c7e12d-72bf-4c35-a08c-f28e58a2361e",
   "metadata": {},
   "outputs": [],
   "source": [
    "# 13. Count the number of vowels in a string using a for loop\n",
    "text = \"Python Programming\"\n",
    "vowels = \"AEIOUaeiou\"\n",
    "vowel_count = 0\n",
    "for char in text:\n",
    "    if char in vowels:\n",
    "        vowel_count += 1\n",
    "print(f\"13. Number of vowels in the string: {vowel_count}\")"
   ]
  },
  {
   "cell_type": "code",
   "execution_count": null,
   "id": "ed3b1a85-0419-4578-9f5f-7b7f7bd816d8",
   "metadata": {},
   "outputs": [],
   "source": [
    "# 14. Find the maximum element in a 2D list using a nested for loop\n",
    "matrix = [[3, 9, 1], [4, 6, 8], [2, 7, 5]]\n",
    "max_element = matrix[0][0]\n",
    "for row in matrix:\n",
    "    for num in row:\n",
    "        if num > max_element:\n",
    "            max_element = num\n",
    "print(\"14. Maximum element in the 2D list:\", max_element)"
   ]
  },
  {
   "cell_type": "code",
   "execution_count": null,
   "id": "b9417e6e-3cca-4a2d-adbd-7d3c8ce6da95",
   "metadata": {},
   "outputs": [],
   "source": [
    "# 15. Remove all occurrences of a specific element from a list using a for loop\n",
    "numbers = [1, 2, 3, 2, 4, 2, 5]\n",
    "element_to_remove = 2\n",
    "numbers_without_element = [num for num in numbers if num != element_to_remove]\n",
    "print(f\"15. List after removing {element_to_remove}:\", numbers_without_element)"
   ]
  },
  {
   "cell_type": "code",
   "execution_count": null,
   "id": "42325558-33f5-4e4f-bac7-74a63d5cadac",
   "metadata": {},
   "outputs": [],
   "source": [
    "# 16. Generate a multiplication table for numbers from 1 to 5 using a nested for loop\n",
    "for i in range(1, 6):\n",
    "    for j in range(1, 11):\n",
    "        product = i * j\n",
    "        print(f\"{i} x {j} = {product}\")\n",
    "    print()"
   ]
  },
  {
   "cell_type": "code",
   "execution_count": null,
   "id": "450c4d30-bb83-424b-8d8e-96aa1335d16a",
   "metadata": {},
   "outputs": [],
   "source": [
    "# 17. Convert Fahrenheit temperatures to Celsius using a for loop\n",
    "fahrenheit_temperatures = [32, 50, 68, 86, 104]\n",
    "celsius_temperatures = [(temp - 32) * 5/9 for temp in fahrenheit_temperatures]\n",
    "print(\"17. Celsius temperatures:\", celsius_temperatures)"
   ]
  },
  {
   "cell_type": "code",
   "execution_count": null,
   "id": "654bedf5-d558-42d8-869c-f7d4865a86b6",
   "metadata": {},
   "outputs": [],
   "source": [
    "# 18. Print common elements from two lists using a for loop\n",
    "list1 = [1, 2, 3, 4, 5]\n",
    "list2 = [3, 4, 5, 6, 7]\n",
    "common_elements = [item for item in list1 if item in list2]\n",
    "print(\"18. Common elements between list1 and list2:\", common_elements)"
   ]
  },
  {
   "cell_type": "code",
   "execution_count": null,
   "id": "34628790-1344-4209-900a-05e816f192eb",
   "metadata": {},
   "outputs": [],
   "source": [
    "# 19. Print a pattern of right-angled triangles using a for loop\n",
    "for i in range(1, 6):\n",
    "    for j in range(i):\n",
    "        print(\"*\", end=\"\")\n",
    "    print()"
   ]
  },
  {
   "cell_type": "code",
   "execution_count": null,
   "id": "7cd6f74c-ceb9-499d-b375-2b672ab7fe83",
   "metadata": {},
   "outputs": [],
   "source": [
    "# 20. Find the greatest common divisor (GCD) of two numbers using a for loop\n",
    "import math\n",
    "num1 = 24\n",
    "num2 = 36\n",
    "gcd = math.gcd(num1, num2)\n",
    "print(f\"20. GCD of {num1} and {num2} is {gcd}\")"
   ]
  },
  {
   "cell_type": "raw",
   "id": "aad6f40d-d4cb-4d50-8f3f-cc44916e8ad3",
   "metadata": {},
   "source": [
    "# Advanced Level:"
   ]
  },
  {
   "cell_type": "code",
   "execution_count": null,
   "id": "ade26b83-82ad-4beb-8d83-de7640985ad8",
   "metadata": {},
   "outputs": [],
   "source": [
    "# 21. Calculate the sum of the digits of numbers in a list using list comprehension\n",
    "numbers = [123, 45, 6789, 12]\n",
    "digit_sums = [sum(int(digit) for digit in str(num)) for num in numbers]\n",
    "print(\"21. Sum of digits in numbers:\", digit_sums)\n",
    "\n",
    "# 22. Find the prime factors of a given number using a for loop and list comprehension\n",
    "def prime_factors(n):\n",
    "    factors = []\n",
    "    divisor = 2\n",
    "    while n > 1:\n",
    "        while n % divisor == 0:\n",
    "            factors.append(divisor)\n",
    "            n //= divisor\n",
    "        divisor += 1\n",
    "    return factors\n",
    "\n",
    "number = 36\n",
    "factors = prime_factors(number)\n",
    "print(f\"22. Prime factors of {number}: {factors}\")"
   ]
  },
  {
   "cell_type": "code",
   "execution_count": null,
   "id": "60b2ff15-4768-4dc4-8b2d-ed5c70aef9d8",
   "metadata": {},
   "outputs": [],
   "source": [
    "# 23. Extract unique elements from a list using list comprehension\n",
    "input_list = [1, 2, 2, 3, 4, 4, 5]\n",
    "unique_elements = list(set(input_list))\n",
    "print(\"23. Unique elements in the list:\", unique_elements)"
   ]
  },
  {
   "cell_type": "code",
   "execution_count": null,
   "id": "5fe13b4a-6b27-4cb8-a95e-c5a209825953",
   "metadata": {},
   "outputs": [],
   "source": [
    "# 24. Generate a list of palindromic numbers up to a specified limit using list comprehension\n",
    "limit = 100\n",
    "palindromic_numbers = [num for num in range(1, limit + 1) if str(num) == str(num)[::-1]]\n",
    "print(f\"24. Palindromic numbers up to {limit}:\", palindromic_numbers)"
   ]
  },
  {
   "cell_type": "code",
   "execution_count": null,
   "id": "589e48df-dc8a-4796-8d17-2de9905acfb1",
   "metadata": {},
   "outputs": [],
   "source": [
    "# 25. Flatten a nested list using list comprehension\n",
    "nested_list = [[1, 2], [3, 4], [5, 6]]\n",
    "flattened_list = [item for sublist in nested_list for item in sublist]\n",
    "print(\"25. Flattened list:\", flattened_list)"
   ]
  },
  {
   "cell_type": "code",
   "execution_count": null,
   "id": "f242d8a1-9f69-4f20-8a8d-6e18dc0ee6fd",
   "metadata": {},
   "outputs": [],
   "source": [
    "# 26. Compute the sum of even and odd numbers in a list separately using list comprehension\n",
    "numbers = [1, 2, 3, 4, 5, 6, 7, 8, 9]\n",
    "even_sum = sum(num for num in numbers if num % 2 == 0)\n",
    "odd_sum = sum(num for num in numbers if num % 2 != 0)\n",
    "print(\"26. Sum of even numbers:\", even_sum)\n",
    "print(\"    Sum of odd numbers:\", odd_sum)"
   ]
  },
  {
   "cell_type": "code",
   "execution_count": null,
   "id": "d2699e08-9fb6-42da-bbc8-f4845e5fba2a",
   "metadata": {},
   "outputs": [],
   "source": [
    "# 27. Generate a list of squares of odd numbers between 1 and 10 using list comprehension\n",
    "squares_of_odd = [num**2 for num in range(1, 11) if num % 2 != 0]\n",
    "print(\"27. Squares of odd numbers:\", squares_of_odd)"
   ]
  },
  {
   "cell_type": "code",
   "execution_count": null,
   "id": "bcd95fdf-bc7f-4f51-b31b-2467ab55b402",
   "metadata": {},
   "outputs": [],
   "source": [
    "# 28. Combine two lists into a dictionary using list comprehension\n",
    "keys = ['a', 'b', 'c']\n",
    "values = [1, 2, 3]\n",
    "combined_dict = {key: value for key, value in zip(keys, values)}\n",
    "print(\"28. Combined dictionary:\", combined_dict)"
   ]
  },
  {
   "cell_type": "code",
   "execution_count": null,
   "id": "ae286393-0125-4a5c-8725-22e65441b706",
   "metadata": {},
   "outputs": [],
   "source": [
    "# 29. Extract vowels from a string and store them in a list using list comprehension\n",
    "text = \"Python Programming\"\n",
    "vowels = \"AEIOUaeiou\"\n",
    "vowel_list = [char for char in text if char in vowels]\n",
    "print(\"29. List of vowels in the string:\", vowel_list)"
   ]
  },
  {
   "cell_type": "code",
   "execution_count": null,
   "id": "aaf26e30-9fff-4ba9-a559-9ca229831a2a",
   "metadata": {},
   "outputs": [],
   "source": [
    "# 30. Remove non-numeric characters from a list of strings using list comprehension\n",
    "strings_with_nonnumeric = ['abc', '123', 'def', '456']\n",
    "numeric_strings = [s for s in strings_with_nonnumeric if s.isdigit()]\n",
    "print(\"30. Numeric strings:\", numeric_strings)"
   ]
  },
  {
   "cell_type": "raw",
   "id": "0c43db3f-41a4-4a94-b746-b03d2b85b5b8",
   "metadata": {},
   "source": [
    "# Challenge Level:"
   ]
  },
  {
   "cell_type": "code",
   "execution_count": null,
   "id": "5df94c2c-bd3b-4a04-a7aa-9cc10d721da7",
   "metadata": {},
   "outputs": [],
   "source": [
    "# 31. Generate a list of prime numbers using the Sieve of Eratosthenes algorithm and list comprehension\n",
    "def sieve_of_eratosthenes(n):\n",
    "    sieve = [True] * (n + 1)\n",
    "    sieve[0] = sieve[1] = False\n",
    "    for p in range(2, int(n**0.5) + 1):\n",
    "        if sieve[p]:\n",
    "            for i in range(p * p, n + 1, p):\n",
    "                sieve[i] = False\n",
    "    primes = [p for p in range(2, n + 1) if sieve[p]]\n",
    "    return primes\n",
    "\n",
    "n = 50\n",
    "prime_numbers = sieve_of_eratosthenes(n)\n",
    "print(\"31. Prime numbers up to\", n, \":\", prime_numbers)"
   ]
  },
  {
   "cell_type": "code",
   "execution_count": null,
   "id": "e58399c8-5668-43bf-9a47-57307d011f52",
   "metadata": {},
   "outputs": [],
   "source": [
    "# 32. Generate a list of all Pythagorean triplets up to a specified limit using list comprehension\n",
    "limit = 20\n",
    "pythagorean_triplets = [(a, b, c) for a in range(1, limit + 1) for b in range(a, limit + 1) for c in range(b, limit + 1) if a**2 + b**2 == c**2]\n",
    "print(\"32. Pythagorean triplets up to\", limit, \":\", pythagorean_triplets)"
   ]
  }
 ],
 "metadata": {
  "kernelspec": {
   "display_name": "Python 3 (ipykernel)",
   "language": "python",
   "name": "python3"
  },
  "language_info": {
   "codemirror_mode": {
    "name": "ipython",
    "version": 3
   },
   "file_extension": ".py",
   "mimetype": "text/x-python",
   "name": "python",
   "nbconvert_exporter": "python",
   "pygments_lexer": "ipython3",
   "version": "3.10.8"
  }
 },
 "nbformat": 4,
 "nbformat_minor": 5
}
