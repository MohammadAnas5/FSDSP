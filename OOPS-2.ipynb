{
 "cells": [
  {
   "cell_type": "markdown",
   "id": "dce22b81-9a25-4b63-9a32-acca4c944659",
   "metadata": {},
   "source": [
    "### Constructor "
   ]
  },
  {
   "cell_type": "raw",
   "id": "a188c5dd-7ede-48b6-8e19-149153e5013e",
   "metadata": {},
   "source": [
    " 1. What is a constructor in Python? Explain its purpose and usage.\n",
    " A constructor is a special method in a class used to initialize objects. It is called when an object of the class is created."
   ]
  },
  {
   "cell_type": "raw",
   "id": "d4d2584b-094b-4770-85dd-49b205eee9cf",
   "metadata": {},
   "source": [
    "2. Differentiate between a parameterless constructor and a parameterized constructor in Python.\n",
    "A parameterless constructor has no parameters, while a parameterized constructor takes one or more parameters to initialize object attributes."
   ]
  },
  {
   "cell_type": "code",
   "execution_count": null,
   "id": "51786872-1e61-4732-9c4b-506804c27ee4",
   "metadata": {},
   "outputs": [],
   "source": [
    "# 3. How do you define a constructor in a Python class? Provide an example.\n",
    "class Person:\n",
    "    def __init__(self, name, age):\n",
    "        self.name = name\n",
    "        self.age = age"
   ]
  },
  {
   "cell_type": "raw",
   "id": "ef791e6e-a1a7-49eb-b652-da79e7ceda7b",
   "metadata": {},
   "source": [
    "4. Explain the `__init__` method in Python and its role in constructors.\n",
    "The `__init__` method is a constructor in Python. It is automatically called when an object is created from the class. It initializes the object's attributes."
   ]
  },
  {
   "cell_type": "code",
   "execution_count": null,
   "id": "ecfe7343-afc7-4989-a512-cf1212135bff",
   "metadata": {},
   "outputs": [],
   "source": [
    "# 5. In a class named `Person`, create a constructor that initializes the `name` and `age` attributes.\n",
    "# Provide an example of creating an object of this class.\n",
    "person1 = Person(\"Anas\", 30)"
   ]
  },
  {
   "cell_type": "code",
   "execution_count": null,
   "id": "a0312805-a773-41e8-93e5-1bfe46b717be",
   "metadata": {},
   "outputs": [],
   "source": [
    "# 6. How can you call a constructor explicitly in Python? Give an example.\n",
    "person2 = Person.__new__(Person)\n",
    "person2.__init__(\"Bobby\", 25)"
   ]
  },
  {
   "cell_type": "code",
   "execution_count": null,
   "id": "deaae637-5054-4a5f-9661-a450eb6eaffd",
   "metadata": {},
   "outputs": [],
   "source": [
    "# 7. What is the significance of the `self` parameter in Python constructors? Explain with an example.\n",
    "# `self` refers to the instance of the class. It is used to access and set instance-specific attributes.\n",
    "class Rectangle:\n",
    "    def __init__(self, width, height):\n",
    "        self.width = width\n",
    "        self.height = height"
   ]
  },
  {
   "cell_type": "raw",
   "id": "b282c0a6-8bb2-4963-8cf0-829460b217dd",
   "metadata": {},
   "source": [
    "8. Discuss the concept of default constructors in Python. When are they used?\n",
    "In Python, constructors with no user-defined `__init__` method are considered default constructors. They are used if no custom constructor is provided."
   ]
  },
  {
   "cell_type": "code",
   "execution_count": null,
   "id": "b4efb445-3c93-44e6-8362-6166057d15dc",
   "metadata": {},
   "outputs": [],
   "source": [
    "# 9. Create a Python class called `Rectangle` with a constructor that initializes the `width` and `height` attributes.\n",
    "# Provide a method to calculate the area of the rectangle.\n",
    "class Rectangle:\n",
    "    def __init__(self, width, height):\n",
    "        self.width = width\n",
    "        self.height = height\n",
    "\n",
    "    def calculate_area(self):\n",
    "        return self.width * self.height"
   ]
  },
  {
   "cell_type": "code",
   "execution_count": null,
   "id": "ac63fe8a-ed47-43f9-8f98-a31fe3309979",
   "metadata": {},
   "outputs": [],
   "source": [
    "# 10. How can you have multiple constructors in a Python class? Explain with an example.\n",
    "# You can't have true method overloading in Python, but you can use default argument values to simulate multiple constructors.\n",
    "class Rectangle:\n",
    "    def __init__(self, width=0, height=0):\n",
    "        self.width = width\n",
    "        self.height = height"
   ]
  },
  {
   "cell_type": "raw",
   "id": "fa34ed40-70f9-4bad-9f0a-9afeb6490f45",
   "metadata": {},
   "source": [
    "11. What is method overloading, and how is it related to constructors in Python?\n",
    "Method overloading is the ability to define multiple methods in a class with the same name but different parameters. In Python, method overloading is not supported directly for constructors."
   ]
  },
  {
   "cell_type": "code",
   "execution_count": null,
   "id": "5a5f3b32-6474-4326-8e2b-0e70cd9514a7",
   "metadata": {},
   "outputs": [],
   "source": [
    "# 12. Explain the use of the `super()` function in Python constructors. Provide an example.\n",
    "# The `super()` function is used to call a method from the parent class. It's often used in constructors to initialize attributes from the parent class.\n",
    "class Book:\n",
    "    def __init__(self, title, author, published_year):\n",
    "        self.title = title\n",
    "        self.author = author\n",
    "        self.published_year = published_year\n",
    "\n",
    "class EBook(Book):\n",
    "    def __init__(self, title, author, published_year, file_format):\n",
    "        super().__init__(title, author, published_year)\n",
    "        self.file_format = file_format"
   ]
  },
  {
   "cell_type": "code",
   "execution_count": null,
   "id": "6bc70b5e-37b6-4a24-81bb-f344f390ec4b",
   "metadata": {},
   "outputs": [],
   "source": [
    "# 13. Create a class called `Book` with a constructor that initializes the `title`, `author`, and `published_year` attributes.\n",
    "# Provide a method to display book details.\n",
    "class Book:\n",
    "    def __init__(self, title, author, published_year):\n",
    "        self.title = title\n",
    "        self.author = author\n",
    "        self.published_year = published_year\n",
    "\n",
    "    def display_details(self):\n",
    "        print(f\"Title: {self.title}, Author: {self.author}, Published Year: {self.published_year}\")"
   ]
  },
  {
   "cell_type": "raw",
   "id": "2c11eb5f-4614-4c30-b12a-c0d5b9a5fca3",
   "metadata": {},
   "source": [
    "14. Discuss the differences between constructors and regular methods in Python classes.\n",
    "Ans - Constructors are used for object initialization, while regular methods perform operations on objects after they are initialized."
   ]
  },
  {
   "cell_type": "raw",
   "id": "f31b5f7f-9223-4056-af3d-078a2a3eac51",
   "metadata": {},
   "source": [
    "15. Explain the role of the `self` parameter in instance variable initialization within a constructor.\n",
    "Ans - `self` is a reference to the instance itself. It is used to access and set instance-specific attributes within a constructor."
   ]
  },
  {
   "cell_type": "code",
   "execution_count": null,
   "id": "34f39686-745a-4053-89e9-9859c1c59ce7",
   "metadata": {},
   "outputs": [],
   "source": [
    "# 16. How do you prevent a class from having multiple instances by using constructors in Python? Provide an example.\n",
    "# You can use the Singleton pattern to ensure that a class has only one instance.\n",
    "class SingletonClass:\n",
    "    _instance = None\n",
    "\n",
    "    def __new__(cls):\n",
    "        if cls._instance is None:\n",
    "            cls._instance = super(SingletonClass, cls).__new__(cls)\n",
    "        return cls._instance"
   ]
  },
  {
   "cell_type": "code",
   "execution_count": null,
   "id": "9579805e-b8d9-47c0-b875-369abaad64f7",
   "metadata": {},
   "outputs": [],
   "source": [
    "# 17. Create a Python class called `Student` with a constructor that takes a list of subjects as a parameter and initializes the `subjects` attribute.\n",
    "class Student:\n",
    "    def __init__(self, subjects):\n",
    "        self.subjects = subjects"
   ]
  },
  {
   "cell_type": "raw",
   "id": "2963f2ed-0e92-4960-acbb-6d13e8cc81b1",
   "metadata": {},
   "source": [
    "18. What is the purpose of the `__del__` method in Python classes, and how does it relate to constructors?\n",
    "Ans - The `__del__` method is used for cleaning up resources when an object is destroyed. It's the counterpart of the constructor (`__init__`) for deinitialization."
   ]
  },
  {
   "cell_type": "code",
   "execution_count": null,
   "id": "611a1b46-29ea-42cc-a30b-c53dbfab028f",
   "metadata": {},
   "outputs": [],
   "source": [
    "# 19. Explain the use of constructor chaining in Python. Provide a practical example.\n",
    "# Constructor chaining allows one constructor to call another in the same class or a parent class.\n",
    "class Vehicle:\n",
    "    def __init__(self, make, model):\n",
    "        self.make = make\n",
    "        self.model = model\n",
    "\n",
    "class Car(Vehicle):\n",
    "    def __init__(self, make, model, color):\n",
    "        super().__init__(make, model)\n",
    "        self.color = color"
   ]
  },
  {
   "cell_type": "code",
   "execution_count": null,
   "id": "89a7555c-c910-4916-8559-95376912fadf",
   "metadata": {},
   "outputs": [],
   "source": [
    "# 20. Create a Python class called `Car` with a default constructor that initializes the `make` and `model` attributes.\n",
    "# Provide a method to display car information.\n",
    "class Car:\n",
    "    def __init__(self, make=\"Unknown\", model=\"Unknown\"):\n",
    "        self.make = make\n",
    "        self.model = model\n",
    "\n",
    "    def display_info(self):\n",
    "        print(f\"Make: {self.make}, Model: {self.model}\")\n",
    "\n",
    "# Example usage for the Car class\n",
    "car1 = Car(\"Toyota\", \"Camry\")\n",
    "car2 = Car()"
   ]
  },
  {
   "cell_type": "markdown",
   "id": "3a724466-b790-4752-871e-22e3750a6dd1",
   "metadata": {},
   "source": [
    "### Inheritance"
   ]
  },
  {
   "cell_type": "raw",
   "id": "5f92c1f0-db68-4010-b1e8-999dfe53bba6",
   "metadata": {},
   "source": [
    "1. What is inheritance in Python? Explain its significance in object-oriented programming.\n",
    "Inheritance is a mechanism in object-oriented programming that allows a class (child or subclass) to inherit attributes and methods from another class (parent or superclass). It promotes code reuse and the creation of a hierarchy of classes."
   ]
  },
  {
   "cell_type": "code",
   "execution_count": null,
   "id": "e431ee40-1559-4165-ab5a-969617fb0a0c",
   "metadata": {},
   "outputs": [],
   "source": [
    "# 2. Differentiate between single inheritance and multiple inheritance in Python. Provide examples for each.\n",
    "# Single inheritance involves one child class inheriting from one parent class. Multiple inheritance involves a child class inheriting from multiple parent classes.\n",
    "# Single Inheritance Example:\n",
    "class Vehicle:\n",
    "    def __init__(self, color, speed):\n",
    "        self.color = color\n",
    "        self.speed = speed\n",
    "\n",
    "class Car(Vehicle):\n",
    "    def __init__(self, color, speed, brand):\n",
    "        super().__init__(color, speed)\n",
    "        self.brand = brand\n",
    "\n",
    "# Multiple Inheritance Example:\n",
    "class Animal:\n",
    "    def speak(self):\n",
    "        pass\n",
    "\n",
    "class Mammal:\n",
    "    def give_birth(self):\n",
    "        pass\n",
    "\n",
    "class Dog(Animal, Mammal):\n",
    "    def speak(self):\n",
    "        return \"Woof\""
   ]
  },
  {
   "cell_type": "code",
   "execution_count": null,
   "id": "849c5c55-f5b0-43c5-9528-887a6ba312e9",
   "metadata": {},
   "outputs": [],
   "source": [
    "# 3. Create a Python class called `Vehicle` with attributes `color` and `speed`. Then, create a child class called\n",
    "# `Car` that inherits from `Vehicle` and adds a `brand` attribute. Provide an example of creating a `Car` object.\n",
    "class Vehicle:\n",
    "    def __init__(self, color, speed):\n",
    "        self.color = color\n",
    "        self.speed = speed\n",
    "\n",
    "class Car(Vehicle):\n",
    "    def __init__(self, color, speed, brand):\n",
    "        super().__init__(color, speed)\n",
    "        self.brand = brand\n",
    "\n",
    "# Example usage for the Car class\n",
    "car = Car(\"Red\", 100, \"Toyota\")"
   ]
  },
  {
   "cell_type": "code",
   "execution_count": null,
   "id": "6ee2a6bf-b284-4a3b-914a-66a8a718a25e",
   "metadata": {},
   "outputs": [],
   "source": [
    "# 4. Explain the concept of method overriding in inheritance. Provide a practical example.\n",
    "# Method overriding allows a child class to provide a specific implementation of a method that is already defined in the parent class.\n",
    "class Animal:\n",
    "    def speak(self):\n",
    "        pass\n",
    "\n",
    "class Dog(Animal):\n",
    "    def speak(self):\n",
    "        return \"Woof\""
   ]
  },
  {
   "cell_type": "code",
   "execution_count": null,
   "id": "035986e8-3d9e-4297-abaf-ea2aea12718e",
   "metadata": {},
   "outputs": [],
   "source": [
    "# 5. How can you access the methods and attributes of a parent class from a child class in Python? Give an\n",
    "# example.\n",
    "# You can access them using the `super()` function or by directly referencing the parent class.\n",
    "class Animal:\n",
    "    def __init__(self, name):\n",
    "        self.name = name\n",
    "\n",
    "class Dog(Animal):\n",
    "    def __init__(self, name, breed):\n",
    "        super().__init__(name)\n",
    "        self.breed = breed"
   ]
  },
  {
   "cell_type": "code",
   "execution_count": null,
   "id": "bce0698c-f32e-4ed1-bc3d-d89b1b8e79a8",
   "metadata": {},
   "outputs": [],
   "source": [
    "# 6. Discuss the use of the `super()` function in Python inheritance. When and why is it used? Provide an\n",
    "# example.\n",
    "# The `super()` function is used to call methods from the parent class. It is often used in child class constructors to initialize parent class attributes.\n",
    "class Animal:\n",
    "    def __init__(self, name):\n",
    "        self.name = name\n",
    "\n",
    "class Dog(Animal):\n",
    "    def __init__(self, name, breed):\n",
    "        super().__init__(name)\n",
    "        self.breed = breed"
   ]
  },
  {
   "cell_type": "code",
   "execution_count": null,
   "id": "ac0c927a-752a-4d2f-b255-9fbb2744ded4",
   "metadata": {},
   "outputs": [],
   "source": [
    "# 7. Create a Python class called `Animal` with a method `speak()`. Then, create child classes `Dog` and `Cat` that inherit from `Animal` and override the `speak()` method. Provide an example of using these classes.\n",
    "class Animal:\n",
    "    def speak(self):\n",
    "        pass\n",
    "\n",
    "class Dog(Animal):\n",
    "    def speak(self):\n",
    "        return \"Woof\"\n",
    "\n",
    "class Cat(Animal):\n",
    "    def speak(self):\n",
    "        return \"Meow\"\n",
    "\n",
    "# Example usage for Dog and Cat classes\n",
    "dog = Dog()\n",
    "cat = Cat()\n",
    "print(dog.speak())  # Outputs: Woof\n",
    "print(cat.speak())  # Outputs: Meow"
   ]
  },
  {
   "cell_type": "code",
   "execution_count": null,
   "id": "15fdbb56-0dec-46b1-98eb-162a97fdb756",
   "metadata": {},
   "outputs": [],
   "source": [
    "# 8. Explain the role of the `isinstance()` function in Python and how it relates to inheritance.\n",
    "# The `isinstance()` function is used to check if an object is an instance of a particular class or a subclass. It helps verify the type of an object.\n",
    "animal = Animal()\n",
    "print(isinstance(animal, Animal))  # True\n",
    "print(isinstance(animal, Dog))     # False"
   ]
  },
  {
   "cell_type": "code",
   "execution_count": null,
   "id": "3fd3b7a9-71d5-4b41-900a-08e160fc58fa",
   "metadata": {},
   "outputs": [],
   "source": [
    "# 9. What is the purpose of the `issubclass()` function in Python? Provide an example.\n",
    "# The `issubclass()` function is used to check if a class is a subclass of another class.\n",
    "print(issubclass(Dog, Animal))  # True"
   ]
  },
  {
   "cell_type": "code",
   "execution_count": null,
   "id": "7d87ec1f-c97f-432e-ab0e-43fcb9a7b98d",
   "metadata": {},
   "outputs": [],
   "source": [
    "# 10. Discuss the concept of constructor inheritance in Python. How are constructors inherited in child classes?\n",
    "# Constructors are not automatically inherited by child classes. If a child class does not have its own constructor, it will use the constructor of the parent class. If the child class has its own constructor, it can call the parent class constructor using `super()`.\n",
    "class Parent:\n",
    "    def __init__(self, value):\n",
    "        self.value = value\n",
    "\n",
    "class Child(Parent):\n",
    "    def __init__(self, value, child_value):\n",
    "        super().__init__(value)\n",
    "        self.child_value = child_value"
   ]
  },
  {
   "cell_type": "code",
   "execution_count": null,
   "id": "1797bd8b-c298-45be-8826-db3ff0d39e88",
   "metadata": {},
   "outputs": [],
   "source": [
    "# 11. Create a Python class called `Shape` with a method `area()` that calculates the area of a shape. Then, create child classes `Circle` and `Rectangle` that inherit from `Shape` and implement the `area()` method\n",
    "# accordingly.\n",
    "class Shape:\n",
    "    def area(self):\n",
    "        pass\n",
    "\n",
    "class Circle(Shape):\n",
    "    def __init__(self, radius):\n",
    "        self.radius = radius\n",
    "\n",
    "    def area(self):\n",
    "        return 3.14159 * self.radius * self.radius\n",
    "\n",
    "class Rectangle(Shape):\n",
    "    def __init__(self, length, width):\n",
    "        self.length = length\n",
    "        self.width = width\n",
    "\n",
    "    def area(self):\n",
    "        return self.length * self.width\n",
    "\n",
    "# Example usage for Circle and Rectangle classes\n",
    "circle = Circle(5)\n",
    "rectangle = Rectangle(4, 6)\n",
    "print(circle.area())    # Outputs: 78.53975\n",
    "print(rectangle.area()) # Outputs: 24"
   ]
  },
  {
   "cell_type": "code",
   "execution_count": null,
   "id": "f785494f-7204-4e7e-aa15-59871a774d94",
   "metadata": {},
   "outputs": [],
   "source": [
    "# 12. Explain the use of abstract base classes (ABCs) in Python and how they relate to inheritance. Provide an\n",
    "# example using the `abc` module.\n",
    "# Abstract base classes define a blueprint for other classes. They can't be instantiated themselves but can be inherited by other classes to ensure that certain methods are implemented.\n",
    "from abc import ABC, abstractmethod\n",
    "\n",
    "class MyAbstractClass(ABC):\n",
    "    @abstractmethod\n",
    "    def my_method(self):\n",
    "        pass\n",
    "\n",
    "class MyConcreteClass(MyAbstractClass):\n",
    "    def my_method(self):\n",
    "        return \"Implemented\""
   ]
  },
  {
   "cell_type": "code",
   "execution_count": null,
   "id": "2c5935bb-e552-4aa2-ac5d-3bd9168554d1",
   "metadata": {},
   "outputs": [],
   "source": [
    "# 13. How can you prevent a child class from modifying certain attributes or methods inherited from a parent\n",
    "# class in Python?\n",
    "# You can make the attributes or methods in the parent class private by prefixing them with an underscore. However, it's still possible to access them, but it signals that they are intended for internal use.\n",
    "class Parent:\n",
    "    def __init__(self):\n",
    "        self._value = 42  # Private attribute\n",
    "\n",
    "    def _private_method(self):\n",
    "        pass\n",
    "\n",
    "class Child(Parent):\n",
    "    def modify(self):\n",
    "        self._value = 10   # Modifying the private attribute"
   ]
  },
  {
   "cell_type": "code",
   "execution_count": null,
   "id": "6af02c1a-0307-49cc-b4a6-cc1ff64d50ad",
   "metadata": {},
   "outputs": [],
   "source": [
    "# 14. Create a Python class called `Employee` with attributes `name` and `salary`. Then, create a child class\n",
    "# `Manager` that inherits from `Employee` and adds an attribute `department`. Provide an example.\n",
    "class Employee:\n",
    "    def __init__(self, name, salary):\n",
    "        self.name = name\n",
    "        self.salary = salary\n",
    "\n",
    "class Manager(Employee):\n",
    "    def __init__(self, name, salary, department):\n",
    "        super().__init__(name, salary)\n",
    "        self.department = department"
   ]
  },
  {
   "cell_type": "raw",
   "id": "427a9727-5f04-4c03-be92-1f03fe716693",
   "metadata": {},
   "source": [
    "15. Discuss the concept of method overloading in Python inheritance. How does it differ from method\n",
    "overriding?\n",
    "Ans - Method overloading in Python is not directly supported like in some other languages. Python does not allow multiple methods with the same name but different parameters in a class. Method overriding, on the other hand, involves redefining a method with the same name and parameters in a child class."
   ]
  },
  {
   "cell_type": "raw",
   "id": "7eb320ce-ba46-4f23-9a0d-c294198fe47e",
   "metadata": {},
   "source": [
    "16. Explain the purpose of the `__init__()` method in Python inheritance and how it is utilized in child classes.\n",
    "Ans - The `__init__()` method is the constructor in Python, used to initialize object attributes. In child classes, it can be used to extend or override the behavior of the parent class constructor."
   ]
  },
  {
   "cell_type": "code",
   "execution_count": null,
   "id": "3ab02af5-be0c-42aa-b098-72c42ff25f05",
   "metadata": {},
   "outputs": [],
   "source": [
    "# 17. Create a Python class called `Bird` with a method `fly()`. Then, create child classes `Eagle` and `Sparrow` that inherit from `Bird` and implement the `fly()` method differently.\n",
    "class Bird:\n",
    "    def fly(self):\n",
    "        pass\n",
    "\n",
    "class Eagle(Bird):\n",
    "    def fly(self):\n",
    "        return \"Soaring high\"\n",
    "\n",
    "class Sparrow(Bird):\n",
    "    def fly(self):\n",
    "        return \"Flitting around\"\n",
    "\n",
    "# Example usage for Eagle and Sparrow classes\n",
    "eagle = Eagle()\n",
    "sparrow = Sparrow()\n",
    "print(eagle.fly())   # Outputs: Soaring high\n",
    "print(sparrow.fly()) # Outputs: Flitting around"
   ]
  },
  {
   "cell_type": "raw",
   "id": "712d4cda-5d9f-40b7-9908-853103912021",
   "metadata": {},
   "source": [
    "18. What is the \"diamond problem\" in multiple inheritance, and how does Python address it?\n",
    "Ans - The \"diamond problem\" occurs in multiple inheritance when a child class inherits from two classes that have a common base class. Python addresses this by using the C3 Linearization (C3 superclass linearization) algorithm, which maintains a consistent method resolution order (MRO) and ensures that each method is called only once in the inheritance hierarchy."
   ]
  },
  {
   "cell_type": "code",
   "execution_count": null,
   "id": "7208ae21-4d6d-4f29-9034-8142d9e312c6",
   "metadata": {},
   "outputs": [],
   "source": [
    "# 19. Discuss the concept of \"is-a\" and \"has-a\" relationships in inheritance, and provide examples of each.\n",
    "# \"Is-a\" relationship represents inheritance, where a class is a specialized version of another class.\n",
    "# \"Has-a\" relationship represents composition, where a class has another class as a part or attribute.\n",
    "# Example of \"is-a\":\n",
    "class Animal:\n",
    "    pass\n",
    "\n",
    "class Dog(Animal):\n",
    "    pass\n",
    "\n",
    "# Example of \"has-a\":\n",
    "class Engine:\n",
    "    pass\n",
    "\n",
    "class Car:\n",
    "    def __init__(self):\n",
    "        self.engine = Engine()"
   ]
  },
  {
   "cell_type": "code",
   "execution_count": null,
   "id": "eeaca7eb-240a-4d80-99b9-b0783765f3f5",
   "metadata": {},
   "outputs": [],
   "source": [
    "# 20. Create a Python class hierarchy for a university system. Start with a base class `Person` and create child\n",
    "# classes `Student` and `Professor`, each with their own attributes and methods. Provide an example of using\n",
    "# these classes in a university context.\n",
    "class Person:\n",
    "    def __init__(self, name, age):\n",
    "        self.name = name\n",
    "        self.age = age\n",
    "\n",
    "class Student(Person):\n",
    "    def __init__(self, name, age, student_id):\n",
    "        super().__init__(name, age)\n",
    "        self.student_id = student_id\n",
    "\n",
    "    def study(self):\n",
    "        return f\"{self.name} is studying.\"\n",
    "\n",
    "class Professor(Person):\n",
    "    def __init__(self, name, age, employee_id):\n",
    "        super().__init__(name, age)\n",
    "        self.employee_id = employee_id\n",
    "\n",
    "    def teach(self):\n",
    "        return f\"{self.name} is teaching.\"\n",
    "\n",
    "# Example usage for Student and Professor classes\n",
    "student = Student(\"Alice\", 20, \"S12345\")\n",
    "professor = Professor(\"Dr. Smith\", 45, \"P9876\")\n",
    "print(student.study())    # Outputs: Alice is studying.\n",
    "print(professor.teach())  # Outputs: Dr. Smith is teaching."
   ]
  },
  {
   "cell_type": "markdown",
   "id": "fa8a1052-df8c-4cfd-9a9f-076fc34aaa9e",
   "metadata": {},
   "source": [
    "### Encapsulation "
   ]
  },
  {
   "cell_type": "raw",
   "id": "20cca87f-f81f-41fe-8cac-6507a0de4205",
   "metadata": {},
   "source": [
    "1. Explain the concept of encapsulation in Python. What is its role in object-oriented programming?\n",
    "Ans - Encapsulation is one of the four fundamental OOP concepts. It is the practice of restricting access to certain parts of an object, protecting the internal state, and providing controlled access to the object's properties and methods."
   ]
  },
  {
   "cell_type": "raw",
   "id": "46467695-d9de-48b6-a49c-b2bc6c8504dc",
   "metadata": {},
   "source": [
    "2. Describe the key principles of encapsulation, including access control and data hiding.\n",
    "Ans - Key principles of encapsulation include:\n",
    "- Access Control: Restricting access to internal details of a class.\n",
    "- Data Hiding: Protecting data from direct access and manipulation."
   ]
  },
  {
   "cell_type": "code",
   "execution_count": null,
   "id": "58993b9a-fe53-403c-92f3-221b74b33f5c",
   "metadata": {},
   "outputs": [],
   "source": [
    "# 3. How can you achieve encapsulation in Python classes? Provide an example.\n",
    "# Encapsulation is achieved by using access modifiers to control the visibility of attributes and methods.\n",
    "class Person:\n",
    "    def __init__(self, name):\n",
    "        self.__name = name  # Private attribute\n",
    "\n",
    "    def get_name(self):\n",
    "        return self.__name\n",
    "\n",
    "    def set_name(self, new_name):\n",
    "        self.__name = new_name"
   ]
  },
  {
   "cell_type": "raw",
   "id": "ce727033-d745-4c23-bc0e-9db058930294",
   "metadata": {},
   "source": [
    "4. Discuss the difference between public, private, and protected access modifiers in Python.\n",
    "Ans -  - Public (default): Accessible from anywhere.\n",
    "- Private (double underscore prefix): Accessible within the class only (name mangling is used to make it difficult but not impossible to access from outside).\n",
    "- Protected (single underscore prefix): Accessible within the class and its subclasses."
   ]
  },
  {
   "cell_type": "code",
   "execution_count": null,
   "id": "c618ad4e-fb72-4227-828c-50803ddb1011",
   "metadata": {},
   "outputs": [],
   "source": [
    "# 5. Create a Python class called `Person` with a private attribute `__name`. Provide methods to get and set the name attribute.\n",
    "class Person:\n",
    "    def __init__(self, name):\n",
    "        self.__name = name  # Private attribute\n",
    "\n",
    "    def get_name(self):\n",
    "        return self.__name\n",
    "\n",
    "    def set_name(self, new_name):\n",
    "        self.__name = new_name"
   ]
  },
  {
   "cell_type": "code",
   "execution_count": null,
   "id": "f6198c01-c2f0-4870-a96e-ee2d0417b741",
   "metadata": {},
   "outputs": [],
   "source": [
    "# 6. Explain the purpose of getter and setter methods in encapsulation. Provide examples.\n",
    "# Getter methods are used to access private attributes, and setter methods are used to modify them, providing controlled access to the data.\n",
    "class Student:\n",
    "    def __init__(self, name, age):\n",
    "        self.__name = name  # Private attribute\n",
    "        self.__age = age    # Private attribute\n",
    "\n",
    "    def get_name(self):\n",
    "        return self.__name\n",
    "\n",
    "    def set_name(self, new_name):\n",
    "        self.__name = new_name\n",
    "\n",
    "    def get_age(self):\n",
    "        return self.__age\n",
    "\n",
    "    def set_age(self, new_age):\n",
    "        self.__age = new_age"
   ]
  },
  {
   "cell_type": "raw",
   "id": "c96be677-5981-4b4e-9ebe-e1a1d3d22bf7",
   "metadata": {},
   "source": [
    "7. What is name mangling in Python, and how does it affect encapsulation?\n",
    "Answer - Name mangling is a technique used to make it difficult (but not impossible) to access private attributes from outside the class. It involves prefixing the attribute name with a double underscore, and the interpreter modifies the name to include the class name as a prefix."
   ]
  },
  {
   "cell_type": "code",
   "execution_count": null,
   "id": "fc98a9c2-573b-4070-9fbd-f8f482b0b5ad",
   "metadata": {},
   "outputs": [],
   "source": [
    "# 8. Create a Python class called `BankAccount` with private attributes for the account balance (`__balance`) and account number (`__account_number`). Provide methods for depositing and withdrawing money.\n",
    "class BankAccount:\n",
    "    def __init__(self, account_number):\n",
    "        self.__account_number = account_number  # Private attribute\n",
    "        self.__balance = 0  # Private attribute\n",
    "\n",
    "    def deposit(self, amount):\n",
    "        self.__balance += amount\n",
    "\n",
    "    def withdraw(self, amount):\n",
    "        if amount <= self.__balance:\n",
    "            self.__balance -= amount\n",
    "        else:\n",
    "            print(\"Insufficient balance\")"
   ]
  },
  {
   "cell_type": "raw",
   "id": "d10cba97-d613-4070-8c8b-a308b1637b2c",
   "metadata": {},
   "source": [
    "9. Discuss the advantages of encapsulation in terms of code maintainability and security.\n",
    "Ans - Advantages of encapsulation:\n",
    "- Improved code maintainability: Allows changes in the implementation of a class without affecting external code.\n",
    "- Security: Protects the internal state of the object from unauthorized access and modification."
   ]
  },
  {
   "cell_type": "code",
   "execution_count": null,
   "id": "874b7c7a-283a-4990-bb78-e1731eaa5a77",
   "metadata": {},
   "outputs": [],
   "source": [
    "# 10. How can you access private attributes in Python? Provide an example demonstrating the use of name mangling.\n",
    "# While private attributes are not truly hidden, you can access them using name mangling.\n",
    "class MyClass:\n",
    "    def __init__(self):\n",
    "        self.__my_private_var = 42\n",
    "\n",
    "obj = MyClass()\n",
    "print(obj._MyClass__my_private_var)  # Accessing private attribute using name mangling"
   ]
  },
  {
   "cell_type": "code",
   "execution_count": null,
   "id": "0c639951-cd9f-4394-8d5e-c79c8597e44a",
   "metadata": {},
   "outputs": [],
   "source": [
    "# 11. Create a Python class hierarchy for a school system, including classes for students, teachers, and courses,\n",
    "# and implement encapsulation principles to protect sensitive information.\n",
    "class School:\n",
    "    def __init__(self, name):\n",
    "        self.__name = name\n",
    "\n",
    "class Student(School):\n",
    "    def __init__(self, name, student_id):\n",
    "        super().__init__(name)\n",
    "        self.__student_id = student_id\n",
    "\n",
    "class Teacher(School):\n",
    "    def __init__(self, name, employee_id):\n",
    "        super().__init__(name)\n",
    "        self.__employee_id = employee_id\n",
    "\n",
    "class Course:\n",
    "    def __init__(self, course_name):\n",
    "        self.__course_name = course_name"
   ]
  },
  {
   "cell_type": "code",
   "execution_count": null,
   "id": "f5a5ec67-358c-4d59-9aae-091e93744c9c",
   "metadata": {},
   "outputs": [],
   "source": [
    "# 12. Explain the concept of property decorators in Python and how they relate to encapsulation.\n",
    "# Property decorators, such as @property and @setter, are used to create getter and setter methods for attributes, providing encapsulation while maintaining a simple interface for attribute access.\n",
    "class Person:\n",
    "    def __init__(self, name):\n",
    "        self.__name = name\n",
    "\n",
    "    @property\n",
    "    def name(self):\n",
    "        return self.__name\n",
    "\n",
    "    @name.setter\n",
    "    def name(self, new_name):\n",
    "        self.__name = new_name"
   ]
  },
  {
   "cell_type": "code",
   "execution_count": null,
   "id": "52321b59-8e3c-4832-8157-a85ba619e1a8",
   "metadata": {},
   "outputs": [],
   "source": [
    "# 13. What is data hiding, and why is it important in encapsulation? Provide examples.\n",
    "# Data hiding is the practice of making certain details of an object inaccessible to the outside world. It is important for protecting the integrity and consistency of the object's data.\n",
    "class BankAccount:\n",
    "    def __init__(self, account_number, balance):\n",
    "        self.__account_number = account_number  # Private attribute\n",
    "        self.__balance = balance  # Private attribute\n",
    "\n",
    "    def get_balance(self):\n",
    "        return self.__balance\n",
    "\n",
    "    def deposit(self, amount):\n",
    "        self.__balance += amount\n",
    "\n",
    "    def withdraw(self, amount):\n",
    "        if amount <= self.__balance:\n",
    "            self.__balance -= amount\n",
    "        else:\n",
    "            print(\"Insufficient balance\")"
   ]
  },
  {
   "cell_type": "code",
   "execution_count": null,
   "id": "f9581347-12db-4bae-b52c-869c4bcfc705",
   "metadata": {},
   "outputs": [],
   "source": [
    "# 14. Create a Python class called `Employee` with private attributes for salary (`__salary`) and employee ID (`__employee_id`). Provide a method to calculate yearly bonuses.\n",
    "class Employee:\n",
    "    def __init__(self, employee_id, salary):\n",
    "        self.__employee_id = employee_id  # Private attribute\n",
    "        self.__salary = salary  # Private attribute\n",
    "\n",
    "    def calculate_bonus(self, percentage):\n",
    "        return (self.__salary * percentage) / 100"
   ]
  },
  {
   "cell_type": "raw",
   "id": "09fc03b3-1d02-44fe-bc8d-18cd80d30989",
   "metadata": {},
   "source": [
    "15. Discuss the use of accessors and mutators in encapsulation. How do they help maintain control over\n",
    "attribute access?\n",
    "Ans - Accessors (getter methods) are used to access the value of a private attribute, and mutators (setter methods) are used to modify it. They provide controlled access to private attributes and help ensure data integrity."
   ]
  },
  {
   "cell_type": "raw",
   "id": "2cbfa0f1-efd0-4126-8b20-7c39d5613460",
   "metadata": {},
   "source": [
    "16. What are the potential drawbacks or disadvantages of using encapsulation in Python?\n",
    "Ans - Disadvantages of encapsulation:\n",
    "- Overhead: Adding getter and setter methods may introduce some overhead.\n",
    "- Complexity: In some cases, it may increase the complexity of the code."
   ]
  },
  {
   "cell_type": "code",
   "execution_count": null,
   "id": "df67b9bc-bb7a-4c6b-9fc5-f86ef223b3f0",
   "metadata": {},
   "outputs": [],
   "source": [
    "# 17. Create a Python class for a library system that encapsulates book information, including titles, authors,\n",
    "# and availability status.\n",
    "class Library:\n",
    "    def __init__(self):\n",
    "        self.__books = {}  # Private attribute\n",
    "\n",
    "    def add_book(self, title, author):\n",
    "        self.__books[title] = {\"author\": author, \"available\": True}\n",
    "\n",
    "    def check_availability(self, title):\n",
    "        return self.__books.get(title, {}).get(\"available\", False)"
   ]
  },
  {
   "cell_type": "raw",
   "id": "3ecd6a5e-5d52-4d7b-a6dc-266f9912833e",
   "metadata": {},
   "source": [
    "18. Explain how encapsulation enhances code reusability and modularity in Python programs.\n",
    "Ans - Encapsulation allows you to hide the implementation details of a class, making it easier to reuse and maintain. It also promotes modularity by encapsulating related functionality within a single unit."
   ]
  },
  {
   "cell_type": "raw",
   "id": "1ad98479-f801-417a-a7bf-5218e3adbdb2",
   "metadata": {},
   "source": [
    "19. Describe the concept of information hiding in encapsulation. Why is it essential in software development?\n",
    "Ans - Information hiding involves concealing the internal details of an object and exposing only the necessary interfaces. It is essential to reduce complexity, minimize potential errors, and improve maintainability in software development."
   ]
  },
  {
   "cell_type": "code",
   "execution_count": null,
   "id": "7b93bb24-75c0-4b15-8e17-fe5624b7fe33",
   "metadata": {},
   "outputs": [],
   "source": [
    "# 20. Create a Python class called `Customer` with private attributes for customer details like name, address,\n",
    "# and contact information. Implement encapsulation to ensure data integrity and security.\n",
    "class Customer:\n",
    "    def __init__(self, name, address, contact_info):\n",
    "        self.__name = name  # Private attribute\n",
    "        self.__address = address  # Private attribute\n",
    "        self.__contact_info = contact_info  # Private attribute\n",
    "\n",
    "    def get_name(self):\n",
    "        return self.__name\n",
    "\n",
    "    def set_name(self, name):\n",
    "        self.__name = name\n",
    "\n",
    "    def get_address(self):\n",
    "        return self.__address\n",
    "\n",
    "    def set_address(self, address):\n",
    "        self.__address = address\n",
    "\n",
    "    def get_contact_info(self):\n",
    "        return self.__contact_info\n",
    "\n",
    "    def set_contact_info(self, contact_info):\n",
    "        self.__contact_info = contact_info\n",
    "\n",
    "# Example usage for the Customer class\n",
    "customer = Customer(\"John Doe\", \"123 Main St\", \"john@example.com\")\n",
    "print(customer.get_name())  # Accessing private attribute using getter\n",
    "customer.set_address(\"456 Elm St\")  # Modifying private attribute using setter"
   ]
  },
  {
   "cell_type": "markdown",
   "id": "593a7aa4-3cc6-4c75-bf52-fd03e991a184",
   "metadata": {},
   "source": [
    "### Polymorphism "
   ]
  },
  {
   "cell_type": "raw",
   "id": "e6515812-2a05-4906-a07c-2d9c183149a4",
   "metadata": {},
   "source": [
    "1. What is polymorphism in Python? Explain how it is related to object-oriented programming.\n",
    "Answer - Polymorphism is a fundamental concept in object-oriented programming that allows objects of different classes to be treated as objects of a common superclass. It enables flexibility and extensibility in code."
   ]
  },
  {
   "cell_type": "raw",
   "id": "9b89411b-f0b5-483b-a238-f8059670ea63",
   "metadata": {},
   "source": [
    "2. Describe the difference between compile-time polymorphism and runtime polymorphism in Python.\n",
    "Ans - Compile-time polymorphism (also known as method overloading) is resolved at compile-time based on the number or types of function  arguments.\n",
    "    - Runtime polymorphism (also known as method overriding) is resolved at runtime, and it allows a subclass to provide a specific implementation of a method defined in the superclass."
   ]
  },
  {
   "cell_type": "code",
   "execution_count": null,
   "id": "f8959568-2c4d-4f61-aba1-ffd5d47709e2",
   "metadata": {},
   "outputs": [],
   "source": [
    "# 3. Create a Python class hierarchy for shapes (e.g., circle, square, triangle) and demonstrate polymorphism\n",
    "# through a common method, such as `calculate_area()`.\n",
    "class Shape:\n",
    "    def calculate_area(self):\n",
    "        pass\n",
    "\n",
    "class Circle(Shape):\n",
    "    def __init__(self, radius):\n",
    "        self.radius = radius\n",
    "\n",
    "    def calculate_area(self):\n",
    "        return 3.14159 * self.radius * self.radius\n",
    "\n",
    "class Square(Shape):\n",
    "    def __init__(self, side_length):\n",
    "        self.side_length = side_length\n",
    "\n",
    "    def calculate_area(self):\n",
    "        return self.side_length * self.side_length\n",
    "\n",
    "class Triangle(Shape):\n",
    "    def __init__(self, base, height):\n",
    "        self.base = base\n",
    "        self.height = height\n",
    "\n",
    "    def calculate_area(self):\n",
    "        return 0.5 * self.base * self.height\n",
    "\n",
    "# Example usage for the Shape hierarchy\n",
    "shapes = [Circle(5), Square(4), Triangle(3, 6)]\n",
    "for shape in shapes:\n",
    "    print(f\"Area: {shape.calculate_area()}\")"
   ]
  },
  {
   "cell_type": "code",
   "execution_count": null,
   "id": "5e4439cf-ce3e-427e-b0fc-510e82cd147e",
   "metadata": {},
   "outputs": [],
   "source": [
    "# 4. Explain the concept of method overriding in polymorphism. Provide an example.\n",
    "# Method overriding allows a subclass to provide its own implementation of a method inherited from a superclass.\n",
    "class Animal:\n",
    "    def speak(self):\n",
    "        pass\n",
    "\n",
    "class Dog(Animal):\n",
    "    def speak(self):\n",
    "        return \"Woof\""
   ]
  },
  {
   "cell_type": "code",
   "execution_count": null,
   "id": "d3ac8583-d983-408b-a667-8aede453b294",
   "metadata": {},
   "outputs": [],
   "source": [
    "# 5. How is polymorphism different from method overloading in Python? Provide examples for both.\n",
    "# Polymorphism is the ability of different objects to respond to the same method call differently.\n",
    "# Method overloading involves defining multiple methods with the same name but different parameters.\n",
    "class Calculator:\n",
    "    def add(self, a, b):\n",
    "        return a + b\n",
    "\n",
    "class StringConcatenator:\n",
    "    def add(self, a, b):\n",
    "        return str(a) + str(b)"
   ]
  },
  {
   "cell_type": "code",
   "execution_count": null,
   "id": "02ed66b1-6fe4-4c04-8a4a-7e3eb6207772",
   "metadata": {},
   "outputs": [],
   "source": [
    "# 6. Create a Python class called `Animal` with a method `speak()`. Then, create child classes like `Dog`, `Cat`, and `Bird`, each with their own `speak()` method. Demonstrate polymorphism by calling the `speak()` method\n",
    "# on objects of different subclasses.\n",
    "class Animal:\n",
    "    def speak(self):\n",
    "        pass\n",
    "\n",
    "class Dog(Animal):\n",
    "    def speak(self):\n",
    "        return \"Woof\"\n",
    "\n",
    "class Cat(Animal):\n",
    "    def speak(self):\n",
    "        return \"Meow\"\n",
    "\n",
    "class Bird(Animal):\n",
    "    def speak(self):\n",
    "        return \"Chirp\"\n",
    "\n",
    "# Example usage for different animal types\n",
    "animals = [Dog(), Cat(), Bird()]\n",
    "for animal in animals:\n",
    "    print(animal.speak())"
   ]
  },
  {
   "cell_type": "code",
   "execution_count": null,
   "id": "2a31b909-f745-400d-b0b4-1f92a52b3b78",
   "metadata": {},
   "outputs": [],
   "source": [
    "# 7. Discuss the use of abstract methods and classes in achieving polymorphism in Python. Provide an example\n",
    "# using the `abc` module.\n",
    "# Abstract methods define a blueprint for subclasses to implement, ensuring polymorphism.\n",
    "from abc import ABC, abstractmethod\n",
    "\n",
    "class Shape(ABC):\n",
    "    @abstractmethod\n",
    "    def calculate_area(self):\n",
    "        pass\n",
    "\n",
    "class Circle(Shape):\n",
    "    def __init__(self, radius):\n",
    "        self.radius = radius\n",
    "\n",
    "    def calculate_area(self):\n",
    "        return 3.14159 * self.radius * self.radius"
   ]
  },
  {
   "cell_type": "code",
   "execution_count": null,
   "id": "9de7cfdc-a179-439c-b2e5-a69f4219a55c",
   "metadata": {},
   "outputs": [],
   "source": [
    "# 8. Create a Python class hierarchy for a vehicle system (e.g., car, bicycle, boat) and implement a polymorphic `start()` method that prints a message specific to each vehicle type.\n",
    "class Vehicle:\n",
    "    def start(self):\n",
    "        pass\n",
    "\n",
    "class Car(Vehicle):\n",
    "    def start(self):\n",
    "        return \"Car engine started.\"\n",
    "\n",
    "class Bicycle(Vehicle):\n",
    "    def start(self):\n",
    "        return \"Pedaling the bicycle.\"\n",
    "\n",
    "class Boat(Vehicle):\n",
    "    def start(self):\n",
    "        return \"Starting the boat engine.\"\n",
    "\n",
    "# Example usage for different vehicle types\n",
    "vehicles = [Car(), Bicycle(), Boat()]\n",
    "for vehicle in vehicles:\n",
    "    print(vehicle.start())"
   ]
  },
  {
   "cell_type": "raw",
   "id": "f1849c93-ca70-41ba-a513-13d33c6fb48a",
   "metadata": {},
   "source": [
    "9. Explain the significance of the `isinstance()` and `issubclass()` functions in Python polymorphism.\n",
    "Ans - `isinstance()` is used to check if an object is an instance of a particular class or subclass, while `issubclass()` checks if a class is a subclass of another class."
   ]
  },
  {
   "cell_type": "code",
   "execution_count": null,
   "id": "da5a82ab-a0ed-4e1f-a75a-baf80772300f",
   "metadata": {},
   "outputs": [],
   "source": [
    "# 10. What is the role of the `@abstractmethod` decorator in achieving polymorphism in Python? Provide an\n",
    "# example.\n",
    "# The `@abstractmethod` decorator is used to define abstract methods in abstract base classes, ensuring that subclasses provide their implementations.\n",
    "from abc import ABC, abstractmethod\n",
    "\n",
    "class Shape(ABC):\n",
    "    @abstractmethod\n",
    "    def calculate_area(self):\n",
    "        pass\n",
    "\n",
    "class Circle(Shape):\n",
    "    def __init__(self, radius):\n",
    "        self.radius = radius\n",
    "\n",
    "    def calculate_area(self):\n",
    "        return 3.14159 * self.radius * self.radius"
   ]
  },
  {
   "cell_type": "code",
   "execution_count": null,
   "id": "c1bbc081-a72b-4d45-8447-6e2f9f6825bc",
   "metadata": {},
   "outputs": [],
   "source": [
    "# 11. Create a Python class called `Shape` with a polymorphic method `area()` that calculates the area of different shapes (e.g., circle, rectangle, triangle).\n",
    "class Shape:\n",
    "    def area(self):\n",
    "        pass\n",
    "\n",
    "class Circle(Shape):\n",
    "    def __init__(self, radius):\n",
    "        self.radius = radius\n",
    "\n",
    "    def area(self):\n",
    "        return 3.14159 * self.radius * self.radius\n",
    "\n",
    "class Rectangle(Shape):\n",
    "    def __init__(self, length, width):\n",
    "        self.length = length\n",
    "        self.width = width\n",
    "\n",
    "    def area(self):\n",
    "        return self.length * self.width\n",
    "\n",
    "class Triangle(Shape):\n",
    "    def __init__(self, base, height):\n",
    "        self.base = base\n",
    "        self.height = height\n",
    "\n",
    "    def area(self):\n",
    "        return 0.5 * self.base * self.height"
   ]
  },
  {
   "cell_type": "raw",
   "id": "ec341f87-1efe-4e62-89d9-685ae4b8d70b",
   "metadata": {},
   "source": [
    "12. Discuss the benefits of polymorphism in terms of code reusability and flexibility in Python programs.\n",
    "Answer - Polymorphism improves code reusability by allowing the same interface to be used for objects of different classes. It enhances flexibility, as new subclasses can be added without modifying existing code."
   ]
  },
  {
   "cell_type": "raw",
   "id": "ecfceeb8-e990-4bf8-950c-2ffa015605f9",
   "metadata": {},
   "source": [
    "13. Explain the use of the `super()` function in Python polymorphism. How does it help call methods of parent\n",
    " classes?\n",
    "Answer - The `super()` function is used to call methods from the parent class. It helps in method overriding to invoke the overridden method from the superclass."
   ]
  },
  {
   "cell_type": "code",
   "execution_count": null,
   "id": "b6b4c249-485d-4814-8118-4d9cdc066c26",
   "metadata": {},
   "outputs": [],
   "source": [
    "# 14. Create a Python class hierarchy for a banking system with various account types (e.g., savings, checking, credit card) and demonstrate polymorphism by implementing a common `withdraw()` method.\n",
    "class Account:\n",
    "    def withdraw(self, amount):\n",
    "        pass\n",
    "\n",
    "class SavingsAccount(Account):\n",
    "    def withdraw(self, amount):\n",
    "        return f\"Withdrawn {amount} from Savings Account.\"\n",
    "\n",
    "class CheckingAccount(Account):\n",
    "    def withdraw(self, amount):\n",
    "        return f\"Withdrawn {amount} from Checking Account.\"\n",
    "\n",
    "class CreditCardAccount(Account):\n",
    "    def withdraw(self\n",
    "\n",
    ", amount):\n",
    "        return f\"Withdrawn {amount} from Credit Card Account.\"\n",
    "\n",
    "# Example usage for different account types\n",
    "accounts = [SavingsAccount(), CheckingAccount(), CreditCardAccount()]\n",
    "for account in accounts:\n",
    "    print(account.withdraw(100))"
   ]
  },
  {
   "cell_type": "code",
   "execution_count": null,
   "id": "5cb29455-92db-456e-b3b3-2636bf56a636",
   "metadata": {},
   "outputs": [],
   "source": [
    "# 15. Describe the concept of operator overloading in Python and how it relates to polymorphism. Provide\n",
    "# examples using operators like `+` and `*`.\n",
    "# Operator overloading allows operators to have different meanings for different data types. It is related to polymorphism by enabling objects of different classes to use operators in a natural way.\n",
    "class ComplexNumber:\n",
    "    def __init__(self, real, imag):\n",
    "        self.real = real\n",
    "        self.imag = imag\n",
    "\n",
    "    def __add__(self, other):\n",
    "        return ComplexNumber(self.real + other.real, self.imag + other.imag)\n",
    "\n",
    "    def __mul__(self, other):\n",
    "        return ComplexNumber(self.real * other.real - self.imag * other.imag, self.real * other.imag + self.imag * other.real)\n",
    "\n",
    "# Example usage for operator overloading\n",
    "c1 = ComplexNumber(1, 2)\n",
    "c2 = ComplexNumber(3, 4)\n",
    "c3 = c1 + c2  # Addition operator\n",
    "c4 = c1 * c2  # Multiplication operator\n",
    "print(f\"Addition: {c3.real} + {c3.imag}i\")\n",
    "print(f\"Multiplication: {c4.real} + {c4.imag}i\")"
   ]
  },
  {
   "cell_type": "raw",
   "id": "9a5fb6ad-0a8c-4dbf-8597-c1ce9c67ca9f",
   "metadata": {},
   "source": [
    "16. What is dynamic polymorphism, and how is it achieved in Python?\n",
    "Ans - Dynamic polymorphism refers to the ability to choose which method to execute at runtime. In Python, it is achieved through method overriding, where the specific method to execute is determined at runtime based on the object's actual class."
   ]
  },
  {
   "cell_type": "code",
   "execution_count": null,
   "id": "6bc7bdd8-0d3f-412e-acf5-d083b323271a",
   "metadata": {},
   "outputs": [],
   "source": [
    "# 17. Create a Python class hierarchy for employees in a company (e.g., manager, developer, designer) and implement polymorphism through a common `calculate_salary()` method.\n",
    "class Employee:\n",
    "    def calculate_salary(self):\n",
    "        pass\n",
    "\n",
    "class Manager(Employee):\n",
    "    def calculate_salary(self):\n",
    "        return 50000\n",
    "\n",
    "class Developer(Employee):\n",
    "    def calculate_salary(self):\n",
    "        return 60000\n",
    "\n",
    "class Designer(Employee):\n",
    "    def calculate_salary(self):\n",
    "        return 55000\n",
    "\n",
    "# Example usage for different employee types\n",
    "employees = [Manager(), Developer(), Designer()]\n",
    "for employee in employees:\n",
    "    print(f\"Salary: ${employee.calculate_salary()}\")"
   ]
  },
  {
   "cell_type": "raw",
   "id": "3151eb3f-4dc4-4f09-a005-7867c02e73b5",
   "metadata": {},
   "source": [
    "18. Discuss the concept of function pointers and how they can be used to achieve polymorphism in Python.\n",
    "Answer - Function pointers in Python are references to functions. Polymorphism can be achieved by using function pointers to call methods dynamically based on the object's type."
   ]
  },
  {
   "cell_type": "raw",
   "id": "5263702b-efe3-45cb-97aa-79ea131e4404",
   "metadata": {},
   "source": [
    "19. Explain the role of interfaces and abstract classes in polymorphism, drawing comparisons between them.\n",
    "Ans - Interfaces and abstract classes both define blueprints for classes to follow, ensuring polymorphism. The key difference is that abstract classes can have method implementations, while interfaces only declare method signatures."
   ]
  },
  {
   "cell_type": "code",
   "execution_count": null,
   "id": "6dd2210f-5e67-45ff-ae51-3b4d60fc1277",
   "metadata": {},
   "outputs": [],
   "source": [
    "# 20. Create a Python class for a zoo simulation, demonstrating polymorphism with different animal types (e.g., mammals, birds, reptiles) and their behavior (e.g., eating, sleeping, making sounds).\n",
    "class Animal:\n",
    "    def __init__(self, name):\n",
    "        self.name = name\n",
    "\n",
    "    def speak(self):\n",
    "        pass\n",
    "\n",
    "class Mammal(Animal):\n",
    "    def speak(self):\n",
    "        return \"Mammal sound\"\n",
    "\n",
    "class Bird(Animal):\n",
    "    def speak(self):\n",
    "        return \"Bird sound\"\n",
    "\n",
    "class Reptile(Animal):\n",
    "    def speak(self):\n",
    "        return \"Reptile sound\"\n",
    "\n",
    "# Example usage for different animal types\n",
    "zoo = [Mammal(\"Lion\"), Bird(\"Eagle\"), Reptile(\"Snake\")]\n",
    "for animal in zoo:\n",
    "    print(f\"{animal.name} says: {animal.speak()}\")\n"
   ]
  },
  {
   "cell_type": "markdown",
   "id": "dc10c026-9313-4ab0-808b-2532d811a8e4",
   "metadata": {},
   "source": [
    "### Abstraction "
   ]
  },
  {
   "cell_type": "raw",
   "id": "d5ffc398-571f-413c-80ed-28c7bf0b2689",
   "metadata": {},
   "source": [
    "1. What is abstraction in Python, and how does it relate to object-oriented programming?\n",
    "Ans - Abstraction is a fundamental concept in object-oriented programming that involves simplifying complex systems by breaking them into smaller, manageable parts and focusing on their essential features while hiding the unnecessary details."
   ]
  },
  {
   "cell_type": "raw",
   "id": "eb272630-14c6-4bba-8942-996181bde434",
   "metadata": {},
   "source": [
    "2. Describe the benefits of abstraction in terms of code organization and complexity reduction.\n",
    "Ans - Benefits of abstraction:\n",
    "    - Improved code organization: It helps create a clear, structured design.\n",
    "    - Reduced complexity: It simplifies the interaction with complex systems by hiding intricate details."
   ]
  },
  {
   "cell_type": "code",
   "execution_count": null,
   "id": "d7e109fe-7f06-46d1-8ca7-19f05660aa40",
   "metadata": {},
   "outputs": [],
   "source": [
    "# 3. Create a Python class called `Shape` with an abstract method `calculate_area()`. Then, create child classes (e.g., `Circle`, `Rectangle`) that implement the `calculate_area()` method. Provide an example of using these classes.\n",
    "from abc import ABC, abstractmethod\n",
    "\n",
    "class Shape(ABC):\n",
    "    @abstractmethod\n",
    "    def calculate_area(self):\n",
    "        pass\n",
    "\n",
    "class Circle(Shape):\n",
    "    def __init__(self, radius):\n",
    "        self.radius = radius\n",
    "\n",
    "    def calculate_area(self):\n",
    "        return 3.14159 * self.radius * self.radius\n",
    "\n",
    "class Rectangle(Shape):\n",
    "    def __init__(self, length, width):\n",
    "        self.length = length\n",
    "        self.width = width\n",
    "\n",
    "    def calculate_area(self):\n",
    "        return self.length * self.width\n",
    "\n",
    "# Example usage for different shape types\n",
    "circle = Circle(5)\n",
    "rectangle = Rectangle(4, 6)\n",
    "print(f\"Circle area: {circle.calculate_area()}\")\n",
    "print(f\"Rectangle area: {rectangle.calculate_area()}\")"
   ]
  },
  {
   "cell_type": "code",
   "execution_count": null,
   "id": "2c18cd39-e87d-4a61-b231-351e4f6f9298",
   "metadata": {},
   "outputs": [],
   "source": [
    "# 4. Explain the concept of abstract classes in Python and how they are defined using the `abc` module. Provide an example.\n",
    "# Abstract classes are classes that cannot be instantiated and are meant to be subclassed. They are defined using the `abc` module in Python.\n",
    "from abc import ABC, abstractmethod\n",
    "\n",
    "class AbstractClass(ABC):\n",
    "    @abstractmethod\n",
    "    def abstract_method(self):\n",
    "        pass"
   ]
  },
  {
   "cell_type": "raw",
   "id": "0982f779-7f15-48b3-b1a9-cf9229071112",
   "metadata": {},
   "source": [
    "5. How do abstract classes differ from regular classes in Python? Discuss their use cases.\n",
    "Ans - Abstract classes cannot be instantiated, while regular classes can. Abstract classes are meant to provide a blueprint for subclasses to follow and enforce the implementation of certain methods. Use cases include creating a common interface for a group of related classes."
   ]
  },
  {
   "cell_type": "code",
   "execution_count": null,
   "id": "089c567a-d9ba-4dc2-a6d9-523de2715a0e",
   "metadata": {},
   "outputs": [],
   "source": [
    "# 6. Create a Python class for a bank account and demonstrate abstraction by hiding the account balance and providing methods to deposit and withdraw funds.\n",
    "class BankAccount:\n",
    "    def __init__(self, balance=0):\n",
    "        self._balance = balance  # Protected attribute\n",
    "\n",
    "    def deposit(self, amount):\n",
    "        self._balance += amount\n",
    "\n",
    "    def withdraw(self, amount):\n",
    "        if amount <= self._balance:\n",
    "            self._balance -= amount\n",
    "        else:\n",
    "            print(\"Insufficient balance\")\n",
    "\n",
    "    def get_balance(self):\n",
    "        return self._balance\n",
    "\n",
    "# Example usage for a bank account\n",
    "account = BankAccount()\n",
    "account.deposit(1000)\n",
    "account.withdraw(500)\n",
    "print(f\"Account balance: {account.get_balance()}\")"
   ]
  },
  {
   "cell_type": "raw",
   "id": "5bd25c3d-3318-477d-9cc1-fe09cffa1a29",
   "metadata": {},
   "source": [
    "7. Discuss the concept of interface classes in Python and their role in achieving abstraction.\n",
    "Ans - Interface classes define a contract that specifies a set of methods that must be implemented by any class that inherits from them. They play a significant role in achieving abstraction by enforcing the implementation of these methods."
   ]
  },
  {
   "cell_type": "code",
   "execution_count": null,
   "id": "948b82d9-8cf8-4c29-a955-f30845472501",
   "metadata": {},
   "outputs": [],
   "source": [
    "# 8. Create a Python class hierarchy for animals and implement abstraction by defining common methods (e.g., `eat()`, `sleep()`) in an abstract base class.\n",
    "class Animal(ABC):\n",
    "    @abstractmethod\n",
    "    def eat(self):\n",
    "        pass\n",
    "\n",
    "    @abstractmethod\n",
    "    def sleep(self):\n",
    "        pass\n",
    "\n",
    "class Dog(Animal):\n",
    "    def eat(self):\n",
    "        return \"Dog is eating.\"\n",
    "\n",
    "    def sleep(self):\n",
    "        return \"Dog is sleeping.\"\n",
    "\n",
    "class Cat(Animal):\n",
    "    def eat(self):\n",
    "        return \"Cat is eating.\"\n",
    "\n",
    "    def sleep(self):\n",
    "        return \"Cat is sleeping.\"\n",
    "\n",
    "# Example usage for different animal types\n",
    "dog = Dog()\n",
    "cat = Cat()\n",
    "print(dog.eat())\n",
    "print(cat.sleep())"
   ]
  },
  {
   "cell_type": "raw",
   "id": "0c2f0a30-5efc-462b-a787-bab6068d086f",
   "metadata": {},
   "source": [
    "9. Explain the significance of encapsulation in achieving abstraction. Provide examples.\n",
    "Ans - Encapsulation helps in achieving abstraction by hiding the internal implementation details of a class. It ensures that the essential functionality is exposed, and unnecessary details are hidden.\n",
    "Example: BankAccount class in question 6 uses encapsulation to hide the balance attribute and provide controlled access."
   ]
  },
  {
   "cell_type": "raw",
   "id": "5602e55d-7e74-4253-a5d2-286e2986404f",
   "metadata": {},
   "source": [
    "10. What is the purpose of abstract methods, and how do they enforce abstraction in Python classes?\n",
    "Answer - Abstract methods are methods declared in abstract classes without implementation. They enforce abstraction by requiring subclasses to provide concrete implementations for these methods, ensuring that essential functionality is defined."
   ]
  },
  {
   "cell_type": "code",
   "execution_count": null,
   "id": "fc037063-8dfb-4764-88c0-d40076317a8b",
   "metadata": {},
   "outputs": [],
   "source": [
    "# 11. Create a Python class for a vehicle system and demonstrate abstraction by defining common methods (e.g., `start()`, `stop()`) in an abstract base class.\n",
    "class Vehicle(ABC):\n",
    "    @abstractmethod\n",
    "    def start(self):\n",
    "        pass\n",
    "\n",
    "    @abstractmethod\n",
    "    def stop(self):\n",
    "        pass\n",
    "\n",
    "class Car(Vehicle):\n",
    "    def start(self):\n",
    "        return \"Car engine started.\"\n",
    "\n",
    "    def stop(self):\n",
    "        return \"Car engine stopped.\"\n",
    "\n",
    "class Bicycle(Vehicle):\n",
    "    def start(self):\n",
    "        return \"Pedaling the bicycle.\"\n",
    "\n",
    "    def stop(self):\n",
    "        return \"Bicycle stopped.\"\n",
    "\n",
    "# Example usage for different vehicle types\n",
    "car = Car()\n",
    "bicycle = Bicycle()\n",
    "print(car.start())\n",
    "print(bicycle.stop())"
   ]
  },
  {
   "cell_type": "raw",
   "id": "1f723b34-04b5-464a-a4ea-9e328f1bd82a",
   "metadata": {},
   "source": [
    "12. Describe the use of abstract properties in Python and how they can be employed in abstract classes.\n",
    "Ans - Abstract properties are attributes that are declared in abstract classes without providing a value. Subclasses are required to provide a concrete implementation for these properties. They can be employed in abstract classes to define expected attributes for derived classes."
   ]
  },
  {
   "cell_type": "code",
   "execution_count": null,
   "id": "1474772c-5501-4c07-87b3-ffc143c72489",
   "metadata": {},
   "outputs": [],
   "source": [
    "# 13. Create a Python class hierarchy for employees in a company (e.g., manager, developer, designer) and implement abstraction by defining a common `get_salary()` method.\n",
    "class Employee(ABC):\n",
    "    @abstractmethod\n",
    "    def get_salary(self):\n",
    "        pass\n",
    "\n",
    "class Manager(Employee):\n",
    "    def get_salary(self):\n",
    "        return 60000\n",
    "\n",
    "class Developer(Employee):\n",
    "    def get_salary(self):\n",
    "        return 70000\n",
    "\n",
    "class Designer(Employee):\n",
    "    def get_salary(self):\n",
    "        return 65000\n",
    "\n",
    "# Example usage for different employee types\n",
    "manager = Manager()\n",
    "developer = Developer()\n",
    "designer = Designer()\n",
    "print(f\"Manager's salary: ${manager.get_salary()}\")\n",
    "print(f\"Developer's salary: ${developer.get_salary()}\")\n",
    "print(f\"Designer's salary: ${designer.get_salary()}\")"
   ]
  },
  {
   "cell_type": "raw",
   "id": "70965657-df2c-405a-b586-1f88164e2615",
   "metadata": {},
   "source": [
    "14. Discuss the differences between abstract classes and concrete classes in Python, including their instantiation.\n",
    "Answer - Abstract classes cannot be instantiated, while concrete classes can. Abstract classes provide a blueprint for subclasses and may contain abstract methods, while concrete classes have implementations for all their methods."
   ]
  },
  {
   "cell_type": "raw",
   "id": "5a392eec-8e8b-48e4-b212-a4197d1ec8d1",
   "metadata": {},
   "source": [
    "15. Explain the concept of abstract data types (ADTs) and their role in achieving abstraction in Python.\n",
    "Answer - Abstract data types are data structures that define a set of operations without specifying their implementation. They play a role in achieving abstraction by hiding the internal details of data structures and providing a high-level interface."
   ]
  },
  {
   "cell_type": "code",
   "execution_count": null,
   "id": "cbf1267e-8fec-4ccc-98cb-6ef97e0cf699",
   "metadata": {},
   "outputs": [],
   "source": [
    "# 16. Create a Python class for a computer system, demonstrating abstraction by defining common methods (e.g., `power_on()`, `shutdown()`) in an abstract base class.\n",
    "class ComputerSystem(ABC):\n",
    "    @abstractmethod\n",
    "    def power_on(self):\n",
    "        pass\n",
    "\n",
    "    @abstractmethod\n",
    "    def shutdown(self):\n",
    "        pass\n",
    "\n",
    "class Laptop(ComputerSystem):\n",
    "    def power_on(self):\n",
    "        return \"Laptop powered on.\"\n",
    "\n",
    "    def shutdown(self):\n",
    "        return \"Laptop shut down.\"\n",
    "\n",
    "class Desktop(ComputerSystem):\n",
    "    def power_on(self):\n",
    "        return \"Desktop powered on.\"\n",
    "\n",
    "    def shutdown(self):\n",
    "        return \"Desktop shut down.\"\n",
    "\n",
    "# Example usage for different computer system types\n",
    "laptop = Laptop()\n",
    "desktop = Desktop()\n",
    "print(laptop.power_on())\n",
    "print(desktop.shutdown())"
   ]
  },
  {
   "cell_type": "raw",
   "id": "81817dc1-ddf2-4cea-a42e-f3212efa3b1b",
   "metadata": {},
   "source": [
    "17. Discuss the benefits of using abstraction in large-scale software development projects.\n",
    "Ans - Benefits of using abstraction in large-scale projects:\n",
    "- Improved code organization and maintainability\n",
    "- Reduced complexity and easier debugging\n",
    "- Clear separation of concerns\n",
    "- Support for parallel development by multiple teams"
   ]
  },
  {
   "cell_type": "raw",
   "id": "8b925b11-916a-46ff-90cb-0c26fe572db8",
   "metadata": {},
   "source": [
    "18. Explain how abstraction enhances code reusability and modularity in Python programs.\n",
    "Ans - Abstraction promotes code reusability by providing a clear interface that can be implemented by multiple classes. It enhances modularity by allowing components to be developed and tested independently."
   ]
  },
  {
   "cell_type": "code",
   "execution_count": null,
   "id": "335472cb-7366-4c2e-85b3-ce20cd1fd793",
   "metadata": {},
   "outputs": [],
   "source": [
    "# 19. Create a Python class for a library system, implementing abstraction by defining common methods (e.g., `add_book()`, `borrow_book()`) in an abstract base class.\n",
    "class LibrarySystem(ABC):\n",
    "    @abstractmethod\n",
    "    def add_book(self):\n",
    "        pass\n",
    "\n",
    "    @abstractmethod\n",
    "    def borrow_book(self):\n",
    "        pass\n",
    "\n",
    "class PublicLibrary(LibrarySystem):\n",
    "    def add_book(self):\n",
    "        return \"Book added to the library catalog.\"\n",
    "\n",
    "    def borrow_book(self):\n",
    "        return \"Book borrowed from the library.\"\n",
    "\n",
    "class UniversityLibrary(LibrarySystem):\n",
    "    def add_book(self):\n",
    "        return \"Book added to the university library catalog.\"\n",
    "\n",
    "    def borrow_book(self):\n",
    "        return \"Book borrowed from the university library.\"\n",
    "\n",
    "# Example usage for different library system types\n",
    "public_library = PublicLibrary()\n",
    "university_library = UniversityLibrary()\n",
    "print(public_library.add_book())\n",
    "print(university_library.borrow_book())"
   ]
  },
  {
   "cell_type": "raw",
   "id": "7cfa9321-e0bd-4a28-bc1d-1550b3d1c690",
   "metadata": {},
   "source": [
    "20. Describe the concept of method abstraction in Python and how it relates to polymorphism.\n",
    "Answer - Method abstraction involves defining method signatures without specifying their implementation. It relates to polymorphism by allowing objects of different classes to provide concrete implementations for the same method signature, achieving polymorphism."
   ]
  },
  {
   "cell_type": "markdown",
   "id": "4b7ed187-367d-4699-bcde-66a051d3d210",
   "metadata": {},
   "source": [
    "### Composition "
   ]
  },
  {
   "cell_type": "raw",
   "id": "0de8d96e-2d7e-48c9-9405-7466faedaff9",
   "metadata": {},
   "source": [
    " 1. Explain the concept of composition in Python and how it is used to build complex objects from simpler ones.\n",
    "Ans -  Composition is a design principle in object-oriented programming where complex objects are created by combining simpler objects as their parts or components. It allows for building flexible and modular systems."
   ]
  },
  {
   "cell_type": "raw",
   "id": "179b8077-4d3b-4c53-b7ed-1d60a8dfc775",
   "metadata": {},
   "source": [
    "2. Describe the difference between composition and inheritance in object-oriented programming.\n",
    "Ans - Inheritance involves creating a new class that inherits properties and behaviors from an existing class. Composition, on the other hand, involves creating complex objects by combining simpler objects as components. Composition is often preferred for its flexibility and ability to avoid the issues associated with deep class hierarchies."
   ]
  },
  {
   "cell_type": "code",
   "execution_count": null,
   "id": "a1461de0-ea7c-4e73-85d6-1bd82f22ef04",
   "metadata": {},
   "outputs": [],
   "source": [
    "# 3. Create a Python class called `Author` with attributes for name and birthdate. Then, create a `Book` class that contains an instance of `Author` as a composition. Provide an example of creating a `Book` object.\n",
    "class Author:\n",
    "    def __init__(self, name, birthdate):\n",
    "        self.name = name\n",
    "        self.birthdate = birthdate\n",
    "\n",
    "class Book:\n",
    "    def __init__(self, title, author):\n",
    "        self.title = title\n",
    "        self.author = author\n",
    "\n",
    "# Example usage for a book with an author\n",
    "author1 = Author(\"John Doe\", \"1980-05-15\")\n",
    "book1 = Book(\"Sample Book\", author1)\n",
    "print(f\"Book: {book1.title}, Author: {book1.author.name}, Birthdate: {book1.author.birthdate}\")"
   ]
  },
  {
   "cell_type": "raw",
   "id": "af65444e-5ff6-4d8d-970d-e3920741460b",
   "metadata": {},
   "source": [
    " 4. Discuss the benefits of using composition over inheritance in Python, especially in terms of code flexibility and reusability.\n",
    "Ans -  Benefits of composition over inheritance:\n",
    " - Greater code flexibility: Objects can be combined in various ways to create complex objects, allowing for more flexibility in the design.\n",
    " - Improved code reusability: Reusable components can be used in different contexts, reducing code duplication.\n",
    " - Avoidance of issues related to deep class hierarchies and tight coupling."
   ]
  },
  {
   "cell_type": "raw",
   "id": "9db05945-1705-45c4-8791-b03800ad59e1",
   "metadata": {},
   "source": [
    "5. How can you implement composition in Python classes? Provide examples of using composition to create complex objects.\n",
    "Ans - Composition is implemented by creating instances of other classes within a class and delegating responsibilities to those instances. Example provided in question 3."
   ]
  },
  {
   "cell_type": "code",
   "execution_count": null,
   "id": "3f223610-8f4e-48d3-b494-7cf81f230776",
   "metadata": {},
   "outputs": [],
   "source": [
    "# 6. Create a Python class hierarchy for a music player system, using composition to represent playlists and songs.\n",
    "class Song:\n",
    "    def __init__(self, title, artist):\n",
    "        self.title = title\n",
    "        self.artist = artist\n",
    "\n",
    "class Playlist:\n",
    "    def __init__(self, name):\n",
    "        self.name = name\n",
    "        self.songs = []\n",
    "\n",
    "    def add_song(self, song):\n",
    "        self.songs.append(song)\n",
    "\n",
    "# Example usage for a music player system with playlists and songs\n",
    "song1 = Song(\"Song 1\", \"Artist 1\")\n",
    "song2 = Song(\"Song 2\", \"Artist 2\")\n",
    "playlist1 = Playlist(\"My Playlist\")\n",
    "playlist1.add_song(song1)\n",
    "playlist1.add_song(song2)\n",
    "print(f\"Playlist: {playlist1.name}\")\n",
    "for song in playlist1.songs:\n",
    "    print(f\"Song: {song.title} by {song.artist}\")"
   ]
  },
  {
   "cell_type": "raw",
   "id": "4616626f-5d8a-4f79-8416-66a25218f307",
   "metadata": {},
   "source": [
    "7. Explain the concept of \"has-a\" relationships in composition and how it helps design software systems.\n",
    "Ans - \"Has-a\" relationships indicate that an object contains or is composed of other objects. This helps in designing software systems by creating modular and reusable components that can be combined to build complex objects."
   ]
  },
  {
   "cell_type": "code",
   "execution_count": null,
   "id": "b1f46886-48e0-4041-8d34-ca5c32f00c34",
   "metadata": {},
   "outputs": [],
   "source": [
    "# 8. Create a Python class for a computer system, using composition to represent components like CPU, RAM, and storage devices.\n",
    "class CPU:\n",
    "    def __init__(self, brand):\n",
    "        self.brand = brand\n",
    "\n",
    "class RAM:\n",
    "    def __init__(self, capacity):\n",
    "        self.capacity = capacity\n",
    "\n",
    "class Storage:\n",
    "    def __init__(self, capacity):\n",
    "        self.capacity = capacity\n",
    "\n",
    "class ComputerSystem:\n",
    "    def __init__(self, cpu, ram, storage):\n",
    "        self.cpu = cpu\n",
    "        self.ram = ram\n",
    "        self.storage = storage\n",
    "\n",
    "# Example usage for a computer system with components\n",
    "cpu = CPU(\"Intel\")\n",
    "ram = RAM(16)\n",
    "storage = Storage(512)\n",
    "computer = ComputerSystem(cpu, ram, storage)\n",
    "print(f\"Computer System: CPU: {computer.cpu.brand}, RAM: {computer.ram.capacity}GB, Storage: {computer.storage.capacity}GB\")"
   ]
  },
  {
   "cell_type": "raw",
   "id": "510ca28e-ba04-41b5-a05b-707d7b202340",
   "metadata": {},
   "source": [
    "9. Describe the concept of \"delegation\" in composition and how it simplifies the design of complex systems.\n",
    "Ans - Delegation in composition involves delegating specific tasks or responsibilities to composed objects. It simplifies the design by allowing each component to handle its own concerns, leading to more manageable and maintainable code."
   ]
  },
  {
   "cell_type": "code",
   "execution_count": null,
   "id": "0c3bd75b-e3a9-46ce-aff6-29926cf90255",
   "metadata": {},
   "outputs": [],
   "source": [
    "# 10. Create a Python class for a car, using composition to represent components like the engine, wheels, and transmission.\n",
    "class Engine:\n",
    "    def __init__(self, fuel_type):\n",
    "        self.fuel_type = fuel_type\n",
    "\n",
    "class Wheel:\n",
    "    def __init__(self, size):\n",
    "        self.size = size\n",
    "\n",
    "class Transmission:\n",
    "    def __init__(self, type):\n",
    "        self.type = type\n",
    "\n",
    "class Car:\n",
    "    def __init__(self, engine, wheels, transmission):\n",
    "        self.engine = engine\n",
    "        self.wheels = wheels\n",
    "        self.transmission = transmission\n",
    "\n",
    "# Example usage for a car with components\n",
    "engine = Engine(\"Gasoline\")\n",
    "wheels = [Wheel(16), Wheel(16), Wheel(16), Wheel(16)]\n",
    "transmission = Transmission(\"Automatic\")\n",
    "car = Car(engine, wheels, transmission)\n",
    "print(f\"Car: Engine Fuel Type: {car.engine.fuel_type}, Wheel Size: {car.wheels[0].size} inches, Transmission Type: {car.transmission.type}\")"
   ]
  },
  {
   "cell_type": "raw",
   "id": "c11c6099-fd93-4fd5-8066-9eb88f3df4a4",
   "metadata": {},
   "source": [
    "11. How can you encapsulate and hide the details of composed objects in Python classes to maintain abstraction?\n",
    "Ans - Encapsulation can be achieved by providing appropriate access modifiers (e.g., private, protected) for attributes and methods of composed objects. This hides the internal details and maintains abstraction."
   ]
  },
  {
   "cell_type": "code",
   "execution_count": null,
   "id": "485dcd39-5648-4ab3-8c70-4e073612890e",
   "metadata": {},
   "outputs": [],
   "source": [
    "# 12. Create a Python class for a university course, using composition to represent students, instructors, and course materials.\n",
    "class Student:\n",
    "    def __init__(self, name, student_id):\n",
    "        self.name = name\n",
    "        self.student_id = student_id\n",
    "\n",
    "class Instructor:\n",
    "    def __init__(self, name, instructor_id):\n",
    "        self.name = name\n",
    "        self.instructor_id = instructor_id\n",
    "\n",
    "class Course:\n",
    "    def __init__(self, course_name, instructor, students):\n",
    "        self.course_name = course_name\n",
    "        self.instructor = instructor\n",
    "        self.students = students\n",
    "\n",
    "# Example usage for a university course with students, instructors, and course materials\n",
    "student1 = Student(\"Alice\", \"S12345\")\n",
    "student2 = Student(\"Bob\", \"S67890\")\n",
    "instructor = Instructor(\"Dr. Smith\", \"I98765\")\n",
    "course = Course(\"Computer Science 101\", instructor, [student1, student2])\n",
    "print(f\"Course: {course.course_name}, Instructor: {course.instructor.name}\")\n",
    "for student in course.students:\n",
    "    print(f\"Student: {student.name}, ID: {student.student_id}\")"
   ]
  },
  {
   "cell_type": "raw",
   "id": "20b0a39c-ca5e-4cf7-9357-cd5cac958c18",
   "metadata": {},
   "source": [
    " 13. Discuss the challenges and drawbacks of composition, such as increased complexity and potential for tight coupling between objects.\n",
    "Ans -  Challenges and drawbacks of composition:\n",
    " - Increased complexity: Managing multiple composed objects can lead to complex interactions.\n",
    " - Tight coupling: Composed objects may become tightly coupled, making changes in  one component affect others.\n",
    " - Maintenance challenges: It may require more effort to maintain and manage composed systems."
   ]
  },
  {
   "cell_type": "code",
   "execution_count": null,
   "id": "aafab03b-c68c-4231-981b-8450f7de5ca7",
   "metadata": {},
   "outputs": [],
   "source": [
    "# 14. Create a Python class hierarchy for a restaurant system, using composition to represent menus, dishes, and ingredients.\n",
    "class Ingredient:\n",
    "    def __init__(self, name, quantity):\n",
    "        self.name = name\n",
    "        self.quantity = quantity\n",
    "\n",
    "class Dish:\n",
    "    def __init__(self, name, ingredients):\n",
    "        self.name = name\n",
    "        self.ingredients = ingredients\n",
    "\n",
    "class Menu:\n",
    "    def __init__(self, name, dishes):\n",
    "        self.name = name\n",
    "        self.dishes = dishes\n",
    "\n",
    "# Example usage for a restaurant system with menus, dishes, and ingredients\n",
    "ingredient1 = Ingredient(\"Tomato\", 3)\n",
    "ingredient2 = Ingredient(\"Cheese\", 2)\n",
    "dish1 = Dish(\"Margherita Pizza\", [ingredient1, ingredient2])\n",
    "dish2 = Dish(\"Spaghetti Bolognese\", [ingredient1])\n",
    "menu = Menu(\"Italian Delights\", [dish1, dish2])\n",
    "print(f\"Menu: {menu.name}\")\n",
    "for dish in menu.dishes:\n",
    "    print(f\"Dish: {dish.name}\")\n",
    "    for ingredient in dish.ingredients:\n",
    "        print(f\"Ingredient: {ingredient.name}, Quantity: {ingredient.quantity}\")"
   ]
  },
  {
   "cell_type": "raw",
   "id": "8bb7a10e-9bad-4175-ab15-5158dde88dec",
   "metadata": {},
   "source": [
    "15. Explain how composition enhances code maintainability and modularity in Python programs.\n",
    "Ans - Composition enhances code maintainability and modularity by allowing objects to be developed and tested independently. Changes to one component have minimal impact on others, and components can be easily reused in different contexts."
   ]
  },
  {
   "cell_type": "code",
   "execution_count": null,
   "id": "1d7b4033-da56-4915-a4fc-e157a56aaa9d",
   "metadata": {},
   "outputs": [],
   "source": [
    "# 16. Create a Python class for a computer game character, using composition to represent attributes like weapons, armor, and inventory.\n",
    "class Weapon:\n",
    "    def __init__(self, name, damage):\n",
    "        self.name = name\n",
    "        self.damage = damage\n",
    "\n",
    "class Armor:\n",
    "    def __init__(self, name, defense):\n",
    "        self.name = name\n",
    "        self.defense = defense\n",
    "\n",
    "class Inventory:\n",
    "    def __init__(self):\n",
    "        self.items = []\n",
    "\n",
    "    def add_item(self, item):\n",
    "        self.items.append(item)\n",
    "\n",
    "class Character:\n",
    "    def __init__(self, name, weapon, armor, inventory):\n",
    "        self.name = name\n",
    "        self.weapon = weapon\n",
    "        self.armor = armor\n",
    "        self.inventory = inventory\n",
    "\n",
    "# Example usage for a game character with attributes\n",
    "sword = Weapon(\"Sword\", 20)\n",
    "plate_armor = Armor(\"Plate Armor\", 15)\n",
    "inventory = Inventory()\n",
    "inventory.add_item(\"Health Potion\")\n",
    "character = Character(\"Hero\", sword, plate_armor, inventory)\n",
    "print(f\"Character: {character.name}, Weapon: {character.weapon.name}, Armor: {character.armor.name}\")\n",
    "print(f\"Inventory: {', '.join(character.inventory.items)}\")"
   ]
  },
  {
   "cell_type": "raw",
   "id": "1e3a67e2-16be-4e64-9f74-fbd068bbb4f6",
   "metadata": {},
   "source": [
    "17. Describe the concept of \"aggregation\" in composition and how it differs from simple composition.\n",
    "Ans - Aggregation is a form of composition where an object is composed of other objects, but the lifecycle of the composed objects is not dependent on the parent object. It differs from simple composition, where the composed objects are created and managed by the parent object."
   ]
  },
  {
   "cell_type": "code",
   "execution_count": null,
   "id": "e11ad590-e8f4-46be-bd2f-e90d26adc175",
   "metadata": {},
   "outputs": [],
   "source": [
    "# 18. Create a Python class for a house, using composition to represent rooms, furniture, and appliances.\n",
    "class Room:\n",
    "    def __init__(self, name, area):\n",
    "        self.name = name\n",
    "        self.area = area\n",
    "\n",
    "class Furniture:\n",
    "    def __init__(self, name):\n",
    "        self.name = name\n",
    "\n",
    "class Appliance:\n",
    "    def __init__(self, name):\n",
    "        self.name = name\n",
    "\n",
    "class House:\n",
    "    def __init__(self, rooms, furniture, appliances):\n",
    "        self.rooms = rooms\n",
    "        self.furniture = furniture\n",
    "        self.appliances = appliances\n",
    "\n",
    "# Example usage for a house with rooms, furniture, and appliances\n",
    "kitchen = Room(\"Kitchen\", 100)\n",
    "living_room = Room(\"Living Room\", 200)\n",
    "furniture = [Furniture(\"Sofa\"), Furniture(\"Dining Table\")]\n",
    "appliances = [Appliance(\"Refrigerator\"), Appliance(\"Washing Machine\")]\n",
    "house = House([kitchen, living_room], furniture, appliances)\n",
    "print(f\"House: {', '.join(room.name for room in house.rooms)}\")\n",
    "print(f\"Furniture: {', '.join(item.name for item in house.furniture)}\")\n",
    "print(f\"Appliances: {', '.join(item.name for item in house.appliances)}\")"
   ]
  },
  {
   "cell_type": "raw",
   "id": "8d0f10f7-74f3-437a-99d7-c0868fdfb965",
   "metadata": {},
   "source": [
    "19. How can you achieve flexibility in composed objects by allowing them to be replaced or modified dynamically at runtime?\n",
    "Ans - You can achieve flexibility by providing methods to add, remove, or replace composed objects at runtime. This allows you to modify the composition of objects dynamically based on changing requirements."
   ]
  },
  {
   "cell_type": "code",
   "execution_count": null,
   "id": "e05c9aad-25a0-41d9-8426-08ec4738a20e",
   "metadata": {},
   "outputs": [],
   "source": [
    "# 20. Create a Python class for a social media application, using composition to represent users, posts, and comments.\n",
    "class Post:\n",
    "    def __init__(self, content, author):\n",
    "        self.content = content\n",
    "        self.author = author\n",
    "\n",
    "class Comment:\n",
    "    def __init__(self, text, author):\n",
    "        self.text = text\n",
    "        self.author = author\n",
    "\n",
    "class User:\n",
    "    def __init__(self, username):\n",
    "        self.username = username\n",
    "        self.posts = []\n",
    "        self.comments = []\n",
    "\n",
    "    def create_post(self, content):\n",
    "        post = Post(content, self)\n",
    "        self.posts.append(post)\n",
    "\n",
    "    def create_comment(self, text, post):\n",
    "        comment = Comment(text, self)\n",
    "        post.comments.append(comment)\n",
    "\n",
    "# Example usage for a social media application with users, posts, and comments\n",
    "user1 = User(\"Alice\")\n",
    "user2 = User(\"Bob\")\n",
    "user1.create_post(\"Hello, everyone!\")\n",
    "user2.create_post(\"Good morning!\")\n",
    "user1.create_comment(\"Nice post, Bob!\", user2.posts[0])\n",
    "user2.create_comment(\"Thank you, Alice!\", user1.posts[0])\n",
    "\n",
    "print(f\"{user1.username}'s Posts:\")\n",
    "for post in user1.posts:\n",
    "    print(f\"Post: {post.content}, Comments: {[comment.text for comment in post.comments]}\")\n",
    "\n",
    "print(f\"{user2.username}'s Posts:\")\n",
    "for post in user2.posts:\n",
    "    print(f\"Post: {post.content}, Comments: {[comment.text for comment in post.comments]}\")\n",
    "\n"
   ]
  }
 ],
 "metadata": {
  "kernelspec": {
   "display_name": "Python 3 (ipykernel)",
   "language": "python",
   "name": "python3"
  },
  "language_info": {
   "codemirror_mode": {
    "name": "ipython",
    "version": 3
   },
   "file_extension": ".py",
   "mimetype": "text/x-python",
   "name": "python",
   "nbconvert_exporter": "python",
   "pygments_lexer": "ipython3",
   "version": "3.10.8"
  }
 },
 "nbformat": 4,
 "nbformat_minor": 5
}
