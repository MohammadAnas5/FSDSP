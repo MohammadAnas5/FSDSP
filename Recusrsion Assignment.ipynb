{
 "cells": [
  {
   "cell_type": "code",
   "execution_count": null,
   "id": "bfc714f9-d3dd-4b0b-bbb0-8f31b2867c38",
   "metadata": {},
   "outputs": [],
   "source": [
    "# Q1: Tower of Hanoi Algorithm\n",
    "def tower_of_hanoi(n, source, auxiliary, target):\n",
    "    if n == 1:\n",
    "        print(f\"Move disk 1 from {source} to {target}\")\n",
    "        return\n",
    "    tower_of_hanoi(n-1, source, target, auxiliary)\n",
    "    print(f\"Move disk {n} from {source} to {target}\")\n",
    "    tower_of_hanoi(n-1, auxiliary, source, target)\n",
    "\n",
    "# Function call for Tower of Hanoi with 3 disks\n",
    "print(\"Tower of Hanoi solution for 3 disks:\")\n",
    "tower_of_hanoi(3, 'A', 'B', 'C')\n",
    "print(\"\\n\")"
   ]
  },
  {
   "cell_type": "code",
   "execution_count": null,
   "id": "30ef3758-a829-4319-9adc-b1efc3678ffa",
   "metadata": {},
   "outputs": [],
   "source": [
    "# Q2: Minimum number of operations to convert word1 to word2\n",
    "def min_distance(word1, word2):\n",
    "    m, n = len(word1), len(word2)\n",
    "    dp = [[0] * (n + 1) for _ in range(m + 1)]\n",
    "\n",
    "    for i in range(m + 1):\n",
    "        for j in range(n + 1):\n",
    "            if i == 0:\n",
    "                dp[i][j] = j\n",
    "            elif j == 0:\n",
    "                dp[i][j] = i\n",
    "            elif word1[i - 1] == word2[j - 1]:\n",
    "                dp[i][j] = dp[i - 1][j - 1]\n",
    "            else:\n",
    "                dp[i][j] = 1 + min(dp[i - 1][j], dp[i][j - 1], dp[i - 1][j - 1])\n",
    "    \n",
    "    return dp[m][n]\n",
    "\n",
    "# Function calls for minimum number of operations\n",
    "print(\"Minimum number of operations to convert 'horse' to 'ros':\", min_distance(\"horse\", \"ros\"))\n",
    "print(\"Minimum number of operations to convert 'intention' to 'execution':\", min_distance(\"intention\", \"execution\"))\n",
    "print(\"\\n\")"
   ]
  },
  {
   "cell_type": "code",
   "execution_count": null,
   "id": "21e21d5d-1569-492a-99d5-30c57756f656",
   "metadata": {},
   "outputs": [],
   "source": [
    "# Q3: Print the max value of the array\n",
    "arr1 = [13, 1, -3, 22, 5]\n",
    "print(\"Max value in the array [13, 1, -3, 22, 5]:\", max(arr1))\n",
    "print(\"\\n\")"
   ]
  },
  {
   "cell_type": "code",
   "execution_count": null,
   "id": "43e53f46-9dc8-4fe6-80de-2c39b2748f6e",
   "metadata": {},
   "outputs": [],
   "source": [
    "# Q4: Find the sum of the values of the array\n",
    "arr2 = [92, 23, 15, -20, 10]\n",
    "print(\"Sum of the values in the array [92, 23, 15, -20, 10]:\", sum(arr2))\n",
    "print(\"\\n\")"
   ]
  },
  {
   "cell_type": "code",
   "execution_count": null,
   "id": "5528e432-f33f-43ff-a27c-158913d02372",
   "metadata": {},
   "outputs": [],
   "source": [
    "# Q5: Check if a number is an Armstrong number\n",
    "def is_armstrong_number(n):\n",
    "    digits = [int(d) for d in str(n)]\n",
    "    power = len(digits)\n",
    "    return sum(d ** power for d in digits) == n\n",
    "\n",
    "# Function calls for Armstrong number check\n",
    "num1 = 153\n",
    "num2 = 134\n",
    "print(f\"Is {num1} an Armstrong number? {'Yes' if is_armstrong_number(num1) else 'No'}\")\n",
    "print(f\"Is {num2} an Armstrong number? {'Yes' if is_armstrong_number(num2) else 'No'}\")"
   ]
  }
 ],
 "metadata": {
  "kernelspec": {
   "display_name": "Python 3 (ipykernel)",
   "language": "python",
   "name": "python3"
  },
  "language_info": {
   "codemirror_mode": {
    "name": "ipython",
    "version": 3
   },
   "file_extension": ".py",
   "mimetype": "text/x-python",
   "name": "python",
   "nbconvert_exporter": "python",
   "pygments_lexer": "ipython3",
   "version": "3.12.3"
  }
 },
 "nbformat": 4,
 "nbformat_minor": 5
}
