{
 "cells": [
  {
   "cell_type": "markdown",
   "metadata": {
    "id": "KxPXDrNLjCO1"
   },
   "source": [
    "## String Question "
   ]
  },
  {
   "cell_type": "markdown",
   "metadata": {
    "id": "r5PA3GHwh2a8"
   },
   "source": [
    "### 1. Write a program to reverse a string."
   ]
  },
  {
   "cell_type": "code",
   "execution_count": null,
   "metadata": {
    "id": "f2IKaBRvgu8A"
   },
   "outputs": [],
   "source": [
    "def reverse(string):\n",
    "  return string[::-1]"
   ]
  },
  {
   "cell_type": "code",
   "execution_count": null,
   "metadata": {
    "colab": {
     "base_uri": "https://localhost:8080/"
    },
    "id": "iqw_MURj1vOO",
    "outputId": "557eec96-bc60-4967-bfee-a097f9827b45"
   },
   "outputs": [
    {
     "name": "stdout",
     "output_type": "stream",
     "text": [
      "Enter the stringfsd 434 ,[]\n",
      "][, 434 dsf\n"
     ]
    }
   ],
   "source": [
    "x = input(\"Enter the string\")\n",
    "print(reverse(x))"
   ]
  },
  {
   "cell_type": "markdown",
   "metadata": {
    "id": "bzFJDw2ph22B"
   },
   "source": [
    "### 2. Check if a string is a palindrome."
   ]
  },
  {
   "cell_type": "code",
   "execution_count": null,
   "metadata": {
    "colab": {
     "base_uri": "https://localhost:8080/"
    },
    "id": "14NK2mfhgu68",
    "outputId": "881034a3-b1f7-4460-fa63-195412b592f6"
   },
   "outputs": [
    {
     "name": "stdout",
     "output_type": "stream",
     "text": [
      "yes it is palindrome\n"
     ]
    }
   ],
   "source": [
    "# Creating a function for  checks if it is a palindrome or not\n",
    "def reverse(x):\n",
    "    x = x.lower()\n",
    "    if x == x[::-1]:\n",
    "        return \"yes it is palindrome\"\n",
    "    else:\n",
    "        return \"No it is not palindrome\"\n",
    "\n",
    "\n",
    "string = \"Racecar\"\n",
    "\n",
    "\n",
    "# calling the function\n",
    "print( reverse(string))"
   ]
  },
  {
   "cell_type": "markdown",
   "metadata": {
    "id": "urIg1opQh4EC"
   },
   "source": [
    "### 3. Convert a string to uppercase."
   ]
  },
  {
   "cell_type": "code",
   "execution_count": null,
   "metadata": {
    "colab": {
     "base_uri": "https://localhost:8080/"
    },
    "id": "-jSZ82dKgu5q",
    "outputId": "412c59b2-b67c-4241-fd07-15eac704be44"
   },
   "outputs": [
    {
     "name": "stdout",
     "output_type": "stream",
     "text": [
      "Before Uppercase - Do on your own peril\n",
      "After Uppercase - DO ON YOUR OWN PERIL\n"
     ]
    }
   ],
   "source": [
    "def upper(string):\n",
    "  return string.upper()\n",
    "\n",
    "x = \"Do on your own peril\"\n",
    "print(\"Before Uppercase -\",x)\n",
    "print(\"After Uppercase -\",upper(x))"
   ]
  },
  {
   "cell_type": "markdown",
   "metadata": {
    "id": "P8BPSsFUh4id"
   },
   "source": [
    "### 4. Convert a string to lowercase."
   ]
  },
  {
   "cell_type": "code",
   "execution_count": null,
   "metadata": {
    "colab": {
     "base_uri": "https://localhost:8080/"
    },
    "id": "tUhuGWr3guqJ",
    "outputId": "05a02762-c740-4d18-a93e-ee2dbec0fe23"
   },
   "outputs": [
    {
     "name": "stdout",
     "output_type": "stream",
     "text": [
      "Before lowercase - Do oN youR OWN peril\n",
      "After lowerrcase - do on your own peril\n"
     ]
    }
   ],
   "source": [
    "# Creating a function for conversion of string to lower case\n",
    "def lower(string):\n",
    "  # simply using as lower() method of string class\n",
    "  return string.lower()\n",
    "\n",
    "x = \"Do oN youR OWN peril\"\n",
    "print(\"Before lowercase -\",x)\n",
    "print(\"After lowerrcase -\",lower(x))"
   ]
  },
  {
   "cell_type": "markdown",
   "metadata": {
    "id": "TGhizhBvh59p"
   },
   "source": [
    "### 5. Count the number of vowels in a string."
   ]
  },
  {
   "cell_type": "code",
   "execution_count": null,
   "metadata": {
    "colab": {
     "base_uri": "https://localhost:8080/"
    },
    "id": "ZfzxLxJmguoo",
    "outputId": "01f00a73-1f45-4813-d520-3f0eb2740376"
   },
   "outputs": [
    {
     "data": {
      "text/plain": [
       "17"
      ]
     },
     "execution_count": 10,
     "metadata": {},
     "output_type": "execute_result"
    }
   ],
   "source": [
    "# Creating a function for counting the number of vowels in the sentence\n",
    "def countthevowels(sentence):\n",
    "    temp=0\n",
    "    sentence = sentence.lower()\n",
    "    for i in sentence:\n",
    "        # using The membership operator to check if an object (for every letter of our sentence) is a member of a sequence (all vowels).\n",
    "        if i in ('a','e','i','o','u'):\n",
    "            # if condition will be true it increase its value by one\n",
    "            temp+=1\n",
    "    # return it s value\n",
    "    return temp\n",
    "\n",
    "countthevowels(\"Caught up in mEasmerizing and materialistic world\")"
   ]
  },
  {
   "cell_type": "markdown",
   "metadata": {
    "id": "pDPuJd6Sh6Z_"
   },
   "source": [
    "### 6. Count the number of consonants in a string."
   ]
  },
  {
   "cell_type": "code",
   "execution_count": null,
   "metadata": {
    "colab": {
     "base_uri": "https://localhost:8080/"
    },
    "id": "D18NMx_Eguni",
    "outputId": "dc06cd31-f358-4527-a523-a18b55f338f4"
   },
   "outputs": [
    {
     "data": {
      "text/plain": [
       "26"
      ]
     },
     "execution_count": 11,
     "metadata": {},
     "output_type": "execute_result"
    }
   ],
   "source": [
    "# Creating a function for counting the number of vowels in the sentence\n",
    "def counttheconsonants(sentence):\n",
    "    temp=0\n",
    "    sentence = sentence.lower()\n",
    "    all_cons = 'bcdfghjklmnpqrstvwxyz'\n",
    "    for i in sentence:\n",
    "        # using The membership operator to check if an object (for every letter of our sentence) is a member of a sequence (all consonants).\n",
    "        if i in all_cons:\n",
    "            # if condition will be true it increase its value by one\n",
    "            temp+=1\n",
    "    # return it s value\n",
    "    return temp\n",
    "\n",
    "counttheconsonants(\"Caught up in mEasmerizing and materialistic world\")"
   ]
  },
  {
   "cell_type": "markdown",
   "metadata": {
    "id": "xmltReZJh7HJ"
   },
   "source": [
    "### 7. Remove all whitespaces from a string."
   ]
  },
  {
   "cell_type": "code",
   "execution_count": null,
   "metadata": {
    "colab": {
     "base_uri": "https://localhost:8080/",
     "height": 36
    },
    "id": "DhdXUxEfgufk",
    "outputId": "54704e6d-8a80-4cb1-8da2-3c7da6f38293"
   },
   "outputs": [
    {
     "data": {
      "application/vnd.google.colaboratory.intrinsic+json": {
       "type": "string"
      },
      "text/plain": [
       "'asdassadasdsd'"
      ]
     },
     "execution_count": 13,
     "metadata": {},
     "output_type": "execute_result"
    }
   ],
   "source": [
    "def remove_spaces(string):\n",
    "  final_string = ''\n",
    "  for i in string:\n",
    "    if i != \" \":\n",
    "      final_string+=i\n",
    "  return final_string\n",
    "\n",
    "remove_spaces(\" asd assa   dasds      d\")"
   ]
  },
  {
   "cell_type": "markdown",
   "metadata": {
    "id": "A6TS1nw7h7j3"
   },
   "source": [
    "### 8. Find the length of a string without using the `len()` function."
   ]
  },
  {
   "cell_type": "code",
   "execution_count": null,
   "metadata": {
    "colab": {
     "base_uri": "https://localhost:8080/"
    },
    "id": "S6YEx6Jf8swb",
    "outputId": "23698c92-097d-4bc5-bbd9-0630057ed398"
   },
   "outputs": [
    {
     "data": {
      "text/plain": [
       "15"
      ]
     },
     "execution_count": 14,
     "metadata": {},
     "output_type": "execute_result"
    }
   ],
   "source": [
    "# creating the function for finding the length of a string without using the len() function.\n",
    "def length_of_string(string):\n",
    "  #  variable temp initialize with zero, which will be used to store the length of the string\n",
    "  temp=0\n",
    "  for i in string:\n",
    "    # increament of one for every character\n",
    "    temp+=1\n",
    "\n",
    "  return temp\n",
    "\n",
    "# calling the function\n",
    "length_of_string(\"asdasdasd asdas\")"
   ]
  },
  {
   "cell_type": "markdown",
   "metadata": {
    "id": "09QoEfVDh8Kg"
   },
   "source": [
    "### 9. Check if a string contains a specific word."
   ]
  },
  {
   "cell_type": "code",
   "execution_count": null,
   "metadata": {
    "colab": {
     "base_uri": "https://localhost:8080/",
     "height": 36
    },
    "id": "4F2a-BQZgubj",
    "outputId": "295ceb46-b43a-47ef-944f-efbe9c7e31ab"
   },
   "outputs": [
    {
     "data": {
      "application/vnd.google.colaboratory.intrinsic+json": {
       "type": "string"
      },
      "text/plain": [
       "'Yes, word is present in the given string'"
      ]
     },
     "execution_count": 15,
     "metadata": {},
     "output_type": "execute_result"
    }
   ],
   "source": [
    "def contains(string,word):\n",
    "  if word in string:\n",
    "    return \"Yes, word is present in the given string\"\n",
    "  else:\n",
    "    return \"No\"\n",
    "\n",
    "contains(\"Birds are chirping and flowers are blooming\", 'flowers')"
   ]
  },
  {
   "cell_type": "markdown",
   "metadata": {
    "id": "cK7kRNGVkKYX"
   },
   "source": [
    "### 10. Replace a word in a string with another word."
   ]
  },
  {
   "cell_type": "code",
   "execution_count": null,
   "metadata": {
    "colab": {
     "base_uri": "https://localhost:8080/"
    },
    "id": "VDPL4fa8guYG",
    "outputId": "86854b3d-32e4-4870-bca8-b1f0e0660f0e"
   },
   "outputs": [
    {
     "name": "stdout",
     "output_type": "stream",
     "text": [
      "Enter the complete stringWe start by accepting the input string\n",
      "Enter the word which you want to replaceby\n",
      "Enter new wordfor\n",
      "We start for accepting the input string\n"
     ]
    }
   ],
   "source": [
    "\n",
    "string = input(\" Enter the complete string\")\n",
    "old_word,new_word=input(\" Enter the word which you want to replace\"),input(\"Enter new word\")\n",
    "\n",
    "final_string = string.replace(old_word, new_word)\n",
    "\n",
    "print(final_string)"
   ]
  },
  {
   "cell_type": "markdown",
   "metadata": {
    "id": "Naa4KM54kLA_"
   },
   "source": [
    "### 11. Count the occurrences of a word in a string."
   ]
  },
  {
   "cell_type": "code",
   "execution_count": null,
   "metadata": {
    "colab": {
     "base_uri": "https://localhost:8080/"
    },
    "id": "sRE6QBJ0guR1",
    "outputId": "2020c7ea-19d5-4639-f316-7841866bbebb"
   },
   "outputs": [
    {
     "data": {
      "text/plain": [
       "2"
      ]
     },
     "execution_count": 3,
     "metadata": {},
     "output_type": "execute_result"
    }
   ],
   "source": [
    "def fun(string,word):\n",
    "  temp = 0\n",
    "  for i in string.split():\n",
    "    if word==i:\n",
    "      temp+=1\n",
    "  return temp\n",
    "\n",
    "fun(\" Yeah you bleed just to know you are alive \",\"you\")"
   ]
  },
  {
   "cell_type": "markdown",
   "metadata": {
    "id": "rdnYclFZkLci"
   },
   "source": [
    "### 12. Find the first occurrence of a word in a string."
   ]
  },
  {
   "cell_type": "code",
   "execution_count": null,
   "metadata": {
    "colab": {
     "base_uri": "https://localhost:8080/"
    },
    "id": "nXFWjs60guO1",
    "outputId": "901bb302-e535-40e3-efab-48a8e922a901"
   },
   "outputs": [
    {
     "data": {
      "text/plain": [
       "28"
      ]
     },
     "execution_count": 7,
     "metadata": {},
     "output_type": "execute_result"
    }
   ],
   "source": [
    "def first_occur(string,word):\n",
    "  index=0\n",
    "  for i in string.split():\n",
    "    if i.lower()==word:\n",
    "      return index\n",
    "    for j in i:\n",
    "      index+=1\n",
    "    index+=1\n",
    "\n",
    "first_occur(\"road less traveled is often the one worth taking\", 'the')"
   ]
  },
  {
   "cell_type": "markdown",
   "metadata": {
    "id": "HdrVKIyQkMGW"
   },
   "source": [
    "### 13. Find the last occurrence of a word in a string."
   ]
  },
  {
   "cell_type": "code",
   "execution_count": null,
   "metadata": {
    "colab": {
     "base_uri": "https://localhost:8080/"
    },
    "id": "ZAReFGMvguM1",
    "outputId": "a2cc221b-53d3-4d3a-8192-505e59036285"
   },
   "outputs": [
    {
     "data": {
      "text/plain": [
       "39"
      ]
     },
     "execution_count": 8,
     "metadata": {},
     "output_type": "execute_result"
    }
   ],
   "source": [
    "def last_occur(string,word):\n",
    "  our_index = string.rfind(word)\n",
    "  if our_index==-1:\n",
    "    return \"Not Present\"\n",
    "  else:\n",
    "    return our_index\n",
    "\n",
    "last_occur(\" Find the last occurrence of a word in a string\",'a')"
   ]
  },
  {
   "cell_type": "markdown",
   "metadata": {
    "id": "Cj5S2ErlkMia"
   },
   "source": [
    "### 14. Split a string into a list of words."
   ]
  },
  {
   "cell_type": "code",
   "execution_count": null,
   "metadata": {
    "colab": {
     "base_uri": "https://localhost:8080/"
    },
    "id": "GJ567hMJguLk",
    "outputId": "e0aee15e-ac9f-496d-979d-b6874a9e6353"
   },
   "outputs": [
    {
     "data": {
      "text/plain": [
       "['Find', 'the', 'first', 'occurrence', 'of', 'a', 'word', 'in', 'a', 'string']"
      ]
     },
     "execution_count": 9,
     "metadata": {},
     "output_type": "execute_result"
    }
   ],
   "source": [
    "def split(string):\n",
    "  return string.split()\n",
    "\n",
    "split(\" Find the first occurrence of a word in a string\")"
   ]
  },
  {
   "cell_type": "markdown",
   "metadata": {
    "id": "Bx3yq2jCkNBG"
   },
   "source": [
    "### 15. Join a list of words into a string."
   ]
  },
  {
   "cell_type": "code",
   "execution_count": null,
   "metadata": {
    "colab": {
     "base_uri": "https://localhost:8080/",
     "height": 36
    },
    "id": "iimcmdxSguJb",
    "outputId": "04c8628a-0177-4aec-dcb1-d81b793734fd"
   },
   "outputs": [
    {
     "data": {
      "application/vnd.google.colaboratory.intrinsic+json": {
       "type": "string"
      },
      "text/plain": [
       "'Find the first occurrence of a word in a string'"
      ]
     },
     "execution_count": 10,
     "metadata": {},
     "output_type": "execute_result"
    }
   ],
   "source": [
    "def join(list):\n",
    "  return \" \".join(list)\n",
    "\n",
    "join(['Find', 'the', 'first', 'occurrence', 'of', 'a', 'word', 'in', 'a', 'string'])"
   ]
  },
  {
   "cell_type": "markdown",
   "metadata": {
    "id": "Pz_ROIzBkNmZ"
   },
   "source": [
    "### 16. Convert a string where words are separated by spaces to one where words are separated by underscores."
   ]
  },
  {
   "cell_type": "code",
   "execution_count": null,
   "metadata": {
    "colab": {
     "base_uri": "https://localhost:8080/",
     "height": 36
    },
    "id": "yJ979spNguId",
    "outputId": "785796f4-0ccd-4cc8-a11a-8efa9e6bafd4"
   },
   "outputs": [
    {
     "data": {
      "application/vnd.google.colaboratory.intrinsic+json": {
       "type": "string"
      },
      "text/plain": [
       "'Convert_a_string_where_words_are_separated_by_spaces_to_one_where_words_are_separated_by_underscores.'"
      ]
     },
     "execution_count": 11,
     "metadata": {},
     "output_type": "execute_result"
    }
   ],
   "source": [
    "def underscore_separation(string):\n",
    "  return string.replace(\" \",\"_\")\n",
    "\n",
    "underscore_separation(\"Convert a string where words are separated by spaces to one where words are separated by underscores.\")"
   ]
  },
  {
   "cell_type": "markdown",
   "metadata": {
    "id": "8J0LVL5XkOGK"
   },
   "source": [
    "### 17. Check if a string starts with a specific word or phrase."
   ]
  },
  {
   "cell_type": "code",
   "execution_count": null,
   "metadata": {
    "colab": {
     "base_uri": "https://localhost:8080/",
     "height": 36
    },
    "id": "5okbNcymguHg",
    "outputId": "68669150-cc69-4f52-f9b1-4e96e147d96f"
   },
   "outputs": [
    {
     "data": {
      "application/vnd.google.colaboratory.intrinsic+json": {
       "type": "string"
      },
      "text/plain": [
       "'Yes, it is present'"
      ]
     },
     "execution_count": 14,
     "metadata": {},
     "output_type": "execute_result"
    }
   ],
   "source": [
    "def starting_word(string,word):\n",
    "  if string.startswith(word):\n",
    "    return \"Yes, it is present\"\n",
    "  else:\n",
    "    return \"No, it is not present\"\n",
    "\n",
    "starting_word(\"Convert a string where words are separated by spaces to one where words are separated by underscores.\",\"Convert a string\")"
   ]
  },
  {
   "cell_type": "markdown",
   "metadata": {
    "id": "ncBXKh_BkOrV"
   },
   "source": [
    "### 18. Check if a string ends with a specific word or phrase."
   ]
  },
  {
   "cell_type": "code",
   "execution_count": null,
   "metadata": {
    "colab": {
     "base_uri": "https://localhost:8080/",
     "height": 36
    },
    "id": "JJ6TT3AzguGl",
    "outputId": "c3725a13-4c7b-40f3-c68f-4362b67fb1cd"
   },
   "outputs": [
    {
     "data": {
      "application/vnd.google.colaboratory.intrinsic+json": {
       "type": "string"
      },
      "text/plain": [
       "'Yes, it is present'"
      ]
     },
     "execution_count": 17,
     "metadata": {},
     "output_type": "execute_result"
    }
   ],
   "source": [
    "def starting_word(string,word):\n",
    "  if string.endswith(word):\n",
    "    return \"Yes, it is present\"\n",
    "  else:\n",
    "    return \"No, it is not present\"\n",
    "\n",
    "starting_word(\"Convert a string where words are separated by spaces to one where words are separated by underscores.\",\"are separated by underscores.\")"
   ]
  },
  {
   "cell_type": "markdown",
   "metadata": {
    "id": "xKHAccIakPHh"
   },
   "source": [
    "### 19. Convert a string to title case (e.g., \"hello world\" to \"Hello World\")."
   ]
  },
  {
   "cell_type": "code",
   "execution_count": null,
   "metadata": {
    "colab": {
     "base_uri": "https://localhost:8080/",
     "height": 36
    },
    "id": "Kg6Jxt5ZguFe",
    "outputId": "02bbd238-8aa4-4008-e730-09f86e60a7ca"
   },
   "outputs": [
    {
     "data": {
      "application/vnd.google.colaboratory.intrinsic+json": {
       "type": "string"
      },
      "text/plain": [
       "'Final string : Hello World'"
      ]
     },
     "execution_count": 18,
     "metadata": {},
     "output_type": "execute_result"
    }
   ],
   "source": [
    "def convert_to_title_case(text):\n",
    "    return f\"Final string : {text.title()}\"\n",
    "\n",
    "convert_to_title_case(\"hello world\")"
   ]
  },
  {
   "cell_type": "markdown",
   "metadata": {
    "id": "CEBOkukdkPh7"
   },
   "source": [
    "### 20. Find the longest word in a string."
   ]
  },
  {
   "cell_type": "code",
   "execution_count": null,
   "metadata": {
    "colab": {
     "base_uri": "https://localhost:8080/",
     "height": 36
    },
    "id": "rB0ZNnVQgt40",
    "outputId": "49338fbd-ce32-4f4d-ad63-ae7ae899417b"
   },
   "outputs": [
    {
     "data": {
      "application/vnd.google.colaboratory.intrinsic+json": {
       "type": "string"
      },
      "text/plain": [
       "\"The longest word is 'strongest' with 9 character.\""
      ]
     },
     "execution_count": 22,
     "metadata": {},
     "output_type": "execute_result"
    }
   ],
   "source": [
    "def longest_word(string):\n",
    "  max=0\n",
    "  for i in string.split():\n",
    "    if max<len(i):\n",
    "      max=len(i)\n",
    "      word=i\n",
    "  return f\"The longest word is '{word}' with {max} character.\"\n",
    "\n",
    "longest_word(\"The strongest people are not those who show strength in front of us but those who win battles\")"
   ]
  },
  {
   "cell_type": "markdown",
   "metadata": {
    "id": "e4h_-TM8kRGP"
   },
   "source": [
    "### 21. Find the shortest word in a string."
   ]
  },
  {
   "cell_type": "code",
   "execution_count": null,
   "metadata": {
    "colab": {
     "base_uri": "https://localhost:8080/"
    },
    "id": "DZgksVFygt30",
    "outputId": "e6db3014-d2b1-4a72-c6de-a24d84fed24f"
   },
   "outputs": [
    {
     "name": "stdout",
     "output_type": "stream",
     "text": [
      "The shortest word is 'in' with 2 character.\n"
     ]
    }
   ],
   "source": [
    "def shortest_word(string):\n",
    "    words = string.split()\n",
    "\n",
    "    min = len(words[0])\n",
    "\n",
    "    for word in words:\n",
    "\n",
    "        if min > len(word):\n",
    "            min = len(word)\n",
    "            shortest_word = word\n",
    "\n",
    "    return f\"The shortest word is '{shortest_word}' with {min} character.\"\n",
    "\n",
    "result = shortest_word(\"The strongest people are not those who show strength in front of us but those who win battles\")\n",
    "print(result)\n"
   ]
  },
  {
   "cell_type": "markdown",
   "metadata": {
    "id": "eg9CKZRLkRkQ"
   },
   "source": [
    "### 22. Reverse the order of words in a string."
   ]
  },
  {
   "cell_type": "code",
   "execution_count": null,
   "metadata": {
    "colab": {
     "base_uri": "https://localhost:8080/",
     "height": 36
    },
    "id": "qWpQG-A91gRd",
    "outputId": "030d1863-49b8-43ff-90c5-3181c4f0c0c6"
   },
   "outputs": [
    {
     "data": {
      "application/vnd.google.colaboratory.intrinsic+json": {
       "type": "string"
      },
      "text/plain": [
       "'string a in words of order the Reverse'"
      ]
     },
     "execution_count": 6,
     "metadata": {},
     "output_type": "execute_result"
    }
   ],
   "source": [
    "def reverse(string):\n",
    "  a=\"\"\n",
    "  for i in string.split():\n",
    "    a = \" \" + i + a\n",
    "  return a[1:]\n",
    "\n",
    "reverse(\"Reverse the order of words in a string\")"
   ]
  },
  {
   "cell_type": "markdown",
   "metadata": {
    "id": "IEwppwAAkR96"
   },
   "source": [
    "### 23. Check if a string is alphanumeric."
   ]
  },
  {
   "cell_type": "code",
   "execution_count": null,
   "metadata": {
    "colab": {
     "base_uri": "https://localhost:8080/",
     "height": 36
    },
    "id": "DDgRn8KMgtvC",
    "outputId": "a2ab22af-91b3-4a42-fff3-5ac05cad33e5"
   },
   "outputs": [
    {
     "data": {
      "application/vnd.google.colaboratory.intrinsic+json": {
       "type": "string"
      },
      "text/plain": [
       "'It is alphanumeric'"
      ]
     },
     "execution_count": 11,
     "metadata": {},
     "output_type": "execute_result"
    }
   ],
   "source": [
    "def is_alphanumeric(text):\n",
    "  if text.isalnum():\n",
    "    return \"It is alphanumeric\"\n",
    "  else:\n",
    "    return \"No, it is not aphanumeric\"\n",
    "\n",
    "is_alphanumeric(\"Check8\")"
   ]
  },
  {
   "cell_type": "markdown",
   "metadata": {
    "id": "cLx7F5XIkSYd"
   },
   "source": [
    "### 24. Extract all digits from a string."
   ]
  },
  {
   "cell_type": "code",
   "execution_count": null,
   "metadata": {
    "colab": {
     "base_uri": "https://localhost:8080/",
     "height": 36
    },
    "id": "2eoHZ4mZgtsC",
    "outputId": "3cb92e72-0936-4033-edcc-4886b8b03076"
   },
   "outputs": [
    {
     "data": {
      "application/vnd.google.colaboratory.intrinsic+json": {
       "type": "string"
      },
      "text/plain": [
       "'Extracted digits are : 3411892'"
      ]
     },
     "execution_count": 15,
     "metadata": {},
     "output_type": "execute_result"
    }
   ],
   "source": [
    "def extract_digits(string):\n",
    "    digits = \"\"\n",
    "\n",
    "    for i in string:\n",
    "        if i.isdigit():\n",
    "            digits += i\n",
    "\n",
    "    return f\"Extracted digits are : {digits}\"\n",
    "\n",
    "extract_digits(\"Ext34ract all di11gits fr89om a str2ing\")"
   ]
  },
  {
   "cell_type": "markdown",
   "metadata": {
    "id": "My6y6vaOkS5p"
   },
   "source": [
    "### 25. Extract all alphabets from a string."
   ]
  },
  {
   "cell_type": "code",
   "execution_count": null,
   "metadata": {
    "colab": {
     "base_uri": "https://localhost:8080/"
    },
    "id": "Vf3l_L8tgtqX",
    "outputId": "386db63f-9b6c-4729-a369-96309ae43088"
   },
   "outputs": [
    {
     "name": "stdout",
     "output_type": "stream",
     "text": [
      "Extracted letters are: Extractalldigitsfromastring\n"
     ]
    }
   ],
   "source": [
    "\n",
    "def extract_alpha(string):\n",
    "    letters = \"\"\n",
    "\n",
    "    for i in string:\n",
    "        if i.isalpha():\n",
    "            letters += i\n",
    "\n",
    "    return f\"Extracted letters are: {letters}\"\n",
    "\n",
    "result = extract_alpha(\"Ext34ract all di11gits fr89om a str2ing\")\n",
    "print(result)"
   ]
  },
  {
   "cell_type": "markdown",
   "metadata": {
    "id": "y4Hfz0AVkTUj"
   },
   "source": [
    "**bold text**### 26. Count the number of uppercase letters in a string."
   ]
  },
  {
   "cell_type": "code",
   "execution_count": 1,
   "metadata": {
    "colab": {
     "base_uri": "https://localhost:8080/",
     "height": 36
    },
    "id": "Okr8cQ2QgtpZ",
    "outputId": "0912a1e5-872a-4024-9759-1d42ac9a2f4f"
   },
   "outputs": [
    {
     "data": {
      "application/vnd.google.colaboratory.intrinsic+json": {
       "type": "string"
      },
      "text/plain": [
       "'Total number of uppercase letter : 5'"
      ]
     },
     "execution_count": 1,
     "metadata": {},
     "output_type": "execute_result"
    }
   ],
   "source": [
    "def count_uppercase(input_string):\n",
    "    uppercase_count = sum(1 for char in input_string if char.isupper())\n",
    "    return f\"Total number of uppercase letter : {uppercase_count}\"\n",
    "\n",
    "count_uppercase(\"Count the Number OF uppercase letterS in a string.\")"
   ]
  },
  {
   "cell_type": "markdown",
   "metadata": {
    "id": "IYkgsrTrkURV"
   },
   "source": [
    "### 27. Count the number of lowercase letters in a string."
   ]
  },
  {
   "cell_type": "code",
   "execution_count": 2,
   "metadata": {
    "colab": {
     "base_uri": "https://localhost:8080/",
     "height": 36
    },
    "id": "yLlw-PNvgtjO",
    "outputId": "1d035089-109a-4dc5-9dd9-ea8b57baa3a4"
   },
   "outputs": [
    {
     "data": {
      "application/vnd.google.colaboratory.intrinsic+json": {
       "type": "string"
      },
      "text/plain": [
       "'Total number of uppercase letter : 36'"
      ]
     },
     "execution_count": 2,
     "metadata": {},
     "output_type": "execute_result"
    }
   ],
   "source": [
    "def count_lowercase(input_string):\n",
    "    lowercase_count = sum(1 for char in input_string if char.islower())\n",
    "    return f\"Total number of uppercase letter : {lowercase_count}\"\n",
    "\n",
    "count_lowercase(\"Count the Number OF lowercase letterS in a string.\")"
   ]
  },
  {
   "cell_type": "markdown",
   "metadata": {
    "id": "NSDvH_N6kUv5"
   },
   "source": [
    "### 28. Swap the case of each character in a string."
   ]
  },
  {
   "cell_type": "code",
   "execution_count": 3,
   "metadata": {
    "colab": {
     "base_uri": "https://localhost:8080/",
     "height": 36
    },
    "id": "ERplR3BggtgY",
    "outputId": "084f3ec6-ef1f-459d-e9cc-0cf8c805e1f4"
   },
   "outputs": [
    {
     "data": {
      "application/vnd.google.colaboratory.intrinsic+json": {
       "type": "string"
      },
      "text/plain": [
       "'sWAP THE CASE OF EACH CHARACTER IN A STRING.'"
      ]
     },
     "execution_count": 3,
     "metadata": {},
     "output_type": "execute_result"
    }
   ],
   "source": [
    "def swap_case(string):\n",
    "    swapped_string = string.swapcase()\n",
    "    return swapped_string\n",
    "\n",
    "swap_case(\"Swap the case of each character in a string.\")"
   ]
  },
  {
   "cell_type": "markdown",
   "metadata": {
    "id": "2sq4u1kIkVRr"
   },
   "source": [
    "### 29. Remove a specific word from a string."
   ]
  },
  {
   "cell_type": "code",
   "execution_count": 5,
   "metadata": {
    "colab": {
     "base_uri": "https://localhost:8080/",
     "height": 36
    },
    "id": "NbQLpdArgtd4",
    "outputId": "88e70d4c-266b-4963-eb00-3bd1abb9e8ee"
   },
   "outputs": [
    {
     "data": {
      "application/vnd.google.colaboratory.intrinsic+json": {
       "type": "string"
      },
      "text/plain": [
       "'Modified String : Remove a word from a string.'"
      ]
     },
     "execution_count": 5,
     "metadata": {},
     "output_type": "execute_result"
    }
   ],
   "source": [
    "def remove_word(string, word_to_remove):\n",
    "    words = string.split()\n",
    "    filtered_words = [word for word in words if word != word_to_remove]\n",
    "    modified_string = ' '.join(filtered_words)\n",
    "    return f\"Modified String : {modified_string}\"\n",
    "\n",
    "remove_word(\"Remove a specific word from a string.\",'specific')"
   ]
  },
  {
   "cell_type": "markdown",
   "metadata": {
    "id": "xRzhLWLOq6ks"
   },
   "source": [
    "### 30. Check if a string is a valid email address."
   ]
  },
  {
   "cell_type": "code",
   "execution_count": 8,
   "metadata": {
    "colab": {
     "base_uri": "https://localhost:8080/"
    },
    "id": "XSQ_Xaelgtc7",
    "outputId": "5b7e5594-1aec-485b-ee46-c39e1d40e2b4"
   },
   "outputs": [
    {
     "name": "stdout",
     "output_type": "stream",
     "text": [
      "True\n",
      "False\n"
     ]
    }
   ],
   "source": [
    "import re  # Import the regular expression module\n",
    "\n",
    "def valid_email(email):\n",
    "    pattern = r'^[\\w\\.-]+@[\\w\\.-]+\\.\\w+$'  # Regular expression pattern for basic email validation\n",
    "    if re.match(pattern, email):\n",
    "        return True\n",
    "    else:\n",
    "        return False\n",
    "\n",
    "\n",
    "print(valid_email('anas@gmail.com'))\n",
    "print(valid_email('1235463454@gmai'))\n",
    "\n"
   ]
  },
  {
   "cell_type": "markdown",
   "metadata": {
    "id": "Dy4BDup0q7A5"
   },
   "source": [
    "### 31. Extract the username from an email address string."
   ]
  },
  {
   "cell_type": "code",
   "execution_count": 9,
   "metadata": {
    "colab": {
     "base_uri": "https://localhost:8080/",
     "height": 36
    },
    "id": "o8E5Cwzsgtb3",
    "outputId": "ebd2ad1f-b5b3-4368-fcd4-c2b3b77f311b"
   },
   "outputs": [
    {
     "data": {
      "application/vnd.google.colaboratory.intrinsic+json": {
       "type": "string"
      },
      "text/plain": [
       "'anas'"
      ]
     },
     "execution_count": 9,
     "metadata": {},
     "output_type": "execute_result"
    }
   ],
   "source": [
    "def extract_username(email):\n",
    "    username = email.split('@')[0]\n",
    "    return username\n",
    "\n",
    "extract_username('anas@gmail.com')"
   ]
  },
  {
   "cell_type": "markdown",
   "metadata": {
    "id": "3oR36bOIq7dS"
   },
   "source": [
    "### 32. Extract the domain name from an email address string."
   ]
  },
  {
   "cell_type": "code",
   "execution_count": 10,
   "metadata": {
    "colab": {
     "base_uri": "https://localhost:8080/",
     "height": 36
    },
    "id": "Tlj3ZDTYgtZr",
    "outputId": "f14e1dd5-88d4-4dd5-d833-46240698bbcb"
   },
   "outputs": [
    {
     "data": {
      "application/vnd.google.colaboratory.intrinsic+json": {
       "type": "string"
      },
      "text/plain": [
       "'gmail.com'"
      ]
     },
     "execution_count": 10,
     "metadata": {},
     "output_type": "execute_result"
    }
   ],
   "source": [
    "def extract_username(email):\n",
    "    username = email.split('@')[1]\n",
    "    return username\n",
    "\n",
    "extract_username('anas@gmail.com')"
   ]
  },
  {
   "cell_type": "markdown",
   "metadata": {
    "id": "jqiNG-4jq71C"
   },
   "source": [
    "### 33. Replace multiple spaces in a string with a single space."
   ]
  },
  {
   "cell_type": "code",
   "execution_count": 11,
   "metadata": {
    "colab": {
     "base_uri": "https://localhost:8080/",
     "height": 36
    },
    "id": "xrZCNtN6gtY1",
    "outputId": "ce793cc9-c9ae-4975-dfd9-e078a6c55708"
   },
   "outputs": [
    {
     "data": {
      "application/vnd.google.colaboratory.intrinsic+json": {
       "type": "string"
      },
      "text/plain": [
       "'The code you provided attempts to'"
      ]
     },
     "execution_count": 11,
     "metadata": {},
     "output_type": "execute_result"
    }
   ],
   "source": [
    "def replace_multiple_spaces(input_string):\n",
    "    cleaned_string = ' '.join(input_string.split())\n",
    "    return cleaned_string\n",
    "\n",
    "replace_multiple_spaces(\"    The code you     provided attempts    to \")"
   ]
  },
  {
   "cell_type": "markdown",
   "metadata": {
    "id": "Y0GQRlZtq8V6"
   },
   "source": [
    "### 34. Check if a string is a valid URL."
   ]
  },
  {
   "cell_type": "code",
   "execution_count": 14,
   "metadata": {
    "colab": {
     "base_uri": "https://localhost:8080/"
    },
    "id": "BsxABArkgtX7",
    "outputId": "da85aa97-a83d-4a56-ccbc-32d36276422b"
   },
   "outputs": [
    {
     "name": "stdout",
     "output_type": "stream",
     "text": [
      "False\n",
      "True\n"
     ]
    }
   ],
   "source": [
    "from urllib.parse import urlparse\n",
    "\n",
    "def is_valid_url(url):\n",
    "    try:\n",
    "        result = urlparse(url)\n",
    "        return all([result.scheme, result.netloc])\n",
    "    except ValueError:\n",
    "        return False\n",
    "\n",
    "print(is_valid_url(\"adsa@gmail.com\"))\n",
    "print(is_valid_url(\"https://colab.research.google.com/\"))"
   ]
  },
  {
   "cell_type": "markdown",
   "metadata": {
    "id": "DM0fsftTq8vi"
   },
   "source": [
    "### 35. Extract the protocol (http or https) from a URL string."
   ]
  },
  {
   "cell_type": "code",
   "execution_count": 16,
   "metadata": {
    "colab": {
     "base_uri": "https://localhost:8080/"
    },
    "id": "6-kJuuYMgtW3",
    "outputId": "b237d439-43b4-4433-a713-2e9195cab169"
   },
   "outputs": [
    {
     "name": "stdout",
     "output_type": "stream",
     "text": [
      "www.gmail.com\n",
      "www.facebook.com\n"
     ]
    }
   ],
   "source": [
    "def extract_protocol(url):\n",
    "    return [i for i in url.split(\"://\")][1]\n",
    "\n",
    "\n",
    "print(extract_protocol(\"https://www.gmail.com\"))\n",
    "print(extract_protocol(\"https://www.facebook.com\"))\n",
    "\n"
   ]
  },
  {
   "cell_type": "markdown",
   "metadata": {
    "id": "oB8Wt2Avq9cD"
   },
   "source": [
    "### 36. Find the frequency of each character in a string."
   ]
  },
  {
   "cell_type": "code",
   "execution_count": 17,
   "metadata": {
    "colab": {
     "base_uri": "https://localhost:8080/"
    },
    "id": "Cj5B19dWgtJ1",
    "outputId": "37f90933-3734-46a1-fdc5-62ccaa297119"
   },
   "outputs": [
    {
     "data": {
      "text/plain": [
       "{'H': 1,\n",
       " 'e': 4,\n",
       " 'r': 1,\n",
       " \"'\": 1,\n",
       " 's': 3,\n",
       " ' ': 8,\n",
       " 'h': 3,\n",
       " 'o': 4,\n",
       " 'w': 1,\n",
       " 'y': 1,\n",
       " 'u': 3,\n",
       " 'c': 4,\n",
       " 'a': 1,\n",
       " 'n': 3,\n",
       " 't': 3,\n",
       " 'i': 2,\n",
       " 'f': 1,\n",
       " 'k': 1}"
      ]
     },
     "execution_count": 17,
     "metadata": {},
     "output_type": "execute_result"
    }
   ],
   "source": [
    "def frequency_of_char(input_string):\n",
    "    frequency = {}\n",
    "\n",
    "    for char in input_string:\n",
    "        if char in frequency:\n",
    "            frequency[char] += 1\n",
    "        else:\n",
    "            frequency[char] = 1\n",
    "\n",
    "    return frequency\n",
    "\n",
    "\n",
    "frequency_of_char(\"Here's how you can use this function to check\")"
   ]
  },
  {
   "cell_type": "markdown",
   "metadata": {
    "id": "W9M0TqNZq94u"
   },
   "source": [
    "### 37. Remove all punctuation from a string."
   ]
  },
  {
   "cell_type": "code",
   "execution_count": 6,
   "metadata": {
    "colab": {
     "base_uri": "https://localhost:8080/"
    },
    "id": "5U_QD62_gtGk",
    "outputId": "f10c8611-fa0d-46e2-ce99-5cf437b1d1da"
   },
   "outputs": [
    {
     "name": "stdout",
     "output_type": "stream",
     "text": [
      "Original string: Define: a function: to remove punctuation;' from a given.,, string\n",
      "Cleaned string: Define a function to remove punctuation from a given string\n"
     ]
    }
   ],
   "source": [
    "import string\n",
    "\n",
    "def remove_punctuation(string):\n",
    "    translator = str.maketrans(\"\", \"\", string.punctuation)\n",
    "    clean_string = string.translate(translator)\n",
    "\n",
    "    return clean_string\n",
    "\n",
    "print(\"Original string:\", \"Define: a function: to remove punctuation;' from a given.,, string\")\n",
    "print(\"Cleaned string:\",\"Define a function to remove punctuation from a given string\" )"
   ]
  },
  {
   "cell_type": "markdown",
   "metadata": {
    "id": "A9UtP2akq-Sp"
   },
   "source": [
    "### 38. Check if a string contains only digits."
   ]
  },
  {
   "cell_type": "code",
   "execution_count": 3,
   "metadata": {
    "colab": {
     "base_uri": "https://localhost:8080/",
     "height": 36
    },
    "id": "btnO5K8ngtFp",
    "outputId": "c72ff5b2-4188-49b7-89b0-d5ea058c47c0"
   },
   "outputs": [
    {
     "data": {
      "application/vnd.google.colaboratory.intrinsic+json": {
       "type": "string"
      },
      "text/plain": [
       "'No 12t232 do not contains only digits'"
      ]
     },
     "execution_count": 3,
     "metadata": {},
     "output_type": "execute_result"
    }
   ],
   "source": [
    "def contains_only_digits(input_string):\n",
    "  if input_string.isdigit():\n",
    "    return f\"Yes {input_string} contains only digits\"\n",
    "  else:\n",
    "    return f\"No {input_string} do not contains only digits\"\n",
    "\n",
    "contains_only_digits('12t232')"
   ]
  },
  {
   "cell_type": "markdown",
   "metadata": {
    "id": "wVxN5gRpq-z3"
   },
   "source": [
    "### 39. Check if a string contains only alphabets."
   ]
  },
  {
   "cell_type": "code",
   "execution_count": 8,
   "metadata": {
    "colab": {
     "base_uri": "https://localhost:8080/",
     "height": 36
    },
    "id": "oN3dvOllgtAT",
    "outputId": "9a4753f7-d5d3-4421-f046-bd3523df244c"
   },
   "outputs": [
    {
     "data": {
      "application/vnd.google.colaboratory.intrinsic+json": {
       "type": "string"
      },
      "text/plain": [
       "'string do not contains only alphabets'"
      ]
     },
     "execution_count": 8,
     "metadata": {},
     "output_type": "execute_result"
    }
   ],
   "source": [
    "def contains_only_alphabets(string):\n",
    "    # Check if all characters in the string are alphabetic\n",
    "    if string.isalpha():\n",
    "      return \"string contains only alphabets\"\n",
    "    else:\n",
    "      return \"string do not contains only alphabets\"\n",
    "\n",
    "contains_only_alphabets(\"adasd4\")"
   ]
  },
  {
   "cell_type": "markdown",
   "metadata": {
    "id": "FQkkncoIq_qA"
   },
   "source": [
    "### 40. Convert a string to a list of characters."
   ]
  },
  {
   "cell_type": "code",
   "execution_count": 9,
   "metadata": {
    "colab": {
     "base_uri": "https://localhost:8080/"
    },
    "id": "0JLQW-tggs9n",
    "outputId": "fd173adf-50b1-4cb5-8bc6-c8f193d7efa2"
   },
   "outputs": [
    {
     "data": {
      "text/plain": [
       "['H', 'i', ',', ' ', 'W', 'h', 'a', 't', 's', 'u', 'p', 'p']"
      ]
     },
     "execution_count": 9,
     "metadata": {},
     "output_type": "execute_result"
    }
   ],
   "source": [
    "def string_to_list(input_string):\n",
    "    char_list = list(input_string)\n",
    "    return char_list\n",
    "\n",
    "string_to_list(\"Hi, Whatsupp\")"
   ]
  },
  {
   "cell_type": "markdown",
   "metadata": {
    "id": "1807JSSqrAgT"
   },
   "source": [
    "### 41. Check if two strings are anagrams."
   ]
  },
  {
   "cell_type": "code",
   "execution_count": 10,
   "metadata": {
    "colab": {
     "base_uri": "https://localhost:8080/"
    },
    "id": "hPSNKx5Lgs7_",
    "outputId": "dfd3457a-a428-45ae-f514-1839976cec46"
   },
   "outputs": [
    {
     "name": "stdout",
     "output_type": "stream",
     "text": [
      "'listen' and 'silent' are anagrams.\n"
     ]
    }
   ],
   "source": [
    "def are_anagrams(str1, str2):\n",
    "    str1 = str1.replace(\" \", \"\").lower()\n",
    "    str2 = str2.replace(\" \", \"\").lower()\n",
    "\n",
    "    return sorted(str1) == sorted(str2)\n",
    "\n",
    "word1 = \"listen\"\n",
    "word2 = \"silent\"\n",
    "\n",
    "if are_anagrams(word1, word2):\n",
    "    print(f\"'{word1}' and '{word2}' are anagrams.\")\n",
    "else:\n",
    "    print(f\"'{word1}' and '{word2}' are not anagrams.\")\n"
   ]
  },
  {
   "cell_type": "markdown",
   "metadata": {
    "id": "eDXfOUELrA7l"
   },
   "source": [
    "### 42. Encode a string using a Caesar cipher."
   ]
  },
  {
   "cell_type": "code",
   "execution_count": null,
   "metadata": {
    "colab": {
     "base_uri": "https://localhost:8080/"
    },
    "id": "Koxt4kNTgs7D",
    "outputId": "18a0c8d2-e3d6-4573-c4c5-f51ba61f0b48"
   },
   "outputs": [
    {
     "name": "stdout",
     "output_type": "stream",
     "text": [
      "Encoded text: ehoor, zruog!\n"
     ]
    }
   ],
   "source": [
    "def caesar_cipher(text, shift):\n",
    "    encrypted_text = \"\"\n",
    "\n",
    "    for char in text:\n",
    "        if char.isalpha():\n",
    "            # Determine whether the character is uppercase or lowercase\n",
    "            is_upper = char.isupper()\n",
    "            char = char.lower()\n",
    "\n",
    "            # Shift the character within the range 'a' to 'z' (0-25)\n",
    "            char_code = ord(char) - ord('a')\n",
    "            char_code = (char_code + shift) % 26\n",
    "\n",
    "            # Convert the character code back to a character\n",
    "            char = chr(char_code + ord('a'))\n",
    "\n",
    "            # If the original character was uppercase, convert it back\n",
    "            if is_upper:\n",
    "                char = char.upper()\n",
    "\n",
    "        # Append the character to the encrypted text\n",
    "        encrypted_text += char\n",
    "\n",
    "    return encrypted_text\n",
    "\n",
    "# Example usage\n",
    "plaintext = \"Hello, World!\"\n",
    "shift = 3\n",
    "encrypted_text = caesar_cipher(plaintext, shift)\n",
    "print(\"Original text:\", plaintext)\n",
    "print(\"Encrypted text:\", encrypted_text)\n"
   ]
  },
  {
   "cell_type": "markdown",
   "metadata": {
    "id": "IHILr36DrBVX"
   },
   "source": [
    "### 43. Decode a Caesar cipher encoded string."
   ]
  },
  {
   "cell_type": "code",
   "execution_count": 1,
   "metadata": {
    "colab": {
     "base_uri": "https://localhost:8080/"
    },
    "id": "rAymUy7Vgs6C",
    "outputId": "0aed5518-ec20-4494-b399-0343c91aad46"
   },
   "outputs": [
    {
     "name": "stdout",
     "output_type": "stream",
     "text": [
      "Encrypted text: Khoor, Zruog!\n",
      "Decrypted text: Hello, World!\n"
     ]
    }
   ],
   "source": [
    "def caesar_decipher(encrypted_text, shift):\n",
    "    decrypted_text = \"\"\n",
    "\n",
    "    for char in encrypted_text:\n",
    "        if char.isalpha():\n",
    "            # Determine whether the character is uppercase or lowercase\n",
    "            is_upper = char.isupper()\n",
    "            char = char.lower()\n",
    "\n",
    "            # Shift the character backward within the range 'a' to 'z' (0-25)\n",
    "            char_code = ord(char) - ord('a')\n",
    "            char_code = (char_code - shift) % 26\n",
    "\n",
    "            # Convert the character code back to a character\n",
    "            char = chr(char_code + ord('a'))\n",
    "\n",
    "            # If the original character was uppercase, convert it back\n",
    "            if is_upper:\n",
    "                char = char.upper()\n",
    "\n",
    "        # Append the character to the decrypted text\n",
    "        decrypted_text += char\n",
    "\n",
    "    return decrypted_text\n",
    "\n",
    "# Example usage for decryption\n",
    "encrypted_text = \"Khoor, Zruog!\"\n",
    "shift = 3\n",
    "decrypted_text = caesar_decipher(encrypted_text, shift)\n",
    "print(\"Encrypted text:\", encrypted_text)\n",
    "print(\"Decrypted text:\", decrypted_text)\n"
   ]
  },
  {
   "cell_type": "markdown",
   "metadata": {
    "id": "A49G9oymrBu3"
   },
   "source": [
    "### 44. Find the most frequent word in a string."
   ]
  },
  {
   "cell_type": "code",
   "execution_count": null,
   "metadata": {
    "id": "C1_YLSz-gs5E"
   },
   "outputs": [],
   "source": [
    "import re\n",
    "from collections import Counter\n",
    "\n",
    "def most_frequent_word(text):\n",
    "    # Tokenize the text into words (split by spaces and remove punctuation)\n",
    "    words = re.findall(r'\\b\\w+\\b', text.lower())\n",
    "\n",
    "    # Count the frequency of each word\n",
    "    word_counts = Counter(words)\n",
    "\n",
    "    # Find the word with the highest frequency\n",
    "    most_common_word, highest_frequency = word_counts.most_common(1)[0]\n",
    "\n",
    "    return most_common_word, highest_frequency\n",
    "\n",
    "# Example usage\n",
    "input_text = \"This is a sample text. It contains some words, and some words repeat. Words like 'sample' and 'words' are repeated.\"\n",
    "most_common_word, highest_frequency = most_frequent_word(input_text)\n",
    "\n",
    "print(\"Most frequent word:\", most_common_word)\n",
    "print(\"Frequency:\", highest_frequency)\n"
   ]
  },
  {
   "cell_type": "markdown",
   "metadata": {
    "id": "ZQJsSCTcrClG"
   },
   "source": [
    "### 45. Find all unique words in a string."
   ]
  },
  {
   "cell_type": "code",
   "execution_count": 3,
   "metadata": {
    "colab": {
     "base_uri": "https://localhost:8080/"
    },
    "id": "HPDWEgEugsve",
    "outputId": "ca1690bb-4e9d-4e4c-dc79-dca6a71e963a"
   },
   "outputs": [
    {
     "name": "stdout",
     "output_type": "stream",
     "text": [
      "Unique words: {'contains', 'some', 'text', 'a', 'like', 'words', 'and', 'are', 'it', 'sample', 'repeated', 'repeat', 'is', 'this'}\n"
     ]
    }
   ],
   "source": [
    "def unique_words(text):\n",
    "    unique_words = []\n",
    "    words = text.lower().split()\n",
    "    for word in words:\n",
    "        cleaned_word = ''.join(char for char in word if char.isalnum())\n",
    "        if cleaned_word:\n",
    "            unique_words.append(cleaned_word)\n",
    "    unique_word_set = set(unique_words)\n",
    "    return unique_word_set\n",
    "\n",
    "input_text = \"This is a sample text. It contains some words, and some words repeat. Words like 'sample' and 'words' are repeated.\"\n",
    "unique_word_set = unique_words(input_text)\n",
    "print(\"Unique words:\", unique_word_set)\n"
   ]
  },
  {
   "cell_type": "markdown",
   "metadata": {
    "id": "ISMXaRB3rC8X"
   },
   "source": [
    "### 46. Count the number of syllables in a string."
   ]
  },
  {
   "cell_type": "code",
   "execution_count": 4,
   "metadata": {
    "colab": {
     "base_uri": "https://localhost:8080/"
    },
    "id": "BbU8BjWmgsuj",
    "outputId": "80c75511-b9ab-4b18-dd40-7e83acedfe4f"
   },
   "outputs": [
    {
     "name": "stdout",
     "output_type": "stream",
     "text": [
      "The word 'hello' has 2 syllables.\n"
     ]
    }
   ],
   "source": [
    "def count_syllables(word):\n",
    "    word = word.lower()\n",
    "    vowels = \"aeiouy\"\n",
    "    syllable_count = 0\n",
    "    prev_is_vowel = False\n",
    "\n",
    "    for char in word:\n",
    "        is_vowel = char in vowels\n",
    "        if is_vowel and not prev_is_vowel:\n",
    "            syllable_count += 1\n",
    "        prev_is_vowel = is_vowel\n",
    "\n",
    "    if word.endswith(\"e\"):\n",
    "        syllable_count -= 1\n",
    "    elif word.endswith(\"le\") and syllable_count > 1:\n",
    "        syllable_count -= 1\n",
    "\n",
    "    syllable_count = max(1, syllable_count)\n",
    "    return syllable_count\n",
    "\n",
    "word = \"hello\"\n",
    "syllables = count_syllables(word)\n",
    "print(f\"The word '{word}' has {syllables} syllables.\")\n"
   ]
  },
  {
   "cell_type": "markdown",
   "metadata": {
    "id": "P28VtL2hrDTK"
   },
   "source": [
    "### 47. Check if a string contains any special characters."
   ]
  },
  {
   "cell_type": "code",
   "execution_count": 5,
   "metadata": {
    "colab": {
     "base_uri": "https://localhost:8080/"
    },
    "id": "Agd1Jtk3gsoJ",
    "outputId": "922730b2-0613-45d7-ede7-b4736d1bce58"
   },
   "outputs": [
    {
     "name": "stdout",
     "output_type": "stream",
     "text": [
      "Input 1: This is a normal string.\n",
      "Contains Special Characters 1: True\n",
      "Input 2: This is a string with special characters: $ and @\n",
      "Contains Special Characters 2: True\n"
     ]
    }
   ],
   "source": [
    "import re\n",
    "\n",
    "def contains_special_characters(input_string):\n",
    "    pattern = re.compile(r'[!@#$%^&*()_+{}\\[\\]:;<>,.?~\\\\/]')\n",
    "    match = pattern.search(input_string)\n",
    "    return bool(match)\n",
    "\n",
    "input_string1 = \"This is a normal string.\"\n",
    "input_string2 = \"This is a string with special characters: $ and @\"\n",
    "\n",
    "result1 = contains_special_characters(input_string1)\n",
    "result2 = contains_special_characters(input_string2)\n",
    "\n",
    "print(\"Input 1:\", input_string1)\n",
    "print(\"Contains Special Characters 1:\", result1)\n",
    "\n",
    "print(\"Input 2:\", input_string2)\n",
    "print(\"Contains Special Characters 2:\", result2)\n"
   ]
  },
  {
   "cell_type": "markdown",
   "metadata": {
    "id": "pRldlR8BrDru"
   },
   "source": [
    "### 48. Remove the nth word from a string."
   ]
  },
  {
   "cell_type": "code",
   "execution_count": 9,
   "metadata": {
    "colab": {
     "base_uri": "https://localhost:8080/",
     "height": 36
    },
    "id": "Fd30C7zogslQ",
    "outputId": "97d8751e-db2d-43c7-d6c8-f540deb03718"
   },
   "outputs": [
    {
     "data": {
      "application/vnd.google.colaboratory.intrinsic+json": {
       "type": "string"
      },
      "text/plain": [
       "'final string : I am geting bored with these question'"
      ]
     },
     "execution_count": 9,
     "metadata": {},
     "output_type": "execute_result"
    }
   ],
   "source": [
    "def remove_nth(string,nth):\n",
    "  return f\"final string : {string[:nth]+string[nth+1:]}\"\n",
    "\n",
    "remove_nth(\"I am getting bored with these question\",7)"
   ]
  },
  {
   "cell_type": "markdown",
   "metadata": {
    "id": "3asNZrxCrEDf"
   },
   "source": [
    "### 49. Insert a word at the nth position in a string."
   ]
  },
  {
   "cell_type": "code",
   "execution_count": 11,
   "metadata": {
    "colab": {
     "base_uri": "https://localhost:8080/",
     "height": 36
    },
    "id": "jR0xGYqOgsh1",
    "outputId": "69265131-2615-486a-b2dc-7e8b03592e43"
   },
   "outputs": [
    {
     "data": {
      "application/vnd.google.colaboratory.intrinsic+json": {
       "type": "string"
      },
      "text/plain": [
       "'I am ge hi tting bored with these question'"
      ]
     },
     "execution_count": 11,
     "metadata": {},
     "output_type": "execute_result"
    }
   ],
   "source": [
    "def insert_nth(string,nth,word):\n",
    "  final_string = string[:nth]+\" \"+word+\" \"+string[nth:]\n",
    "  return final_string\n",
    "\n",
    "insert_nth(\"I am getting bored with these question\",7,'hi')"
   ]
  },
  {
   "cell_type": "markdown",
   "metadata": {
    "id": "iA9RLr3IrEeL"
   },
   "source": [
    "### 50. Convert a CSV string to a list of lists."
   ]
  },
  {
   "cell_type": "code",
   "execution_count": 12,
   "metadata": {
    "colab": {
     "base_uri": "https://localhost:8080/"
    },
    "id": "-23QMFw5gse9",
    "outputId": "da068e14-c4cf-4b31-92a3-6987a706ee37"
   },
   "outputs": [
    {
     "name": "stdout",
     "output_type": "stream",
     "text": [
      "['Name', 'Roll_No', 'Class']\n",
      "['abc', '18', '10']\n",
      "['xyz', '10', '6']\n",
      "['lmn', '88', '12']\n"
     ]
    }
   ],
   "source": [
    "import csv\n",
    "from io import StringIO\n",
    "\n",
    "def csv_string_to_list(csv_string):\n",
    "    csv_file = StringIO(csv_string)\n",
    "    csv_reader = csv.reader(csv_file)\n",
    "    data = [row for row in csv_reader]\n",
    "    return data\n",
    "\n",
    "csv_string = \"\"\"Name,Roll_No,Class\n",
    "abc,18,10\n",
    "xyz,10,6\n",
    "lmn,88,12\n",
    "\"\"\"\n",
    "\n",
    "csv_list = csv_string_to_list(csv_string)\n",
    "for row in csv_list:\n",
    "    print(row)\n"
   ]
  },
  {
   "cell_type": "markdown",
   "metadata": {
    "id": "NK7FhX5jrFbj"
   },
   "source": [
    "## **List based practice problem :**\n"
   ]
  },
  {
   "cell_type": "code",
   "execution_count": null,
   "metadata": {
    "colab": {
     "base_uri": "https://localhost:8080/"
    },
    "id": "xomwOAwIYhKu",
    "outputId": "d712318c-ccbf-4362-a504-42066b89eb2b"
   },
   "outputs": [],
   "source": [
    "# 1. Create a list with integers from 1 to 10.\n",
    "list1 = list(range(1, 11))\n",
    "print(\"1. List of integers from 1 to 10:\", list1)"
   ]
  },
  {
   "cell_type": "code",
   "execution_count": null,
   "metadata": {
    "colab": {
     "base_uri": "https://localhost:8080/"
    },
    "id": "xomwOAwIYhKu",
    "outputId": "d712318c-ccbf-4362-a504-42066b89eb2b"
   },
   "outputs": [],
   "source": [
    "# 2. Find the length of a list without using the `len()` function.\n",
    "length = 0\n",
    "for _ in list1:\n",
    "    length += 1\n",
    "print(\"2. Length of the list:\", length)"
   ]
  },
  {
   "cell_type": "code",
   "execution_count": null,
   "metadata": {
    "colab": {
     "base_uri": "https://localhost:8080/"
    },
    "id": "xomwOAwIYhKu",
    "outputId": "d712318c-ccbf-4362-a504-42066b89eb2b"
   },
   "outputs": [],
   "source": [
    "# 3. Append an element to the end of a list.\n",
    "list1.append(11)\n",
    "print(\"3. List after appending 11:\", list1)"
   ]
  },
  {
   "cell_type": "code",
   "execution_count": null,
   "metadata": {
    "colab": {
     "base_uri": "https://localhost:8080/"
    },
    "id": "xomwOAwIYhKu",
    "outputId": "d712318c-ccbf-4362-a504-42066b89eb2b"
   },
   "outputs": [],
   "source": [
    "# 4. Insert an element at a specific index in a list.\n",
    "list1.insert(3, 15)\n",
    "print(\"4. List after inserting 15 at index 3:\", list1)"
   ]
  },
  {
   "cell_type": "code",
   "execution_count": null,
   "metadata": {
    "colab": {
     "base_uri": "https://localhost:8080/"
    },
    "id": "xomwOAwIYhKu",
    "outputId": "d712318c-ccbf-4362-a504-42066b89eb2b"
   },
   "outputs": [],
   "source": [
    "# 5. Remove an element from a list by its value.\n",
    "list1.remove(11)\n",
    "print(\"5. List after removing 11:\", list1)"
   ]
  },
  {
   "cell_type": "code",
   "execution_count": null,
   "metadata": {
    "colab": {
     "base_uri": "https://localhost:8080/"
    },
    "id": "xomwOAwIYhKu",
    "outputId": "d712318c-ccbf-4362-a504-42066b89eb2b"
   },
   "outputs": [],
   "source": [
    "# 6. Remove an element from a list by its index.\n",
    "removed_element = list1.pop(2)\n",
    "print(\"6. Removed element at index 2:\", removed_element)\n",
    "print(\"   List after popping element:\", list1)"
   ]
  },
  {
   "cell_type": "code",
   "execution_count": null,
   "metadata": {
    "colab": {
     "base_uri": "https://localhost:8080/"
    },
    "id": "xomwOAwIYhKu",
    "outputId": "d712318c-ccbf-4362-a504-42066b89eb2b"
   },
   "outputs": [],
   "source": [
    "# 7. Check if an element exists in a list.\n",
    "element_to_check = 5\n",
    "if element_to_check in list1:\n",
    "    print(\"7. Element\", element_to_check, \"exists in the list.\")\n",
    "else:\n",
    "    print(\"7. Element\", element_to_check, \"does not exist in the list.\")"
   ]
  },
  {
   "cell_type": "code",
   "execution_count": null,
   "metadata": {
    "colab": {
     "base_uri": "https://localhost:8080/"
    },
    "id": "xomwOAwIYhKu",
    "outputId": "d712318c-ccbf-4362-a504-42066b89eb2b"
   },
   "outputs": [],
   "source": [
    "# 8. Find the index of the first occurrence of an element in a list.\n",
    "element_to_find = 5\n",
    "index = list1.index(element_to_find)\n",
    "print(\"8. Index of first occurrence of\", element_to_find, \"is:\", index)"
   ]
  },
  {
   "cell_type": "code",
   "execution_count": null,
   "metadata": {
    "colab": {
     "base_uri": "https://localhost:8080/"
    },
    "id": "xomwOAwIYhKu",
    "outputId": "d712318c-ccbf-4362-a504-42066b89eb2b"
   },
   "outputs": [],
   "source": [
    "# 9. Count the occurrences of an element in a list.\n",
    "count = list1.count(5)\n",
    "print(\"9. Count of\", element_to_find, \"in the list:\", count)"
   ]
  },
  {
   "cell_type": "code",
   "execution_count": null,
   "metadata": {
    "colab": {
     "base_uri": "https://localhost:8080/"
    },
    "id": "xomwOAwIYhKu",
    "outputId": "d712318c-ccbf-4362-a504-42066b89eb2b"
   },
   "outputs": [],
   "source": [
    "# 10. Reverse the order of elements in a list.\n",
    "list1.reverse()\n",
    "print(\"10. Reversed list:\", list1)"
   ]
  },
  {
   "cell_type": "code",
   "execution_count": null,
   "metadata": {
    "colab": {
     "base_uri": "https://localhost:8080/"
    },
    "id": "xomwOAwIYhKu",
    "outputId": "d712318c-ccbf-4362-a504-42066b89eb2b"
   },
   "outputs": [],
   "source": [
    "# 11. Sort a list in ascending order.\n",
    "list1.sort()\n",
    "print(\"11. Sorted list (ascending):\", list1)"
   ]
  },
  {
   "cell_type": "code",
   "execution_count": null,
   "metadata": {
    "colab": {
     "base_uri": "https://localhost:8080/"
    },
    "id": "xomwOAwIYhKu",
    "outputId": "d712318c-ccbf-4362-a504-42066b89eb2b"
   },
   "outputs": [],
   "source": [
    "# 12. Sort a list in descending order.\n",
    "list1.sort(reverse=True)\n",
    "print(\"12. Sorted list (descending):\", list1)"
   ]
  },
  {
   "cell_type": "code",
   "execution_count": null,
   "metadata": {
    "colab": {
     "base_uri": "https://localhost:8080/"
    },
    "id": "xomwOAwIYhKu",
    "outputId": "d712318c-ccbf-4362-a504-42066b89eb2b"
   },
   "outputs": [],
   "source": [
    "# 13. Create a list of even numbers from 1 to 20.\n",
    "even_numbers = list(range(2, 21, 2))\n",
    "print(\"13. List of even numbers:\", even_numbers)"
   ]
  },
  {
   "cell_type": "code",
   "execution_count": null,
   "metadata": {
    "colab": {
     "base_uri": "https://localhost:8080/"
    },
    "id": "xomwOAwIYhKu",
    "outputId": "d712318c-ccbf-4362-a504-42066b89eb2b"
   },
   "outputs": [],
   "source": [
    "# 14. Create a list of odd numbers from 1 to 20.\n",
    "odd_numbers = list(range(1, 21, 2))\n",
    "print(\"14. List of odd numbers:\", odd_numbers)"
   ]
  },
  {
   "cell_type": "code",
   "execution_count": null,
   "metadata": {
    "colab": {
     "base_uri": "https://localhost:8080/"
    },
    "id": "xomwOAwIYhKu",
    "outputId": "d712318c-ccbf-4362-a504-42066b89eb2b"
   },
   "outputs": [],
   "source": [
    "# 15. Find the sum of all elements in a list.\n",
    "sum_of_elements = sum(list1)\n",
    "print(\"15. Sum of elements in the list:\", sum_of_elements)"
   ]
  },
  {
   "cell_type": "code",
   "execution_count": null,
   "metadata": {
    "colab": {
     "base_uri": "https://localhost:8080/"
    },
    "id": "xomwOAwIYhKu",
    "outputId": "d712318c-ccbf-4362-a504-42066b89eb2b"
   },
   "outputs": [],
   "source": [
    "# 16. Find the maximum value in a list.\n",
    "max_value = max(list1)\n",
    "print(\"16. Maximum value in the list:\", max_value)"
   ]
  },
  {
   "cell_type": "code",
   "execution_count": null,
   "metadata": {
    "colab": {
     "base_uri": "https://localhost:8080/"
    },
    "id": "xomwOAwIYhKu",
    "outputId": "d712318c-ccbf-4362-a504-42066b89eb2b"
   },
   "outputs": [],
   "source": [
    "# 17. Find the minimum value in a list.\n",
    "min_value = min(list1)\n",
    "print(\"17. Minimum value in the list:\", min_value)"
   ]
  },
  {
   "cell_type": "code",
   "execution_count": null,
   "metadata": {
    "colab": {
     "base_uri": "https://localhost:8080/"
    },
    "id": "xomwOAwIYhKu",
    "outputId": "d712318c-ccbf-4362-a504-42066b89eb2b"
   },
   "outputs": [],
   "source": [
    "# 18. Create a list of squares of numbers from 1 to 10.\n",
    "squares = [x ** 2 for x in range(1, 11)]\n",
    "print(\"18. List of squares:\", squares)"
   ]
  },
  {
   "cell_type": "code",
   "execution_count": null,
   "metadata": {
    "colab": {
     "base_uri": "https://localhost:8080/"
    },
    "id": "xomwOAwIYhKu",
    "outputId": "d712318c-ccbf-4362-a504-42066b89eb2b"
   },
   "outputs": [],
   "source": [
    "# 19. Create a list of random numbers.\n",
    "import random\n",
    "random_numbers = [random.randint(1, 100) for _ in range(10)]\n",
    "print(\"19. List of random numbers:\", random_numbers)"
   ]
  },
  {
   "cell_type": "code",
   "execution_count": null,
   "metadata": {
    "colab": {
     "base_uri": "https://localhost:8080/"
    },
    "id": "xomwOAwIYhKu",
    "outputId": "d712318c-ccbf-4362-a504-42066b89eb2b"
   },
   "outputs": [],
   "source": [
    "# 20. Remove duplicates from a list.\n",
    "list_with_duplicates = [1, 2, 2, 3, 4, 4, 5]\n",
    "unique_list = list(set(list_with_duplicates))\n",
    "print(\"20. List with duplicates:\", list_with_duplicates)\n",
    "print(\"    List after removing duplicates:\", unique_list)"
   ]
  },
  {
   "cell_type": "code",
   "execution_count": null,
   "metadata": {
    "colab": {
     "base_uri": "https://localhost:8080/"
    },
    "id": "xomwOAwIYhKu",
    "outputId": "d712318c-ccbf-4362-a504-42066b89eb2b"
   },
   "outputs": [],
   "source": [
    "# 21. Find the common elements between two lists.\n",
    "list2 = [3, 4, 5, 6, 7]\n",
    "common_elements = [x for x in list1 if x in list2]\n",
    "print(\"21. Common elements between two lists:\", common_elements)"
   ]
  },
  {
   "cell_type": "code",
   "execution_count": null,
   "metadata": {
    "colab": {
     "base_uri": "https://localhost:8080/"
    },
    "id": "xomwOAwIYhKu",
    "outputId": "d712318c-ccbf-4362-a504-42066b89eb2b"
   },
   "outputs": [],
   "source": [
    "# 22. Find the difference between two lists.\n",
    "difference = [x for x in list1 if x not in list2]\n",
    "print(\"22. Elements in list1 that are not in list2:\", difference)"
   ]
  },
  {
   "cell_type": "code",
   "execution_count": null,
   "metadata": {
    "colab": {
     "base_uri": "https://localhost:8080/"
    },
    "id": "xomwOAwIYhKu",
    "outputId": "d712318c-ccbf-4362-a504-42066b89eb2b"
   },
   "outputs": [],
   "source": [
    "# 23. Merge two lists.\n",
    "merged_list = list1 + list2\n",
    "print(\"23. Merged list of list1 and list2:\", merged_list)"
   ]
  },
  {
   "cell_type": "code",
   "execution_count": null,
   "metadata": {
    "colab": {
     "base_uri": "https://localhost:8080/"
    },
    "id": "xomwOAwIYhKu",
    "outputId": "d712318c-ccbf-4362-a504-42066b89eb2b"
   },
   "outputs": [],
   "source": [
    "# 24. Multiply all elements in a list by 2.\n",
    "doubled_list = [x * 2 for x in list1]\n",
    "print(\"24. List after multiplying all elements by 2:\", doubled_list)"
   ]
  },
  {
   "cell_type": "code",
   "execution_count": null,
   "metadata": {
    "colab": {
     "base_uri": "https://localhost:8080/"
    },
    "id": "xomwOAwIYhKu",
    "outputId": "d712318c-ccbf-4362-a504-42066b89eb2b"
   },
   "outputs": [],
   "source": [
    "# 25. Filter out all even numbers from a list.\n",
    "filtered_list = [x for x in list1 if x % 2 != 0]\n",
    "print(\"25. List after filtering out even numbers:\", filtered_list)"
   ]
  },
  {
   "cell_type": "code",
   "execution_count": null,
   "metadata": {
    "colab": {
     "base_uri": "https://localhost:8080/"
    },
    "id": "xomwOAwIYhKu",
    "outputId": "d712318c-ccbf-4362-a504-42066b89eb2b"
   },
   "outputs": [],
   "source": [
    "# 26. Convert a list of strings to a list of integers.\n",
    "str_list = [\"1\", \"2\", \"3\", \"4\", \"5\"]\n",
    "int_list = [int(x) for x in str_list]\n",
    "print(\"26. List of strings:\", str_list)\n",
    "print(\"    List of integers:\", int_list)"
   ]
  },
  {
   "cell_type": "code",
   "execution_count": null,
   "metadata": {
    "colab": {
     "base_uri": "https://localhost:8080/"
    },
    "id": "xomwOAwIYhKu",
    "outputId": "d712318c-ccbf-4362-a504-42066b89eb2b"
   },
   "outputs": [],
   "source": [
    "# 27. Convert a list of integers to a list of strings.\n",
    "int_list = [1, 2, 3, 4, 5]\n",
    "str_list = [str(x) for x in int_list]\n",
    "print(\"27. List of integers:\", int_list)\n",
    "print(\"    List of strings:\", str_list)"
   ]
  },
  {
   "cell_type": "code",
   "execution_count": null,
   "metadata": {
    "colab": {
     "base_uri": "https://localhost:8080/"
    },
    "id": "xomwOAwIYhKu",
    "outputId": "d712318c-ccbf-4362-a504-42066b89eb2b"
   },
   "outputs": [],
   "source": [
    "# 28. Flatten a nested list.\n",
    "nested_list = [[1, 2, 3], [4, 5, 6], [7, 8, 9]]\n",
    "flattened_list = [item for sublist in nested_list for item in sublist]\n",
    "print(\"28. Nested list:\", nested_list)\n",
    "print(\"    Flattened list:\", flattened_list)"
   ]
  },
  {
   "cell_type": "code",
   "execution_count": null,
   "metadata": {
    "colab": {
     "base_uri": "https://localhost:8080/"
    },
    "id": "xomwOAwIYhKu",
    "outputId": "d712318c-ccbf-4362-a504-42066b89eb2b"
   },
   "outputs": [],
   "source": [
    "# 29. Create a list of the first 10 Fibonacci numbers.\n",
    "fibonacci_list = [0, 1]\n",
    "while len(fibonacci_list) < 10:\n",
    "    next_fibonacci = fibonacci_list[-1] + fibonacci_list[-2]\n",
    "    fibonacci_list.append(next_fibonacci)\n",
    "print(\"29. List of the first 10 Fibonacci numbers:\", fibonacci_list)"
   ]
  },
  {
   "cell_type": "code",
   "execution_count": null,
   "metadata": {
    "colab": {
     "base_uri": "https://localhost:8080/"
    },
    "id": "xomwOAwIYhKu",
    "outputId": "d712318c-ccbf-4362-a504-42066b89eb2b"
   },
   "outputs": [],
   "source": [
    "# 30. Check if a list is sorted.\n",
    "is_sorted = all(list1[i] <= list1[i+1] for i in range(len(list1)-1))\n",
    "print(\"30. Is the list sorted?\", is_sorted)"
   ]
  },
  {
   "cell_type": "code",
   "execution_count": null,
   "metadata": {
    "colab": {
     "base_uri": "https://localhost:8080/"
    },
    "id": "xomwOAwIYhKu",
    "outputId": "d712318c-ccbf-4362-a504-42066b89eb2b"
   },
   "outputs": [],
   "source": [
    "# 31. Rotate a list to the left by `n` positions.\n",
    "n = 2\n",
    "rotated_left = list1[n:] + list1[:n]\n",
    "print(f\"31. List rotated left by {n} positions:\", rotated_left)"
   ]
  },
  {
   "cell_type": "code",
   "execution_count": null,
   "metadata": {
    "colab": {
     "base_uri": "https://localhost:8080/"
    },
    "id": "xomwOAwIYhKu",
    "outputId": "d712318c-ccbf-4362-a504-42066b89eb2b"
   },
   "outputs": [],
   "source": [
    "# 32. Rotate a list to the right by `n` positions.\n",
    "n = 3\n",
    "rotated_right = list1[-n:] + list1[:-n]\n",
    "print(f\"32. List rotated right by {n} positions:\", rotated_right)"
   ]
  },
  {
   "cell_type": "code",
   "execution_count": null,
   "metadata": {
    "colab": {
     "base_uri": "https://localhost:8080/"
    },
    "id": "xomwOAwIYhKu",
    "outputId": "d712318c-ccbf-4362-a504-42066b89eb2b"
   },
   "outputs": [],
   "source": [
    "# 33. Create a list of prime numbers up to 50.\n",
    "def is_prime(num):\n",
    "    if num <= 1:\n",
    "        return False\n",
    "    for i in range(2, int(num**0.5) + 1):\n",
    "        if num % i == 0:\n",
    "            return False\n",
    "    return True\n",
    "\n",
    "prime_numbers = [x for x in range(2, 51) if is_prime(x)]\n",
    "print(\"33. List of prime numbers up to 50:\", prime_numbers)"
   ]
  },
  {
   "cell_type": "code",
   "execution_count": null,
   "metadata": {
    "colab": {
     "base_uri": "https://localhost:8080/"
    },
    "id": "xomwOAwIYhKu",
    "outputId": "d712318c-ccbf-4362-a504-42066b89eb2b"
   },
   "outputs": [],
   "source": [
    "# 34. Split a list into chunks of size `n`.\n",
    "n = 3\n",
    "chunked_list = [list1[i:i+n] for i in range(0, len(list1), n)]\n",
    "print(f\"34. List split into chunks of size {n}:\", chunked_list)"
   ]
  },
  {
   "cell_type": "code",
   "execution_count": null,
   "metadata": {
    "colab": {
     "base_uri": "https://localhost:8080/"
    },
    "id": "xomwOAwIYhKu",
    "outputId": "d712318c-ccbf-4362-a504-42066b89eb2b"
   },
   "outputs": [],
   "source": [
    "# 35. Find the second largest number in a list.\n",
    "unique_sorted_list = sorted(list(set(list1)))\n",
    "second_largest = unique_sorted_list[-2]\n",
    "print(\"35. Second largest number in the list:\", second_largest)"
   ]
  },
  {
   "cell_type": "code",
   "execution_count": null,
   "metadata": {
    "colab": {
     "base_uri": "https://localhost:8080/"
    },
    "id": "xomwOAwIYhKu",
    "outputId": "d712318c-ccbf-4362-a504-42066b89eb2b"
   },
   "outputs": [],
   "source": [
    "# 36. Replace every element in a list with its square.\n",
    "squared_list = [x ** 2 for x in list1]\n",
    "print(\"36. List after squaring every element:\", squared_list)"
   ]
  },
  {
   "cell_type": "code",
   "execution_count": null,
   "metadata": {
    "colab": {
     "base_uri": "https://localhost:8080/"
    },
    "id": "xomwOAwIYhKu",
    "outputId": "d712318c-ccbf-4362-a504-42066b89eb2b"
   },
   "outputs": [],
   "source": [
    "# 37. Convert a list to a dictionary where list elements become keys and their indices become values.\n",
    "dict_from_list = {value: index for index, value in enumerate(list1)}\n",
    "print(\"37. Dictionary from the list:\", dict_from_list)"
   ]
  },
  {
   "cell_type": "code",
   "execution_count": null,
   "metadata": {
    "colab": {
     "base_uri": "https://localhost:8080/"
    },
    "id": "xomwOAwIYhKu",
    "outputId": "d712318c-ccbf-4362-a504-42066b89eb2b"
   },
   "outputs": [],
   "source": [
    "# 38. Shuffle the elements of a list randomly.\n",
    "random.shuffle(list1)\n",
    "print(\"38. Shuffled list:\", list1)"
   ]
  },
  {
   "cell_type": "code",
   "execution_count": null,
   "metadata": {
    "colab": {
     "base_uri": "https://localhost:8080/"
    },
    "id": "xomwOAwIYhKu",
    "outputId": "d712318c-ccbf-4362-a504-42066b89eb2b"
   },
   "outputs": [],
   "source": [
    "# 39. Create a list of the first 10 factorial numbers.\n",
    "import math\n",
    "factorial_list = [math.factorial(x) for x in range(10)]\n",
    "print(\"39. List of the first 10 factorial numbers:\", factorial_list)"
   ]
  },
  {
   "cell_type": "code",
   "execution_count": null,
   "metadata": {
    "colab": {
     "base_uri": "https://localhost:8080/"
    },
    "id": "xomwOAwIYhKu",
    "outputId": "d712318c-ccbf-4362-a504-42066b89eb2b"
   },
   "outputs": [],
   "source": [
    "# 40. Check if two lists have at least one element in common.\n",
    "list3 = [5, 6, 7, 8, 9]\n",
    "has_common_element = any(x in list1 for x in list3)\n",
    "print(\"40. Do list1 and list3 have at least one common element?\", has_common_element)"
   ]
  },
  {
   "cell_type": "code",
   "execution_count": null,
   "metadata": {
    "colab": {
     "base_uri": "https://localhost:8080/"
    },
    "id": "xomwOAwIYhKu",
    "outputId": "d712318c-ccbf-4362-a504-42066b89eb2b"
   },
   "outputs": [],
   "source": [
    "# 41. Remove all elements from a list.\n",
    "list1.clear()\n",
    "print(\"41. List after removing all elements:\", list1)"
   ]
  },
  {
   "cell_type": "code",
   "execution_count": null,
   "metadata": {
    "colab": {
     "base_uri": "https://localhost:8080/"
    },
    "id": "xomwOAwIYhKu",
    "outputId": "d712318c-ccbf-4362-a504-42066b89eb2b"
   },
   "outputs": [],
   "source": [
    "# 42. Replace negative numbers in a list with 0.\n",
    "list_with_negatives = [1, -2, 3, -4, 5, -6]\n",
    "non_negative_list = [max(0, x) for x in list_with_negatives]\n",
    "print(\"42. List with negative numbers:\", list_with_negatives)\n",
    "print(\"    List after replacing negatives with 0:\", non_negative_list)"
   ]
  },
  {
   "cell_type": "code",
   "execution_count": null,
   "metadata": {
    "colab": {
     "base_uri": "https://localhost:8080/"
    },
    "id": "xomwOAwIYhKu",
    "outputId": "d712318c-ccbf-4362-a504-42066b89eb2b"
   },
   "outputs": [],
   "source": [
    "# 43. Convert a string into a list of words.\n",
    "text = \"Hello world,1, ,456, rajeev, other indian names for elements in example\"\n",
    "word_list = text.split()\n",
    "print(\"43. List of words from the string:\", word_list)"
   ]
  },
  {
   "cell_type": "code",
   "execution_count": null,
   "metadata": {
    "colab": {
     "base_uri": "https://localhost:8080/"
    },
    "id": "xomwOAwIYhKu",
    "outputId": "d712318c-ccbf-4362-a504-42066b89eb2b"
   },
   "outputs": [],
   "source": [
    "# 44. Convert a list of words into a string.\n",
    "string_from_list = ' '.join(word_list)\n",
    "print(\"44. String from the list of words:\", string_from_list)"
   ]
  },
  {
   "cell_type": "code",
   "execution_count": null,
   "metadata": {
    "colab": {
     "base_uri": "https://localhost:8080/"
    },
    "id": "xomwOAwIYhKu",
    "outputId": "d712318c-ccbf-4362-a504-42066b89eb2b"
   },
   "outputs": [],
   "source": [
    "# 45. Create a list of the first `n` powers of 2.\n",
    "n = 5\n",
    "powers_of_two = [2 ** i for i in range(n)]\n",
    "print(f\"45. List of the first {n} powers of 2:\", powers_of_two)"
   ]
  },
  {
   "cell_type": "code",
   "execution_count": null,
   "metadata": {
    "colab": {
     "base_uri": "https://localhost:8080/"
    },
    "id": "xomwOAwIYhKu",
    "outputId": "d712318c-ccbf-4362-a504-42066b89eb2b"
   },
   "outputs": [],
   "source": [
    "# 46. Find the longest string in a list of strings.\n",
    "strings = [\"apple\", \"banana\", \"cherry\", \"date\", \"fig\"]\n",
    "longest_string = max(strings, key=len)\n",
    "print(\"46. Longest string in the list:\", longest_string)"
   ]
  },
  {
   "cell_type": "code",
   "execution_count": null,
   "metadata": {
    "colab": {
     "base_uri": "https://localhost:8080/"
    },
    "id": "xomwOAwIYhKu",
    "outputId": "d712318c-ccbf-4362-a504-42066b89eb2b"
   },
   "outputs": [],
   "source": [
    "# 47. Find the shortest string in a list of strings.\n",
    "shortest_string = min(strings, key=len)\n",
    "print(\"47. Shortest string in the list:\", shortest_string)"
   ]
  },
  {
   "cell_type": "code",
   "execution_count": null,
   "metadata": {
    "colab": {
     "base_uri": "https://localhost:8080/"
    },
    "id": "xomwOAwIYhKu",
    "outputId": "d712318c-ccbf-4362-a504-42066b89eb2b"
   },
   "outputs": [],
   "source": [
    "# 48. Create a list of the first `n` triangular numbers.\n",
    "n = 5\n",
    "triangular_numbers = [(i * (i + 1)) // 2 for i in range(1, n + 1)]\n",
    "print(f\"48. List of the first {n} triangular numbers:\", triangular_numbers)"
   ]
  },
  {
   "cell_type": "code",
   "execution_count": null,
   "metadata": {
    "colab": {
     "base_uri": "https://localhost:8080/"
    },
    "id": "xomwOAwIYhKu",
    "outputId": "d712318c-ccbf-4362-a504-42066b89eb2b"
   },
   "outputs": [],
   "source": [
    "# 49. Check if a list contains another list as a subsequence.\n",
    "def is_subsequence(subsequence, sequence):\n",
    "    i = 0\n",
    "    for elem in sequence:\n",
    "        if elem == subsequence[i]:\n",
    "            i += 1\n",
    "            if i == len(subsequence):\n",
    "                return True\n",
    "    return False\n",
    "\n",
    "subsequence = [3, 4, 5]\n",
    "sequence = [1, 2, 3, 4, 5, 6]\n",
    "is_subseq = is_subsequence(subsequence, sequence)\n",
    "print(\"49. Is subsequence present in sequence?\", is_subseq)"
   ]
  },
  {
   "cell_type": "code",
   "execution_count": null,
   "metadata": {
    "colab": {
     "base_uri": "https://localhost:8080/"
    },
    "id": "xomwOAwIYhKu",
    "outputId": "d712318c-ccbf-4362-a504-42066b89eb2b",
    "scrolled": true
   },
   "outputs": [
    {
     "name": "stdout",
     "output_type": "stream",
     "text": [
      "Merged Set: {1, 2, 3, 4, 5, 6, 7}\n"
     ]
    }
   ],
   "source": [
    "# 50. Swap two elements in a list by their indices.\n",
    "index1, index2 = 2, 4\n",
    "list1[index1], list1[index2] = list1[index2], list1[index1]\n",
    "print(f\"50. List after swapping elements at index {index1} and {index2}:\", list1)"
   ]
  },
  {
   "cell_type": "markdown",
   "metadata": {},
   "source": [
    "## Tuple Based Practice Problem :"
   ]
  },
  {
   "cell_type": "code",
   "execution_count": null,
   "metadata": {},
   "outputs": [],
   "source": [
    "# 1. Create a tuple with integers from 1 to 5.\n",
    "tuple1 = tuple(range(1, 6))\n",
    "print(\"1. Tuple with integers from 1 to 5:\", tuple1)"
   ]
  },
  {
   "cell_type": "code",
   "execution_count": null,
   "metadata": {},
   "outputs": [],
   "source": [
    "# 2. Access the third element of a tuple.\n",
    "third_element = tuple1[2]\n",
    "print(\"2. Third element of the tuple:\", third_element)"
   ]
  },
  {
   "cell_type": "code",
   "execution_count": null,
   "metadata": {},
   "outputs": [],
   "source": [
    "# 3. Find the length of a tuple without using the `len()` function.\n",
    "length = 0\n",
    "for _ in tuple1:\n",
    "    length += 1\n",
    "print(\"3. Length of the tuple:\", length)"
   ]
  },
  {
   "cell_type": "code",
   "execution_count": null,
   "metadata": {},
   "outputs": [],
   "source": [
    "# 4. Count the occurrences of an element in a tuple.\n",
    "element_to_count = 3\n",
    "count = tuple1.count(element_to_count)\n",
    "print(f\"4. Count of {element_to_count} in the tuple:\", count)"
   ]
  },
  {
   "cell_type": "code",
   "execution_count": null,
   "metadata": {},
   "outputs": [],
   "source": [
    "# 5. Find the index of the first occurrence of an element in a tuple.\n",
    "element_to_find = 4\n",
    "index = tuple1.index(element_to_find)\n",
    "print(f\"5. Index of first occurrence of {element_to_find}:\", index)"
   ]
  },
  {
   "cell_type": "code",
   "execution_count": null,
   "metadata": {},
   "outputs": [],
   "source": [
    "# 6. Check if an element exists in a tuple.\n",
    "element_to_check = 5\n",
    "if element_to_check in tuple1:\n",
    "    print(f\"6. Element {element_to_check} exists in the tuple.\")\n",
    "else:\n",
    "    print(f\"6. Element {element_to_check} does not exist in the tuple.\")"
   ]
  },
  {
   "cell_type": "code",
   "execution_count": null,
   "metadata": {},
   "outputs": [],
   "source": [
    "# 7. Convert a tuple to a list.\n",
    "list_from_tuple = list(tuple1)\n",
    "print(\"7. List from the tuple:\", list_from_tuple)"
   ]
  },
  {
   "cell_type": "code",
   "execution_count": null,
   "metadata": {},
   "outputs": [],
   "source": [
    "# 8. Convert a list to a tuple.\n",
    "list2 = [7, 8, 9, 10]\n",
    "tuple_from_list = tuple(list2)\n",
    "print(\"8. Tuple from the list:\", tuple_from_list)"
   ]
  },
  {
   "cell_type": "code",
   "execution_count": null,
   "metadata": {},
   "outputs": [],
   "source": [
    "# 9. Unpack the elements of a tuple into variables.\n",
    "a, b, c, d, e = tuple1\n",
    "print(\"9. Unpacked variables:\", a, b, c, d, e)"
   ]
  },
  {
   "cell_type": "code",
   "execution_count": null,
   "metadata": {},
   "outputs": [],
   "source": [
    "# 10. Create a tuple of even numbers from 1 to 10.\n",
    "even_numbers_tuple = tuple(range(2, 11, 2))\n",
    "print(\"10. Tuple of even numbers:\", even_numbers_tuple)"
   ]
  },
  {
   "cell_type": "code",
   "execution_count": null,
   "metadata": {},
   "outputs": [],
   "source": [
    "# 11. Create a tuple of odd numbers from 1 to 10.\n",
    "odd_numbers_tuple = tuple(range(1, 11, 2))\n",
    "print(\"11. Tuple of odd numbers:\", odd_numbers_tuple)"
   ]
  },
  {
   "cell_type": "code",
   "execution_count": null,
   "metadata": {},
   "outputs": [],
   "source": [
    "# 12. Concatenate two tuples.\n",
    "tuple3 = tuple1 + tuple2\n",
    "print(\"12. Concatenated tuple:\", tuple3)"
   ]
  },
  {
   "cell_type": "code",
   "execution_count": null,
   "metadata": {},
   "outputs": [],
   "source": [
    "# 13. Repeat a tuple three times.\n",
    "repeated_tuple = tuple1 * 3\n",
    "print(\"13. Repeated tuple:\", repeated_tuple)"
   ]
  },
  {
   "cell_type": "code",
   "execution_count": null,
   "metadata": {},
   "outputs": [],
   "source": [
    "# 14. Check if a tuple is empty.\n",
    "empty_tuple = ()\n",
    "is_empty = not bool(empty_tuple)\n",
    "print(\"14. Is the tuple empty?\", is_empty)"
   ]
  },
  {
   "cell_type": "code",
   "execution_count": null,
   "metadata": {},
   "outputs": [],
   "source": [
    "# 15. Create a nested tuple.\n",
    "nested_tuple = ((1, 2), (3, 4), (5, 6))\n",
    "print(\"15. Nested tuple:\", nested_tuple)"
   ]
  },
  {
   "cell_type": "code",
   "execution_count": null,
   "metadata": {},
   "outputs": [],
   "source": [
    "# 16. Access the first element of a nested tuple.\n",
    "first_element = nested_tuple[0]\n",
    "print(\"16. First element of the nested tuple:\", first_element)"
   ]
  },
  {
   "cell_type": "code",
   "execution_count": null,
   "metadata": {},
   "outputs": [],
   "source": [
    "# 17. Create a tuple with a single element.\n",
    "single_element_tuple = (42,)\n",
    "print(\"17. Tuple with a single element:\", single_element_tuple)"
   ]
  },
  {
   "cell_type": "code",
   "execution_count": null,
   "metadata": {},
   "outputs": [],
   "source": [
    "# 18. Compare two tuples.\n",
    "comparison_result = tuple1 == tuple2\n",
    "print(\"18. Are tuple1 and tuple2 equal?\", comparison_result)"
   ]
  },
  {
   "cell_type": "code",
   "execution_count": null,
   "metadata": {},
   "outputs": [],
   "source": [
    "# 19. Delete a tuple.\n",
    "del tuple2\n",
    "print(\"19. Tuple2 is deleted.\")"
   ]
  },
  {
   "cell_type": "code",
   "execution_count": null,
   "metadata": {},
   "outputs": [],
   "source": [
    "# 20. Slice a tuple.\n",
    "sliced_tuple = tuple1[1:4]\n",
    "print(\"20. Sliced tuple:\", sliced_tuple)"
   ]
  },
  {
   "cell_type": "code",
   "execution_count": null,
   "metadata": {},
   "outputs": [],
   "source": [
    "# 21. Find the maximum value in a tuple.\n",
    "max_value = max(tuple1)\n",
    "print(\"21. Maximum value in the tuple:\", max_value)"
   ]
  },
  {
   "cell_type": "code",
   "execution_count": null,
   "metadata": {},
   "outputs": [],
   "source": [
    "# 22. Find the minimum value in a tuple.\n",
    "min_value = min(tuple1)\n",
    "print(\"22. Minimum value in the tuple:\", min_value)"
   ]
  },
  {
   "cell_type": "code",
   "execution_count": null,
   "metadata": {},
   "outputs": [],
   "source": [
    "# 23. Convert a string to a tuple of characters.\n",
    "text = \"Hello, Tuple!\"\n",
    "char_tuple = tuple(text)\n",
    "print(\"23. Tuple of characters from the string:\", char_tuple)"
   ]
  },
  {
   "cell_type": "code",
   "execution_count": null,
   "metadata": {},
   "outputs": [],
   "source": [
    "# 24. Convert a tuple of characters to a string.\n",
    "string_from_tuple = ''.join(char_tuple)\n",
    "print(\"24. String from the tuple of characters:\", string_from_tuple)"
   ]
  },
  {
   "cell_type": "code",
   "execution_count": null,
   "metadata": {},
   "outputs": [],
   "source": [
    "# 25. Create a tuple from multiple data types.\n",
    "mixed_tuple = (1, \"hello\", 3.14, True)\n",
    "print(\"25. Mixed data types tuple:\", mixed_tuple)"
   ]
  },
  {
   "cell_type": "code",
   "execution_count": null,
   "metadata": {},
   "outputs": [],
   "source": [
    "# 26. Check if two tuples are identical.\n",
    "tuple4 = (1, 2, 3, 4, 5)\n",
    "are_identical = tuple1 is tuple4\n",
    "print(\"26. Are tuple1 and tuple4 identical?\", are_identical)"
   ]
  },
  {
   "cell_type": "code",
   "execution_count": null,
   "metadata": {},
   "outputs": [],
   "source": [
    "# 27. Sort the elements of a tuple.\n",
    "sorted_tuple = tuple(sorted(tuple1))\n",
    "print(\"27. Sorted tuple:\", sorted_tuple)"
   ]
  },
  {
   "cell_type": "code",
   "execution_count": null,
   "metadata": {},
   "outputs": [],
   "source": [
    "# 28. Convert a tuple of integers to a tuple of strings.\n",
    "int_tuple = (1, 2, 3, 4, 5)\n",
    "str_tuple = tuple(str(x) for x in int_tuple)\n",
    "print(\"28. Tuple of integers:\", int_tuple)\n",
    "print(\"    Tuple of strings:\", str_tuple)"
   ]
  },
  {
   "cell_type": "code",
   "execution_count": null,
   "metadata": {},
   "outputs": [],
   "source": [
    "# 29. Convert a tuple of strings to a tuple of integers.\n",
    "str_tuple2 = (\"10\", \"20\", \"30\", \"40\", \"50\")\n",
    "int_tuple2 = tuple(int(x) for x in str_tuple2)\n",
    "print(\"29. Tuple of strings:\", str_tuple2)\n",
    "print(\"    Tuple of integers:\", int_tuple2)"
   ]
  },
  {
   "cell_type": "code",
   "execution_count": null,
   "metadata": {},
   "outputs": [],
   "source": [
    "# 30. Merge two tuples.\n",
    "tuple5 = (6, 7, 8, 9, 10)\n",
    "merged_tuple = tuple1 + tuple5\n",
    "print(\"30. Merged tuple of tuple1 and tuple5:\", merged_tuple)"
   ]
  },
  {
   "cell_type": "code",
   "execution_count": null,
   "metadata": {},
   "outputs": [],
   "source": [
    "# 31. Flatten a nested tuple.\n",
    "nested_tuple2 = ((1, 2), (3, 4), (5, 6))\n",
    "flattened_tuple = tuple(item for sublist in nested_tuple2 for item in sublist)\n",
    "print(\"31. Flattened tuple from nested_tuple2:\", flattened_tuple)"
   ]
  },
  {
   "cell_type": "code",
   "execution_count": null,
   "metadata": {},
   "outputs": [],
   "source": [
    "# 32. Create a tuple of the first 5 prime numbers.\n",
    "prime_numbers_tuple = (2, 3, 5, 7, 11)\n",
    "print(\"32. Tuple of the first 5 prime numbers:\", prime_numbers_tuple)"
   ]
  },
  {
   "cell_type": "code",
   "execution_count": null,
   "metadata": {},
   "outputs": [],
   "source": [
    "# 33. Check if a tuple is a palindrome.\n",
    "def is_palindrome(t):\n",
    "    return t == t[::-1]\n",
    "\n",
    "palindrome_tuple = (1, 2, 3, 2, 1)\n",
    "is_palindrome_result = is_palindrome(palindrome_tuple)\n",
    "print(\"33. Is the tuple a palindrome?\", is_palindrome_result)"
   ]
  },
  {
   "cell_type": "code",
   "execution_count": null,
   "metadata": {},
   "outputs": [],
   "source": [
    "# 34. Create a tuple of squares of numbers from 1 to 5.\n",
    "squares_tuple = tuple(x ** 2 for x in range(1, 6))\n",
    "print(\"34. Tuple of squares:\", squares_tuple)"
   ]
  },
  {
   "cell_type": "code",
   "execution_count": null,
   "metadata": {},
   "outputs": [],
   "source": [
    "# 35. Filter out all even numbers from a tuple.\n",
    "filtered_tuple = tuple(x for x in tuple1 if x % 2 != 0)\n",
    "print(\"35. Tuple after filtering out even numbers:\", filtered_tuple)"
   ]
  },
  {
   "cell_type": "code",
   "execution_count": null,
   "metadata": {},
   "outputs": [],
   "source": [
    "# 36. Multiply all elements in a tuple by 2.\n",
    "doubled_tuple = tuple(x * 2 for x in tuple1)\n",
    "print(\"36. Tuple after multiplying all elements by 2:\", doubled_tuple)"
   ]
  },
  {
   "cell_type": "code",
   "execution_count": null,
   "metadata": {},
   "outputs": [],
   "source": [
    "# 37. Create a tuple of random numbers.\n",
    "import random\n",
    "random_numbers_tuple = tuple(random.randint(1, 100) for _ in range(5))\n",
    "print(\"37. Tuple of random numbers:\", random_numbers_tuple)"
   ]
  },
  {
   "cell_type": "code",
   "execution_count": null,
   "metadata": {},
   "outputs": [],
   "source": [
    "# 38. Check if a tuple is sorted.\n",
    "is_sorted = all(tuple1[i] <= tuple1[i+1] for i in range(len(tuple1)-1))\n",
    "print(\"38. Is the tuple sorted?\", is_sorted)"
   ]
  },
  {
   "cell_type": "code",
   "execution_count": null,
   "metadata": {},
   "outputs": [],
   "source": [
    "# 39. Rotate a tuple to the left by `n` positions.\n",
    "n = 2\n",
    "rotated_left_tuple = tuple1[n:] + tuple1[:n]\n",
    "print(f\"39. Tuple rotated left by {n} positions:\", rotated_left_tuple)"
   ]
  },
  {
   "cell_type": "code",
   "execution_count": null,
   "metadata": {},
   "outputs": [],
   "source": [
    "# 40. Rotate a tuple to the right by `n` positions.\n",
    "n = 3\n",
    "rotated_right_tuple = tuple1[-n:] + tuple1[:-n]\n",
    "print(f\"40. Tuple rotated right by {n} positions:\", rotated_right_tuple)"
   ]
  },
  {
   "cell_type": "code",
   "execution_count": null,
   "metadata": {},
   "outputs": [],
   "source": [
    "# 41. Create a tuple of the first 5 Fibonacci numbers.\n",
    "fibonacci_tuple = (0, 1, 1, 2, 3)\n",
    "print(\"41. Tuple of the first 5 Fibonacci numbers:\", fibonacci_tuple)"
   ]
  },
  {
   "cell_type": "code",
   "execution_count": null,
   "metadata": {},
   "outputs": [],
   "source": [
    "# 42. Create a tuple from user input.\n",
    "user_input = input(\"Enter comma-separated values for a tuple: \")\n",
    "user_tuple = tuple(map(int, user_input.split(',')))\n",
    "print(\"42. Tuple from user input:\", user_tuple)"
   ]
  },
  {
   "cell_type": "code",
   "execution_count": null,
   "metadata": {},
   "outputs": [],
   "source": [
    "# 43. Swap two elements in a tuple.\n",
    "tuple6 = (10, 20, 30, 40, 50)\n",
    "index1, index2 = 1, 3\n",
    "tuple_list = list(tuple6)\n",
    "tuple_list[index1], tuple_list[index2] = tuple_list[index2], tuple_list[index1]\n",
    "swapped_tuple = tuple(tuple_list)\n",
    "print(f\"43. Tuple after swapping elements at index {index1} and {index2}:\", swapped_tuple)"
   ]
  },
  {
   "cell_type": "code",
   "execution_count": null,
   "metadata": {},
   "outputs": [],
   "source": [
    "# 44. Reverse the elements of a tuple.\n",
    "reversed_tuple = tuple1[::-1]\n",
    "print(\"44. Reversed tuple:\", reversed_tuple)"
   ]
  },
  {
   "cell_type": "code",
   "execution_count": null,
   "metadata": {},
   "outputs": [],
   "source": [
    "# 45. Create a tuple of the first `n` powers of 2.\n",
    "n = 5\n",
    "powers_of_two_tuple = tuple(2 ** i for i in range(n))\n",
    "print(f\"45. Tuple of the first {n} powers of 2:\", powers_of_two_tuple)"
   ]
  },
  {
   "cell_type": "code",
   "execution_count": null,
   "metadata": {},
   "outputs": [],
   "source": [
    "# 46. Find the longest string in a tuple of strings.\n",
    "strings_tuple = (\"apple\", \"banana\", \"cherry\", \"date\", \"fig\")\n",
    "longest_string_tuple = max(strings_tuple, key=len)\n",
    "print(\"46. Longest string in the tuple:\", longest_string_tuple)"
   ]
  },
  {
   "cell_type": "code",
   "execution_count": null,
   "metadata": {},
   "outputs": [],
   "source": [
    "# 47. Find the shortest string in a tuple of strings.\n",
    "shortest_string_tuple = min(strings_tuple, key=len)\n",
    "print(\"47. Shortest string in the tuple:\", shortest_string_tuple)"
   ]
  },
  {
   "cell_type": "code",
   "execution_count": null,
   "metadata": {},
   "outputs": [],
   "source": [
    "# 48. Create a tuple of the first `n` triangular numbers.\n",
    "n = 5\n",
    "triangular_numbers_tuple = tuple((i * (i + 1)) // 2 for i in range(1, n + 1))\n",
    "print(f\"48. Tuple of the first {n} triangular numbers:\", triangular_numbers_tuple)"
   ]
  },
  {
   "cell_type": "code",
   "execution_count": null,
   "metadata": {},
   "outputs": [],
   "source": [
    "# 49. Check if a tuple contains another tuple as a subsequence.\n",
    "subsequence_tuple = (3, 4, 5)\n",
    "sequence_tuple = (1, 2, 3, 4, 5, 6)\n",
    "is_subseq_tuple = all(x in sequence_tuple for x in subsequence_tuple)\n",
    "print(\"49. Does sequence_tuple contain subsequence_tuple?\", is_subseq_tuple)"
   ]
  },
  {
   "cell_type": "code",
   "execution_count": null,
   "metadata": {},
   "outputs": [],
   "source": [
    "# 50. Create a tuple of alternating 1s and 0s of length `n`.\n",
    "n = 6\n",
    "alternating_tuple = tuple(1 - i % 2 for i in range(n))\n",
    "print(f\"50. Tuple of alternating 1s and 0s of length {n}:\", alternating_tuple)"
   ]
  },
  {
   "cell_type": "markdown",
   "metadata": {},
   "source": [
    "## Set Based Practice Problem :"
   ]
  },
  {
   "cell_type": "code",
   "execution_count": null,
   "metadata": {},
   "outputs": [],
   "source": [
    "# 1. Create a set with integers from 1 to 5.\n",
    "set1 = {1, 2, 3, 4, 5}\n",
    "print(\"1. Set with integers from 1 to 5:\", set1)"
   ]
  },
  {
   "cell_type": "code",
   "execution_count": null,
   "metadata": {},
   "outputs": [],
   "source": [
    "# 2. Add an element to a set.\n",
    "set1.add(6)\n",
    "print(\"2. Set after adding element 6:\", set1)"
   ]
  },
  {
   "cell_type": "code",
   "execution_count": null,
   "metadata": {},
   "outputs": [],
   "source": [
    "# 3. Remove an element from a set.\n",
    "set1.remove(3)\n",
    "print(\"3. Set after removing element 3:\", set1)"
   ]
  },
  {
   "cell_type": "code",
   "execution_count": null,
   "metadata": {},
   "outputs": [],
   "source": [
    "# 4. Check if an element exists in a set.\n",
    "element_to_check = 4\n",
    "if element_to_check in set1:\n",
    "    print(f\"4. Element {element_to_check} exists in the set.\")\n",
    "else:\n",
    "    print(f\"4. Element {element_to_check} does not exist in the set.\")"
   ]
  },
  {
   "cell_type": "code",
   "execution_count": null,
   "metadata": {},
   "outputs": [],
   "source": [
    "# 5. Find the length of a set without using the `len()` function.\n",
    "length = 0\n",
    "for _ in set1:\n",
    "    length += 1\n",
    "print(\"5. Length of the set:\", length)"
   ]
  },
  {
   "cell_type": "code",
   "execution_count": null,
   "metadata": {},
   "outputs": [],
   "source": [
    "# 6. Clear all elements from a set.\n",
    "set1.clear()\n",
    "print(\"6. Set after clearing all elements:\", set1)"
   ]
  },
  {
   "cell_type": "code",
   "execution_count": null,
   "metadata": {},
   "outputs": [],
   "source": [
    "# 7. Create a set of even numbers from 1 to 10.\n",
    "even_numbers_set = set(range(2, 11, 2))\n",
    "print(\"7. Set of even numbers:\", even_numbers_set)"
   ]
  },
  {
   "cell_type": "code",
   "execution_count": null,
   "metadata": {},
   "outputs": [],
   "source": [
    "# 8. Create a set of odd numbers from 1 to 10.\n",
    "odd_numbers_set = set(range(1, 11, 2))\n",
    "print(\"8. Set of odd numbers:\", odd_numbers_set)"
   ]
  },
  {
   "cell_type": "code",
   "execution_count": null,
   "metadata": {},
   "outputs": [],
   "source": [
    "# 9. Find the union of two sets.\n",
    "set2 = {4, 5, 6, 7, 8}\n",
    "union_set = set1.union(set2)\n",
    "print(\"9. Union of set1 and set2:\", union_set)"
   ]
  },
  {
   "cell_type": "code",
   "execution_count": null,
   "metadata": {},
   "outputs": [],
   "source": [
    "# 10. Find the intersection of two sets.\n",
    "intersection_set = set1.intersection(set2)\n",
    "print(\"10. Intersection of set1 and set2:\", intersection_set)"
   ]
  },
  {
   "cell_type": "code",
   "execution_count": null,
   "metadata": {},
   "outputs": [],
   "source": [
    "# 11. Find the difference between two sets.\n",
    "difference_set = set1.difference(set2)\n",
    "print(\"11. Difference between set1 and set2:\", difference_set)"
   ]
  },
  {
   "cell_type": "code",
   "execution_count": null,
   "metadata": {},
   "outputs": [],
   "source": [
    "# 12. Check if a set is a subset of another set.\n",
    "is_subset = set1.issubset(set2)\n",
    "print(\"12. Is set1 a subset of set2?\", is_subset)"
   ]
  },
  {
   "cell_type": "code",
   "execution_count": null,
   "metadata": {},
   "outputs": [],
   "source": [
    "# 13. Check if a set is a superset of another set.\n",
    "is_superset = set1.issuperset(set2)\n",
    "print(\"13. Is set1 a superset of set2?\", is_superset)"
   ]
  },
  {
   "cell_type": "code",
   "execution_count": null,
   "metadata": {},
   "outputs": [],
   "source": [
    "# 14. Create a set from a list.\n",
    "list_to_set = set([1, 2, 3, 4, 5])\n",
    "print(\"14. Set from a list:\", list_to_set)"
   ]
  },
  {
   "cell_type": "code",
   "execution_count": null,
   "metadata": {},
   "outputs": [],
   "source": [
    "# 15. Convert a set to a list.\n",
    "set_to_list = list(set1)\n",
    "print(\"15. List from a set:\", set_to_list)"
   ]
  },
  {
   "cell_type": "code",
   "execution_count": null,
   "metadata": {},
   "outputs": [],
   "source": [
    "# 16. Remove a random element from a set.\n",
    "import random\n",
    "random_element = random.choice(list(set1))\n",
    "set1.remove(random_element)\n",
    "print(\"16. Set after removing a random element:\", set1)"
   ]
  },
  {
   "cell_type": "code",
   "execution_count": null,
   "metadata": {},
   "outputs": [],
   "source": [
    "# 17. Pop an element from a set.\n",
    "popped_element = set1.pop()\n",
    "print(\"17. Popped element from the set:\", popped_element)"
   ]
  },
  {
   "cell_type": "code",
   "execution_count": null,
   "metadata": {},
   "outputs": [],
   "source": [
    "# 18. Check if two sets have no elements in common.\n",
    "are_disjoint = set1.isdisjoint(set2)\n",
    "print(\"18. Are set1 and set2 disjoint?\", are_disjoint)"
   ]
  },
  {
   "cell_type": "code",
   "execution_count": null,
   "metadata": {},
   "outputs": [],
   "source": [
    "# 19. Find the symmetric difference between two sets.\n",
    "symmetric_difference_set = set1.symmetric_difference(set2)\n",
    "print(\"19. Symmetric difference between set1 and set2:\", symmetric_difference_set)"
   ]
  },
  {
   "cell_type": "code",
   "execution_count": null,
   "metadata": {},
   "outputs": [],
   "source": [
    "# 20. Update a set with elements from another set.\n",
    "set1.update(set2)\n",
    "print(\"20. Set1 updated with elements from set2:\", set1)"
   ]
  },
  {
   "cell_type": "code",
   "execution_count": null,
   "metadata": {},
   "outputs": [],
   "source": [
    "# 21. Create a set of the first 5 prime numbers.\n",
    "prime_numbers_set = {2, 3, 5, 7, 11}\n",
    "print(\"21. Set of the first 5 prime numbers:\", prime_numbers_set)"
   ]
  },
  {
   "cell_type": "code",
   "execution_count": null,
   "metadata": {},
   "outputs": [],
   "source": [
    "# 22. Check if two sets are identical.\n",
    "are_identical = set1 == set2\n",
    "print(\"22. Are set1 and set2 identical?\", are_identical)"
   ]
  },
  {
   "cell_type": "code",
   "execution_count": null,
   "metadata": {},
   "outputs": [],
   "source": [
    "# 23. Create a frozen set.\n",
    "frozen_set = frozenset([1, 2, 3, 4, 5])\n",
    "print(\"23. Frozen set:\", frozen_set)"
   ]
  },
  {
   "cell_type": "code",
   "execution_count": null,
   "metadata": {},
   "outputs": [],
   "source": [
    "# 24. Check if a set is disjoint with another set.\n",
    "is_disjoint = set1.isdisjoint(even_numbers_set)\n",
    "print(\"24. Is set1 disjoint with even_numbers_set?\", is_disjoint)"
   ]
  },
  {
   "cell_type": "code",
   "execution_count": null,
   "metadata": {},
   "outputs": [],
   "source": [
    "# 25. Create a set of squares of numbers from 1 to 5.\n",
    "squares_set = {x ** 2 for x in range(1, 6)}\n",
    "print(\"25. Set of squares:\", squares_set)"
   ]
  },
  {
   "cell_type": "code",
   "execution_count": null,
   "metadata": {},
   "outputs": [],
   "source": [
    "# 26. Filter out all even numbers from a set.\n",
    "filtered_set = {x for x in set1 if x % 2 != 0}\n",
    "print(\"26. Set after filtering out even numbers:\", filtered_set)"
   ]
  },
  {
   "cell_type": "code",
   "execution_count": null,
   "metadata": {},
   "outputs": [],
   "source": [
    "# 27. Multiply all elements in a set by 2.\n",
    "multiplied_set = {x * 2 for x in set1}\n",
    "print(\"27. Set after multiplying all elements by 2:\", multiplied_set)"
   ]
  },
  {
   "cell_type": "code",
   "execution_count": null,
   "metadata": {},
   "outputs": [],
   "source": [
    "# 28. Create a set of random numbers.\n",
    "random_set = set(random.randint(1, 100) for _ in range(5))\n",
    "print(\"28. Set of random numbers:\", random_set)"
   ]
  },
  {
   "cell_type": "code",
   "execution_count": null,
   "metadata": {},
   "outputs": [],
   "source": [
    "# 29. Check if a set is empty.\n",
    "is_empty = not bool(set1)\n",
    "print(\"29. Is set1 empty?\", is_empty)"
   ]
  },
  {
   "cell_type": "code",
   "execution_count": null,
   "metadata": {},
   "outputs": [],
   "source": [
    "# 30. Create a nested set (hint: use frozenset).\n",
    "nested_set = {frozenset({1, 2}), frozenset({3, 4, 5})}\n",
    "print(\"30. Nested set:\", nested_set)"
   ]
  },
  {
   "cell_type": "code",
   "execution_count": null,
   "metadata": {},
   "outputs": [],
   "source": [
    "# 31. Remove an element from a set using the discard method.\n",
    "element_to_remove = 5\n",
    "set1.discard(element_to_remove)\n",
    "print(\"31. Set after removing element 5 using discard:\", set1)"
   ]
  },
  {
   "cell_type": "code",
   "execution_count": null,
   "metadata": {},
   "outputs": [],
   "source": [
    "# 32. Compare two sets.\n",
    "comparison_result = set1 == even_numbers_set\n",
    "print(\"32. Are set1 and even_numbers_set equal?\", comparison_result)"
   ]
  },
  {
   "cell_type": "code",
   "execution_count": null,
   "metadata": {},
   "outputs": [],
   "source": [
    "# 33. Create a set from a string.\n",
    "string_to_set = set(\"python\")\n",
    "print(\"33. Set from a string:\", string_to_set)"
   ]
  },
  {
   "cell_type": "code",
   "execution_count": null,
   "metadata": {},
   "outputs": [],
   "source": [
    "# 34. Convert a set of strings to a set of integers.\n",
    "set_of_strings = {\"1\", \"2\", \"3\", \"4\", \"5\"}\n",
    "set_of_integers = {int(x) for x in set_of_strings}\n",
    "print(\"34. Set of strings:\", set_of_strings)\n",
    "print(\"    Set of integers:\", set_of_integers)"
   ]
  },
  {
   "cell_type": "code",
   "execution_count": null,
   "metadata": {},
   "outputs": [],
   "source": [
    "# 35. Convert a set of integers to a set of strings.\n",
    "set_of_integers2 = {1, 2, 3, 4, 5}\n",
    "set_of_strings2 = {str(x) for x in set_of_integers2}\n",
    "print(\"35. Set of integers:\", set_of_integers2)\n",
    "print(\"    Set of strings:\", set_of_strings2)"
   ]
  },
  {
   "cell_type": "code",
   "execution_count": null,
   "metadata": {},
   "outputs": [],
   "source": [
    "# 36. Create a set from a tuple.\n",
    "tuple_to_set = set((1, 2, 3, 4, 5))\n",
    "print(\"36. Set from a tuple:\", tuple_to_set)"
   ]
  },
  {
   "cell_type": "code",
   "execution_count": null,
   "metadata": {},
   "outputs": [],
   "source": [
    "# 37. Convert a set to a tuple.\n",
    "set_to_tuple = tuple(set1)\n",
    "print(\"37. Tuple from a set:\", set_to_tuple)"
   ]
  },
  {
   "cell_type": "code",
   "execution_count": null,
   "metadata": {},
   "outputs": [],
   "source": [
    "# 38. Find the maximum value in a set.\n",
    "max_value_set = max(set1)\n",
    "print(\"38. Maximum value in the set:\", max_value_set)"
   ]
  },
  {
   "cell_type": "code",
   "execution_count": null,
   "metadata": {},
   "outputs": [],
   "source": [
    "# 39. Find the minimum value in a set.\n",
    "min_value_set = min(set1)\n",
    "print(\"39. Minimum value in the set:\", min_value_set)"
   ]
  },
  {
   "cell_type": "code",
   "execution_count": null,
   "metadata": {},
   "outputs": [],
   "source": [
    "# 40. Create a set from user input.\n",
    "user_input = input(\"Enter elements separated by spaces: \")\n",
    "user_input_set = set(map(int, user_input.split()))\n",
    "print(\"40. Set from user input:\", user_input_set)"
   ]
  },
  {
   "cell_type": "code",
   "execution_count": null,
   "metadata": {},
   "outputs": [],
   "source": [
    "# 41. Check if the intersection of two sets is empty.\n",
    "is_intersection_empty = len(set1.intersection(set2)) == 0\n",
    "print(\"41. Is the intersection of set1 and set2 empty?\", is_intersection_empty)"
   ]
  },
  {
   "cell_type": "code",
   "execution_count": null,
   "metadata": {},
   "outputs": [],
   "source": [
    "# 42. Create a set of the first 5 Fibonacci numbers.\n",
    "fibonacci_set = {0, 1, 1, 2, 3}\n",
    "print(\"42. Set of the first 5 Fibonacci numbers:\", fibonacci_set)"
   ]
  },
  {
   "cell_type": "code",
   "execution_count": null,
   "metadata": {},
   "outputs": [],
   "source": [
    "# 43. Remove duplicates from a list using sets.\n",
    "list_with_duplicates = [1, 2, 2, 3, 4, 4, 5]\n",
    "list_without_duplicates = list(set(list_with_duplicates))\n",
    "print(\"43. List with duplicates:\", list_with_duplicates)\n",
    "print(\"    List without duplicates:\", list_without_duplicates)"
   ]
  },
  {
   "cell_type": "code",
   "execution_count": null,
   "metadata": {},
   "outputs": [],
   "source": [
    "# 44. Check if two sets have the same elements, regardless of their count.\n",
    "are_elements_same = set1 == set(list_with_duplicates)\n",
    "print(\"44. Do set1 and list_with_duplicates have the same elements?\", are_elements_same)"
   ]
  },
  {
   "cell_type": "code",
   "execution_count": null,
   "metadata": {},
   "outputs": [],
   "source": [
    "# 45. Create a set of the first `n` powers of 2.\n",
    "n = 5\n",
    "powers_of_two_set = {2 ** i for i in range(n)}\n",
    "print(f\"45. Set of the first {n} powers of 2:\", powers_of_two_set)"
   ]
  },
  {
   "cell_type": "code",
   "execution_count": null,
   "metadata": {},
   "outputs": [],
   "source": [
    "# 46. Find the common elements between a set and a list.\n",
    "common_elements_set_list = set1.intersection(set(list_with_duplicates))\n",
    "print(\"46. Common elements between set1 and list_with_duplicates:\", common_elements_set_list)"
   ]
  },
  {
   "cell_type": "code",
   "execution_count": null,
   "metadata": {},
   "outputs": [],
   "source": [
    "# 47. Create a set of the first `n` triangular numbers.\n",
    "n = 5\n",
    "triangular_numbers_set = {(i * (i + 1)) // 2 for i in range(1, n + 1)}\n",
    "print(f\"47. Set of the first {n} triangular numbers:\", triangular_numbers_set)"
   ]
  },
  {
   "cell_type": "code",
   "execution_count": null,
   "metadata": {},
   "outputs": [],
   "source": [
    "# 48. Check if a set contains another set as a subset.\n",
    "is_subset_check = set1.issuperset(even_numbers_set)\n",
    "print(\"48. Is set1 a superset of even_numbers_set?\", is_subset_check)"
   ]
  },
  {
   "cell_type": "code",
   "execution_count": null,
   "metadata": {},
   "outputs": [],
   "source": [
    "# 49. Create a set of alternating 1s and 0s of length `n`.\n",
    "n = 6\n",
    "alternating_set = {1 - i % 2 for i in range(n)}\n",
    "print(f\"49. Set of alternating 1s and 0s of length {n}:\", alternating_set)"
   ]
  },
  {
   "cell_type": "code",
   "execution_count": null,
   "metadata": {},
   "outputs": [],
   "source": [
    "# 50. Merge multiple sets into one.\n",
    "set3 = {7, 8, 9, 10}\n",
    "merged_set = set1.union(set2, set3)\n",
    "print(\"50. Merged set of set1, set2, and set3:\", merged_set)"
   ]
  }
 ],
 "metadata": {
  "colab": {
   "provenance": []
  },
  "kernelspec": {
   "display_name": "Python 3 (ipykernel)",
   "language": "python",
   "name": "python3"
  },
  "language_info": {
   "codemirror_mode": {
    "name": "ipython",
    "version": 3
   },
   "file_extension": ".py",
   "mimetype": "text/x-python",
   "name": "python",
   "nbconvert_exporter": "python",
   "pygments_lexer": "ipython3",
   "version": "3.11.1"
  },
  "vscode": {
   "interpreter": {
    "hash": "ff4b1fca65a764b45acb559e482afe389d289dd599b9f8c5fd12ff5c2ea46a65"
   }
  }
 },
 "nbformat": 4,
 "nbformat_minor": 1
}
