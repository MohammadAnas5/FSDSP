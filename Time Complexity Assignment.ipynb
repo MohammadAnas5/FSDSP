{
 "cells": [
  {
   "cell_type": "markdown",
   "id": "581ceea1-c03a-4f72-8557-06392e4794ec",
   "metadata": {},
   "source": [
    "Time complexities:\n",
    "Problem 1:(O(n log n))\n",
    "Problem 2:(O(n.m))\n",
    "Problem 3:(O(n))\n",
    "Problem 4:(O(n^2))\n",
    "Problem 5:(O(n^2))\n",
    "\n",
    "Solutions to recursive problems:"
   ]
  },
  {
   "cell_type": "code",
   "execution_count": null,
   "id": "895fed09-9f46-4faf-b245-6364b2e6a9be",
   "metadata": {},
   "outputs": [],
   "source": [
    "# Problem 6:\n",
    "\n",
    "def sum_of_digits(n):\n",
    "    if n == 0:\n",
    "        return 0\n",
    "    return n % 10 + sum_of_digits(n // 10)"
   ]
  },
  {
   "cell_type": "code",
   "execution_count": 21,
   "id": "1d104bf6-98a2-41d1-a22d-14185d2d638c",
   "metadata": {},
   "outputs": [],
   "source": [
    "# Problem 7: \n",
    "\n",
    "def fibonacci_series(n):\n",
    "    if n <= 0:\n",
    "        return []\n",
    "    if n == 1:\n",
    "        return [0]\n",
    "    if n == 2:\n",
    "        return [0, 1]\n",
    "    fib = fibonacci_series(n - 1)\n",
    "    fib.append(fib[-1] + fib[-2])\n",
    "    return fib"
   ]
  },
  {
   "cell_type": "code",
   "execution_count": 25,
   "id": "46385afb-8b14-4e8e-869a-9865f0441aae",
   "metadata": {},
   "outputs": [],
   "source": [
    "# Problem 8: \n",
    "\n",
    "def subset_sum(nums, target):\n",
    "    if target == 0:\n",
    "        return True\n",
    "    if not nums:\n",
    "        return False\n",
    "    if nums[-1] > target:\n",
    "        return subset_sum(nums[:-1], target)\n",
    "    return subset_sum(nums[:-1], target) or subset_sum(nums[:-1], target - nums[-1])"
   ]
  },
  {
   "cell_type": "code",
   "execution_count": null,
   "id": "3b7fd1ec-61ee-447a-b84e-ad253de9b3e6",
   "metadata": {},
   "outputs": [],
   "source": [
    "# Problem 9: \n",
    "\n",
    "def word_break(s, word_dict):\n",
    "    if not s:\n",
    "        return True\n",
    "    for word in word_dict:\n",
    "        if s.startswith(word) and word_break(s[len(word):], word_dict):\n",
    "            return True\n",
    "    return False"
   ]
  },
  {
   "cell_type": "code",
   "execution_count": 24,
   "id": "5ac47ce4-3242-49b7-ac3a-82905aab68cd",
   "metadata": {},
   "outputs": [],
   "source": [
    " # Problem 10: \n",
    "\n",
    "def is_safe(board, row, col, n):\n",
    "    for i in range(col):\n",
    "        if board[row][i] == \"Q\":\n",
    "            return False\n",
    "    for i, j in zip(range(row, -1, -1), range(col, -1, -1)):\n",
    "        if board[i][j] == \"Q\":\n",
    "            return False\n",
    "    for i, j in zip(range(row, n, 1), range(col, -1, -1)):\n",
    "        if board[i][j] == \"Q\":\n",
    "            return False\n",
    "    return True\n",
    "\n",
    "def solve_n_queens(n):\n",
    "    board = [[\".\"] * n for _ in range(n)]\n",
    "    res = []\n",
    "\n",
    "    def backtrack(board, col):\n",
    "        if col == n:\n",
    "            res.append([\"\".join(row) for row in board])\n",
    "            return\n",
    "        for i in range(n):\n",
    "            if is_safe(board, i, col, n):\n",
    "                board[i][col] = \"Q\"\n",
    "                backtrack(board, col + 1)\n",
    "                board[i][col] = \".\"\n",
    "\n",
    "    backtrack(board, 0)\n",
    "    return res"
   ]
  },
  {
   "cell_type": "code",
   "execution_count": null,
   "id": "c1020425-bc8c-4eb4-9dcf-f9f2af0d2788",
   "metadata": {},
   "outputs": [],
   "source": []
  }
 ],
 "metadata": {
  "kernelspec": {
   "display_name": "Python 3 (ipykernel)",
   "language": "python",
   "name": "python3"
  },
  "language_info": {
   "codemirror_mode": {
    "name": "ipython",
    "version": 3
   },
   "file_extension": ".py",
   "mimetype": "text/x-python",
   "name": "python",
   "nbconvert_exporter": "python",
   "pygments_lexer": "ipython3",
   "version": "3.12.3"
  }
 },
 "nbformat": 4,
 "nbformat_minor": 5
}
