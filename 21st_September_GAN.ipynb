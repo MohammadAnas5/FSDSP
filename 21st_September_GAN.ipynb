{
  "nbformat": 4,
  "nbformat_minor": 0,
  "metadata": {
    "colab": {
      "provenance": []
    },
    "kernelspec": {
      "name": "python3",
      "display_name": "Python 3"
    },
    "language_info": {
      "name": "python"
    }
  },
  "cells": [
    {
      "cell_type": "code",
      "execution_count": 1,
      "metadata": {
        "colab": {
          "base_uri": "https://localhost:8080/"
        },
        "id": "ZLoEZiqAi3wl",
        "outputId": "f5d4332e-8da7-47f3-f9b4-1d5cb71c84bb"
      },
      "outputs": [
        {
          "output_type": "stream",
          "name": "stdout",
          "text": [
            "True\n"
          ]
        }
      ],
      "source": [
        "# Problem 1\n",
        "def contains_duplicates(arr):\n",
        "    seen = set()\n",
        "    for num in arr:\n",
        "        if num in seen:\n",
        "            return True\n",
        "        seen.add(num)\n",
        "    return False\n",
        "\n",
        "arr1 = [1, 2, 4, 2, 5, 9]\n",
        "print(contains_duplicates(arr1))\n"
      ]
    },
    {
      "cell_type": "code",
      "source": [
        "# Problem 2\n",
        "def rotate_array(arr, k):\n",
        "    n = len(arr)\n",
        "    k %= n\n",
        "    arr[:] = arr[-k:] + arr[:-k]\n",
        "\n",
        "arr2 = [1, 2, 3, 4, 5, 6, 7]\n",
        "rotate_array(arr2, 3)\n",
        "print(arr2)"
      ],
      "metadata": {
        "colab": {
          "base_uri": "https://localhost:8080/"
        },
        "id": "m70YOIwJj3e-",
        "outputId": "dddb3f87-0faa-444a-dd67-fe6b4d686a97"
      },
      "execution_count": 2,
      "outputs": [
        {
          "output_type": "stream",
          "name": "stdout",
          "text": [
            "[5, 6, 7, 1, 2, 3, 4]\n"
          ]
        }
      ]
    },
    {
      "cell_type": "code",
      "source": [
        "# Problem 3\n",
        "def reverse_array_in_place(arr):\n",
        "    start, end = 0, len(arr) - 1\n",
        "    while start < end:\n",
        "        arr[start], arr[end] = arr[end], arr[start]\n",
        "        start += 1\n",
        "        end -= 1\n",
        "\n",
        "arr3 = [2, 4, 5, 7, 9, 12]\n",
        "reverse_array_in_place(arr3)\n",
        "print(arr3)"
      ],
      "metadata": {
        "colab": {
          "base_uri": "https://localhost:8080/"
        },
        "id": "lXpO_y9bkArU",
        "outputId": "2f8469ed-ac45-4b84-851d-250ada9dcc75"
      },
      "execution_count": 3,
      "outputs": [
        {
          "output_type": "stream",
          "name": "stdout",
          "text": [
            "[12, 9, 7, 5, 4, 2]\n"
          ]
        }
      ]
    },
    {
      "cell_type": "code",
      "source": [
        "# Problem 4\n",
        "def find_max_element(arr):\n",
        "    return max(arr)\n",
        "\n",
        "arr4 = [10, 5, 20, 8, 15]\n",
        "print(find_max_element(arr4))"
      ],
      "metadata": {
        "colab": {
          "base_uri": "https://localhost:8080/"
        },
        "id": "GMLuu7aUkHNy",
        "outputId": "7f4ae835-4d8f-4af8-c477-a6a6e9d83d9f"
      },
      "execution_count": 4,
      "outputs": [
        {
          "output_type": "stream",
          "name": "stdout",
          "text": [
            "20\n"
          ]
        }
      ]
    },
    {
      "cell_type": "code",
      "source": [
        "# Problem 5\n",
        "def remove_duplicates_sorted(arr):\n",
        "    if not arr:\n",
        "        return []\n",
        "    write_index = 1\n",
        "    for read_index in range(1, len(arr)):\n",
        "        if arr[read_index] != arr[read_index - 1]:\n",
        "            arr[write_index] = arr[read_index]\n",
        "            write_index += 1\n",
        "    return arr[:write_index]\n",
        "\n",
        "arr5 = [1, 1, 2, 2, 2, 3, 3, 4, 4, 4, 5, 5]\n",
        "print(remove_duplicates_sorted(arr5))"
      ],
      "metadata": {
        "id": "3WW16S-7kL8Q"
      },
      "execution_count": null,
      "outputs": []
    }
  ]
}