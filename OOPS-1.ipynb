{
 "cells": [
  {
   "cell_type": "markdown",
   "id": "8a62e71d-4a71-426f-92d4-7ebc2fc29442",
   "metadata": {},
   "source": [
    "### Problem 1: Bank Account"
   ]
  },
  {
   "cell_type": "code",
   "execution_count": 1,
   "id": "cf9b2727-587b-493b-95d6-090d7113e10e",
   "metadata": {},
   "outputs": [],
   "source": [
    "class BankAccount:\n",
    "    def __init__(self, account_number, account_holder, balance):\n",
    "        self.account_number = account_number\n",
    "        self.account_holder = account_holder\n",
    "        self.balance = balance\n",
    "\n",
    "    def deposit(self, amount):\n",
    "        self.balance += amount\n",
    "\n",
    "    def withdraw(self, amount):\n",
    "        if amount <= self.balance:\n",
    "            self.balance -= amount\n",
    "        else:\n",
    "            print(\"Insufficient funds\")\n",
    "\n",
    "# Usage example:\n",
    "account1 = BankAccount(12345, \"John Doe\", 1000)\n",
    "account1.deposit(500)\n",
    "account1.withdraw(200)"
   ]
  },
  {
   "cell_type": "markdown",
   "id": "69427a8a-5d5d-4945-af8d-60139ec682df",
   "metadata": {},
   "source": [
    "### Problem 2: Employee Management"
   ]
  },
  {
   "cell_type": "code",
   "execution_count": 2,
   "id": "6307e8d0-e00e-4194-851e-3ced82d20b9b",
   "metadata": {},
   "outputs": [
    {
     "name": "stdout",
     "output_type": "stream",
     "text": [
      "Employee ID: 101, Name: Alice, Salary: $50000\n",
      "Yearly Bonus: $5000.0\n"
     ]
    }
   ],
   "source": [
    "class Employee:\n",
    "    def __init__(self, emp_id, name, salary):\n",
    "        self.emp_id = emp_id\n",
    "        self.name = name\n",
    "        self.salary = salary\n",
    "\n",
    "    def calculate_bonus(self, bonus_percentage):\n",
    "        return (bonus_percentage / 100) * self.salary\n",
    "\n",
    "    def display_details(self):\n",
    "        return f\"Employee ID: {self.emp_id}, Name: {self.name}, Salary: ${self.salary}\"\n",
    "\n",
    "# Usage example:\n",
    "employee1 = Employee(101, \"Alice\", 50000)\n",
    "bonus = employee1.calculate_bonus(10)\n",
    "print(employee1.display_details())\n",
    "print(f\"Yearly Bonus: ${bonus}\")"
   ]
  },
  {
   "cell_type": "markdown",
   "id": "a4032c25-cc38-4404-9231-c72acce01f21",
   "metadata": {},
   "source": [
    "### Problem 3: Vehicle Rental"
   ]
  },
  {
   "cell_type": "code",
   "execution_count": 3,
   "id": "2a90cf99-f6a2-43a2-827f-5d09ba3b0dde",
   "metadata": {},
   "outputs": [
    {
     "name": "stdout",
     "output_type": "stream",
     "text": [
      "Available Vehicles: {'Bike'}\n",
      "Available Vehicles: {'Car', 'Bike'}\n"
     ]
    }
   ],
   "source": [
    "class VehicleRental:\n",
    "    def __init__(self):\n",
    "        self.available_vehicles = set()\n",
    "        self.rented_vehicles = set()\n",
    "\n",
    "    def rent_vehicle(self, vehicle):\n",
    "        if vehicle in self.available_vehicles:\n",
    "            self.available_vehicles.remove(vehicle)\n",
    "            self.rented_vehicles.add(vehicle)\n",
    "        else:\n",
    "            print(\"Vehicle not available for rent\")\n",
    "\n",
    "    def return_vehicle(self, vehicle):\n",
    "        if vehicle in self.rented_vehicles:\n",
    "            self.rented_vehicles.remove(vehicle)\n",
    "            self.available_vehicles.add(vehicle)\n",
    "        else:\n",
    "            print(\"Invalid return\")\n",
    "\n",
    "    def display_available_vehicles(self):\n",
    "        return self.available_vehicles\n",
    "\n",
    "# Usage example:\n",
    "vehicle1 = \"Car\"\n",
    "vehicle2 = \"Bike\"\n",
    "rental = VehicleRental()\n",
    "rental.available_vehicles.add(vehicle1)\n",
    "rental.available_vehicles.add(vehicle2)\n",
    "rental.rent_vehicle(vehicle1)\n",
    "print(\"Available Vehicles:\", rental.display_available_vehicles())\n",
    "rental.return_vehicle(vehicle1)\n",
    "print(\"Available Vehicles:\", rental.display_available_vehicles()) "
   ]
  },
  {
   "cell_type": "markdown",
   "id": "b93e6573-6f35-48a7-b360-8b70d42243da",
   "metadata": {},
   "source": [
    "### Problem 4: Library Catalog"
   ]
  },
  {
   "cell_type": "code",
   "execution_count": 4,
   "id": "33238b78-b057-4f85-8228-2895a5962af3",
   "metadata": {},
   "outputs": [
    {
     "name": "stdout",
     "output_type": "stream",
     "text": [
      "Book 'Python Programming' borrowed successfully.\n",
      "['Data Science Fundamentals']\n"
     ]
    }
   ],
   "source": [
    "class Book:\n",
    "    def __init__(self, title, author):\n",
    "        self.title = title\n",
    "        self.author = author\n",
    "        self.borrowed = False\n",
    "\n",
    "class Library:\n",
    "    def __init__(self):\n",
    "        self.books = []\n",
    "\n",
    "    def add_book(self, book):\n",
    "        self.books.append(book)\n",
    "\n",
    "    def borrow_book(self, title):\n",
    "        for book in self.books:\n",
    "            if book.title == title and not book.borrowed:\n",
    "                book.borrowed = True\n",
    "                return f\"Book '{book.title}' borrowed successfully.\"\n",
    "        return f\"Book '{title}' is not available for borrowing.\"\n",
    "\n",
    "    def display_available_books(self):\n",
    "        return [book.title for book in self.books if not book.borrowed]\n",
    "\n",
    "# Usage example:\n",
    "book1 = Book(\"Python Programming\", \"John Smith\")\n",
    "book2 = Book(\"Data Science Fundamentals\", \"Alice Johnson\")\n",
    "library = Library()\n",
    "library.add_book(book1)\n",
    "library.add_book(book2)\n",
    "print(library.borrow_book(\"Python Programming\"))\n",
    "print(library.display_available_books())"
   ]
  },
  {
   "cell_type": "markdown",
   "id": "4f0ee825-26d0-4f8f-857f-18a3378ce15c",
   "metadata": {},
   "source": [
    "### Problem 5: Product Inventory"
   ]
  },
  {
   "cell_type": "code",
   "execution_count": 5,
   "id": "7041c953-6ec6-43ab-9f6c-651d20fce555",
   "metadata": {},
   "outputs": [
    {
     "name": "stdout",
     "output_type": "stream",
     "text": [
      "['Laptop', 'Phone']\n"
     ]
    }
   ],
   "source": [
    "class Product:\n",
    "    def __init__(self, product_id, name, price, quantity):\n",
    "        self.product_id = product_id\n",
    "        self.name = name\n",
    "        self.price = price\n",
    "        self.quantity = quantity\n",
    "\n",
    "class Inventory:\n",
    "    def __init__(self):\n",
    "        self.products = []\n",
    "\n",
    "    def add_product(self, product):\n",
    "        self.products.append(product)\n",
    "\n",
    "    def update_quantity(self, product_id, new_quantity):\n",
    "        for product in self.products:\n",
    "            if product.product_id == product_id:\n",
    "                product.quantity = new_quantity\n",
    "\n",
    "    def display_available_products(self):\n",
    "        return [product.name for product in self.products if product.quantity > 0]\n",
    "\n",
    "# Usage example:\n",
    "product1 = Product(101, \"Laptop\", 800, 10)\n",
    "product2 = Product(102, \"Phone\", 400, 5)\n",
    "inventory = Inventory()\n",
    "inventory.add_product(product1)\n",
    "inventory.add_product(product2)\n",
    "inventory.update_quantity(101, 8)\n",
    "print(inventory.display_available_products())\n"
   ]
  },
  {
   "cell_type": "markdown",
   "id": "77324e44-292c-43cd-ae39-5fcd8a91ec25",
   "metadata": {},
   "source": [
    "### Problem 5: Product Inventory"
   ]
  },
  {
   "cell_type": "code",
   "execution_count": 6,
   "id": "00f49d61-ed22-4776-ab82-f5d2537a9d17",
   "metadata": {},
   "outputs": [
    {
     "name": "stdout",
     "output_type": "stream",
     "text": [
      "['Laptop', 'Phone']\n"
     ]
    }
   ],
   "source": [
    "class Product:\n",
    "    def __init__(self, product_id, name, price, quantity):\n",
    "        self.product_id = product_id\n",
    "        self.name = name\n",
    "        self.price = price\n",
    "        self.quantity = quantity\n",
    "\n",
    "class Inventory:\n",
    "    def __init__(self):\n",
    "        self.products = []\n",
    "\n",
    "    def add_product(self, product):\n",
    "        self.products.append(product)\n",
    "\n",
    "    def update_quantity(self, product_id, new_quantity):\n",
    "        for product in self.products:\n",
    "            if product.product_id == product_id:\n",
    "                product.quantity = new_quantity\n",
    "\n",
    "    def display_available_products(self):\n",
    "        return [product.name for product in self.products if product.quantity > 0]\n",
    "\n",
    "# Usage example:\n",
    "product1 = Product(101, \"Laptop\", 800, 10)\n",
    "product2 = Product(102, \"Phone\", 400, 5)\n",
    "inventory = Inventory()\n",
    "inventory.add_product(product1)\n",
    "inventory.add_product(product2)\n",
    "inventory.update_quantity(101, 8)\n",
    "print(inventory.display_available_products())\n"
   ]
  },
  {
   "cell_type": "markdown",
   "id": "761e4ab1-f0fe-4ec0-9b27-289947d39cad",
   "metadata": {},
   "source": [
    "### Problem 6: Shape Calculation"
   ]
  },
  {
   "cell_type": "code",
   "execution_count": 7,
   "id": "3e0ca5eb-1cad-4129-aef7-7839e0d65da6",
   "metadata": {},
   "outputs": [
    {
     "name": "stdout",
     "output_type": "stream",
     "text": [
      "Rectangle Area: 15\n",
      "Triangle Perimeter: 18\n"
     ]
    }
   ],
   "source": [
    "class Shape:\n",
    "    def __init__(self, length, width, height):\n",
    "        self.length = length\n",
    "        self.width = width\n",
    "        self.height = height\n",
    "\n",
    "    def calculate_area(self):\n",
    "        pass\n",
    "\n",
    "    def calculate_perimeter(self):\n",
    "        pass\n",
    "\n",
    "class Rectangle(Shape):\n",
    "    def calculate_area(self):\n",
    "        return self.length * self.width\n",
    "\n",
    "    def calculate_perimeter(self):\n",
    "        return 2 * (self.length + self.width)\n",
    "\n",
    "class Triangle(Shape):\n",
    "    def calculate_area(self):\n",
    "        return 0.5 * self.length * self.width\n",
    "\n",
    "    def calculate_perimeter(self):\n",
    "        return self.length + self.width + self.height\n",
    "\n",
    "# Usage example:\n",
    "rectangle = Rectangle(5, 3, 0)\n",
    "triangle = Triangle(4, 6, 8)\n",
    "print(\"Rectangle Area:\", rectangle.calculate_area())\n",
    "print(\"Triangle Perimeter:\", triangle.calculate_perimeter())\n"
   ]
  },
  {
   "cell_type": "markdown",
   "id": "60b92435-a8c4-42d2-a401-83ea0aca4fbe",
   "metadata": {},
   "source": [
    "### Problem 7: Student Management"
   ]
  },
  {
   "cell_type": "code",
   "execution_count": null,
   "id": "c13bc75e-43fc-4f81-b11f-5aff85339c83",
   "metadata": {},
   "outputs": [],
   "source": [
    "class Student:\n",
    "    def __init(self, student_id, name, grades):\n",
    "        self.student_id = student_id\n",
    "        self.name = name\n",
    "        self.grades = grades\n",
    "\n",
    "    def calculate_average_grade(self):\n",
    "        return sum(self.grades) / len(self.grades)\n",
    "\n",
    "    def display_student_details(self):\n",
    "        return f\"Student ID: {self.student_id}, Name: {self.name}, Grades: {self.grades}\"\n",
    "\n",
    "# Usage example:\n",
    "student1 = Student(1, \"Alice\", [90, 85, 92, 88])\n",
    "average_grade = student1.calculate_average_grade()\n",
    "print(student1.display_student_details())\n",
    "print(f\"Average Grade: {average_grade}\")\n"
   ]
  },
  {
   "cell_type": "markdown",
   "id": "9a21d221-b446-4758-9ec7-45a80023cd1b",
   "metadata": {},
   "source": [
    "### Problem 8: Email Management"
   ]
  },
  {
   "cell_type": "code",
   "execution_count": 12,
   "id": "7445c387-ae47-474a-b2d0-9c2f38a2ce21",
   "metadata": {},
   "outputs": [
    {
     "name": "stdout",
     "output_type": "stream",
     "text": [
      "Email sent from alice@example.com to bob@example.com with subject: Meeting\n",
      "Sender: alice@example.com, Recipient: bob@example.com, Subject: Meeting\n"
     ]
    }
   ],
   "source": [
    "class Email:\n",
    "    def __init__(self, sender, recipient, subject, message):\n",
    "        self.sender = sender\n",
    "        self.recipient = recipient\n",
    "        self.subject = subject\n",
    "        self.message = message\n",
    "\n",
    "    def send_email(self):\n",
    "        print(f\"Email sent from {self.sender} to {self.recipient} with subject: {self.subject}\")\n",
    "\n",
    "    def display_email_details(self):\n",
    "        return f\"Sender: {self.sender}, Recipient: {self.recipient}, Subject: {self.subject}\"\n",
    "\n",
    "# Usage example:\n",
    "email1 = Email(\"alice@example.com\", \"bob@example.com\", \"Meeting\", \"Hi Bob, let's discuss the project.\")\n",
    "email1.send_email()\n",
    "print(email1.display_email_details())\n"
   ]
  },
  {
   "cell_type": "markdown",
   "id": "92fe6e40-e466-4b88-836c-cfabf23634f5",
   "metadata": {},
   "source": [
    "### Problem 9: Social Media Profile"
   ]
  },
  {
   "cell_type": "code",
   "execution_count": 13,
   "id": "ce704b2d-30ee-4429-b1e6-78d623ca2f03",
   "metadata": {},
   "outputs": [
    {
     "name": "stdout",
     "output_type": "stream",
     "text": [
      "Posts: ['Enjoying a beautiful day!', 'Travelling to a new city.', 'Delicious dinner with friends.']\n",
      "Search 'dinner': ['Delicious dinner with friends.']\n"
     ]
    }
   ],
   "source": [
    "class SocialMediaProfile:\n",
    "    def __init__(self, username):\n",
    "        self.username = username\n",
    "        self.posts = []\n",
    "\n",
    "    def add_post(self, post):\n",
    "        self.posts.append(post)\n",
    "\n",
    "    def display_posts(self):\n",
    "        return self.posts\n",
    "\n",
    "    def search_posts(self, keyword):\n",
    "        return [post for post in self.posts if keyword in post]\n",
    "\n",
    "# Usage example:\n",
    "profile1 = SocialMediaProfile(\"alice_smith\")\n",
    "profile1.add_post(\"Enjoying a beautiful day!\")\n",
    "profile1.add_post(\"Travelling to a new city.\")\n",
    "profile1.add_post(\"Delicious dinner with friends.\")\n",
    "print(\"Posts:\", profile1.display_posts())\n",
    "print(\"Search 'dinner':\", profile1.search_posts(\"dinner\"))\n"
   ]
  },
  {
   "cell_type": "markdown",
   "id": "eee26e1a-7563-4f7c-bbe4-374f4ef16a13",
   "metadata": {},
   "source": [
    "### Problem 10: ToDo List"
   ]
  },
  {
   "cell_type": "code",
   "execution_count": null,
   "id": "fd065bc9-a90e-46bd-b5e4-a55fd2832161",
   "metadata": {},
   "outputs": [],
   "source": [
    "class ToDoList:\n",
    "    def __init__(self):\n",
    "        self.tasks = []\n",
    "\n",
    "    def add_task(self, task):\n",
    "        self.tasks.append({\"task\": task, \"completed\": False})\n",
    "\n",
    "    def mark_task_completed(self, task):\n",
    "        for t in self.tasks:\n",
    "            if t[\"task\"] == task:\n",
    "                t[\"completed\"] = True\n",
    "\n",
    "    def display_pending_tasks(self):\n",
    "        return [t[\"task\"] for t in self.tasks if not t[\"completed\"]]\n",
    "\n",
    "# Usage example:\n",
    "to_do_list = ToDoList()\n",
    "to_do_list.add_task(\"Buy groceries\")\n",
    "to_do_list.add_task(\"Complete project\")\n",
    "to_do_list.mark_task_completed(\"Buy groceries\")\n",
    "print(\"Pending tasks:\", to_do_list.display_pending_tasks())\n"
   ]
  }
 ],
 "metadata": {
  "kernelspec": {
   "display_name": "Python 3 (ipykernel)",
   "language": "python",
   "name": "python3"
  },
  "language_info": {
   "codemirror_mode": {
    "name": "ipython",
    "version": 3
   },
   "file_extension": ".py",
   "mimetype": "text/x-python",
   "name": "python",
   "nbconvert_exporter": "python",
   "pygments_lexer": "ipython3",
   "version": "3.10.8"
  }
 },
 "nbformat": 4,
 "nbformat_minor": 5
}
