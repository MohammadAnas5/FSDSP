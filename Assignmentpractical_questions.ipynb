{
  "nbformat": 4,
  "nbformat_minor": 0,
  "metadata": {
    "colab": {
      "provenance": []
    },
    "kernelspec": {
      "name": "python3",
      "display_name": "Python 3"
    },
    "language_info": {
      "name": "python"
    }
  },
  "cells": [
    {
      "cell_type": "code",
      "execution_count": 1,
      "metadata": {
        "colab": {
          "base_uri": "https://localhost:8080/"
        },
        "id": "GEdoOf2g2VvY",
        "outputId": "f1d7e5f0-457b-4eec-d377-8be1693bc606"
      },
      "outputs": [
        {
          "output_type": "stream",
          "name": "stdout",
          "text": [
            "Enter signal color (RED, YELLOW, GREEN): RED\n",
            "Stop\n"
          ]
        }
      ],
      "source": [
        "# Question 1.6 - Traffic Light Simulator\n",
        "color = input(\"Enter signal color (RED, YELLOW, GREEN): \").upper()\n",
        "\n",
        "if color == \"RED\":\n",
        "    print(\"Stop\")\n",
        "elif color == \"YELLOW\":\n",
        "    print(\"Stay\")\n",
        "elif color == \"GREEN\":\n",
        "    print(\"Go\")\n",
        "else:\n",
        "    print(\"Invalid color\")\n"
      ]
    },
    {
      "cell_type": "code",
      "source": [
        "# Question 1.7 - Simple Calculator\n",
        "\n",
        "def calculator():\n",
        "    num1 = float(input(\"Enter first number: \"))\n",
        "    operator = input(\"Enter operator (+, -, *, /): \")\n",
        "    num2 = float(input(\"Enter second number: \"))\n",
        "\n",
        "    if operator == '+':\n",
        "        result = num1 + num2\n",
        "    elif operator == '-':\n",
        "        result = num1 - num2\n",
        "    elif operator == '*':\n",
        "        result = num1 * num2\n",
        "    elif operator == '/':\n",
        "        if num2 == 0:\n",
        "            print(\"Error: Division by zero\")\n",
        "            return\n",
        "        else:\n",
        "            result = num1 / num2\n",
        "    else:\n",
        "        print(\"Invalid operator\")\n",
        "        return\n",
        "\n",
        "    print(\"Result:\", result)\n",
        "\n",
        "\n",
        "calculator()\n"
      ],
      "metadata": {
        "colab": {
          "base_uri": "https://localhost:8080/"
        },
        "id": "PcpfJ_7-393L",
        "outputId": "84b7abe8-6e01-4e36-91ec-e4b8ba948066"
      },
      "execution_count": 2,
      "outputs": [
        {
          "output_type": "stream",
          "name": "stdout",
          "text": [
            "Enter first number: 45\n",
            "Enter operator (+, -, *, /): -\n",
            "Enter second number: 44\n",
            "Result: 1.0\n"
          ]
        }
      ]
    },
    {
      "cell_type": "code",
      "source": [
        "# Question 1.8 - Larger of Three Numbers using Ternary Operator\n",
        "\n",
        "num1 = int(input(\"Enter first number: \"))\n",
        "num2 = int(input(\"Enter second number: \"))\n",
        "num3 = int(input(\"Enter third number: \"))\n",
        "\n",
        "largest = num1 if num1 > num2 and num1 > num3 else (num2 if num2 > num3 else num3)\n",
        "print(\"Largest number:\", largest)\n"
      ],
      "metadata": {
        "colab": {
          "base_uri": "https://localhost:8080/"
        },
        "id": "SvKe0lyA4Ncg",
        "outputId": "a02090a8-09ca-43e1-d851-426f8cf216f4"
      },
      "execution_count": 3,
      "outputs": [
        {
          "output_type": "stream",
          "name": "stdout",
          "text": [
            "Enter first number: 22\n",
            "Enter second number: 98\n",
            "Enter third number: 11\n",
            "Largest number: 98\n"
          ]
        }
      ]
    },
    {
      "cell_type": "code",
      "source": [
        "# 1.9. Write a program to find the factors of a whole number using a while loop.\n",
        "\n",
        "num = int(input(\"Enter a whole number: \"))\n",
        "factor = 1\n",
        "\n",
        "print(\"Factors of\", num, \"are:\")\n",
        "while factor <= num:\n",
        "    if num % factor == 0:\n",
        "        print(factor)\n",
        "    factor += 1\n"
      ],
      "metadata": {
        "colab": {
          "base_uri": "https://localhost:8080/"
        },
        "id": "UmWV6Axn5zS_",
        "outputId": "e0f90748-395d-47b5-9a7a-ce2313bfffb6"
      },
      "execution_count": 9,
      "outputs": [
        {
          "output_type": "stream",
          "name": "stdout",
          "text": [
            "Enter a whole number: 4\n",
            "Factors of 4 are:\n",
            "1\n",
            "2\n",
            "4\n"
          ]
        }
      ]
    },
    {
      "cell_type": "code",
      "source": [
        "# 1.10. Write a program to find the sum of all the positive numbers entered by the user. As soon as the user enters a negative number, stop taking in any further input from the user and display the sum\n",
        "\n",
        "sum = 0\n",
        "num = 0\n",
        "\n",
        "while num >= 0:\n",
        "    num = int(input(\"Enter a positive number (enter a negative number to stop): \"))\n",
        "    if num >= 0:\n",
        "        sum += num\n",
        "\n",
        "print(\"The sum of the positive numbers is:\", sum)\n"
      ],
      "metadata": {
        "colab": {
          "base_uri": "https://localhost:8080/"
        },
        "id": "ASIbzoiR6LJZ",
        "outputId": "0b8414a4-c712-4d0d-b868-3f077cea32c1"
      },
      "execution_count": 10,
      "outputs": [
        {
          "output_type": "stream",
          "name": "stdout",
          "text": [
            "Enter a positive number (enter a negative number to stop): 8\n",
            "Enter a positive number (enter a negative number to stop): 3\n",
            "Enter a positive number (enter a negative number to stop): -1\n",
            "The sum of the positive numbers is: 11\n"
          ]
        }
      ]
    },
    {
      "cell_type": "code",
      "source": [
        "# 1.11. Write a program to find prime numbers between 2 to 100 using nested for loops.\n",
        "\n",
        "\n",
        "for num in range(2, 101):\n",
        "    is_prime = True\n",
        "    for i in range(2, num):\n",
        "        if num % i == 0:\n",
        "            is_prime = False\n",
        "            break\n",
        "    if is_prime:\n",
        "        print(num)\n"
      ],
      "metadata": {
        "colab": {
          "base_uri": "https://localhost:8080/"
        },
        "id": "FyUUWg-P6Yy7",
        "outputId": "519101a3-5dc7-404b-e6f7-2c8e5c573f74"
      },
      "execution_count": 11,
      "outputs": [
        {
          "output_type": "stream",
          "name": "stdout",
          "text": [
            "2\n",
            "3\n",
            "5\n",
            "7\n",
            "11\n",
            "13\n",
            "17\n",
            "19\n",
            "23\n",
            "29\n",
            "31\n",
            "37\n",
            "41\n",
            "43\n",
            "47\n",
            "53\n",
            "59\n",
            "61\n",
            "67\n",
            "71\n",
            "73\n",
            "79\n",
            "83\n",
            "89\n",
            "97\n"
          ]
        }
      ]
    },
    {
      "cell_type": "code",
      "source": [
        "# 1.12. Write the programs for the following:\n",
        "\n",
        "# • Accept the marks of the student in five major subjects and display the same.\n",
        "\n",
        "subjects = [\"Subject 1\", \"Subject 2\", \"Subject 3\", \"Subject 4\", \"Subject 5\"]\n",
        "marks = []\n",
        "\n",
        "for subject in subjects:\n",
        "    mark = int(input(f\"Enter marks for {subject}: \"))\n",
        "    marks.append(mark)\n",
        "\n",
        "print(\"Marks obtained:\")\n",
        "for i in range(len(subjects)):\n",
        "    print(f\"{subjects[i]}: {marks[i]}\")\n",
        "\n"
      ],
      "metadata": {
        "colab": {
          "base_uri": "https://localhost:8080/"
        },
        "id": "eWIaCOcv6lbB",
        "outputId": "74b9da3b-d9d6-4b86-bc8e-a75a4aea053d"
      },
      "execution_count": 21,
      "outputs": [
        {
          "output_type": "stream",
          "name": "stdout",
          "text": [
            "Enter marks for Subject 1: 77\n",
            "Enter marks for Subject 2: 40\n",
            "Enter marks for Subject 3: 99\n",
            "Enter marks for Subject 4: 62\n",
            "Enter marks for Subject 5: 99\n",
            "Marks obtained:\n",
            "Subject 1: 77\n",
            "Subject 2: 40\n",
            "Subject 3: 99\n",
            "Subject 4: 62\n",
            "Subject 5: 99\n"
          ]
        }
      ]
    },
    {
      "cell_type": "code",
      "source": [
        "# • Calculate the sum of the marks of all subjects.Divide the total marks by number of subjects (i.e. 5), calculate percentage = total marks/5 and display the percentage.\n",
        "\n",
        "def calculate_total_marks(marks):\n",
        "  total = 0\n",
        "  for mark in marks:\n",
        "    total += mark\n",
        "  return total\n",
        "\n",
        "\n",
        "total_marks = calculate_total_marks(marks)\n",
        "percentage = total_marks / 5\n",
        "print(\"Percentage:\", percentage)"
      ],
      "metadata": {
        "colab": {
          "base_uri": "https://localhost:8080/"
        },
        "id": "rD1LysLm61H_",
        "outputId": "0d4e45b8-f6f3-43ad-9f5d-f379ff87ce21"
      },
      "execution_count": 23,
      "outputs": [
        {
          "output_type": "stream",
          "name": "stdout",
          "text": [
            "Percentage: 75.4\n"
          ]
        }
      ]
    },
    {
      "cell_type": "code",
      "source": [
        "# Find the grade of the student as per the following criteria. Hint: Use Match & case for this:\n",
        "\n",
        "def get_grade(percentage):\n",
        "    match percentage:\n",
        "        case percentage if percentage > 85:\n",
        "            return \"A\"\n",
        "        case percentage if percentage >= 75:\n",
        "            return \"B\"\n",
        "        case percentage if percentage >= 50:\n",
        "            return \"C\"\n",
        "        case percentage if percentage >= 30:\n",
        "            return \"D\"\n",
        "        case _:\n",
        "            return \"Reappear\"\n",
        "\n",
        "grade = get_grade(percentage)\n",
        "print(\"Grade:\", grade)\n"
      ],
      "metadata": {
        "colab": {
          "base_uri": "https://localhost:8080/"
        },
        "id": "HVhJuVJg7CFF",
        "outputId": "d6beca96-b279-4127-f448-a6a7a885c4d4"
      },
      "execution_count": 24,
      "outputs": [
        {
          "output_type": "stream",
          "name": "stdout",
          "text": [
            "Grade: B\n"
          ]
        }
      ]
    },
    {
      "cell_type": "code",
      "source": [
        "# 1.13. Write a program for VIBGYOR Spectrum based on their Wavelength using.\n",
        "\n",
        "\n",
        "\n",
        "def print_vibgyor_spectrum():\n",
        "  \"\"\"Prints the VIBGYOR spectrum with corresponding wavelength ranges.\"\"\"\n",
        "\n",
        "  spectrum = [\n",
        "      (\"Violet\", 400.0, 440.0),\n",
        "      (\"Indigo\", 440.0, 460.0),\n",
        "      (\"Blue\", 460.0, 500.0),\n",
        "      (\"Green\", 500.0, 570.0),\n",
        "      (\"Yellow\", 570.0, 590.0),\n",
        "      (\"Orange\", 590.0, 620.0),\n",
        "      (\"Red\", 620.0, 720.0)\n",
        "  ]\n",
        "\n",
        "  for color, start_wavelength, end_wavelength in spectrum:\n",
        "      print(f\"{color}: {start_wavelength}-{end_wavelength} nm\")\n",
        "\n",
        "print_vibgyor_spectrum()\n"
      ],
      "metadata": {
        "colab": {
          "base_uri": "https://localhost:8080/"
        },
        "id": "p2rhZsqg-3VV",
        "outputId": "c28f25bc-472d-4d5e-994a-264530a35273"
      },
      "execution_count": 25,
      "outputs": [
        {
          "output_type": "stream",
          "name": "stdout",
          "text": [
            "Violet: 400.0-440.0 nm\n",
            "Indigo: 440.0-460.0 nm\n",
            "Blue: 460.0-500.0 nm\n",
            "Green: 500.0-570.0 nm\n",
            "Yellow: 570.0-590.0 nm\n",
            "Orange: 590.0-620.0 nm\n",
            "Red: 620.0-720.0 nm\n"
          ]
        }
      ]
    },
    {
      "cell_type": "code",
      "source": [
        "#  1.14.Consider the gravitational interactions between the Earth, Moon, and Sun in our solar system.\n",
        "\n",
        "import math\n",
        "\n",
        "def calculate_gravitational_force(mass1, mass2, distance):\n",
        "  \"\"\"Calculates the gravitational force between two objects.\"\"\"\n",
        "  G = 6.67430e-11  # Gravitational constant\n",
        "  force = (G * mass1 * mass2) / (distance ** 2)\n",
        "  return force\n",
        "\n",
        "# Given data\n",
        "mass_earth = 5.972e24  # Mass of Earth in kilograms\n",
        "mass_moon = 7.34767309e22  # Mass of Moon in kilograms\n",
        "mass_sun = 1.989e30  # Mass of Sun in kilograms\n",
        "distance_earth_sun = 1.496e11  # Average distance between Earth and Sun in meters\n",
        "distance_moon_earth = 3.844e8  # Average distance between Moon and Earth in meters\n",
        "\n",
        "# Calculate gravitational forces\n",
        "force_earth_sun = calculate_gravitational_force(mass_earth, mass_sun, distance_earth_sun)\n",
        "force_moon_earth = calculate_gravitational_force(mass_moon, mass_earth, distance_moon_earth)\n",
        "\n",
        "# Compare forces\n",
        "if force_earth_sun > force_moon_earth:\n",
        "  print(\"The gravitational force between the Earth and the Sun is stronger.\")\n",
        "  print(\"The Earth is more attracted to the Sun than the Moon.\")\n",
        "elif force_earth_sun < force_moon_earth:\n",
        "  print(\"The gravitational force between the Moon and the Earth is stronger.\")\n",
        "  print(\"The Moon is more attracted to the Earth than the Sun.\")\n",
        "else:\n",
        "  print(\"The gravitational forces between the Earth and the Sun and the Moon and the Earth are equal.\")\n",
        "\n",
        "print(\"Force between Earth and Sun:\", force_earth_sun, \"Newtons\")\n",
        "print(\"Force between Moon and Earth:\", force_moon_earth, \"Newtons\")\n"
      ],
      "metadata": {
        "colab": {
          "base_uri": "https://localhost:8080/"
        },
        "id": "9DQT8tjf_osT",
        "outputId": "7f02e5ee-548c-4c33-b16b-2f41648af5a3"
      },
      "execution_count": 26,
      "outputs": [
        {
          "output_type": "stream",
          "name": "stdout",
          "text": [
            "The gravitational force between the Earth and the Sun is stronger.\n",
            "The Earth is more attracted to the Sun than the Moon.\n",
            "Force between Earth and Sun: 3.5423960813684973e+22 Newtons\n",
            "Force between Moon and Earth: 1.982022545652681e+20 Newtons\n"
          ]
        }
      ]
    },
    {
      "cell_type": "markdown",
      "source": [
        "**2. Design and implement a Python program for managing student information using object-oriented\n",
        "principles. Create a class called `Student` with encapsulated attributes for name, age, and roll number.\n",
        "Implement getter and setter methods for these attributes. Additionally, provide methods to display student\n",
        "information and update student details.\n",
        "Tasks\n",
        "3 Define the `Student` class with encapsulated attributes\n",
        "3 Implement getter and setter methods for the attributes\n",
        "3 Write methods to display student information and update details\n",
        "3 Create instances of the `Student` class and test the implemented functionality**"
      ],
      "metadata": {
        "id": "qMPipBZdAK4B"
      }
    },
    {
      "cell_type": "code",
      "source": [
        "class Student:\n",
        "    def __init__(self, name, age, roll_number):\n",
        "        self.__name = name\n",
        "        self.__age = age\n",
        "        self.__roll_number = roll_number\n",
        "\n",
        "    # Getter methods\n",
        "    def get_name(self):\n",
        "        return self.__name\n",
        "\n",
        "    def get_age(self):\n",
        "        return self.__age\n",
        "\n",
        "    def get_roll_number(self):\n",
        "        return self.__roll_number\n",
        "\n",
        "    # Setter methods\n",
        "    def set_name(self, name):\n",
        "        self.__name = name\n",
        "\n",
        "    def set_age(self, age):\n",
        "        self.__age = age\n",
        "\n",
        "    def set_roll_number(self, roll_number):\n",
        "        self.__roll_number = roll_number\n",
        "\n",
        "    def display_student_info(self):\n",
        "        print(f\"Name: {self.__name}\")\n",
        "        print(f\"Age: {self.__age}\")\n",
        "        print(f\"Roll Number: {self.__roll_number}\")\n",
        "\n",
        "    def update_student_details(self, new_name, new_age, new_roll_number):\n",
        "        self.__name = new_name\n",
        "        self.__age = new_age\n",
        "        self.__roll_number = new_roll_number\n"
      ],
      "metadata": {
        "id": "qF6T_MJm_2UB"
      },
      "execution_count": 27,
      "outputs": []
    },
    {
      "cell_type": "code",
      "source": [
        "student1 = Student(\"A45er\", 20, 12345)\n",
        "student1.display_student_info()\n",
        "\n",
        "student1.update_student_details(\"nan\", 21, 54321)\n",
        "student1.display_student_info()\n"
      ],
      "metadata": {
        "colab": {
          "base_uri": "https://localhost:8080/"
        },
        "id": "1Ow9vOBuAycl",
        "outputId": "191bb2e0-2c1b-4f6d-8a53-2c8781fdfd63"
      },
      "execution_count": 29,
      "outputs": [
        {
          "output_type": "stream",
          "name": "stdout",
          "text": [
            "Name: A45er\n",
            "Age: 20\n",
            "Roll Number: 12345\n",
            "Name: nan\n",
            "Age: 21\n",
            "Roll Number: 54321\n"
          ]
        }
      ]
    },
    {
      "cell_type": "markdown",
      "source": [
        "**3.Develop  a Python program for managing library resources efficiently. Design a class named `LibraryBoo` with attributes lie boo name, author, and availability status. Implement methods for borrowing and returning boos while ensuring proper encapsulation of attributes**\n",
        "Tasks\n",
        "- 3 1.  Create the `LibraryBook` class with encapsulated attributes\n",
        "- 3 2.  Implement methods for borrowing and returning books\n",
        "- 3 3.  Ensure proper encapsulation to protect book details\n",
        "- 3 4.  Test the borrowing and returning functionality with sample data"
      ],
      "metadata": {
        "id": "1qbh2lCKBB22"
      }
    },
    {
      "cell_type": "code",
      "source": [
        "class LibraryBook:\n",
        "    def __init__(self, book_name, author, availability_status=True):\n",
        "        self.__book_name = book_name\n",
        "        self.__author = author\n",
        "        self.__availability_status = availability_status\n",
        "\n",
        "    # Getter methods\n",
        "    def get_book_name(self):\n",
        "        return self.__book_name\n",
        "\n",
        "    def get_author(self):\n",
        "        return self.__author\n",
        "\n",
        "    def get_availability_status(self):\n",
        "        return self.__availability_status\n",
        "\n",
        "    def borrow_book(self):\n",
        "        if self.__availability_status:\n",
        "            self.__availability_status = False\n",
        "            print(\"Book borrowed successfully.\")\n",
        "        else:\n",
        "            print(\"Book is currently unavailable.\")\n",
        "\n",
        "    def return_book(self):\n",
        "        if not self.__availability_status:\n",
        "            self.__availability_status = True\n",
        "            print(\"Book returned successfully.\")\n",
        "        else:\n",
        "            print(\"Book is already available.\")\n"
      ],
      "metadata": {
        "id": "VICFblXpA1Fc"
      },
      "execution_count": 30,
      "outputs": []
    },
    {
      "cell_type": "code",
      "source": [
        "book1 = LibraryBook(\"Python Crash Course\", \"Eric Matthes\", True)\n",
        "book1.borrow_book()\n",
        "book1.return_book()\n"
      ],
      "metadata": {
        "colab": {
          "base_uri": "https://localhost:8080/"
        },
        "id": "TKqMlV6FB1jA",
        "outputId": "dbb4ef9c-1328-4ded-cbcf-f2eeef237bf7"
      },
      "execution_count": 31,
      "outputs": [
        {
          "output_type": "stream",
          "name": "stdout",
          "text": [
            "Book borrowed successfully.\n",
            "Book returned successfully.\n"
          ]
        }
      ]
    },
    {
      "cell_type": "markdown",
      "source": [
        "**4.Create a simple baning system using object-oriented concepts in Python. Design classes representing\n",
        "different types of ban accounts such as savings and checing. Implement methods for deposit, withdraw,\n",
        "and balance inquiry. Utilize inheritance to manage different account types efficiently.**\n",
        "\n",
        "Tasks\n",
        "\n",
        "\n",
        "- 3 1. Define base class(es) for bank accounts with common attributes and methods\n",
        "- 3 2. Implement subclasses for specific account types (e.g., SavingsAccount, CheckingAccount)\n",
        "- 3 3. Provide methods for deposit, withdraw, and balance inquiry in each subclass\n",
        "- 3 4. Test the banking system by creating instances of different account types and performing transactions."
      ],
      "metadata": {
        "id": "vHBLoR7rB74d"
      }
    },
    {
      "cell_type": "code",
      "source": [
        "class BankAccount:\n",
        "    def __init__(self, account_number, initial_balance=0.0):\n",
        "        self.account_number = account_number\n",
        "        self.balance = initial_balance\n",
        "\n",
        "    def deposit(self, amount):\n",
        "        if amount > 0:\n",
        "            self.balance += amount\n",
        "            print(f\"Deposited ${amount:.2f}. New balance is ${self.balance:.2f}.\")\n",
        "        else:\n",
        "            print(\"Deposit amount must be positive.\")\n",
        "\n",
        "    def withdraw(self, amount):\n",
        "        if amount > 0:\n",
        "            if amount <= self.balance:\n",
        "                self.balance -= amount\n",
        "                print(f\"Withdrew ${amount:.2f}. New balance is ${self.balance:.2f}.\")\n",
        "            else:\n",
        "                print(\"Insufficient funds.\")\n",
        "        else:\n",
        "            print(\"Withdrawal amount must be positive.\")\n",
        "\n",
        "    def balance_inquiry(self):\n",
        "        return f\"Account {self.account_number} balance is ${self.balance:.2f}.\"\n",
        "\n",
        "class SavingsAccount(BankAccount):\n",
        "    def __init__(self, account_number, initial_balance=0.0, interest_rate=0.01):\n",
        "        super().__init__(account_number, initial_balance)\n",
        "        self.interest_rate = interest_rate\n",
        "\n",
        "    def add_interest(self):\n",
        "        interest = self.balance * self.interest_rate\n",
        "        self.deposit(interest)\n",
        "        print(f\"Interest of ${interest:.2f} added. New balance is ${self.balance:.2f}.\")\n",
        "\n",
        "class CheckingAccount(BankAccount):\n",
        "    def __init__(self, account_number, initial_balance=0.0, overdraft_limit=100.0):\n",
        "        super().__init__(account_number, initial_balance)\n",
        "        self.overdraft_limit = overdraft_limit\n",
        "\n",
        "    def withdraw(self, amount):\n",
        "        if amount > 0:\n",
        "            if amount <= self.balance + self.overdraft_limit:\n",
        "                self.balance -= amount\n",
        "                print(f\"Withdrew ${amount:.2f}. New balance is ${self.balance:.2f}.\")\n",
        "            else:\n",
        "                print(\"Overdraft limit exceeded.\")\n",
        "        else:\n",
        "            print(\"Withdrawal amount must be positive.\")\n"
      ],
      "metadata": {
        "id": "8cXfmVHDB3mt"
      },
      "execution_count": 35,
      "outputs": []
    },
    {
      "cell_type": "code",
      "source": [
        "def test_banking_system():\n",
        "    # Create a Savings Account\n",
        "    savings_account = SavingsAccount(account_number=\"SA12345\", initial_balance=500.0, interest_rate=0.02)\n",
        "    print(savings_account.balance_inquiry())\n",
        "    savings_account.deposit(200)\n",
        "    savings_account.withdraw(100)\n",
        "    savings_account.add_interest()\n",
        "    print(savings_account.balance_inquiry())\n",
        "\n",
        "    # Create a Checking Account\n",
        "    checking_account = CheckingAccount(account_number=\"CA12345\", initial_balance=300.0, overdraft_limit=150.0)\n",
        "    print(checking_account.balance_inquiry())\n",
        "    checking_account.deposit(100)\n",
        "    checking_account.withdraw(350)\n",
        "    checking_account.withdraw(50)  # This should exceed the overdraft limit\n",
        "    print(checking_account.balance_inquiry())\n",
        "\n",
        "if __name__ == \"__main__\":\n",
        "    test_banking_system()\n"
      ],
      "metadata": {
        "colab": {
          "base_uri": "https://localhost:8080/"
        },
        "id": "iSSUBF2dB8_W",
        "outputId": "fd5c900a-5f00-45d1-c60d-669254c49301"
      },
      "execution_count": 36,
      "outputs": [
        {
          "output_type": "stream",
          "name": "stdout",
          "text": [
            "Account SA12345 balance is $500.00.\n",
            "Deposited $200.00. New balance is $700.00.\n",
            "Withdrew $100.00. New balance is $600.00.\n",
            "Deposited $12.00. New balance is $612.00.\n",
            "Interest of $12.00 added. New balance is $612.00.\n",
            "Account SA12345 balance is $612.00.\n",
            "Account CA12345 balance is $300.00.\n",
            "Deposited $100.00. New balance is $400.00.\n",
            "Withdrew $350.00. New balance is $50.00.\n",
            "Withdrew $50.00. New balance is $0.00.\n",
            "Account CA12345 balance is $0.00.\n"
          ]
        }
      ]
    },
    {
      "cell_type": "markdown",
      "source": [
        "**5.Write a Python program that models different animals and their sounds. Design a base class called\n",
        "`Animal` with a method `mae_sound()`. Create subclasses lie `Dog` and `Cat` that override the\n",
        "`mae_sound()` method to produce appropriate sounds.**\n",
        "Tasks\n",
        "3 1. Define the `Animal` class with a method `make_sound()`\n",
        "3 2. Create subclasses `Dog` and `Cat` that override the `make_sound()` method\n",
        "3 3. Implement the sound generation logic for each subclass\n",
        "3 4. Test the program by creating instances of `Dog` and `Cat` and calling the `make_sound()` method."
      ],
      "metadata": {
        "id": "nN3LW-_cDB4y"
      }
    },
    {
      "cell_type": "code",
      "source": [
        "class Animal:\n",
        "    def make_sound(self):\n",
        "        raise NotImplementedError(\"Subclass must implement abstract method\")\n",
        "\n",
        "class Dog(Animal):\n",
        "    def make_sound(self):\n",
        "        return \"Woof! Woof!\"\n",
        "\n",
        "class Cat(Animal):\n",
        "    def make_sound(self):\n",
        "        return \"Meow! Meow!\"\n",
        "\n",
        "def test_animal_sounds():\n",
        "    # Create instances of Dog and Cat\n",
        "    dog = Dog()\n",
        "    cat = Cat()\n",
        "\n",
        "    # Test make_sound method\n",
        "    print(\"Dog says:\", dog.make_sound())\n",
        "    print(\"Cat says:\", cat.make_sound())\n",
        "\n",
        "if __name__ == \"__main__\":\n",
        "    test_animal_sounds()\n"
      ],
      "metadata": {
        "colab": {
          "base_uri": "https://localhost:8080/"
        },
        "id": "K5yf9E4QCy7e",
        "outputId": "298bbf6a-1515-469d-85ea-ed70accb7cc2"
      },
      "execution_count": 37,
      "outputs": [
        {
          "output_type": "stream",
          "name": "stdout",
          "text": [
            "Dog says: Woof! Woof!\n",
            "Cat says: Meow! Meow!\n"
          ]
        }
      ]
    },
    {
      "cell_type": "markdown",
      "source": [
        "**6.Write a code for Restaurant Management System Using OOPS**"
      ],
      "metadata": {
        "id": "2fTkDNA5DTB7"
      }
    },
    {
      "cell_type": "code",
      "source": [
        "class MenuItem:\n",
        "    def __init__(self, name, description, price, category):\n",
        "        self.__name = name\n",
        "        self.__description = description\n",
        "        self.__price = price\n",
        "        self.__category = category\n",
        "        self.__id = None  # Unique identifier (can be assigned later)\n",
        "\n",
        "    # Getters and setters for properties\n",
        "\n",
        "    def __str__(self):\n",
        "        return f\"Name: {self.__name}, Price: {self.__price}, Category: {self.__category}\"\n",
        "\n",
        "class FoodItem(MenuItem):\n",
        "    def __init__(self, name, description, price, category, is_vegetarian, is_spicy):\n",
        "        super().__init__(name, description, price, category)\n",
        "        self.__is_vegetarian = is_vegetarian\n",
        "        self.__is_spicy = is_spicy\n",
        "\n",
        "class BeverageItem(MenuItem):\n",
        "    def __init__(self, name, description, price, category, size):\n",
        "        super().__init__(name, description, price, category)\n",
        "        self.__size = size\n",
        "\n",
        "# Menu class to manage menu items\n",
        "class Menu:\n",
        "    def __init__(self):\n",
        "        self.__menu_items = []\n",
        "        self.__next_id = 1\n",
        "\n",
        "    def add_menu_item(self, menu_item):\n",
        "        menu_item.__id = self.__next_id\n",
        "        self.__next_id += 1\n",
        "        self.__menu_items.append(menu_item)\n",
        "\n",
        "    def update_menu_item(self, menu_item_id, new_data):\n",
        "        for item in self.__menu_items:\n",
        "            if item.__id == menu_item_id:\n",
        "                # Update item properties based on new_data\n",
        "                pass\n",
        "\n",
        "    def remove_menu_item(self, menu_item_id):\n",
        "        for i, item in enumerate(self.__menu_items):\n",
        "            if item.__id == menu_item_id:\n",
        "                del self.__menu_items[i]\n",
        "                break\n",
        "\n"
      ],
      "metadata": {
        "id": "HCrGYPPnDPW1"
      },
      "execution_count": 38,
      "outputs": []
    },
    {
      "cell_type": "markdown",
      "source": [
        "**7.Write a code for Hotel Management System using OOPS**"
      ],
      "metadata": {
        "id": "hcryTJA3EKP7"
      }
    },
    {
      "cell_type": "code",
      "source": [
        "class Room:\n",
        "    def __init__(self, room_number, room_type, rate):\n",
        "        self.__room_number = room_number\n",
        "        self.__room_type = room_type\n",
        "        self.__rate = rate\n",
        "        self.__availability = True\n",
        "        self.__guest = None  # To store guest information if booked\n",
        "\n",
        "    # Getters and setters for properties\n",
        "\n",
        "    def book_room(self, guest_name):\n",
        "        if self.__availability:\n",
        "            self.__availability = False\n",
        "            self.__guest = guest_name\n",
        "            return True\n",
        "        else:\n",
        "            return False\n",
        "\n",
        "    def check_in(self, guest_name):\n",
        "        if self.__guest == guest_name:\n",
        "            # Check-in logic\n",
        "            pass\n",
        "        else:\n",
        "            print(\"Incorrect guest name\")\n",
        "\n",
        "    def check_out(self):\n",
        "        if not self.__availability:\n",
        "            self.__availability = True\n",
        "            self.__guest = None\n",
        "            # Check-out logic\n",
        "        else:\n",
        "            print(\"Room is already vacant\")\n",
        "\n",
        "class SuiteRoom(Room):\n",
        "    def __init__(self, room_number, rate, additional_amenities):\n",
        "        super().__init__(room_number, \"Suite\", rate)\n",
        "        self.__additional_amenities = additional_amenities\n",
        "\n",
        "class StandardRoom(Room):\n",
        "    def __init__(self, room_number, rate):\n",
        "        super().__init__(room_number, \"Standard\", rate)\n"
      ],
      "metadata": {
        "id": "rwZ0sYfrEP2-"
      },
      "execution_count": 39,
      "outputs": []
    },
    {
      "cell_type": "markdown",
      "source": [
        "**8.Write a code for Fitness Club Management System using OO4S3**"
      ],
      "metadata": {
        "id": "7Et9Qhe6EWtp"
      }
    },
    {
      "cell_type": "code",
      "source": [
        "class Member:\n",
        "    def __init__(self, name, age, membership_type):\n",
        "        self.__name = name\n",
        "        self.__age = age\n",
        "        self.__membership_type = membership_type\n",
        "        self.__membership_status = True\n",
        "        self.__id = None  # Unique identifier\n",
        "\n",
        "    # Getters and setters for properties\n",
        "\n",
        "    def register(self):\n",
        "        # Registration logic\n",
        "        pass\n",
        "\n",
        "    def renew_membership(self):\n",
        "        # Renewal logic\n",
        "        pass\n",
        "\n",
        "    def cancel_membership(self):\n",
        "        # Cancellation logic\n",
        "        pass\n",
        "\n",
        "class FamilyMember(Member):\n",
        "    def __init__(self, name, age, membership_type, family_head):\n",
        "        super().__init__(name, age, membership_type)\n",
        "        self.__family_head = family_head\n",
        "\n",
        "class IndividualMember(Member):\n",
        "    def __init__(self, name, age, membership_type):\n",
        "        super().__init__(name, age, membership_type)\n"
      ],
      "metadata": {
        "id": "0-YsY3QXEYLZ"
      },
      "execution_count": 40,
      "outputs": []
    },
    {
      "cell_type": "markdown",
      "source": [
        "**9.Write a code for Event Management System using OOPS**"
      ],
      "metadata": {
        "id": "c76uP9WdEZTi"
      }
    },
    {
      "cell_type": "code",
      "source": [
        "class Event:\n",
        "    def __init__(self, name, date, time, location):\n",
        "        self.__name = name\n",
        "        self.__date = date\n",
        "        self.__time = time\n",
        "        self.__location = location\n",
        "        self.__attendees = []\n",
        "        self.__id = None\n",
        "\n",
        "    # Getters and setters for properties\n",
        "\n",
        "    def add_attendee(self, attendee):\n",
        "        self.__attendees.append(attendee)\n",
        "\n",
        "    def remove_attendee(self, attendee):\n",
        "        self.__attendees.remove(attendee)\n",
        "\n",
        "    def get_total_attendees(self):\n",
        "        return len(self.__attendees)\n",
        "\n",
        "class PrivateEvent(Event):\n",
        "    def __init__(self, name, date, time, location, invitation_list):\n",
        "        super().__init__(name, date, time, location)\n",
        "        self.__invitation_list = invitation_list\n",
        "\n",
        "class PublicEvent(Event):\n",
        "    def __init__(self, name, date, time, location, venue_capacity):\n",
        "        super().__init__(name, date, time, location)\n",
        "        self.__venue_capacity = venue_capacity\n"
      ],
      "metadata": {
        "id": "67sFcn-1FNO_"
      },
      "execution_count": null,
      "outputs": []
    },
    {
      "cell_type": "markdown",
      "source": [
        "**10.Write a code for Airline Reservation System using OO4S3**"
      ],
      "metadata": {
        "id": "Ct_A9rvYFQv5"
      }
    },
    {
      "cell_type": "code",
      "source": [
        "class Flight:\n",
        "    def __init__(self, flight_number, departure_airport, arrival_airport, departure_time, arrival_time, total_seats):\n",
        "        self.__flight_number = flight_number\n",
        "        self.__departure_airport = departure_airport\n",
        "        self.__arrival_airport = arrival_airport\n",
        "        self.__departure_time = departure_time\n",
        "        self.__arrival_time = arrival_time\n",
        "        self.__available_seats = total_seats\n",
        "\n",
        "    def get_flight_number(self):\n",
        "        return self.__flight_number\n",
        "\n",
        "    def get_departure_airport(self):\n",
        "        return self.__departure_airport\n",
        "\n",
        "    def get_arrival_airport(self):\n",
        "        return self.__arrival_airport\n",
        "\n",
        "    def get_departure_time(self):\n",
        "        return self.__departure_time\n",
        "\n",
        "    def get_arrival_time(self):\n",
        "        return self.__arrival_time\n",
        "\n",
        "    def get_available_seats(self):\n",
        "        return self.__available_seats\n",
        "\n",
        "    def book_seat(self):\n",
        "        if self.__available_seats > 0:\n",
        "            self.__available_seats -= 1\n",
        "            print(\"Seat booked successfully.\")\n",
        "        else:\n",
        "            print(\"No seats available.\")\n",
        "\n",
        "    def cancel_reservation(self):\n",
        "        if self.__available_seats < self.__total_seats:\n",
        "            self.__available_seats += 1\n",
        "            print(\"Reservation canceled successfully.\")\n",
        "        else:\n",
        "            print(\"No reservation to cancel.\")\n",
        "\n",
        "\n",
        "class DomesticFlight(Flight):\n",
        "    def __init__(self, flight_number, departure_airport, arrival_airport, departure_time, arrival_time, total_seats, domestic_baggage_allowance):\n",
        "        super().__init__(flight_number, departure_airport, arrival_airport, departure_time, arrival_time, total_seats)\n",
        "        self.__domestic_baggage_allowance = domestic_baggage_allowance\n",
        "\n",
        "    def get_domestic_baggage_allowance(self):\n",
        "        return self.__domestic_baggage_allowance\n",
        "\n",
        "\n",
        "class InternationalFlight(Flight):\n",
        "    def __init__(self, flight_number, departure_airport, arrival_airport, departure_time, arrival_time, total_seats, international_baggage_allowance, visa_required):\n",
        "        super().__init__(flight_number, departure_airport, arrival_airport, departure_time, arrival_time, total_seats)\n",
        "        self.__international_baggage_allowance = international_baggage_allowance\n",
        "        self.__visa_required = visa_required\n",
        "\n",
        "    def get_international_baggage_allowance(self):\n",
        "        return self.__international_baggage_allowance\n",
        "\n",
        "    def is_visa_required(self):\n",
        "        return self.__visa_required\n",
        "\n",
        "\n",
        "# Example usage\n",
        "flight1 = DomesticFlight(\"AI123\", \"Delhi\", \"Mumbai\", \"10:00\", \"12:00\", 150, 20)\n",
        "flight1.book_seat()\n",
        "print(flight1.get_available_seats())  # Output: 149\n"
      ],
      "metadata": {
        "colab": {
          "base_uri": "https://localhost:8080/"
        },
        "id": "WkpJWL7jFTqI",
        "outputId": "de656226-ec79-4c33-f7f7-db470be724ac"
      },
      "execution_count": 41,
      "outputs": [
        {
          "output_type": "stream",
          "name": "stdout",
          "text": [
            "Seat booked successfully.\n",
            "149\n"
          ]
        }
      ]
    },
    {
      "cell_type": "markdown",
      "source": [
        "**16. Writing Employee Details to a Text File**"
      ],
      "metadata": {
        "id": "Vs6ZA0ARH7C4"
      }
    },
    {
      "cell_type": "code",
      "source": [
        "def write_employee_details(filename):\n",
        "    \"\"\"Writes employee details to a text file.\"\"\"\n",
        "    num_employees = int(input(\"Enter the number of employees: \"))\n",
        "\n",
        "    with open(filename, \"w\") as file:\n",
        "        for i in range(num_employees):\n",
        "            name = input(f\"Enter name for employee {i+1}: \")\n",
        "            age = int(input(f\"Enter age for employee {i+1}: \"))\n",
        "            salary = float(input(f\"Enter salary for employee {i+1}: \"))\n",
        "            file.write(f\"{name},{age},{salary}\\n\")\n",
        "\n",
        "# Example usage:\n",
        "write_employee_details(\"employees.txt\")\n"
      ],
      "metadata": {
        "colab": {
          "base_uri": "https://localhost:8080/"
        },
        "id": "Eq_Q9pWoF49R",
        "outputId": "89792950-8689-4e82-f5d3-7a303bd3299f"
      },
      "execution_count": 43,
      "outputs": [
        {
          "name": "stdout",
          "output_type": "stream",
          "text": [
            "Enter the number of employees: 1\n",
            "Enter name for employee 1: saa\n",
            "Enter age for employee 1: 31\n",
            "Enter salary for employee 1: 900000\n"
          ]
        }
      ]
    },
    {
      "cell_type": "markdown",
      "source": [
        "**17. Reading and Displaying Inventory from a Text File**"
      ],
      "metadata": {
        "id": "AOXIImLyH6Dh"
      }
    },
    {
      "cell_type": "code",
      "source": [
        "def read_inventory(filename):\n",
        "    \"\"\"Reads inventory from a text file and displays it.\"\"\"\n",
        "    with open(filename, \"r\") as file:\n",
        "        for line in file:\n",
        "            print(line.strip())\n",
        "\n",
        "# Example usage:\n",
        "read_inventory(\"employees.txt\")\n"
      ],
      "metadata": {
        "colab": {
          "base_uri": "https://localhost:8080/"
        },
        "id": "AQjLOIRZIgaT",
        "outputId": "a85e067f-67a0-47c1-bdd3-1865b1b532e5"
      },
      "execution_count": 45,
      "outputs": [
        {
          "output_type": "stream",
          "name": "stdout",
          "text": [
            "saa,31,900000.0\n"
          ]
        }
      ]
    },
    {
      "cell_type": "markdown",
      "source": [
        "**18. Calculating Total Expenses from a Text File**"
      ],
      "metadata": {
        "id": "TwuM3dY4I79R"
      }
    },
    {
      "cell_type": "code",
      "source": [
        "def calculate_total_expenses(filename):\n",
        "    \"\"\"Calculates the total amount spent from an expenses file.\"\"\"\n",
        "    total_expenses = 0\n",
        "    with open(filename, \"r\") as file:\n",
        "        for line in file:\n",
        "            amount = float(line.strip())\n",
        "            total_expenses += amount\n",
        "    return total_expenses\n",
        "\n",
        "# Example usage:\n",
        "total = calculate_total_expenses(\"expenses.txt\")\n",
        "print(\"Total expenses:\", total)\n"
      ],
      "metadata": {
        "id": "fAXcOaXKIjUG"
      },
      "execution_count": 47,
      "outputs": []
    },
    {
      "cell_type": "markdown",
      "source": [
        "**19. Counting Word Occurrences in a Paragraph**"
      ],
      "metadata": {
        "id": "iD3rPWquJReb"
      }
    },
    {
      "cell_type": "code",
      "source": [
        "def count_word_occurrences(filename):\n",
        "    \"\"\"Counts the occurrences of each word in a paragraph.\"\"\"\n",
        "    word_counts = {}\n",
        "    with open(filename, \"r\") as file:\n",
        "        for line in file:\n",
        "            words = line.split()\n",
        "            for word in words:\n",
        "                word_counts[word] = word_counts.get(word, 0) + 1\n",
        "    return word_counts\n",
        "\n",
        "# Example usage:\n",
        "word_counts = count_word_occurrences(\"paragraph.txt\")\n",
        "for word, count in sorted(word_counts.items()):\n",
        "    print(f\"{word}: {count}\")\n"
      ],
      "metadata": {
        "id": "auPdQgcsJL7b"
      },
      "execution_count": null,
      "outputs": []
    },
    {
      "cell_type": "markdown",
      "source": [
        "**24. Coefficient of Correlation Calculation**"
      ],
      "metadata": {
        "id": "-zkJdUrlK098"
      }
    },
    {
      "cell_type": "code",
      "source": [
        "import math\n",
        "\n",
        "def calculate_coefficient_of_correlation(x, y):\n",
        "    \"\"\"Calculates the coefficient of correlation using Karl Pearson's method.\"\"\"\n",
        "\n",
        "    n = len(x)\n",
        "    assert len(y) == n, \"X and Y must have the same length\"\n",
        "\n",
        "    # Calculate means\n",
        "    mean_x = sum(x) / n\n",
        "    mean_y = sum(y) / n\n",
        "\n",
        "    # Calculate deviations from the mean\n",
        "    dev_x = [xi - mean_x for xi in x]\n",
        "    dev_y = [yi - mean_y for yi in y]\n",
        "\n",
        "    # Calculate the numerator and denominators of the correlation formula\n",
        "    numerator = sum(xi * yi for xi, yi in zip(dev_x, dev_y))\n",
        "    denominator = math.sqrt(sum(xi**2 for xi in dev_x) * sum(yi**2 for yi in dev_y))\n",
        "\n",
        "    # Check if the denominator is zero to avoid division by zero\n",
        "    if denominator == 0:\n",
        "        return 0\n",
        "\n",
        "    # Calculate the correlation coefficient\n",
        "    r = numerator / denominator\n",
        "\n",
        "    return r\n",
        "\n",
        "# Data from the image\n",
        "accountancy_marks = [45, 70, 65, 30, 90, 40, 50, 75, 85, 60]\n",
        "statistics_marks = [35, 90, 70, 40, 95, 40, 60, 80, 80, 50]\n",
        "\n",
        "# Calculate the correlation coefficient\n",
        "correlation_coefficient = calculate_coefficient_of_correlation(accountancy_marks, statistics_marks)\n",
        "\n",
        "print(\"Coefficient of correlation:\", correlation_coefficient)\n"
      ],
      "metadata": {
        "colab": {
          "base_uri": "https://localhost:8080/"
        },
        "id": "Ze8x0_zFMTKp",
        "outputId": "db8fe61d-c518-49a7-b6e0-db1d51973ec9"
      },
      "execution_count": 1,
      "outputs": [
        {
          "output_type": "stream",
          "name": "stdout",
          "text": [
            "Coefficient of correlation: 0.9031178882610624\n"
          ]
        }
      ]
    },
    {
      "cell_type": "markdown",
      "source": [
        "**Question 38: Anova Test**"
      ],
      "metadata": {
        "id": "ukm0nbxacFaY"
      }
    },
    {
      "cell_type": "code",
      "source": [
        "import pandas as pd\n",
        "import statsmodels.api as sm\n",
        "from statsmodels.formula.api import ols\n",
        "\n",
        "# Data from the image\n",
        "data = {'Detergent': ['A', 'A', 'A', 'B', 'B', 'B', 'C', 'C', 'C'],\n",
        "        'Water_Temp': ['Cold', 'Warm', 'Hot', 'Cold', 'Warm', 'Hot', 'Cold', 'Warm', 'Hot'],\n",
        "        'Whiteness': [57, 49, 54, 55, 52, 46, 67, 68, 58]}\n",
        "\n",
        "# Create a pandas DataFrame\n",
        "df = pd.DataFrame(data)\n",
        "\n",
        "# Perform two-way ANOVA\n",
        "model = ols('Whiteness ~ C(Detergent) + C(Water_Temp) + C(Detergent):C(Water_Temp)', data=df).fit()\n",
        "anova_table = sm.stats.anova_lm(model, typ=2)\n",
        "\n",
        "print(anova_table)\n"
      ],
      "metadata": {
        "id": "W0sPqG_xMUZi"
      },
      "execution_count": 4,
      "outputs": []
    },
    {
      "cell_type": "code",
      "source": [],
      "metadata": {
        "id": "o9fPEuPZcTti"
      },
      "execution_count": null,
      "outputs": []
    }
  ]
}