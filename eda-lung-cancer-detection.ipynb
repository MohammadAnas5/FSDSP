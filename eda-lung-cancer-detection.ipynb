{
 "cells": [
  {
   "cell_type": "markdown",
   "id": "b5f0c35e",
   "metadata": {
    "papermill": {
     "duration": 0.006847,
     "end_time": "2022-07-24T09:00:36.546960",
     "exception": false,
     "start_time": "2022-07-24T09:00:36.540113",
     "status": "completed"
    },
    "tags": []
   },
   "source": [
    "<div style=\"width:100%;text-align: center;\"> <img align=middle src=\"https://media.istockphoto.com/photos/lung-cancer-picture-id94463987?b=1&k=20&m=94463987&s=170667a&w=0&h=8Rke8kc3eAY2uP3-o8AAATY8RtPfrfcBNCuQSiVTUs4=\" alt=\"Heat beating\" style=\"height:366px;margin-top:3rem;\"> </div>"
   ]
  },
  {
   "cell_type": "markdown",
   "id": "6a87a293",
   "metadata": {
    "papermill": {
     "duration": 0.005511,
     "end_time": "2022-07-24T09:00:36.558348",
     "exception": false,
     "start_time": "2022-07-24T09:00:36.552837",
     "status": "completed"
    },
    "tags": []
   },
   "source": [
    "# <h1 style='background:#E0BBE4; border:0; color:white'><center>🩺EDA: Lung Cancer Detection</center></h1> "
   ]
  },
  {
   "cell_type": "markdown",
   "id": "5a06b471",
   "metadata": {
    "papermill": {
     "duration": 0.005607,
     "end_time": "2022-07-24T09:00:36.569626",
     "exception": false,
     "start_time": "2022-07-24T09:00:36.564019",
     "status": "completed"
    },
    "tags": []
   },
   "source": [
    "# **<span style=\"color:#cd486b;\">📰About the Dataset</span>**\n",
    "\n",
    "The effectiveness of the cancer prediction system helps people to know their cancer risk wi a low cost and it also helps the people to take the appropriate decision based on their cancer risk status. The data is collected from the website online lung cancer prediction system.\n",
    "\n",
    "# **<span style=\"color:#cd486b;\">📁About the files</span>**\n",
    "\n",
    "The effectiveness of the cancer prediction system helps people to know their cancer risk wi a low cost and it also helps people to take the appropriate decision based on their cancer risk status. The data is collected from the website online lung cancer prediction system.\n",
    "\n",
    "**Total no. of attributes:16**\n",
    "\n",
    "**No .of instances:284** \n",
    "\n",
    "**Attribute information:**\n",
    "\n",
    "1. Gender: M(male), F(female) \n",
    "\n",
    "2. Age: Age of the patient \n",
    "\n",
    "3. Smoking: YES=2, NO=1\n",
    "\n",
    "4. Yellow fingers: YES=2 , NO = 1\n",
    "\n",
    "5. Anxiety: YES=2, NO=1\n",
    "\n",
    "6. Peer_pressure: YES=2, NO=1.\n",
    "\n",
    "7. Chronic Disease: YES=2, NO=1. \n",
    "\n",
    "8. Fatigue: YES=2 , NO=1.\n",
    "\n",
    "9. Allergy: YES=2, NO=1.\n",
    "\n",
    "10. Wheezing: YES=2, NO=1. \n",
    "\n",
    "11. Alcohol: YES=2, NO=1. \n",
    "\n",
    "12. Coughing: YES=2, NO=1. \n",
    "\n",
    "13. Shortness of Breath: YES=2, NO=1\n",
    "\n",
    "14. Swallowing Difficulty: YES=2, NO=1\n",
    "\n",
    "15. Chest pain: YES=2, NO=1. \n",
    "\n",
    "16. Lung Cancer: YES, NO."
   ]
  },
  {
   "cell_type": "code",
   "execution_count": 1,
   "id": "3762fae1",
   "metadata": {
    "execution": {
     "iopub.execute_input": "2022-07-24T09:00:36.582865Z",
     "iopub.status.busy": "2022-07-24T09:00:36.582435Z",
     "iopub.status.idle": "2022-07-24T09:00:37.709031Z",
     "shell.execute_reply": "2022-07-24T09:00:37.707269Z"
    },
    "papermill": {
     "duration": 1.138343,
     "end_time": "2022-07-24T09:00:37.713673",
     "exception": false,
     "start_time": "2022-07-24T09:00:36.575330",
     "status": "completed"
    },
    "tags": []
   },
   "outputs": [
    {
     "name": "stdout",
     "output_type": "stream",
     "text": [
      "\u001b[1m\u001b[96mNotebook Color Scheme: \u001b[0m\n"
     ]
    },
    {
     "data": {
      "image/png": "[encoded data removed]",
      "text/plain": [
       "<Figure size 432x72 with 1 Axes>"
      ]
     },
     "metadata": {
      "needs_background": "light"
     },
     "output_type": "display_data"
    }
   ],
   "source": [
    "import seaborn as sns\n",
    "import matplotlib.pyplot as plt\n",
    "\n",
    "#Custom Colors\n",
    "class clr:\n",
    "    S = '\\033[1m' + '\\033[96m'\n",
    "    E = '\\033[0m'\n",
    "    \n",
    "my_colors = [\"#F39FA6\", \"#957DAD\", \"#D291BC\", \"#6AA2BB\", \"#87BDA4\", \"#FCDCCF\"]\n",
    "\n",
    "print(clr.S + \"Notebook Color Scheme: \" + clr.E)\n",
    "sns.palplot(sns.color_palette(my_colors))"
   ]
  },
  {
   "cell_type": "code",
   "execution_count": 2,
   "id": "80458088",
   "metadata": {
    "execution": {
     "iopub.execute_input": "2022-07-24T09:00:37.741824Z",
     "iopub.status.busy": "2022-07-24T09:00:37.740074Z",
     "iopub.status.idle": "2022-07-24T09:00:37.749305Z",
     "shell.execute_reply": "2022-07-24T09:00:37.747947Z"
    },
    "papermill": {
     "duration": 0.027432,
     "end_time": "2022-07-24T09:00:37.753369",
     "exception": false,
     "start_time": "2022-07-24T09:00:37.725937",
     "status": "completed"
    },
    "tags": []
   },
   "outputs": [],
   "source": [
    "#Environment check\n",
    "import os\n",
    "import warnings\n",
    "warnings.filterwarnings(\"ignore\")"
   ]
  },
  {
   "cell_type": "code",
   "execution_count": 3,
   "id": "a1f79d81",
   "metadata": {
    "_cell_guid": "b1076dfc-b9ad-4769-8c92-a6c4dae69d19",
    "_uuid": "8f2839f25d086af736a60e9eeb907d3b93b6e0e5",
    "execution": {
     "iopub.execute_input": "2022-07-24T09:00:37.781901Z",
     "iopub.status.busy": "2022-07-24T09:00:37.781295Z",
     "iopub.status.idle": "2022-07-24T09:00:37.797634Z",
     "shell.execute_reply": "2022-07-24T09:00:37.796358Z"
    },
    "papermill": {
     "duration": 0.034651,
     "end_time": "2022-07-24T09:00:37.800084",
     "exception": false,
     "start_time": "2022-07-24T09:00:37.765433",
     "status": "completed"
    },
    "tags": []
   },
   "outputs": [
    {
     "name": "stdout",
     "output_type": "stream",
     "text": [
      "/kaggle/input/lung-cancer-detection/survey lung cancer.csv\n"
     ]
    }
   ],
   "source": [
    "# This Python 3 environment comes with many helpful analytics libraries installed\n",
    "# It is defined by the kaggle/python Docker image: https://github.com/kaggle/docker-python\n",
    "# For example, here's several helpful packages to load\n",
    "\n",
    "import numpy as np # linear algebra\n",
    "import pandas as pd # data processing, CSV file I/O (e.g. pd.read_csv)\n",
    "\n",
    "# Input data files are available in the read-only \"../input/\" directory\n",
    "# For example, running this (by clicking run or pressing Shift+Enter) will list all files under the input directory\n",
    "\n",
    "import os\n",
    "for dirname, _, filenames in os.walk('/kaggle/input'):\n",
    "    for filename in filenames:\n",
    "        print(os.path.join(dirname, filename))\n",
    "\n",
    "# You can write up to 20GB to the current directory (/kaggle/working/) that gets preserved as output when you create a version using \"Save & Run All\" \n",
    "# You can also write temporary files to /kaggle/temp/, but they won't be saved outside of the current session"
   ]
  },
  {
   "cell_type": "code",
   "execution_count": 4,
   "id": "5e845d8f",
   "metadata": {
    "execution": {
     "iopub.execute_input": "2022-07-24T09:00:37.814572Z",
     "iopub.status.busy": "2022-07-24T09:00:37.813967Z",
     "iopub.status.idle": "2022-07-24T09:00:37.828371Z",
     "shell.execute_reply": "2022-07-24T09:00:37.827500Z"
    },
    "papermill": {
     "duration": 0.02454,
     "end_time": "2022-07-24T09:00:37.830805",
     "exception": false,
     "start_time": "2022-07-24T09:00:37.806265",
     "status": "completed"
    },
    "tags": []
   },
   "outputs": [],
   "source": [
    "df = pd.read_csv('/kaggle/input/lung-cancer-detection/survey lung cancer.csv')"
   ]
  },
  {
   "cell_type": "code",
   "execution_count": 5,
   "id": "0643bfbb",
   "metadata": {
    "execution": {
     "iopub.execute_input": "2022-07-24T09:00:37.845516Z",
     "iopub.status.busy": "2022-07-24T09:00:37.845084Z",
     "iopub.status.idle": "2022-07-24T09:00:37.872475Z",
     "shell.execute_reply": "2022-07-24T09:00:37.870808Z"
    },
    "papermill": {
     "duration": 0.038022,
     "end_time": "2022-07-24T09:00:37.875003",
     "exception": false,
     "start_time": "2022-07-24T09:00:37.836981",
     "status": "completed"
    },
    "tags": []
   },
   "outputs": [
    {
     "name": "stdout",
     "output_type": "stream",
     "text": [
      "<class 'pandas.core.frame.DataFrame'>\n",
      "RangeIndex: 309 entries, 0 to 308\n",
      "Data columns (total 16 columns):\n",
      " #   Column                 Non-Null Count  Dtype \n",
      "---  ------                 --------------  ----- \n",
      " 0   GENDER                 309 non-null    object\n",
      " 1   AGE                    309 non-null    int64 \n",
      " 2   SMOKING                309 non-null    int64 \n",
      " 3   YELLOW_FINGERS         309 non-null    int64 \n",
      " 4   ANXIETY                309 non-null    int64 \n",
      " 5   PEER_PRESSURE          309 non-null    int64 \n",
      " 6   CHRONIC DISEASE        309 non-null    int64 \n",
      " 7   FATIGUE                309 non-null    int64 \n",
      " 8   ALLERGY                309 non-null    int64 \n",
      " 9   WHEEZING               309 non-null    int64 \n",
      " 10  ALCOHOL CONSUMING      309 non-null    int64 \n",
      " 11  COUGHING               309 non-null    int64 \n",
      " 12  SHORTNESS OF BREATH    309 non-null    int64 \n",
      " 13  SWALLOWING DIFFICULTY  309 non-null    int64 \n",
      " 14  CHEST PAIN             309 non-null    int64 \n",
      " 15  LUNG_CANCER            309 non-null    object\n",
      "dtypes: int64(14), object(2)\n",
      "memory usage: 38.8+ KB\n"
     ]
    }
   ],
   "source": [
    "df.info()"
   ]
  },
  {
   "cell_type": "code",
   "execution_count": 6,
   "id": "4a9abf35",
   "metadata": {
    "execution": {
     "iopub.execute_input": "2022-07-24T09:00:37.889402Z",
     "iopub.status.busy": "2022-07-24T09:00:37.888724Z",
     "iopub.status.idle": "2022-07-24T09:00:37.942250Z",
     "shell.execute_reply": "2022-07-24T09:00:37.940896Z"
    },
    "papermill": {
     "duration": 0.063513,
     "end_time": "2022-07-24T09:00:37.944771",
     "exception": false,
     "start_time": "2022-07-24T09:00:37.881258",
     "status": "completed"
    },
    "tags": []
   },
   "outputs": [
    {
     "data": {
      "text/html": [
       "<div>\n",
       "<style scoped>\n",
       "    .dataframe tbody tr th:only-of-type {\n",
       "        vertical-align: middle;\n",
       "    }\n",
       "\n",
       "    .dataframe tbody tr th {\n",
       "        vertical-align: top;\n",
       "    }\n",
       "\n",
       "    .dataframe thead th {\n",
       "        text-align: right;\n",
       "    }\n",
       "</style>\n",
       "<table border=\"1\" class=\"dataframe\">\n",
       "  <thead>\n",
       "    <tr style=\"text-align: right;\">\n",
       "      <th></th>\n",
       "      <th>AGE</th>\n",
       "      <th>SMOKING</th>\n",
       "      <th>YELLOW_FINGERS</th>\n",
       "      <th>ANXIETY</th>\n",
       "      <th>PEER_PRESSURE</th>\n",
       "      <th>CHRONIC DISEASE</th>\n",
       "      <th>FATIGUE</th>\n",
       "      <th>ALLERGY</th>\n",
       "      <th>WHEEZING</th>\n",
       "      <th>ALCOHOL CONSUMING</th>\n",
       "      <th>COUGHING</th>\n",
       "      <th>SHORTNESS OF BREATH</th>\n",
       "      <th>SWALLOWING DIFFICULTY</th>\n",
       "      <th>CHEST PAIN</th>\n",
       "    </tr>\n",
       "  </thead>\n",
       "  <tbody>\n",
       "    <tr>\n",
       "      <th>count</th>\n",
       "      <td>309.000000</td>\n",
       "      <td>309.000000</td>\n",
       "      <td>309.000000</td>\n",
       "      <td>309.000000</td>\n",
       "      <td>309.000000</td>\n",
       "      <td>309.000000</td>\n",
       "      <td>309.000000</td>\n",
       "      <td>309.000000</td>\n",
       "      <td>309.000000</td>\n",
       "      <td>309.000000</td>\n",
       "      <td>309.000000</td>\n",
       "      <td>309.000000</td>\n",
       "      <td>309.000000</td>\n",
       "      <td>309.000000</td>\n",
       "    </tr>\n",
       "    <tr>\n",
       "      <th>mean</th>\n",
       "      <td>62.673139</td>\n",
       "      <td>1.563107</td>\n",
       "      <td>1.569579</td>\n",
       "      <td>1.498382</td>\n",
       "      <td>1.501618</td>\n",
       "      <td>1.504854</td>\n",
       "      <td>1.673139</td>\n",
       "      <td>1.556634</td>\n",
       "      <td>1.556634</td>\n",
       "      <td>1.556634</td>\n",
       "      <td>1.579288</td>\n",
       "      <td>1.640777</td>\n",
       "      <td>1.469256</td>\n",
       "      <td>1.556634</td>\n",
       "    </tr>\n",
       "    <tr>\n",
       "      <th>std</th>\n",
       "      <td>8.210301</td>\n",
       "      <td>0.496806</td>\n",
       "      <td>0.495938</td>\n",
       "      <td>0.500808</td>\n",
       "      <td>0.500808</td>\n",
       "      <td>0.500787</td>\n",
       "      <td>0.469827</td>\n",
       "      <td>0.497588</td>\n",
       "      <td>0.497588</td>\n",
       "      <td>0.497588</td>\n",
       "      <td>0.494474</td>\n",
       "      <td>0.480551</td>\n",
       "      <td>0.499863</td>\n",
       "      <td>0.497588</td>\n",
       "    </tr>\n",
       "    <tr>\n",
       "      <th>min</th>\n",
       "      <td>21.000000</td>\n",
       "      <td>1.000000</td>\n",
       "      <td>1.000000</td>\n",
       "      <td>1.000000</td>\n",
       "      <td>1.000000</td>\n",
       "      <td>1.000000</td>\n",
       "      <td>1.000000</td>\n",
       "      <td>1.000000</td>\n",
       "      <td>1.000000</td>\n",
       "      <td>1.000000</td>\n",
       "      <td>1.000000</td>\n",
       "      <td>1.000000</td>\n",
       "      <td>1.000000</td>\n",
       "      <td>1.000000</td>\n",
       "    </tr>\n",
       "    <tr>\n",
       "      <th>25%</th>\n",
       "      <td>57.000000</td>\n",
       "      <td>1.000000</td>\n",
       "      <td>1.000000</td>\n",
       "      <td>1.000000</td>\n",
       "      <td>1.000000</td>\n",
       "      <td>1.000000</td>\n",
       "      <td>1.000000</td>\n",
       "      <td>1.000000</td>\n",
       "      <td>1.000000</td>\n",
       "      <td>1.000000</td>\n",
       "      <td>1.000000</td>\n",
       "      <td>1.000000</td>\n",
       "      <td>1.000000</td>\n",
       "      <td>1.000000</td>\n",
       "    </tr>\n",
       "    <tr>\n",
       "      <th>50%</th>\n",
       "      <td>62.000000</td>\n",
       "      <td>2.000000</td>\n",
       "      <td>2.000000</td>\n",
       "      <td>1.000000</td>\n",
       "      <td>2.000000</td>\n",
       "      <td>2.000000</td>\n",
       "      <td>2.000000</td>\n",
       "      <td>2.000000</td>\n",
       "      <td>2.000000</td>\n",
       "      <td>2.000000</td>\n",
       "      <td>2.000000</td>\n",
       "      <td>2.000000</td>\n",
       "      <td>1.000000</td>\n",
       "      <td>2.000000</td>\n",
       "    </tr>\n",
       "    <tr>\n",
       "      <th>75%</th>\n",
       "      <td>69.000000</td>\n",
       "      <td>2.000000</td>\n",
       "      <td>2.000000</td>\n",
       "      <td>2.000000</td>\n",
       "      <td>2.000000</td>\n",
       "      <td>2.000000</td>\n",
       "      <td>2.000000</td>\n",
       "      <td>2.000000</td>\n",
       "      <td>2.000000</td>\n",
       "      <td>2.000000</td>\n",
       "      <td>2.000000</td>\n",
       "      <td>2.000000</td>\n",
       "      <td>2.000000</td>\n",
       "      <td>2.000000</td>\n",
       "    </tr>\n",
       "    <tr>\n",
       "      <th>max</th>\n",
       "      <td>87.000000</td>\n",
       "      <td>2.000000</td>\n",
       "      <td>2.000000</td>\n",
       "      <td>2.000000</td>\n",
       "      <td>2.000000</td>\n",
       "      <td>2.000000</td>\n",
       "      <td>2.000000</td>\n",
       "      <td>2.000000</td>\n",
       "      <td>2.000000</td>\n",
       "      <td>2.000000</td>\n",
       "      <td>2.000000</td>\n",
       "      <td>2.000000</td>\n",
       "      <td>2.000000</td>\n",
       "      <td>2.000000</td>\n",
       "    </tr>\n",
       "  </tbody>\n",
       "</table>\n",
       "</div>"
      ],
      "text/plain": [
       "              AGE     SMOKING  YELLOW_FINGERS     ANXIETY  PEER_PRESSURE  \\\n",
       "count  309.000000  309.000000      309.000000  309.000000     309.000000   \n",
       "mean    62.673139    1.563107        1.569579    1.498382       1.501618   \n",
       "std      8.210301    0.496806        0.495938    0.500808       0.500808   \n",
       "min     21.000000    1.000000        1.000000    1.000000       1.000000   \n",
       "25%     57.000000    1.000000        1.000000    1.000000       1.000000   \n",
       "50%     62.000000    2.000000        2.000000    1.000000       2.000000   \n",
       "75%     69.000000    2.000000        2.000000    2.000000       2.000000   \n",
       "max     87.000000    2.000000        2.000000    2.000000       2.000000   \n",
       "\n",
       "       CHRONIC DISEASE    FATIGUE     ALLERGY     WHEEZING  ALCOHOL CONSUMING  \\\n",
       "count       309.000000  309.000000  309.000000  309.000000         309.000000   \n",
       "mean          1.504854    1.673139    1.556634    1.556634           1.556634   \n",
       "std           0.500787    0.469827    0.497588    0.497588           0.497588   \n",
       "min           1.000000    1.000000    1.000000    1.000000           1.000000   \n",
       "25%           1.000000    1.000000    1.000000    1.000000           1.000000   \n",
       "50%           2.000000    2.000000    2.000000    2.000000           2.000000   \n",
       "75%           2.000000    2.000000    2.000000    2.000000           2.000000   \n",
       "max           2.000000    2.000000    2.000000    2.000000           2.000000   \n",
       "\n",
       "         COUGHING  SHORTNESS OF BREATH  SWALLOWING DIFFICULTY  CHEST PAIN  \n",
       "count  309.000000           309.000000             309.000000  309.000000  \n",
       "mean     1.579288             1.640777               1.469256    1.556634  \n",
       "std      0.494474             0.480551               0.499863    0.497588  \n",
       "min      1.000000             1.000000               1.000000    1.000000  \n",
       "25%      1.000000             1.000000               1.000000    1.000000  \n",
       "50%      2.000000             2.000000               1.000000    2.000000  \n",
       "75%      2.000000             2.000000               2.000000    2.000000  \n",
       "max      2.000000             2.000000               2.000000    2.000000  "
      ]
     },
     "execution_count": 6,
     "metadata": {},
     "output_type": "execute_result"
    }
   ],
   "source": [
    "df.describe()"
   ]
  },
  {
   "cell_type": "code",
   "execution_count": 7,
   "id": "ee4cc2e6",
   "metadata": {
    "execution": {
     "iopub.execute_input": "2022-07-24T09:00:37.960483Z",
     "iopub.status.busy": "2022-07-24T09:00:37.960094Z",
     "iopub.status.idle": "2022-07-24T09:00:37.966868Z",
     "shell.execute_reply": "2022-07-24T09:00:37.965801Z"
    },
    "papermill": {
     "duration": 0.016967,
     "end_time": "2022-07-24T09:00:37.969097",
     "exception": false,
     "start_time": "2022-07-24T09:00:37.952130",
     "status": "completed"
    },
    "tags": []
   },
   "outputs": [
    {
     "data": {
      "text/plain": [
       "Index(['GENDER', 'AGE', 'SMOKING', 'YELLOW_FINGERS', 'ANXIETY',\n",
       "       'PEER_PRESSURE', 'CHRONIC DISEASE', 'FATIGUE ', 'ALLERGY ', 'WHEEZING',\n",
       "       'ALCOHOL CONSUMING', 'COUGHING', 'SHORTNESS OF BREATH',\n",
       "       'SWALLOWING DIFFICULTY', 'CHEST PAIN', 'LUNG_CANCER'],\n",
       "      dtype='object')"
      ]
     },
     "execution_count": 7,
     "metadata": {},
     "output_type": "execute_result"
    }
   ],
   "source": [
    "df.columns"
   ]
  },
  {
   "cell_type": "code",
   "execution_count": 8,
   "id": "0315d6c6",
   "metadata": {
    "execution": {
     "iopub.execute_input": "2022-07-24T09:00:37.985194Z",
     "iopub.status.busy": "2022-07-24T09:00:37.984543Z",
     "iopub.status.idle": "2022-07-24T09:00:38.000007Z",
     "shell.execute_reply": "2022-07-24T09:00:37.998786Z"
    },
    "papermill": {
     "duration": 0.026082,
     "end_time": "2022-07-24T09:00:38.002470",
     "exception": false,
     "start_time": "2022-07-24T09:00:37.976388",
     "status": "completed"
    },
    "tags": []
   },
   "outputs": [
    {
     "data": {
      "text/html": [
       "<div>\n",
       "<style scoped>\n",
       "    .dataframe tbody tr th:only-of-type {\n",
       "        vertical-align: middle;\n",
       "    }\n",
       "\n",
       "    .dataframe tbody tr th {\n",
       "        vertical-align: top;\n",
       "    }\n",
       "\n",
       "    .dataframe thead th {\n",
       "        text-align: right;\n",
       "    }\n",
       "</style>\n",
       "<table border=\"1\" class=\"dataframe\">\n",
       "  <thead>\n",
       "    <tr style=\"text-align: right;\">\n",
       "      <th></th>\n",
       "      <th>GENDER</th>\n",
       "      <th>AGE</th>\n",
       "      <th>SMOKING</th>\n",
       "      <th>YELLOW_FINGERS</th>\n",
       "      <th>ANXIETY</th>\n",
       "      <th>PEER_PRESSURE</th>\n",
       "      <th>CHRONIC DISEASE</th>\n",
       "      <th>FATIGUE</th>\n",
       "      <th>ALLERGY</th>\n",
       "      <th>WHEEZING</th>\n",
       "      <th>ALCOHOL CONSUMING</th>\n",
       "      <th>COUGHING</th>\n",
       "      <th>SHORTNESS OF BREATH</th>\n",
       "      <th>SWALLOWING DIFFICULTY</th>\n",
       "      <th>CHEST PAIN</th>\n",
       "      <th>LUNG_CANCER</th>\n",
       "    </tr>\n",
       "  </thead>\n",
       "  <tbody>\n",
       "    <tr>\n",
       "      <th>0</th>\n",
       "      <td>M</td>\n",
       "      <td>69</td>\n",
       "      <td>1</td>\n",
       "      <td>2</td>\n",
       "      <td>2</td>\n",
       "      <td>1</td>\n",
       "      <td>1</td>\n",
       "      <td>2</td>\n",
       "      <td>1</td>\n",
       "      <td>2</td>\n",
       "      <td>2</td>\n",
       "      <td>2</td>\n",
       "      <td>2</td>\n",
       "      <td>2</td>\n",
       "      <td>2</td>\n",
       "      <td>YES</td>\n",
       "    </tr>\n",
       "    <tr>\n",
       "      <th>1</th>\n",
       "      <td>M</td>\n",
       "      <td>74</td>\n",
       "      <td>2</td>\n",
       "      <td>1</td>\n",
       "      <td>1</td>\n",
       "      <td>1</td>\n",
       "      <td>2</td>\n",
       "      <td>2</td>\n",
       "      <td>2</td>\n",
       "      <td>1</td>\n",
       "      <td>1</td>\n",
       "      <td>1</td>\n",
       "      <td>2</td>\n",
       "      <td>2</td>\n",
       "      <td>2</td>\n",
       "      <td>YES</td>\n",
       "    </tr>\n",
       "    <tr>\n",
       "      <th>2</th>\n",
       "      <td>F</td>\n",
       "      <td>59</td>\n",
       "      <td>1</td>\n",
       "      <td>1</td>\n",
       "      <td>1</td>\n",
       "      <td>2</td>\n",
       "      <td>1</td>\n",
       "      <td>2</td>\n",
       "      <td>1</td>\n",
       "      <td>2</td>\n",
       "      <td>1</td>\n",
       "      <td>2</td>\n",
       "      <td>2</td>\n",
       "      <td>1</td>\n",
       "      <td>2</td>\n",
       "      <td>NO</td>\n",
       "    </tr>\n",
       "    <tr>\n",
       "      <th>3</th>\n",
       "      <td>M</td>\n",
       "      <td>63</td>\n",
       "      <td>2</td>\n",
       "      <td>2</td>\n",
       "      <td>2</td>\n",
       "      <td>1</td>\n",
       "      <td>1</td>\n",
       "      <td>1</td>\n",
       "      <td>1</td>\n",
       "      <td>1</td>\n",
       "      <td>2</td>\n",
       "      <td>1</td>\n",
       "      <td>1</td>\n",
       "      <td>2</td>\n",
       "      <td>2</td>\n",
       "      <td>NO</td>\n",
       "    </tr>\n",
       "    <tr>\n",
       "      <th>4</th>\n",
       "      <td>F</td>\n",
       "      <td>63</td>\n",
       "      <td>1</td>\n",
       "      <td>2</td>\n",
       "      <td>1</td>\n",
       "      <td>1</td>\n",
       "      <td>1</td>\n",
       "      <td>1</td>\n",
       "      <td>1</td>\n",
       "      <td>2</td>\n",
       "      <td>1</td>\n",
       "      <td>2</td>\n",
       "      <td>2</td>\n",
       "      <td>1</td>\n",
       "      <td>1</td>\n",
       "      <td>NO</td>\n",
       "    </tr>\n",
       "  </tbody>\n",
       "</table>\n",
       "</div>"
      ],
      "text/plain": [
       "  GENDER  AGE  SMOKING  YELLOW_FINGERS  ANXIETY  PEER_PRESSURE  \\\n",
       "0      M   69        1               2        2              1   \n",
       "1      M   74        2               1        1              1   \n",
       "2      F   59        1               1        1              2   \n",
       "3      M   63        2               2        2              1   \n",
       "4      F   63        1               2        1              1   \n",
       "\n",
       "   CHRONIC DISEASE  FATIGUE   ALLERGY   WHEEZING  ALCOHOL CONSUMING  COUGHING  \\\n",
       "0                1         2         1         2                  2         2   \n",
       "1                2         2         2         1                  1         1   \n",
       "2                1         2         1         2                  1         2   \n",
       "3                1         1         1         1                  2         1   \n",
       "4                1         1         1         2                  1         2   \n",
       "\n",
       "   SHORTNESS OF BREATH  SWALLOWING DIFFICULTY  CHEST PAIN LUNG_CANCER  \n",
       "0                    2                      2           2         YES  \n",
       "1                    2                      2           2         YES  \n",
       "2                    2                      1           2          NO  \n",
       "3                    1                      2           2          NO  \n",
       "4                    2                      1           1          NO  "
      ]
     },
     "execution_count": 8,
     "metadata": {},
     "output_type": "execute_result"
    }
   ],
   "source": [
    "df.head()"
   ]
  },
  {
   "cell_type": "markdown",
   "id": "d4fb06ba",
   "metadata": {
    "papermill": {
     "duration": 0.006526,
     "end_time": "2022-07-24T09:00:38.015991",
     "exception": false,
     "start_time": "2022-07-24T09:00:38.009465",
     "status": "completed"
    },
    "tags": []
   },
   "source": [
    "# **<span style=\"color:#957DAD;\">🥽Let's see what all we can explore in this dataset</span>**\n",
    "\n",
    "> 1. Find relation between all parameters\n",
    "\n",
    "> 2. Which is the most common age of cancer patients.\n",
    "\n",
    "> 3. Which is the main reason among all to cause cancer i.e relation between smoking, anxiety, alcohol consumption etc.\n",
    "\n",
    "> 4. Out of Men and Women, who were most prone to cancer."
   ]
  },
  {
   "cell_type": "markdown",
   "id": "e2efc552",
   "metadata": {
    "papermill": {
     "duration": 0.006546,
     "end_time": "2022-07-24T09:00:38.029518",
     "exception": false,
     "start_time": "2022-07-24T09:00:38.022972",
     "status": "completed"
    },
    "tags": []
   },
   "source": [
    "## **<span style=\"color:#957DAD;\">🧹Data Cleaning and Feature engineering</span>**"
   ]
  },
  {
   "cell_type": "code",
   "execution_count": 9,
   "id": "abc74066",
   "metadata": {
    "execution": {
     "iopub.execute_input": "2022-07-24T09:00:38.044846Z",
     "iopub.status.busy": "2022-07-24T09:00:38.044485Z",
     "iopub.status.idle": "2022-07-24T09:00:38.054850Z",
     "shell.execute_reply": "2022-07-24T09:00:38.053724Z"
    },
    "papermill": {
     "duration": 0.020504,
     "end_time": "2022-07-24T09:00:38.056842",
     "exception": false,
     "start_time": "2022-07-24T09:00:38.036338",
     "status": "completed"
    },
    "tags": []
   },
   "outputs": [
    {
     "data": {
      "text/plain": [
       "GENDER                   False\n",
       "AGE                      False\n",
       "SMOKING                  False\n",
       "YELLOW_FINGERS           False\n",
       "ANXIETY                  False\n",
       "PEER_PRESSURE            False\n",
       "CHRONIC DISEASE          False\n",
       "FATIGUE                  False\n",
       "ALLERGY                  False\n",
       "WHEEZING                 False\n",
       "ALCOHOL CONSUMING        False\n",
       "COUGHING                 False\n",
       "SHORTNESS OF BREATH      False\n",
       "SWALLOWING DIFFICULTY    False\n",
       "CHEST PAIN               False\n",
       "LUNG_CANCER              False\n",
       "dtype: bool"
      ]
     },
     "execution_count": 9,
     "metadata": {},
     "output_type": "execute_result"
    }
   ],
   "source": [
    "df.isna().any()"
   ]
  },
  {
   "cell_type": "markdown",
   "id": "7abd93d8",
   "metadata": {
    "papermill": {
     "duration": 0.006774,
     "end_time": "2022-07-24T09:00:38.070750",
     "exception": false,
     "start_time": "2022-07-24T09:00:38.063976",
     "status": "completed"
    },
    "tags": []
   },
   "source": [
    "**<span style=\"color:#F39FA6;\">There are no NULL values in this dataset.</span>**"
   ]
  },
  {
   "cell_type": "code",
   "execution_count": 10,
   "id": "81a8fded",
   "metadata": {
    "execution": {
     "iopub.execute_input": "2022-07-24T09:00:38.087613Z",
     "iopub.status.busy": "2022-07-24T09:00:38.087241Z",
     "iopub.status.idle": "2022-07-24T09:00:38.093815Z",
     "shell.execute_reply": "2022-07-24T09:00:38.092796Z"
    },
    "papermill": {
     "duration": 0.017359,
     "end_time": "2022-07-24T09:00:38.095833",
     "exception": false,
     "start_time": "2022-07-24T09:00:38.078474",
     "status": "completed"
    },
    "tags": []
   },
   "outputs": [],
   "source": [
    "# Patient has lung cancer = 2 , Patient not having lung cancer = 1\n",
    "\n",
    "df['LUNG_CANCER'] = df['LUNG_CANCER'].replace('YES', '2')\n",
    "df['LUNG_CANCER'] = df['LUNG_CANCER'].replace('NO', '1')"
   ]
  },
  {
   "cell_type": "markdown",
   "id": "d454e9d2",
   "metadata": {
    "papermill": {
     "duration": 0.006715,
     "end_time": "2022-07-24T09:00:38.109620",
     "exception": false,
     "start_time": "2022-07-24T09:00:38.102905",
     "status": "completed"
    },
    "tags": []
   },
   "source": [
    "## **<span style=\"color:#D291BC;\">1️⃣ Find relation between all parameters</span>**"
   ]
  },
  {
   "cell_type": "code",
   "execution_count": 11,
   "id": "831cbf7c",
   "metadata": {
    "execution": {
     "iopub.execute_input": "2022-07-24T09:00:38.125201Z",
     "iopub.status.busy": "2022-07-24T09:00:38.124851Z",
     "iopub.status.idle": "2022-07-24T09:00:39.170090Z",
     "shell.execute_reply": "2022-07-24T09:00:39.168790Z"
    },
    "papermill": {
     "duration": 1.056204,
     "end_time": "2022-07-24T09:00:39.172803",
     "exception": false,
     "start_time": "2022-07-24T09:00:38.116599",
     "status": "completed"
    },
    "tags": []
   },
   "outputs": [
    {
     "data": {
      "image/png": "[encoded data removed]",
      "text/plain": [
       "<Figure size 1080x576 with 2 Axes>"
      ]
     },
     "metadata": {},
     "output_type": "display_data"
    }
   ],
   "source": [
    "plt.figure(figsize = (15, 8), facecolor = \"#F7F4F4\")\n",
    "sns.heatmap(df.corr(), annot = True, cmap = \"gist_heat\");"
   ]
  },
  {
   "cell_type": "markdown",
   "id": "791d9817",
   "metadata": {
    "papermill": {
     "duration": 0.0093,
     "end_time": "2022-07-24T09:00:39.193099",
     "exception": false,
     "start_time": "2022-07-24T09:00:39.183799",
     "status": "completed"
    },
    "tags": []
   },
   "source": [
    "## **<span style=\"color:#D291BC;\">2️⃣ Which is the most common age of cancer patients.</span>**"
   ]
  },
  {
   "cell_type": "code",
   "execution_count": 12,
   "id": "2e81d0b2",
   "metadata": {
    "execution": {
     "iopub.execute_input": "2022-07-24T09:00:39.214511Z",
     "iopub.status.busy": "2022-07-24T09:00:39.214140Z",
     "iopub.status.idle": "2022-07-24T09:00:39.222617Z",
     "shell.execute_reply": "2022-07-24T09:00:39.221794Z"
    },
    "papermill": {
     "duration": 0.021255,
     "end_time": "2022-07-24T09:00:39.224657",
     "exception": false,
     "start_time": "2022-07-24T09:00:39.203402",
     "status": "completed"
    },
    "tags": []
   },
   "outputs": [
    {
     "data": {
      "text/plain": [
       "64    20\n",
       "63    19\n",
       "56    19\n",
       "62    18\n",
       "60    17\n",
       "Name: AGE, dtype: int64"
      ]
     },
     "execution_count": 12,
     "metadata": {},
     "output_type": "execute_result"
    }
   ],
   "source": [
    "common_age = df['AGE'].value_counts()\n",
    "common_age.head()"
   ]
  },
  {
   "cell_type": "code",
   "execution_count": 13,
   "id": "ed2d8fb0",
   "metadata": {
    "execution": {
     "iopub.execute_input": "2022-07-24T09:00:39.245626Z",
     "iopub.status.busy": "2022-07-24T09:00:39.244865Z",
     "iopub.status.idle": "2022-07-24T09:00:39.605137Z",
     "shell.execute_reply": "2022-07-24T09:00:39.603877Z"
    },
    "papermill": {
     "duration": 0.373457,
     "end_time": "2022-07-24T09:00:39.607613",
     "exception": false,
     "start_time": "2022-07-24T09:00:39.234156",
     "status": "completed"
    },
    "tags": []
   },
   "outputs": [
    {
     "data": {
      "image/png": "[encoded data removed]",
      "text/plain": [
       "<Figure size 1080x576 with 1 Axes>"
      ]
     },
     "metadata": {
      "needs_background": "light"
     },
     "output_type": "display_data"
    }
   ],
   "source": [
    "plt.figure(figsize=(15,8))\n",
    "common_age.plot(kind = 'bar',color = my_colors[0])\n",
    "plt.show()"
   ]
  },
  {
   "cell_type": "code",
   "execution_count": 14,
   "id": "0ffd6ed9",
   "metadata": {
    "execution": {
     "iopub.execute_input": "2022-07-24T09:00:39.630378Z",
     "iopub.status.busy": "2022-07-24T09:00:39.629303Z",
     "iopub.status.idle": "2022-07-24T09:00:39.788879Z",
     "shell.execute_reply": "2022-07-24T09:00:39.788052Z"
    },
    "papermill": {
     "duration": 0.173398,
     "end_time": "2022-07-24T09:00:39.790915",
     "exception": false,
     "start_time": "2022-07-24T09:00:39.617517",
     "status": "completed"
    },
    "tags": []
   },
   "outputs": [
    {
     "data": {
      "text/plain": [
       "<matplotlib.collections.PathCollection at 0x7f0bd540e850>"
      ]
     },
     "execution_count": 14,
     "metadata": {},
     "output_type": "execute_result"
    },
    {
     "data": {
      "image/png": "[encoded data removed]",
      "text/plain": [
       "<Figure size 432x288 with 1 Axes>"
      ]
     },
     "metadata": {
      "needs_background": "light"
     },
     "output_type": "display_data"
    }
   ],
   "source": [
    "plt.scatter(df.AGE, df.GENDER, alpha = 0.6, s=10, color = my_colors[1])"
   ]
  },
  {
   "cell_type": "markdown",
   "id": "8f77e6d2",
   "metadata": {
    "papermill": {
     "duration": 0.010252,
     "end_time": "2022-07-24T09:00:39.811358",
     "exception": false,
     "start_time": "2022-07-24T09:00:39.801106",
     "status": "completed"
    },
    "tags": []
   },
   "source": [
    "**<span style=\"color:#F39FA6;\">It seems like people between age of 50 to 75 are most prone of having lung cancer. Further, we will also look into reasons behind lung cancer.</span>**"
   ]
  },
  {
   "cell_type": "markdown",
   "id": "a635ea77",
   "metadata": {
    "papermill": {
     "duration": 0.010035,
     "end_time": "2022-07-24T09:00:39.831510",
     "exception": false,
     "start_time": "2022-07-24T09:00:39.821475",
     "status": "completed"
    },
    "tags": []
   },
   "source": [
    "## **<span style=\"color:#D291BC;\">3️⃣ Which is the main reason among all to cause cancer i.e relation between smoking, anxiety, alcohol consumption etc.</span>**"
   ]
  },
  {
   "cell_type": "code",
   "execution_count": 15,
   "id": "bcecc351",
   "metadata": {
    "execution": {
     "iopub.execute_input": "2022-07-24T09:00:39.853629Z",
     "iopub.status.busy": "2022-07-24T09:00:39.853227Z",
     "iopub.status.idle": "2022-07-24T09:00:40.066337Z",
     "shell.execute_reply": "2022-07-24T09:00:40.065456Z"
    },
    "papermill": {
     "duration": 0.22688,
     "end_time": "2022-07-24T09:00:40.068579",
     "exception": false,
     "start_time": "2022-07-24T09:00:39.841699",
     "status": "completed"
    },
    "tags": []
   },
   "outputs": [
    {
     "data": {
      "image/png": "[encoded data removed]",
      "text/plain": [
       "<Figure size 1080x576 with 1 Axes>"
      ]
     },
     "metadata": {
      "needs_background": "light"
     },
     "output_type": "display_data"
    }
   ],
   "source": [
    "#Relation between smoking and lung cancer\n",
    "plt.figure(figsize=(15,8))\n",
    "df.groupby(['SMOKING', 'LUNG_CANCER']).SMOKING.count().plot(kind = 'bar',color = my_colors[2])\n",
    "plt.title('Smoking vs Lung Cancer')\n",
    "plt.legend()\n",
    "plt.show()"
   ]
  },
  {
   "cell_type": "code",
   "execution_count": 16,
   "id": "4f2d99ba",
   "metadata": {
    "execution": {
     "iopub.execute_input": "2022-07-24T09:00:40.091990Z",
     "iopub.status.busy": "2022-07-24T09:00:40.091393Z",
     "iopub.status.idle": "2022-07-24T09:00:40.301898Z",
     "shell.execute_reply": "2022-07-24T09:00:40.301102Z"
    },
    "papermill": {
     "duration": 0.224529,
     "end_time": "2022-07-24T09:00:40.304055",
     "exception": false,
     "start_time": "2022-07-24T09:00:40.079526",
     "status": "completed"
    },
    "tags": []
   },
   "outputs": [
    {
     "data": {
      "image/png": "[encoded data removed]",
      "text/plain": [
       "<Figure size 1080x576 with 1 Axes>"
      ]
     },
     "metadata": {
      "needs_background": "light"
     },
     "output_type": "display_data"
    }
   ],
   "source": [
    "# Relation between alcohol consumption and lung cancer\n",
    "plt.figure(figsize=(15,8))\n",
    "df.groupby(['ALCOHOL CONSUMING', 'LUNG_CANCER']).SMOKING.count().plot(kind = 'bar',color = my_colors[3])\n",
    "plt.title('Alochol consumption vs Lung Cancer')\n",
    "plt.legend()\n",
    "plt.show()"
   ]
  },
  {
   "cell_type": "code",
   "execution_count": 17,
   "id": "024240b8",
   "metadata": {
    "execution": {
     "iopub.execute_input": "2022-07-24T09:00:40.328263Z",
     "iopub.status.busy": "2022-07-24T09:00:40.327697Z",
     "iopub.status.idle": "2022-07-24T09:00:40.535135Z",
     "shell.execute_reply": "2022-07-24T09:00:40.534372Z"
    },
    "papermill": {
     "duration": 0.222161,
     "end_time": "2022-07-24T09:00:40.537149",
     "exception": false,
     "start_time": "2022-07-24T09:00:40.314988",
     "status": "completed"
    },
    "tags": []
   },
   "outputs": [
    {
     "data": {
      "image/png": "[encoded data removed]",
      "text/plain": [
       "<Figure size 1080x576 with 1 Axes>"
      ]
     },
     "metadata": {
      "needs_background": "light"
     },
     "output_type": "display_data"
    }
   ],
   "source": [
    "# Relation between patient chronic disease history and lung cancer\n",
    "\n",
    "plt.figure(figsize=(15,8))\n",
    "df.groupby(['CHRONIC DISEASE', 'LUNG_CANCER']).SMOKING.count().plot(kind = 'bar',color = my_colors[4])\n",
    "plt.title('Chronic disease hstory vs Lung Cancer')\n",
    "plt.legend()\n",
    "plt.show()"
   ]
  },
  {
   "cell_type": "markdown",
   "id": "94ae5a49",
   "metadata": {
    "papermill": {
     "duration": 0.010869,
     "end_time": "2022-07-24T09:00:40.559576",
     "exception": false,
     "start_time": "2022-07-24T09:00:40.548707",
     "status": "completed"
    },
    "tags": []
   },
   "source": [
    "**In the above bar chart 1 means NO and 2 means Yes**\n",
    "\n",
    "**<span style=\"color:#F39FA6;\">From the above bar graph, (2,1) means that the person smokes but does not have Lung cancer.\n",
    "Surprisingly, as we must have predicted that smoking and alcohol consumption could be big reasons for lung cancer, it seems that they are just contributor. The last bar having coordinates (2,2) shows the percentage of people who smoke and consume alcohol have cancer as well.</span>**\n",
    "\n",
    "**<span style=\"color:#F39FA6;\">While people who have some history of chronic disease are more prone to having a lung cancer.</span>**"
   ]
  },
  {
   "cell_type": "markdown",
   "id": "d647134c",
   "metadata": {
    "papermill": {
     "duration": 0.010903,
     "end_time": "2022-07-24T09:00:40.581696",
     "exception": false,
     "start_time": "2022-07-24T09:00:40.570793",
     "status": "completed"
    },
    "tags": []
   },
   "source": [
    "## **<span style=\"color:#D291BC;\">4️⃣ Out of Men and Women, who were most prone to cancer.</span>**"
   ]
  },
  {
   "cell_type": "code",
   "execution_count": 18,
   "id": "8894a9e6",
   "metadata": {
    "execution": {
     "iopub.execute_input": "2022-07-24T09:00:40.606082Z",
     "iopub.status.busy": "2022-07-24T09:00:40.605368Z",
     "iopub.status.idle": "2022-07-24T09:00:40.810886Z",
     "shell.execute_reply": "2022-07-24T09:00:40.810106Z"
    },
    "papermill": {
     "duration": 0.220123,
     "end_time": "2022-07-24T09:00:40.812895",
     "exception": false,
     "start_time": "2022-07-24T09:00:40.592772",
     "status": "completed"
    },
    "tags": []
   },
   "outputs": [
    {
     "data": {
      "image/png": "[encoded data removed]",
      "text/plain": [
       "<Figure size 1080x576 with 1 Axes>"
      ]
     },
     "metadata": {
      "needs_background": "light"
     },
     "output_type": "display_data"
    }
   ],
   "source": [
    "plt.figure(figsize=(15,8))\n",
    "df.groupby(['GENDER', 'LUNG_CANCER']).SMOKING.count().plot(kind = 'bar',color = my_colors[5])\n",
    "plt.title('Chronic disease hstory vs Lung Cancer')\n",
    "plt.legend()\n",
    "plt.show()"
   ]
  },
  {
   "cell_type": "markdown",
   "id": "6b4b4e62",
   "metadata": {
    "papermill": {
     "duration": 0.011147,
     "end_time": "2022-07-24T09:00:40.835582",
     "exception": false,
     "start_time": "2022-07-24T09:00:40.824435",
     "status": "completed"
    },
    "tags": []
   },
   "source": [
    "**<span style=\"color:#F39FA6;\">From above analysis, we found that women (F) are more prone to having lung cancer as compared to men (M). It seems that women are more indulge into works which directly affects their resspiratory system.</span>**"
   ]
  },
  {
   "cell_type": "markdown",
   "id": "cb9b8467",
   "metadata": {
    "papermill": {
     "duration": 0.011477,
     "end_time": "2022-07-24T09:00:40.858431",
     "exception": false,
     "start_time": "2022-07-24T09:00:40.846954",
     "status": "completed"
    },
    "tags": []
   },
   "source": [
    "# **<span style=\"color:#cd486b;\">🤘Conclusion</span>**\n",
    "\n",
    "\n",
    "**<span style=\"color:#000000;\">This marks the end of 🩺EDA: Lung Cancer Detection</span>** \n",
    "\n",
    "**<span style=\"color:#000000;\"> Stay Tuned for more</span>** \n",
    "\n",
    "**<span style=\"color:#000000;\">Please share your feedback and suggestions and help me improve 😇 </span>** "
   ]
  }
 ],
 "metadata": {
  "kernelspec": {
   "display_name": "Python 3",
   "language": "python",
   "name": "python3"
  },
  "language_info": {
   "codemirror_mode": {
    "name": "ipython",
    "version": 3
   },
   "file_extension": ".py",
   "mimetype": "text/x-python",
   "name": "python",
   "nbconvert_exporter": "python",
   "pygments_lexer": "ipython3",
   "version": "3.7.12"
  },
  "papermill": {
   "default_parameters": {},
   "duration": 14.026894,
   "end_time": "2022-07-24T09:00:41.591704",
   "environment_variables": {},
   "exception": null,
   "input_path": "__notebook__.ipynb",
   "output_path": "__notebook__.ipynb",
   "parameters": {},
   "start_time": "2022-07-24T09:00:27.564810",
   "version": "2.3.4"
  }
 },
 "nbformat": 4,
 "nbformat_minor": 5
}
