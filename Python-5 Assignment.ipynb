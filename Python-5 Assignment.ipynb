{
 "cells": [
  {
   "cell_type": "raw",
   "id": "3c911762-cfc5-462d-8d69-5727c74c5737",
   "metadata": {},
   "source": [
    "for Loop Questions - "
   ]
  },
  {
   "cell_type": "code",
   "execution_count": null,
   "id": "8b419b18-c21a-4f5b-a498-8c4548b75d5a",
   "metadata": {},
   "outputs": [],
   "source": [
    "# 1. Print numbers from 1 to 10 using a for loop\n",
    "for i in range(1, 11):\n",
    "    print(i)"
   ]
  },
  {
   "cell_type": "raw",
   "id": "233a71db-cea1-4911-b13d-6e0e75090e2d",
   "metadata": {},
   "source": [
    "Q2. Difference between for loop and while loop?\n",
    "Answer --  for loop is used for iterating over a sequence (that is either a list, a tuple, a dictionary, a set, or a string).\n",
    " A while loop is used for executing a set of statements as long as a condition is true."
   ]
  },
  {
   "cell_type": "code",
   "execution_count": null,
   "id": "0a7b7d3b-5c6e-4076-a5a8-8443d0538348",
   "metadata": {},
   "outputs": [],
   "source": [
    "# 3. Calculate the sum of all numbers from 1 to 100 using a for loop\n",
    "sum_of_numbers = 0\n",
    "for num in range(1, 101):\n",
    "    sum_of_numbers += num\n",
    "print(\"Sum of numbers from 1 to 100:\", sum_of_numbers)"
   ]
  },
  {
   "cell_type": "code",
   "execution_count": null,
   "id": "90b24b30-17f2-4c7b-9577-3fa4a17a3aa2",
   "metadata": {},
   "outputs": [],
   "source": [
    "# 4. Iterate through a list using a for loop\n",
    "my_list = [1, 2, 3, 4, 5]\n",
    "for item in my_list:\n",
    "    print(item)"
   ]
  },
  {
   "cell_type": "code",
   "execution_count": null,
   "id": "aa9c0847-6686-41e7-af69-1c47cdf5ce11",
   "metadata": {},
   "outputs": [],
   "source": [
    "# 5. Find the product of all elements in a list using a for loop\n",
    "product = 1\n",
    "for item in my_list:\n",
    "    product *= item\n",
    "print(\"Product of elements in the list:\", product)"
   ]
  },
  {
   "cell_type": "code",
   "execution_count": null,
   "id": "44046d25-121c-494f-a2d2-fe27074f0f99",
   "metadata": {},
   "outputs": [],
   "source": [
    "# 6. Print even numbers from 1 to 20 using a for loop\n",
    "for num in range(2, 21, 2):\n",
    "    print(num)"
   ]
  },
  {
   "cell_type": "code",
   "execution_count": null,
   "id": "510e1c8f-555b-4c6e-a070-5e5af138de19",
   "metadata": {},
   "outputs": [],
   "source": [
    "# 7. Calculate the factorial of a number using a for loop\n",
    "def factorial(n):\n",
    "    result = 1\n",
    "    for i in range(1, n + 1):\n",
    "        result *= i\n",
    "    return result\n",
    "\n",
    "num = 5\n",
    "fact = factorial(num)\n",
    "print(f\"Factorial of {num} is {fact}\")"
   ]
  },
  {
   "cell_type": "code",
   "execution_count": null,
   "id": "a828f8d5-2faf-41ea-8a2d-841f155d7e45",
   "metadata": {},
   "outputs": [],
   "source": [
    "# 8. Iterate through the characters of a string using a for loop\n",
    "my_string = \"Hello, World!\"\n",
    "for char in my_string:\n",
    "    print(char)"
   ]
  },
  {
   "cell_type": "code",
   "execution_count": null,
   "id": "dddea2c4-5561-4070-a004-5fd1d32ead2e",
   "metadata": {},
   "outputs": [],
   "source": [
    "# 9. Find the largest number in a list using a for loop\n",
    "numbers = [12, 45, 3, 78, 56, 89, 23]\n",
    "largest = numbers[0]\n",
    "for num in numbers:\n",
    "    if num > largest:\n",
    "        largest = num\n",
    "print(\"Largest number in the list:\", largest)"
   ]
  },
  {
   "cell_type": "code",
   "execution_count": null,
   "id": "0a58c93f-bede-4a6a-bd37-b9a93ee8ccc3",
   "metadata": {},
   "outputs": [],
   "source": [
    "# 10. Print the Fibonacci sequence up to a specified limit using a for loop\n",
    "limit = 10\n",
    "a, b = 0, 1\n",
    "for i in range(limit):\n",
    "    print(a, end=\" \")\n",
    "    a, b = b, a + b\n",
    "print()  # New line after printing the sequence"
   ]
  },
  {
   "cell_type": "code",
   "execution_count": null,
   "id": "ce4033c5-4035-4538-aca1-f3e8b2571cf5",
   "metadata": {},
   "outputs": [],
   "source": [
    "# 11. Count the number of vowels in a given string using a for loop\n",
    "text = \"Python is a high-level programming language\"\n",
    "vowels = \"AEIOUaeiou\"\n",
    "count = 0\n",
    "for char in text:\n",
    "    if char in vowels:\n",
    "        count += 1\n",
    "print(\"Number of vowels in the string:\", count)"
   ]
  },
  {
   "cell_type": "code",
   "execution_count": null,
   "id": "8c2e6a78-d40c-4e21-a7e9-bae2ecf687c7",
   "metadata": {},
   "outputs": [],
   "source": [
    "# 12. Generate a multiplication table for a given number using a for loop\n",
    "number = 7\n",
    "for i in range(1, 11):\n",
    "    print(f\"{number} x {i} = {number * i}\")"
   ]
  },
  {
   "cell_type": "code",
   "execution_count": null,
   "id": "499aacc6-2766-471d-9021-e33c897e0d4e",
   "metadata": {},
   "outputs": [],
   "source": [
    "# 13. Reverse a list using a for loop\n",
    "my_list = [1, 2, 3, 4, 5]\n",
    "reversed_list = []\n",
    "for item in my_list:\n",
    "    reversed_list.insert(0, item)\n",
    "print(\"Reversed list:\", reversed_list)"
   ]
  },
  {
   "cell_type": "code",
   "execution_count": null,
   "id": "4435840b-9f94-4a89-a274-2b5a0adde335",
   "metadata": {},
   "outputs": [],
   "source": [
    "# 14. Find common elements between two lists using a for loop\n",
    "list1 = [1, 2, 3, 4, 5]\n",
    "list2 = [3, 4, 5, 6, 7]\n",
    "common_elements = []\n",
    "for item in list1:\n",
    "    if item in list2:\n",
    "        common_elements.append(item)\n",
    "print(\"Common elements between two lists:\", common_elements)"
   ]
  },
  {
   "cell_type": "code",
   "execution_count": null,
   "id": "b4ce3b98-4851-408a-b8b6-996d99e4b979",
   "metadata": {},
   "outputs": [],
   "source": [
    "# 15. Iterate through the keys and values of a dictionary using a for loop\n",
    "my_dict = {\"name\": \"Alice\", \"age\": 30, \"country\": \"USA\"}\n",
    "for key, value in my_dict.items():\n",
    "    print(key, \":\", value)"
   ]
  },
  {
   "cell_type": "code",
   "execution_count": null,
   "id": "e1cab107-7d22-4038-87be-017464d70601",
   "metadata": {},
   "outputs": [],
   "source": [
    "# 16. Find the GCD (Greatest Common Divisor) of two numbers using a for loop\n",
    "import math\n",
    "num1 = 24\n",
    "num2 = 36\n",
    "gcd = math.gcd(num1, num2)\n",
    "print(\"GCD of\", num1, \"and\", num2, \"is\", gcd)"
   ]
  },
  {
   "cell_type": "code",
   "execution_count": null,
   "id": "5a3ffda6-5bfa-445a-aa6b-08770f27a827",
   "metadata": {},
   "outputs": [],
   "source": [
    "# 17. Check if a string is a palindrome using a for loop\n",
    "def is_palindrome(s):\n",
    "    s = s.lower()  # Convert the string to lowercase for case-insensitive comparison\n",
    "    s = s.replace(\" \", \"\")  # Remove spaces\n",
    "    reversed_s = s[::-1]  # Reverse the string\n",
    "    return s == reversed_s\n",
    "\n",
    "my_string = \"racecar\"\n",
    "if is_palindrome(my_string):\n",
    "    print(f\"'{my_string}' is a palindrome.\")\n",
    "else:\n",
    "    print(f\"'{my_string}' is not a palindrome.\")"
   ]
  },
  {
   "cell_type": "code",
   "execution_count": null,
   "id": "7ca92fd9-b125-4562-8b2e-a46bd8efccf9",
   "metadata": {},
   "outputs": [],
   "source": [
    "# 18. Remove duplicates from a list using a for loop\n",
    "numbers = [1, 2, 2, 3, 4, 4, 5, 5]\n",
    "unique_numbers = []\n",
    "for num in numbers:\n",
    "    if num not in unique_numbers:\n",
    "        unique_numbers.append(num)\n",
    "print(\"List with duplicates removed:\", unique_numbers)"
   ]
  },
  {
   "cell_type": "code",
   "execution_count": null,
   "id": "e6d1c506-701e-4ab9-805d-c7c89ffadcbd",
   "metadata": {},
   "outputs": [],
   "source": [
    "# 19. Count the number of words in a sentence using a for loop\n",
    "sentence = \"This is a sample sentence with some words.\"\n",
    "words = sentence.split()\n",
    "word_count = len(words)\n",
    "print(\"Number of words in the sentence:\", word_count)"
   ]
  },
  {
   "cell_type": "code",
   "execution_count": null,
   "id": "55132598-46c7-4c02-9329-1aec3448c88f",
   "metadata": {},
   "outputs": [],
   "source": [
    "# 20. Find the sum of all odd numbers from 1 to 50 using a for loop\n",
    "sum_of_odd_numbers = 0\n",
    "for num in range(1, 51, 2):  # Start from 1 and increment by 2 to consider odd numbers only\n",
    "    sum_of_odd_numbers += num\n",
    "print(\"Sum of odd numbers from 1 to 50:\", sum_of_odd_numbers)"
   ]
  },
  {
   "cell_type": "code",
   "execution_count": null,
   "id": "b27e7d1d-5ea6-4ab2-8ada-2db7343a4a93",
   "metadata": {},
   "outputs": [],
   "source": [
    "# 21. Check if a given year is a leap year using a for loop\n",
    "def is_leap_year(year):\n",
    "    if (year % 4 == 0 and year % 100 != 0) or (year % 400 == 0):\n",
    "        return True\n",
    "    return False\n",
    "\n",
    "year = 2024\n",
    "if is_leap_year(year):\n",
    "    print(f\"{year} is a leap year.\")\n",
    "else:\n",
    "    print(f\"{year} is not a leap year.\")"
   ]
  },
  {
   "cell_type": "code",
   "execution_count": null,
   "id": "0709ac52-aa21-48da-baca-b2cdac3ec0d9",
   "metadata": {},
   "outputs": [],
   "source": [
    "# 22. Calculate the square root of a number using a for loop (Newton's method)\n",
    "def square_root(n, tolerance=1e-10):\n",
    "    guess = n\n",
    "    while abs(guess * guess - n) > tolerance:\n",
    "        guess = (guess + n / guess) / 2\n",
    "    return guess\n",
    "\n",
    "number = 25\n",
    "sqrt = square_root(number)\n",
    "print(f\"Square root of {number} is approximately {sqrt:.6f}\")"
   ]
  },
  {
   "cell_type": "code",
   "execution_count": null,
   "id": "c34fb9e7-386f-4ae1-a5a3-99d8c908620d",
   "metadata": {},
   "outputs": [],
   "source": [
    "# 23. Find the LCM (Least Common Multiple) of two numbers using a for loop\n",
    "def find_lcm(x, y):\n",
    "    if x > y:\n",
    "        greater = x\n",
    "    else:\n",
    "        greater = y\n",
    "    while True:\n",
    "        if greater % x == 0 and greater % y == 0:\n",
    "            lcm = greater\n",
    "            break\n",
    "        greater += 1\n",
    "    return lcm\n",
    "\n",
    "num1 = 12\n",
    "num2 = 18\n",
    "lcm = find_lcm(num1, num2)\n",
    "print(f\"LCM of {num1} and {num2} is {lcm}\")"
   ]
  },
  {
   "cell_type": "raw",
   "id": "93ae9369-ca9c-4373-9247-e70fa23550ef",
   "metadata": {},
   "source": [
    "If else QuestionS - "
   ]
  },
  {
   "cell_type": "code",
   "execution_count": null,
   "id": "cfefe083-9226-41e9-b070-eee8f6a22891",
   "metadata": {},
   "outputs": [],
   "source": [
    "# 1. Check if a number is positive, negative, or zero using if-else\n",
    "num = 42\n",
    "if num > 0:\n",
    "    print(f\"{num} is a positive number.\")\n",
    "elif num < 0:\n",
    "    print(f\"{num} is a negative number.\")\n",
    "else:\n",
    "    print(f\"{num} is zero.\")"
   ]
  },
  {
   "cell_type": "code",
   "execution_count": null,
   "id": "5e850164-92df-409f-9d7b-c8006aaea0bc",
   "metadata": {},
   "outputs": [],
   "source": [
    "# 2. Check if a number is even or odd using if-else\n",
    "num = 7\n",
    "if num % 2 == 0:\n",
    "    print(f\"{num} is an even number.\")\n",
    "else:\n",
    "    print(f\"{num} is an odd number.\")"
   ]
  },
  {
   "cell_type": "code",
   "execution_count": null,
   "id": "a9a671c4-f5dc-4962-8c18-055a94b2dbd2",
   "metadata": {},
   "outputs": [],
   "source": [
    "# 3. Using nested if-else statements in Python\n",
    "x = 10\n",
    "y = 5\n",
    "if x > y:\n",
    "    print(\"x is greater than y\")\n",
    "else:\n",
    "    if x < y:\n",
    "        print(\"x is less than y\")\n",
    "    else:\n",
    "        print(\"x is equal to y\")"
   ]
  },
  {
   "cell_type": "code",
   "execution_count": null,
   "id": "0cbdc98a-6acb-4dd9-b39d-8f9310466543",
   "metadata": {},
   "outputs": [],
   "source": [
    "# 4. Determine the largest of three numbers using if-else\n",
    "a = 7\n",
    "b = 12\n",
    "c = 9\n",
    "if a >= b and a >= c:\n",
    "    print(f\"{a} is the largest.\")\n",
    "elif b >= a and b >= c:\n",
    "    print(f\"{b} is the largest.\")\n",
    "else:\n",
    "    print(f\"{c} is the largest.\")"
   ]
  },
  {
   "cell_type": "code",
   "execution_count": null,
   "id": "9e21215b-6b76-40cc-b10a-bb0fec3e17a5",
   "metadata": {},
   "outputs": [],
   "source": [
    "# 5. Calculate the absolute value of a number using if-else\n",
    "num = -7\n",
    "if num < 0:\n",
    "    absolute_num = -num\n",
    "else:\n",
    "    absolute_num = num\n",
    "print(f\"The absolute value of {num} is {absolute_num}.\")"
   ]
  },
  {
   "cell_type": "code",
   "execution_count": null,
   "id": "03bd85e4-87eb-4f4a-b129-ae1375186ec5",
   "metadata": {},
   "outputs": [],
   "source": [
    "# 6. Check if a character is a vowel or consonant using if-else\n",
    "char = 'A'\n",
    "if char in 'AEIOUaeiou':\n",
    "    print(f\"{char} is a vowel.\")\n",
    "else:\n",
    "    print(f\"{char} is a consonant.\")"
   ]
  },
  {
   "cell_type": "code",
   "execution_count": null,
   "id": "aa34f085-0e28-4ce2-8a57-506ebc751308",
   "metadata": {},
   "outputs": [],
   "source": [
    "# 7. Determine voter eligibility based on age using if-else\n",
    "age = 18\n",
    "if age >= 18:\n",
    "    print(\"You are eligible to vote.\")\n",
    "else:\n",
    "    print(\"You are not eligible to vote.\")"
   ]
  },
  {
   "cell_type": "code",
   "execution_count": null,
   "id": "8c023f10-d6df-44a0-80ab-e7f71d6e18fc",
   "metadata": {},
   "outputs": [],
   "source": [
    "# 8. Calculate the discount amount based on the purchase amount using if-else\n",
    "purchase_amount = 120\n",
    "if purchase_amount > 100:\n",
    "    discount = 0.1 * purchase_amount\n",
    "else:\n",
    "    discount = 0\n",
    "print(f\"Discount amount: ${discount:.2f}\")"
   ]
  },
  {
   "cell_type": "code",
   "execution_count": null,
   "id": "ce796ebc-12af-47f8-9006-4632790035c6",
   "metadata": {},
   "outputs": [],
   "source": [
    "# 9. Check if a number is within a specified range using if-else\n",
    "num = 42\n",
    "lower_limit = 20\n",
    "upper_limit = 50\n",
    "if num >= lower_limit and num <= upper_limit:\n",
    "    print(f\"{num} is within the range [{lower_limit}, {upper_limit}].\")\n",
    "else:\n",
    "    print(f\"{num} is outside the range [{lower_limit}, {upper_limit}].\")"
   ]
  },
  {
   "cell_type": "code",
   "execution_count": null,
   "id": "c53b322a-0867-4540-b641-94da1d547514",
   "metadata": {},
   "outputs": [],
   "source": [
    "# 10. Determine the grade of a student based on their score using if-else\n",
    "score = 85\n",
    "if score >= 90:\n",
    "    grade = 'A'\n",
    "elif score >= 80:\n",
    "    grade = 'B'\n",
    "elif score >= 70:\n",
    "    grade = 'C'\n",
    "elif score >= 60:\n",
    "    grade = 'D'\n",
    "else:\n",
    "    grade = 'F'\n",
    "print(f\"Your grade is {grade}.\")"
   ]
  },
  {
   "cell_type": "code",
   "execution_count": null,
   "id": "f9d716dd-5db0-4524-91bb-9cea150448f4",
   "metadata": {},
   "outputs": [],
   "source": [
    "# 11. Check if a string is empty or not using if-else\n",
    "text = \"\"\n",
    "if text:\n",
    "    print(\"The string is not empty.\")\n",
    "else:\n",
    "    print(\"The string is empty.\")"
   ]
  },
  {
   "cell_type": "code",
   "execution_count": null,
   "id": "d9a1d456-ed39-40d3-a6a2-dedef4444ece",
   "metadata": {},
   "outputs": [],
   "source": [
    "# 12. Identify the type of a triangle using if-else\n",
    "side1 = 5\n",
    "side2 = 5\n",
    "side3 = 5\n",
    "if side1 == side2 == side3:\n",
    "    triangle_type = \"equilateral\"\n",
    "elif side1 == side2 or side2 == side3 or side1 == side3:\n",
    "    triangle_type = \"isosceles\"\n",
    "else:\n",
    "    triangle_type = \"scalene\"\n",
    "print(f\"This is an {triangle_type} triangle.\")"
   ]
  },
  {
   "cell_type": "code",
   "execution_count": null,
   "id": "7267589d-0a48-4b4b-96f7-a612d9aeb490",
   "metadata": {},
   "outputs": [],
   "source": [
    "# 13. Determine the day of the week based on a user-provided number using if-else\n",
    "day_number = 3\n",
    "if day_number == 1:\n",
    "    day = \"Monday\"\n",
    "elif day_number == 2:\n",
    "    day = \"Tuesday\"\n",
    "elif day_number == 3:\n",
    "    day = \"Wednesday\"\n",
    "elif day_number == 4:\n",
    "    day = \"Thursday\"\n",
    "elif day_number == 5:\n",
    "    day = \"Friday\"\n",
    "elif day_number == 6:\n",
    "    day = \"Saturday\"\n",
    "elif day_number == 7:\n",
    "    day = \"Sunday\"\n",
    "else:\n",
    "    day = \"Invalid day number\"\n",
    "print(f\"Day number {day_number} corresponds to {day}.\")"
   ]
  },
  {
   "cell_type": "code",
   "execution_count": null,
   "id": "2cff1415-bdb1-4964-be5d-971aef6d6d3a",
   "metadata": {},
   "outputs": [],
   "source": [
    "# 14. Check if a year is a leap year using if-else and a function\n",
    "def is_leap_year(year):\n",
    "    if (year % 4 == 0 and year % 100 != 0) or (year % 400 == 0):\n",
    "        return True\n",
    "    else:\n",
    "        return False\n",
    "\n",
    "year = 2024\n",
    "if is_leap_year(year):\n",
    "    print(f\"{year} is a leap year.\")\n",
    "else:\n",
    "    print(f\"{year} is not a leap year.\")"
   ]
  },
  {
   "cell_type": "code",
   "execution_count": null,
   "id": "6a5bf146-eb90-495e-9b18-afe497876ba0",
   "metadata": {},
   "outputs": [],
   "source": [
    "# 15. Use the \"assert\" statement for debugging checks within if-else blocks\n",
    "x = 5\n",
    "y = 10\n",
    "assert x < y, \"x must be less than y\"\n",
    "print(\"x is less than y\")"
   ]
  },
  {
   "cell_type": "code",
   "execution_count": null,
   "id": "01e6ff24-39c0-43ff-a6f3-61715204ce66",
   "metadata": {},
   "outputs": [],
   "source": [
    "# 16. Determine senior citizen discount eligibility based on age using if-else\n",
    "age = 65\n",
    "if age >= 60:\n",
    "    print(\"You are eligible for a senior citizen discount.\")\n",
    "else:\n",
    "    print(\"You are not eligible for a senior citizen discount.\")"
   ]
  },
  {
   "cell_type": "code",
   "execution_count": null,
   "id": "83d219db-d2dd-4958-b1cc-d2ec48252ce7",
   "metadata": {},
   "outputs": [],
   "source": [
    "# 17. Categorize a character as uppercase, lowercase, or neither using if-else\n",
    "char = '9'\n",
    "if char.isupper():\n",
    "    category = \"uppercase\"\n",
    "elif char.islower():\n",
    "    category = \"lowercase\"\n",
    "else:\n",
    "    category = \"neither uppercase nor lowercase\"\n",
    "print(f\"The character '{char}' is {category}.\")"
   ]
  },
  {
   "cell_type": "code",
   "execution_count": null,
   "id": "1afe51da-92a2-400a-9e68-432027839078",
   "metadata": {},
   "outputs": [],
   "source": [
    "# 18. Determine the roots of a quadratic equation using if-else\n",
    "a = 1\n",
    "b = 5\n",
    "c = 6\n",
    "discriminant = b**2 - 4*a*c\n",
    "if discriminant > 0:\n",
    "    root1 = (-b + (discriminant)**0.5) / (2*a)\n",
    "    root2 = (-b - (discriminant)**0.5) / (2*a)\n",
    "    print(f\"The roots are real and distinct: {root1} and {root2}\")\n",
    "elif discriminant == 0:\n",
    "    root1 = -b / (2*a)\n",
    "    print(f\"The root is real and equal: {root1}\")\n",
    "else:\n",
    "    realPart = -b / (2*a)\n",
    "    imaginaryPart = (abs(discriminant)**0.5) / (2*a)\n",
    "    print(f\"The roots are complex: {realPart} + {imaginaryPart}i and {realPart} - {imaginaryPart}i\")"
   ]
  },
  {
   "cell_type": "code",
   "execution_count": null,
   "id": "1539b68e-6e06-40ab-a3b9-fae316b2fe23",
   "metadata": {},
   "outputs": [],
   "source": [
    "# 19. Check if a year is a century year or not using if-else\n",
    "year = 2100\n",
    "if year % 100 == 0:\n",
    "    print(f\"{year} is a century year.\")\n",
    "else:\n",
    "    print(f\"{year} is not a century year.\")"
   ]
  },
  {
   "cell_type": "code",
   "execution_count": null,
   "id": "0c156733-8fee-4087-9ebc-ab1638500ba8",
   "metadata": {},
   "outputs": [],
   "source": [
    "# 20. Determine if a number is a perfect square using if-else\n",
    "import math\n",
    "num = 16\n",
    "if math.isqrt(num)**2 == num:\n",
    "    print(f\"{num} is a perfect square.\")\n",
    "else:\n",
    "    print(f\"{num} is not a perfect square.\")"
   ]
  },
  {
   "cell_type": "code",
   "execution_count": null,
   "id": "cc5948ba-445d-4687-bd25-15743d9d54df",
   "metadata": {},
   "outputs": [],
   "source": [
    "# 21. Explain the purpose of the \"continue\" and \"break\" statements within if-else loops\n",
    "numbers = [1, 2, 3, 4, 5]\n",
    "for num in numbers:\n",
    "    if num % 2 == 0:\n",
    "        continue  # Skip even numbers\n",
    "    print(num)\n",
    "\n",
    "for num in numbers:\n",
    "    if num == 3:\n",
    "        break  # Exit the loop when 3 is encountered\n",
    "    print(num)"
   ]
  },
  {
   "cell_type": "code",
   "execution_count": null,
   "id": "8f0e2aba-d8b6-4c71-9737-5f17ec7f9f29",
   "metadata": {},
   "outputs": [],
   "source": [
    "# 22. Calculate the BMI (Body Mass Index) based on weight and height using if-else\n",
    "weight = 75\n",
    "height = 1.75\n",
    "bmi = weight / (height ** 2)\n",
    "if bmi < 18.5:\n",
    "    category = \"underweight\"\n",
    "elif 18.5 <= bmi < 24.9:\n",
    "    category = \"normal weight\"\n",
    "elif 24.9 <= bmi < 29.9:\n",
    "    category = \"overweight\"\n",
    "else:\n",
    "    category = \"obese\"\n",
    "print(f\"Your BMI is {bmi:.2f}, which falls in the category: {category}.\")"
   ]
  },
  {
   "cell_type": "code",
   "execution_count": null,
   "id": "6666af61-0eb9-47df-ace3-b481d9364087",
   "metadata": {},
   "outputs": [],
   "source": [
    "# 23. Use the \"filter()\" function with if-else statements to filter elements from a list\n",
    "numbers = [1, 2, 3, 4, 5, 6, 7, 8, 9]\n",
    "filtered_numbers = list(filter(lambda x: x % 2 == 0, numbers))\n",
    "print(\"Even numbers:\", filtered_numbers)"
   ]
  },
  {
   "cell_type": "code",
   "execution_count": null,
   "id": "6ebe2ec0-dc4f-4f2d-b401-ef6089bdc735",
   "metadata": {},
   "outputs": [],
   "source": [
    "# 24. Check if a number is prime or not using if-else\n",
    "num = 17\n",
    "if num > 1:\n",
    "    for i in range(2, int(num**0.5) + 1):\n",
    "        if num % i == 0:\n",
    "            print(f\"{num} is not a prime number.\")\n",
    "            break\n",
    "    else:\n",
    "        print(f\"{num} is a prime number.\")\n",
    "else:\n",
    "    print(f\"{num} is not a prime number.\")"
   ]
  },
  {
   "cell_type": "raw",
   "id": "86af52bc-1e8a-4822-847f-b4613506e748",
   "metadata": {},
   "source": [
    "Map Questions - "
   ]
  },
  {
   "cell_type": "code",
   "execution_count": null,
   "id": "8ea421ad-8c13-42c2-871b-e23f51ab5aa3",
   "metadata": {},
   "outputs": [],
   "source": [
    "from functools import reduce\n",
    "\n",
    "# Ques - : Squaring elements in a list\n",
    "numbers = [1, 2, 3, 4, 5]\n",
    "squared_numbers = list(map(lambda x: x**2, numbers))\n",
    "print(\"Squared Numbers:\", squared_numbers)"
   ]
  },
  {
   "cell_type": "raw",
   "id": "5f410f2a-31a8-4ab7-95e2-3d975865c0a2",
   "metadata": {},
   "source": [
    "Question -  Map vs. List Comprehension:\n",
    " Map is used when you want to apply the same function to every element of an iterable.\n",
    " List Comprehension is used when you want to create a new list by applying an expression to each item in an iterable.\n",
    " Use map for simple element-wise transformations, while list comprehension offers more flexibility."
   ]
  },
  {
   "cell_type": "code",
   "execution_count": null,
   "id": "e726cc8e-1f66-4df2-a000-7c9f185677ab",
   "metadata": {},
   "outputs": [],
   "source": [
    "# Ques - : Converting names to uppercase\n",
    "names = [\"Alice\", \"Bob\", \"Charlie\"]\n",
    "uppercase_names = list(map(str.upper, names))\n",
    "print(\"Uppercase Names:\", uppercase_names)"
   ]
  },
  {
   "cell_type": "code",
   "execution_count": null,
   "id": "7b06f7fa-13bb-4911-8501-7851d1e11fe4",
   "metadata": {},
   "outputs": [],
   "source": [
    "# Ques - : Calculating the length of words in a list of strings\n",
    "words = [\"apple\", \"banana\", \"cherry\"]\n",
    "word_lengths = list(map(len, words))\n",
    "print(\"Word Lengths:\", word_lengths)"
   ]
  },
  {
   "cell_type": "code",
   "execution_count": null,
   "id": "c1e3628c-b1ff-43ae-ab8a-03eee93b5d68",
   "metadata": {},
   "outputs": [],
   "source": [
    "# Ques - : Applying a custom function to elements of multiple lists\n",
    "def custom_function(x, y):\n",
    "    return x * y\n",
    "\n",
    "list1 = [1, 2, 3]\n",
    "list2 = [10, 20, 30]\n",
    "result = list(map(custom_function, list1, list2))\n",
    "print(\"Custom Function Result:\", result)"
   ]
  },
  {
   "cell_type": "code",
   "execution_count": null,
   "id": "33c17d75-3821-42b5-a0aa-6100abedc700",
   "metadata": {},
   "outputs": [],
   "source": [
    "# Ques - : Converting temperatures from Celsius to Fahrenheit\n",
    "celsius_temperatures = [0, 20, 25, 30, 35]\n",
    "fahrenheit_temperatures = list(map(lambda c: c * 9/5 + 32, celsius_temperatures))\n",
    "print(\"Fahrenheit Temperatures:\", fahrenheit_temperatures)"
   ]
  },
  {
   "cell_type": "code",
   "execution_count": null,
   "id": "e6391eb9-6432-4f75-90e9-57da223dc537",
   "metadata": {},
   "outputs": [],
   "source": [
    "# Ques - : Rounding floating-point numbers to the nearest integer\n",
    "float_numbers = [2.3, 4.7, 9.1, 5.5]\n",
    "rounded_numbers = list(map(round, float_numbers))\n",
    "print(\"Rounded Numbers:\", rounded_numbers)"
   ]
  },
  {
   "cell_type": "code",
   "execution_count": null,
   "id": "1637f169-ead9-4eeb-8ee7-0e41746eeffb",
   "metadata": {},
   "outputs": [],
   "source": [
    "Reduce Questions - "
   ]
  },
  {
   "cell_type": "code",
   "execution_count": null,
   "id": "95aee85f-f991-459a-884e-4a0fcae05f40",
   "metadata": {},
   "outputs": [],
   "source": [
    "# Ques -  Finding the product of all elements in a list\n",
    "numbers = [2, 3, 4, 5]\n",
    "product = reduce(lambda x, y: x * y, numbers)\n",
    "print(\"Product of Numbers:\", product)"
   ]
  },
  {
   "cell_type": "code",
   "execution_count": null,
   "id": "4a798ffa-b1d3-4829-963b-031af97b1906",
   "metadata": {},
   "outputs": [],
   "source": [
    "# Ques -  Finding the maximum element in a list\n",
    "numbers = [12, 5, 7, 18, 9]\n",
    "maximum = reduce(lambda x, y: x if x > y else y, numbers)\n",
    "print(\"Maximum Number:\", maximum)"
   ]
  },
  {
   "cell_type": "code",
   "execution_count": null,
   "id": "e70f2b2d-95f3-4cdb-bda0-fbd1311e3e42",
   "metadata": {},
   "outputs": [],
   "source": [
    "# Ques -  Concatenating a list of strings into a single string\n",
    "words = [\"Hello\", \"World\", \"Python\", \"Programming\"]\n",
    "concatenated_string = reduce(lambda x, y: x + \" \" + y, words)\n",
    "print(\"Concatenated String:\", concatenated_string)"
   ]
  },
  {
   "cell_type": "code",
   "execution_count": null,
   "id": "d0b9f36b-1407-4c9a-84dd-fc492b9867ce",
   "metadata": {},
   "outputs": [],
   "source": [
    "# Ques -  Calculating the factorial of a number\n",
    "def calculate_factorial(n):\n",
    "    if n == 0:\n",
    "        return 1\n",
    "    return reduce(lambda x, y: x * y, range(1, n + 1))\n",
    "\n",
    "factorial_5 = calculate_factorial(5)\n",
    "print(\"Factorial of 5:\", factorial_5)"
   ]
  },
  {
   "cell_type": "code",
   "execution_count": null,
   "id": "56a80b9c-0a2c-4d3d-8e96-c21c294cffe4",
   "metadata": {},
   "outputs": [],
   "source": [
    "# Ques -  Finding the GCD (Greatest Common Divisor) of a list of numbers\n",
    "from math import gcd\n",
    "numbers = [24, 36, 48]\n",
    "gcd_result = reduce(gcd, numbers)\n",
    "print(\"GCD of Numbers:\", gcd_result)"
   ]
  },
  {
   "cell_type": "code",
   "execution_count": null,
   "id": "54689682-db49-4799-afbb-ef9fcf1f9b59",
   "metadata": {},
   "outputs": [],
   "source": [
    "# Ques - : Selecting even numbers from a list of integers\n",
    "integers = [1, 2, 3, 4, 5, 6, 7, 8, 9, 10]\n",
    "even_numbers = list(filter(lambda x: x % 2 == 0, integers))\n",
    "print(\"Even Numbers:\", even_numbers)"
   ]
  },
  {
   "cell_type": "code",
   "execution_count": null,
   "id": "45bc1cbc-1587-44c9-b098-104eecb529fd",
   "metadata": {},
   "outputs": [],
   "source": [
    "# Ques - : Selecting names that start with a specific letter\n",
    "names = [\"Alice\", \"Bob\", \"Charlie\", \"David\", \"Eve\", \"Frank\"]\n",
    "starting_letter = \"C\"\n",
    "filtered_names = list(filter(lambda name: name.startswith(starting_letter), names))\n",
    "print(f\"Names starting with '{starting_letter}':\", filtered_names)"
   ]
  },
  {
   "cell_type": "code",
   "execution_count": null,
   "id": "c838ecc8-35be-47f3-8320-db4f5b2e39da",
   "metadata": {},
   "outputs": [],
   "source": [
    "# Ques - : Selecting prime numbers from a list of integers\n",
    "def is_prime(num):\n",
    "    if num < 2:\n",
    "        return False\n",
    "    for i in range(2, int(num**0.5) + 1):\n",
    "        if num % i == 0:\n",
    "            return False\n",
    "    return True\n",
    "\n",
    "numbers = [2, 3, 4, 5, 6, 7, 8, 9]\n",
    "prime_numbers = list(filter(is_prime, numbers))\n",
    "print(\"Prime Numbers:\", prime_numbers)"
   ]
  },
  {
   "cell_type": "code",
   "execution_count": null,
   "id": "4b080eab-d6c7-4b70-8800-5d2beea47c54",
   "metadata": {},
   "outputs": [],
   "source": [
    "# Ques - : Removing None values from a list\n",
    "values = [10, None, 30, None, 50, 60, None]\n",
    "filtered_values = list(filter(None.__ne__, values))\n",
    "print(\"Filtered Values (No Nones):\", filtered_values)"
   ]
  },
  {
   "cell_type": "code",
   "execution_count": null,
   "id": "b072a87f-ffea-48ee-baf8-fb9c0f2e273f",
   "metadata": {},
   "outputs": [],
   "source": [
    "# Ques - : Selecting words longer than a certain length from a list of strings\n",
    "words = [\"apple\", \"banana\", \"cherry\", \"date\", \"elderberry\"]\n",
    "min_length = 6\n",
    "long_words = list(filter(lambda word: len(word) > min_length, words))\n",
    "print(f\"Words longer than {min_length} characters:\", long_words)"
   ]
  },
  {
   "cell_type": "code",
   "execution_count": null,
   "id": "1c54fb52-3679-4cc6-959d-c4523b0fe46e",
   "metadata": {},
   "outputs": [],
   "source": [
    "# Ques - : Selecting elements greater than a specified threshold from a list of values\n",
    "values = [20, 30, 40, 50, 60, 70, 80, 90]\n",
    "threshold = 50\n",
    "filtered_values = list(filter(lambda value: value > threshold, values))\n",
    "print(f\"Values greater than {threshold}:\", filtered_values)"
   ]
  },
  {
   "cell_type": "raw",
   "id": "37d4b047-823e-4fcb-8a21-b5b9a6a5401a",
   "metadata": {},
   "source": [
    "# Recursion:"
   ]
  },
  {
   "cell_type": "raw",
   "id": "212769a8-0d5c-450c-a1a6-203e40c63253",
   "metadata": {},
   "source": [
    "Question 1. Explain the concept of recursion in Python. How does it differ from iteration?\n",
    "Answer -  Recursion is a programming technique where a function calls itself to solve a problem. It differs from iteration as it uses function calls instead of loops for repetition."
   ]
  },
  {
   "cell_type": "code",
   "execution_count": null,
   "id": "6f1eeda2-d6b5-4edb-a20c-71021529efe5",
   "metadata": {},
   "outputs": [],
   "source": [
    "# 2. Write a Python program to calculate the factorial of a number using recursion.\n",
    "def factorial(n):\n",
    "    if n == 0:\n",
    "        return 1\n",
    "    return n * factorial(n - 1)\n",
    "\n",
    "fact_result = factorial(5)\n",
    "print(\"Factorial of 5:\", fact_result)"
   ]
  },
  {
   "cell_type": "code",
   "execution_count": null,
   "id": "30914ae5-8e62-40d5-9f4f-260c8243f911",
   "metadata": {},
   "outputs": [],
   "source": [
    "# 3. Create a recursive Python function to find the nth Fibonacci number.\n",
    "def fibonacci(n):\n",
    "    if n <= 0:\n",
    "        return 0\n",
    "    if n == 1:\n",
    "        return 1\n",
    "    return fibonacci(n - 1) + fibonacci(n - 2)\n",
    "\n",
    "fib_result = fibonacci(7)\n",
    "print(\"7th Fibonacci number:\", fib_result)"
   ]
  },
  {
   "cell_type": "code",
   "execution_count": null,
   "id": "0ac0c7b0-fdce-49dd-8797-844426c5d4f3",
   "metadata": {},
   "outputs": [],
   "source": [
    "# 4. Write a recursive Python function to calculate the sum of all elements in a list.\n",
    "def recursive_sum(numbers):\n",
    "    if not numbers:\n",
    "        return 0\n",
    "    return numbers[0] + recursive_sum(numbers[1:])\n",
    "\n",
    "numbers = [1, 2, 3, 4, 5]\n",
    "sum_result = recursive_sum(numbers)\n",
    "print(\"Sum of elements:\", sum_result)"
   ]
  },
  {
   "cell_type": "raw",
   "id": "f8e27493-6457-4520-9dfc-e776a4650792",
   "metadata": {},
   "source": [
    "Question - 5. How can you prevent a recursive function from running indefinitely, causing a stack overflow error?\n",
    "Answer -  You can prevent a recursive function from running indefinitely by ensuring that it reaches a base case, which provides an exit condition."
   ]
  },
  {
   "cell_type": "code",
   "execution_count": null,
   "id": "164673f9-58d3-45a4-9ea0-467b66aa4e0b",
   "metadata": {},
   "outputs": [],
   "source": [
    "# 6. Create a recursive Python function to find the greatest common divisor (GCD) of two numbers using the Euclidean algorithm.\n",
    "def gcd(a, b):\n",
    "    if b == 0:\n",
    "        return a\n",
    "    return gcd(b, a % b)\n",
    "\n",
    "gcd_result = gcd(48, 18)\n",
    "print(\"GCD of 48 and 18:\", gcd_result)"
   ]
  },
  {
   "cell_type": "code",
   "execution_count": null,
   "id": "f76f0af6-bd07-4d29-83d3-dca87e1dd175",
   "metadata": {},
   "outputs": [],
   "source": [
    "# 7. Write a recursive Python function to reverse a string.\n",
    "def reverse_string(s):\n",
    "    if len(s) == 0:\n",
    "        return s\n",
    "    return reverse_string(s[1:]) + s[0]\n",
    "\n",
    "reverse_result = reverse_string(\"hello\")\n",
    "print(\"Reversed string:\", reverse_result)"
   ]
  },
  {
   "cell_type": "code",
   "execution_count": null,
   "id": "716184ac-5274-4f0d-bf94-76bee1363476",
   "metadata": {},
   "outputs": [],
   "source": [
    "# 8. Create a recursive Python function to calculate the power of a number (x^n).\n",
    "def power(x, n):\n",
    "    if n == 0:\n",
    "        return 1\n",
    "    return x * power(x, n - 1)\n",
    "\n",
    "power_result = power(2, 3)\n",
    "print(\"2^3:\", power_result)"
   ]
  },
  {
   "cell_type": "code",
   "execution_count": null,
   "id": "d502f2eb-8229-495a-ab73-c838fb02dc6c",
   "metadata": {},
   "outputs": [],
   "source": [
    "# 9. Write a recursive Python function to find all permutations of a given string.\n",
    "def get_permutations(s):\n",
    "    if len(s) <= 1:\n",
    "        return set([s])\n",
    "    \n",
    "    all_permutations = set()\n",
    "    for char in s:\n",
    "        for perm in get_permutations(s.replace(char, \"\", 1)):\n",
    "            all_permutations.add(char + perm)\n",
    "    \n",
    "    return all_permutations\n",
    "\n",
    "permutations = get_permutations(\"abc\")\n",
    "print(\"Permutations of 'abc':\", permutations)"
   ]
  },
  {
   "cell_type": "code",
   "execution_count": null,
   "id": "aecfa7d8-8992-4f12-9756-28e94837fbbc",
   "metadata": {},
   "outputs": [],
   "source": [
    "# 10. Write a recursive Python function to check if a string is a palindrome.\n",
    "def is_palindrome(s):\n",
    "    if len(s) <= 1:\n",
    "        return True\n",
    "    if s[0] != s[-1]:\n",
    "        return False\n",
    "    return is_palindrome(s[1:-1])\n",
    "\n",
    "palindrome_result = is_palindrome(\"racecar\")\n",
    "print(\"'racecar' is a palindrome:\", palindrome_result)"
   ]
  },
  {
   "cell_type": "code",
   "execution_count": null,
   "id": "a3de1e6d-1062-4384-bf2f-63cc28626c33",
   "metadata": {},
   "outputs": [],
   "source": [
    "# 11. Create a recursive Python function to generate all possible combinations of a list of elements.\n",
    "def combinations(elements, k):\n",
    "    if k == 0:\n",
    "        return [[]]\n",
    "    if len(elements) == 0:\n",
    "        return []\n",
    "\n",
    "    first, rest = elements[0], elements[1:]\n",
    "    without_first = combinations(rest, k)\n",
    "    with_first = [([first] + combo) for combo in combinations(rest, k - 1)]\n",
    "\n",
    "    return without_first + with_first\n",
    "\n",
    "elements = [1, 2, 3]\n",
    "k = 2\n",
    "combinations_result = combinations(elements, k)\n",
    "print(f\"Combinations of {elements} (k={k}):\", combinations_result)"
   ]
  },
  {
   "cell_type": "raw",
   "id": "be254f16-3b43-4996-b6a9-0e39b3391eda",
   "metadata": {},
   "source": [
    "Basics of Functions:"
   ]
  },
  {
   "cell_type": "raw",
   "id": "90fd4d70-b83c-432a-ada1-5b0391d7b371",
   "metadata": {},
   "source": [
    "Qustion - 1. What is a function in Python, and why is it used?\n",
    "Answer - A function is a reusable block of code that performs a specific task. It is used to encapsulate functionality and make the code modular, organized, and easy to maintain."
   ]
  },
  {
   "cell_type": "code",
   "execution_count": null,
   "id": "383f1fe9-e6f8-4b01-96cf-2f99d4dca5ab",
   "metadata": {},
   "outputs": [],
   "source": [
    "# 2. How do you define a function in Python? Provide an example.\n",
    "def add(a, b):\n",
    "    return a + b"
   ]
  },
  {
   "cell_type": "raw",
   "id": "cef7b5fe-1b94-4278-a7d6-b942469f9ac9",
   "metadata": {},
   "source": [
    "3. Explain the difference between a function definition and a function call.\n",
    "Function definition defines the function's name, parameters, and body. A function call invokes the function with specific arguments to execute the defined functionality."
   ]
  },
  {
   "cell_type": "code",
   "execution_count": null,
   "id": "d5efa1a5-13cb-4cb1-a831-e2b1b324fdd3",
   "metadata": {},
   "outputs": [],
   "source": [
    "# 4. Write a Python program that defines a function to calculate the sum of two numbers and then calls the function.\n",
    "def sum_numbers(x, y):\n",
    "    return x + y\n",
    "\n",
    "result = sum_numbers(5, 3)\n",
    "print(\"Sum of 5 and 3:\", result)"
   ]
  },
  {
   "cell_type": "raw",
   "id": "f52269fb-6dfa-4cf4-bc73-dde2539b11f1",
   "metadata": {},
   "source": [
    "5. What is a function signature, and what information does it typically include?\n",
    "function signature includes the function name, parameter names, and their data types, but not the return type. It defines the function's interface."
   ]
  },
  {
   "cell_type": "code",
   "execution_count": null,
   "id": "24347009-fbef-47bc-9b16-ac6ff0a31bb3",
   "metadata": {},
   "outputs": [],
   "source": [
    "# 6. Create a Python function that takes two arguments and returns their product.\n",
    "def multiply(x, y):\n",
    "    return x * y\n",
    "\n",
    "product = multiply(4, 6)\n",
    "print(\"Product of 4 and 6:\", product)"
   ]
  },
  {
   "cell_type": "raw",
   "id": "7c34c97d-fdff-4df6-8975-d50bbef833b4",
   "metadata": {},
   "source": [
    "# Function Parameters and Arguments:"
   ]
  },
  {
   "cell_type": "raw",
   "id": "b8059e12-a33d-44da-ac0a-fc7392ef7d2b",
   "metadata": {},
   "source": [
    "1. Explain the concepts of formal parameters and actual arguments in Python functions.\n",
    "Formal parameters are placeholders in the function definition that represent the input values the function expects. Actual arguments are the real values passed to the function when it is called."
   ]
  },
  {
   "cell_type": "code",
   "execution_count": null,
   "id": "1eac2988-a2c7-42a9-b3b9-0972fb2e7ff2",
   "metadata": {},
   "outputs": [],
   "source": [
    "# 2. Write a Python program that defines a function with default argument values.\n",
    "def greet(name=\"Guest\"):\n",
    "    return f\"Hello, {name}!\"\n",
    "\n",
    "greeting = greet()\n",
    "print(greeting)  "
   ]
  },
  {
   "cell_type": "code",
   "execution_count": null,
   "id": "11e72be2-d0e6-4868-8201-db8dfcd7149e",
   "metadata": {},
   "outputs": [],
   "source": [
    "# 3. How do you use keyword arguments in Python function calls? Provide an example.\n",
    "def describe_person(name, age, gender):\n",
    "    return f\"Name: {name}, Age: {age}, Gender: {gender}\"\n",
    "\n",
    "person_info = describe_person(name=\"Alice\", age=30, gender=\"Female\")\n",
    "print(person_info)  "
   ]
  },
  {
   "cell_type": "code",
   "execution_count": null,
   "id": "92ad838a-7f32-43a5-a50c-6d09d427afa2",
   "metadata": {},
   "outputs": [],
   "source": [
    "# 4. Create a Python function that accepts a variable number of arguments and calculates their sum.\n",
    "def calculate_sum(*args):\n",
    "    return sum(args)\n",
    "\n",
    "sum_result = calculate_sum(1, 2, 3, 4, 5)\n",
    "print(\"Sum of numbers:\", sum_result)  "
   ]
  },
  {
   "cell_type": "raw",
   "id": "132a9da9-dfcb-4b86-9096-46b7205a1845",
   "metadata": {},
   "source": [
    "5. What is the purpose of the *args and **kwargs syntax in function parameter lists?\n",
    "*args is used to pass a variable number of non-keyword (positional) arguments, and **kwargs is used to pass a variable number of keyword arguments (key-value pairs).\n"
   ]
  },
  {
   "cell_type": "raw",
   "id": "de8340e3-97b5-42df-9799-25d04d1d8083",
   "metadata": {},
   "source": [
    "# Return Values and Scoping:"
   ]
  },
  {
   "cell_type": "code",
   "execution_count": null,
   "id": "053d6754-5fd8-419c-b994-98b88dfa5bac",
   "metadata": {},
   "outputs": [],
   "source": [
    "# 1. Describe the role of the return statement in Python functions and provide examples.\n",
    "# The return statement is used to specify the value that a function should return when called.\n",
    "def add_numbers(a, b):\n",
    "    return a + b\n",
    "\n",
    "result = add_numbers(3, 4)\n",
    "print(\"Sum:\", result)  "
   ]
  },
  {
   "cell_type": "raw",
   "id": "7178b48f-5ac1-408f-815c-2e2f8d0992cc",
   "metadata": {},
   "source": [
    "# 2. Explain the concept of variable scope in Python, including local and global variables.\n",
    "# Local variables are defined within a function and have local scope. Global variables are defined outside functions and have global scope."
   ]
  },
  {
   "cell_type": "code",
   "execution_count": null,
   "id": "5b2f3801-e644-4d99-8a1d-f70331f2fad8",
   "metadata": {},
   "outputs": [],
   "source": [
    "# 3. Write a Python program that demonstrates the use of global variables within functions.\n",
    "global_variable = 10\n",
    "\n",
    "def multiply_by_global(num):\n",
    "    return num * global_variable\n",
    "\n",
    "product = multiply_by_global(5)\n",
    "print(\"Product:\", product)  "
   ]
  },
  {
   "cell_type": "code",
   "execution_count": null,
   "id": "13205afb-1185-4a4d-9ff7-60a893061a1b",
   "metadata": {},
   "outputs": [],
   "source": [
    "# 4. Create a Python function that calculates the factorial of a number and returns it.\n",
    "def factorial(n):\n",
    "    if n == 0:\n",
    "        return 1\n",
    "    else:\n",
    "        return n * factorial(n - 1)\n",
    "\n",
    "fact = factorial(5)\n",
    "print(\"Factorial:\", fact)  "
   ]
  },
  {
   "cell_type": "raw",
   "id": "c9d5fb9b-dd34-4847-9031-4226a2ddc7d2",
   "metadata": {},
   "source": [
    "5. How can you access variables defined outside a function from within the function?\n",
    "Ans- You can access global variables within a function without any special handling."
   ]
  },
  {
   "cell_type": "raw",
   "id": "c698545e-8c10-4b1b-b4d2-c36d468a190e",
   "metadata": {},
   "source": [
    "# Lambda Functions and Higher-Order Functions:"
   ]
  },
  {
   "cell_type": "raw",
   "id": "f4d20707-59ff-449d-8386-9b8f90f06c2c",
   "metadata": {},
   "source": [
    "1. What are lambda functions in Python, and when are they typically used?\n",
    "Ans-Lambda functions are anonymous functions used for short, simple operations. They are typically used as arguments for higher-order functions like map and filter."
   ]
  },
  {
   "cell_type": "code",
   "execution_count": null,
   "id": "068394f5-ec3a-4e39-8870-ab3adc11cfaf",
   "metadata": {},
   "outputs": [],
   "source": [
    "# 2. Write a Python program that uses lambda functions to sort a list of tuples based on the second element.\n",
    "data = [(1, 5), (3, 2), (2, 8)]\n",
    "sorted_data = sorted(data, key=lambda x: x[1])\n",
    "print(\"Sorted Data:\", sorted_data)  # Output: Sorted Data: [(3, 2), (1, 5), (2, 8)]"
   ]
  },
  {
   "cell_type": "raw",
   "id": "3cdeb607-1959-4137-819a-a305d854bde3",
   "metadata": {},
   "source": [
    "3. Explain the concept of higher-order functions in Python, and provide an example.\n",
    "Ans - Higher-order functions are functions that can accept other functions as arguments or return functions as results. Example: map and filter."
   ]
  },
  {
   "cell_type": "code",
   "execution_count": null,
   "id": "00728502-d1e0-49e7-be2f-27096cc9ec22",
   "metadata": {},
   "outputs": [],
   "source": [
    "# 4. Create a Python function that takes a list of numbers and a function as arguments, applying the function to each element in the list.\n",
    "def apply_function_to_list(func, numbers):\n",
    "    return [func(x) for x in numbers]\n",
    "\n",
    "square = lambda x: x**2\n",
    "numbers = [1, 2, 3, 4, 5]\n",
    "squared_numbers = apply_function_to_list(square, numbers)\n",
    "print(\"Squared Numbers:\", squared_numbers)  # Output: Squared Numbers: [1, 4, 9, 16, 25]"
   ]
  },
  {
   "cell_type": "raw",
   "id": "cc78a9b3-8b10-4b12-8c81-64284c02a08c",
   "metadata": {},
   "source": [
    "# Built-in Functions:"
   ]
  },
  {
   "cell_type": "raw",
   "id": "e6ea7c2b-0a10-466f-a71a-ba3a99532cb1",
   "metadata": {},
   "source": [
    "1. Describe the role of built-in functions like len(), max(), and min() in Python.\n",
    "len() returns the length of an iterable, max() returns the largest element, and min() returns the smallest element."
   ]
  },
  {
   "cell_type": "code",
   "execution_count": null,
   "id": "61d430d3-36ec-40a8-be45-1863bac21465",
   "metadata": {},
   "outputs": [],
   "source": [
    "# 2. Write a Python program that uses the map() function to apply a function to each element of a list.\n",
    "numbers = [1, 2, 3, 4, 5]\n",
    "doubled_numbers = map(lambda x: x * 2, numbers)\n",
    "print(\"Doubled Numbers:\", list(doubled_numbers))  # Output: Doubled Numbers: [2, 4, 6, 8, 10]"
   ]
  },
  {
   "cell_type": "raw",
   "id": "86b1a13e-6e2e-42c2-a314-d1a1335aa79c",
   "metadata": {},
   "source": [
    "3. How does the filter() function work in Python, and when would you use it?\n",
    "The filter() function filters elements from an iterable based on a function's condition. It is used to select elements that satisfy a     specific criterion."
   ]
  },
  {
   "cell_type": "code",
   "execution_count": null,
   "id": "0cd560d5-5c23-48c8-908d-b08fcab6a62d",
   "metadata": {},
   "outputs": [],
   "source": [
    "# 4. Create a Python program that uses the reduce() function to find the product of all elements in a list.\n",
    "from functools import reduce\n",
    "numbers = [1, 2, 3, 4, 5]\n",
    "product = reduce(lambda x, y: x * y, numbers)\n",
    "print(\"Product:\", product)  # Output: Product: 120"
   ]
  },
  {
   "cell_type": "raw",
   "id": "bbbffe78-1918-448b-9fa5-e96e93bcc8e0",
   "metadata": {},
   "source": [
    "# Function Documentation and Best Practices:"
   ]
  },
  {
   "cell_type": "raw",
   "id": "738506e3-f10e-4a69-b141-4e51b8d1b8f4",
   "metadata": {},
   "source": [
    "1. Explain the purpose of docstrings in Python functions and how to write them.\n",
    "Ans - Docstrings are used to provide documentation for functions. They are enclosed in triple quotes and provide information about the function's purpose, parameters, and return values.\n",
    "\n",
    "2. Describe some best practices for naming functions and variables in Python, including naming conventions and guidelines.\n",
    "Ans - Follow naming conventions like using lowercase and underscores for function and variable names. Choose descriptive names that convey the purpose of the function or variable."
   ]
  },
  {
   "cell_type": "code",
   "execution_count": null,
   "id": "05762c83-98d1-4ef4-a2d4-e8887ed14585",
   "metadata": {},
   "outputs": [],
   "source": []
  }
 ],
 "metadata": {
  "kernelspec": {
   "display_name": "Python 3 (ipykernel)",
   "language": "python",
   "name": "python3"
  },
  "language_info": {
   "codemirror_mode": {
    "name": "ipython",
    "version": 3
   },
   "file_extension": ".py",
   "mimetype": "text/x-python",
   "name": "python",
   "nbconvert_exporter": "python",
   "pygments_lexer": "ipython3",
   "version": "3.10.8"
  }
 },
 "nbformat": 4,
 "nbformat_minor": 5
}
