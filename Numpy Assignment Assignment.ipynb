{
 "cells": [
  {
   "cell_type": "raw",
   "id": "8b6cb82b-5a24-49ee-87f7-376099e7127d",
   "metadata": {},
   "source": [
    "1. A Python library is a collection of modules and functions that extend the capabilities of Python. We use Python libraries to leverage pre-written code for specific tasks, saving time and effort in development."
   ]
  },
  {
   "cell_type": "raw",
   "id": "1cf3ca66-8333-4f4a-aaaf-16aa96c34b8c",
   "metadata": {},
   "source": [
    "2. The main differences between NumPy arrays and lists are:\n",
    "   - NumPy arrays are homogeneous, meaning they contain elements of the same data type, whereas lists can contain elements of different data types.\n",
    "   - NumPy arrays offer better performance and efficiency for numerical computations compared to lists.\n",
    "   - NumPy arrays support vectorized operations, making it easier to perform element-wise operations without explicit looping.\n",
    "   - NumPy arrays have fixed sizes, while lists can dynamically resize."
   ]
  },
  {
   "cell_type": "raw",
   "id": "9578b7d9-ab6b-4287-8043-d0bf73d873ae",
   "metadata": {},
   "source": [
    "3. The shape, size, and dimension of the given array are:\n",
    "   - Shape: (3, 4)\n",
    "   - Size: 12\n",
    "   - Dimension: 2"
   ]
  },
  {
   "cell_type": "code",
   "execution_count": 54,
   "id": "906fecbf-8db3-469a-b983-4c1492538ff3",
   "metadata": {},
   "outputs": [],
   "source": [
    "# 4. Python code to access the first row of the array:\n",
    "\n",
    "array = [[1, 2, 3, 4],\n",
    "         [5, 6, 7, 8],\n",
    "       [9, 10, 11, 12]]\n",
    "first_row = array[0]\n",
    "  "
   ]
  },
  {
   "cell_type": "code",
   "execution_count": 55,
   "id": "1b42f801-0cf9-4511-8af8-9408e9dbe5f8",
   "metadata": {},
   "outputs": [
    {
     "data": {
      "text/plain": [
       "12"
      ]
     },
     "execution_count": 55,
     "metadata": {},
     "output_type": "execute_result"
    }
   ],
   "source": [
    "# 5. To access the element at the third row and fourth column:\n",
    "  \n",
    "array[2][3]"
   ]
  },
  {
   "cell_type": "code",
   "execution_count": 56,
   "id": "9223682e-154a-4d9e-854b-8064f2b54dda",
   "metadata": {},
   "outputs": [
    {
     "name": "stdout",
     "output_type": "stream",
     "text": [
      "Odd-indexed elements:\n",
      "[[2, 4], [6, 8], [10, 12]]\n"
     ]
    }
   ],
   "source": [
    "# 6. Code to extract all odd-indexed elements from the array:\n",
    "\n",
    "# Extracting all odd-indexed elements\n",
    "odd_indexed_elements = [row[1::2] for row in array]\n",
    "\n",
    "print(\"Odd-indexed elements:\")\n",
    "print(odd_indexed_elements)\n",
    " "
   ]
  },
  {
   "cell_type": "code",
   "execution_count": 57,
   "id": "40619921-41a6-4b3e-9618-08fc6a6c19d6",
   "metadata": {},
   "outputs": [
    {
     "data": {
      "text/plain": [
       "array([[0.07092229, 0.97412747, 0.17041684],\n",
       "       [0.11711593, 0.67942428, 0.99090045],\n",
       "       [0.97549962, 0.54744589, 0.19259144]])"
      ]
     },
     "execution_count": 57,
     "metadata": {},
     "output_type": "execute_result"
    }
   ],
   "source": [
    "# 7. Generating a random 3x3 matrix with values between 0 and 1:\n",
    "\n",
    "random_matrix = np.random.rand(3, 3)\n",
    "random_matrix "
   ]
  },
  {
   "cell_type": "raw",
   "id": "84961b25-eee6-4400-83ef-3ee5badfccfb",
   "metadata": {},
   "source": [
    "8. `np.random.rand` generates random numbers from a uniform distribution between 0 and 1, while `np.random.randn` generates random numbers from a standard normal distribution (mean 0, standard deviation 1)."
   ]
  },
  {
   "cell_type": "code",
   "execution_count": 58,
   "id": "9af318e4-66fe-4c09-829c-7488f9ddba8c",
   "metadata": {},
   "outputs": [
    {
     "data": {
      "text/plain": [
       "array([[[ 1,  2,  3,  4],\n",
       "        [ 5,  6,  7,  8],\n",
       "        [ 9, 10, 11, 12]]])"
      ]
     },
     "execution_count": 58,
     "metadata": {},
     "output_type": "execute_result"
    }
   ],
   "source": [
    "# 9. Code to increase the dimension of the array:\n",
    "   \n",
    "increased_dimension_array = np.expand_dims(array, axis=0)\n",
    "increased_dimension_array "
   ]
  },
  {
   "cell_type": "code",
   "execution_count": 59,
   "id": "93bc3462-be2c-4a48-bc6f-48770b4e11a3",
   "metadata": {},
   "outputs": [
    {
     "data": {
      "text/plain": [
       "array([[ 1,  5,  9],\n",
       "       [ 2,  6, 10],\n",
       "       [ 3,  7, 11],\n",
       "       [ 4,  8, 12]])"
      ]
     },
     "execution_count": 59,
     "metadata": {},
     "output_type": "execute_result"
    }
   ],
   "source": [
    "# 10. Transposing the array:\n",
    "    \n",
    "transposed_array = np.transpose(array)\n",
    "transposed_array"
   ]
  },
  {
   "cell_type": "code",
   "execution_count": 60,
   "id": "9e3630dd-0841-4409-a23e-7247be77ba3f",
   "metadata": {},
   "outputs": [],
   "source": [
    "# 11. Performing operations on matrices A and B:\n",
    "    \n",
    "A = np.array([[1, 2, 3, 4], [5, 6, 7, 8], [9, 10, 11, 12]])\n",
    "B = np.array([[1, 2, 3, 4], [5, 6, 7, 8], [9, 10, 11, 12]])\n",
    "\n",
    "# Index-wise multiplication\n",
    "index_wise_multiplication = A * B\n",
    "\n",
    "# Matrix multiplication\n",
    "matrix_multiplication = np.dot(A, B.T)\n",
    "\n",
    "# Addition\n",
    "addition = A + B\n",
    "\n",
    "# Subtraction\n",
    "subtraction = B - A\n",
    "\n",
    "# Division\n",
    "division = np.divide(B, A)"
   ]
  },
  {
   "cell_type": "raw",
   "id": "5a0c1672-9c99-40bb-bf6c-27ac0d1034ef",
   "metadata": {},
   "source": [
    "12. The function in NumPy used to swap the byte order of an array is `np.ndarray.byteswap()`."
   ]
  },
  {
   "cell_type": "raw",
   "id": "69a21489-3310-492b-b727-422ab9fcf075",
   "metadata": {},
   "source": [
    "13. The `np.linalg.inv` function is used to compute the inverse of a square matrix. It is significant in linear algebra for solving systems of linear equations and computing determinants."
   ]
  },
  {
   "cell_type": "code",
   "execution_count": 61,
   "id": "637f0e55-40f5-4e7c-833d-419875c178fd",
   "metadata": {},
   "outputs": [
    {
     "name": "stdout",
     "output_type": "stream",
     "text": [
      "Reshaped array:\n",
      "[[ 1  2  3  4  5  6]\n",
      " [ 7  8  9 10 11 12]]\n"
     ]
    }
   ],
   "source": [
    "# 14. The `np.reshape` function is used to change the shape of an array without changing its data. It allows us to specify the new shape of the array.\n",
    "\n",
    "# Given array\n",
    "array = np.array([[1, 2, 3, 4],\n",
    "                  [5, 6, 7, 8],\n",
    "                  [9, 10, 11, 12]])\n",
    "\n",
    "# Define the new shape\n",
    "new_shape = (2, 6)  # For example, reshaping to a 2x6 array\n",
    "\n",
    "# Reshape the array\n",
    "reshaped_array = np.reshape(array, new_shape)\n",
    "\n",
    "print(\"Reshaped array:\")\n",
    "print(reshaped_array)\n"
   ]
  },
  {
   "cell_type": "raw",
   "id": "e74da196-6aab-4d37-93d3-1248038cf160",
   "metadata": {},
   "source": [
    "15. Broadcasting in NumPy is the ability of arrays with different shapes to be combined in arithmetic operations. NumPy automatically broadcasts arrays with smaller shapes to match the shape of larger arrays, enabling element-wise operations even when the shapes are not identical."
   ]
  }
 ],
 "metadata": {
  "kernelspec": {
   "display_name": "Python 3 (ipykernel)",
   "language": "python",
   "name": "python3"
  },
  "language_info": {
   "codemirror_mode": {
    "name": "ipython",
    "version": 3
   },
   "file_extension": ".py",
   "mimetype": "text/x-python",
   "name": "python",
   "nbconvert_exporter": "python",
   "pygments_lexer": "ipython3",
   "version": "3.12.3"
  }
 },
 "nbformat": 4,
 "nbformat_minor": 5
}
