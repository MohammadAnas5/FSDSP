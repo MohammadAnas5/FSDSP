{
 "cells": [
  {
   "cell_type": "markdown",
   "id": "08aeb9dd",
   "metadata": {},
   "source": [
    "## Basic Questions"
   ]
  },
  {
   "cell_type": "markdown",
   "id": "c4fd1b8f",
   "metadata": {},
   "source": [
    "### 1. Create a Flask app that displays \"Hello, World!\" on the homepage:"
   ]
  },
  {
   "cell_type": "code",
   "execution_count": null,
   "id": "dd9aeafa",
   "metadata": {},
   "outputs": [],
   "source": [
    "from flask import Flask\n",
    "\n",
    "app = Flask(__name__)\n",
    "\n",
    "@app.route('/')\n",
    "def hello_world():\n",
    "    return 'Hello, World!'\n",
    "\n",
    "if __name__ == '__main__':\n",
    "    app.run()"
   ]
  },
  {
   "cell_type": "markdown",
   "id": "fd9dd573",
   "metadata": {},
   "source": [
    "### 2. Build a Flask app with static HTML pages and navigate between them:"
   ]
  },
  {
   "cell_type": "code",
   "execution_count": null,
   "id": "2f71f37f",
   "metadata": {},
   "outputs": [],
   "source": [
    "from flask import Flask, render_template\n",
    "\n",
    "app = Flask(__name__)\n",
    "\n",
    "@app.route('/')\n",
    "def home():\n",
    "    return render_template('index.html')\n",
    "\n",
    "@app.route('/about')\n",
    "def about():\n",
    "    return render_template('index.html')\n",
    "\n",
    "if __name__ == '__main__':\n",
    "    app.run()"
   ]
  },
  {
   "cell_type": "code",
   "execution_count": null,
   "id": "26375a0b",
   "metadata": {},
   "outputs": [],
   "source": [
    "# basic html code of index.html \n",
    "<!DOCTYPE html>\n",
    "<html>\n",
    "\n",
    "<head>\n",
    "    <title>Form Example</title>\n",
    "</head>\n",
    "\n",
    "<body>\n",
    "    <h1>Basic html webpage</h1>\n",
    "    \n",
    "</body>\n",
    "\n",
    "</html>"
   ]
  },
  {
   "cell_type": "markdown",
   "id": "cfcb984c",
   "metadata": {},
   "source": [
    "### 3. Develop a Flask app that uses URL parameters to display dynamic content:"
   ]
  },
  {
   "cell_type": "code",
   "execution_count": null,
   "id": "5991095a",
   "metadata": {},
   "outputs": [],
   "source": [
    "from flask import Flask\n",
    "\n",
    "app = Flask(__name__)\n",
    "\n",
    "@app.route('/greet/<name>')\n",
    "def greet(name):\n",
    "    return f'Hello, {name}!'\n",
    "\n",
    "if __name__ == '__main__':\n",
    "    app.run() "
   ]
  },
  {
   "cell_type": "markdown",
   "id": "e2320880",
   "metadata": {},
   "source": [
    "### 4. Create a Flask app with a form that accepts user input and displays it:"
   ]
  },
  {
   "cell_type": "code",
   "execution_count": null,
   "id": "ccd74598",
   "metadata": {},
   "outputs": [],
   "source": [
    "from flask import Flask,request,jsonify,render_template \n",
    "\n",
    "app = Flask(\"__name__\") \n",
    "\n",
    "@app.route(\"/\")\n",
    "def user_form():\n",
    "    return render_template(\"index.html\") \n",
    "\n",
    "@app.route(\"/form_result\",methods=['POST'])\n",
    "def inputs():\n",
    "    name = request.form.get(\"username\")\n",
    "    return f'{name}'\n",
    "\n",
    "\n",
    "if __name__==\"__main__\":\n",
    "    app.run(host=\"0.0.0.0\")"
   ]
  },
  {
   "cell_type": "code",
   "execution_count": null,
   "id": "9dabb33c",
   "metadata": {},
   "outputs": [],
   "source": [
    "# index.html file in template folder\n",
    "\n",
    "<!DOCTYPE html>\n",
    "<html>\n",
    "\n",
    "<head>\n",
    "    <title>Form Example</title>\n",
    "</head>\n",
    "\n",
    "<body>\n",
    "    <h1>Submit a Form</h1>\n",
    "    <form action=\"/form_result\" method=\"post\">\n",
    "        <label for=\"username\">Username:</label>\n",
    "        <input type=\"text\" id=\"username\" name=\"username\" required><br>\n",
    "        <input type=\"submit\" value=\"ok\">\n",
    "    </form>\n",
    "</body>\n",
    "\n",
    "</html>"
   ]
  },
  {
   "cell_type": "markdown",
   "id": "4d9ab14f",
   "metadata": {},
   "source": [
    "### 5. Implement user sessions in a Flask app to store and display user-specific data:"
   ]
  },
  {
   "cell_type": "code",
   "execution_count": null,
   "id": "703312bd",
   "metadata": {},
   "outputs": [],
   "source": [
    "from flask import Flask, request, session, redirect, url_for, render_template\n",
    "from flask_session import Session\n",
    "\n",
    "app = Flask(__name__)\n",
    "app.config['SECRET_KEY'] = 'mysecretkey'\n",
    "app.config['SESSION_TYPE'] = 'filesystem'\n",
    "Session(app)\n",
    "\n",
    "@app.route('/')\n",
    "def index():\n",
    "    return 'Welcome to the Flask Session Example'\n",
    "\n",
    "@app.route('/set_session/<value>')\n",
    "def set_session(value):\n",
    "    session['user_value'] = value\n",
    "    return 'Session value set'\n",
    "\n",
    "@app.route('/get_session')\n",
    "def get_session():\n",
    "    user_value = session.get('user_value', 'Session not set')\n",
    "    return f'Session Value: {user_value}'\n",
    "\n",
    "if __name__ == '__main__':\n",
    "    app.run(host=\"0.0.0.0\") "
   ]
  },
  {
   "cell_type": "markdown",
   "id": "48f42400",
   "metadata": {},
   "source": [
    "## Intermediate Flask Topics:"
   ]
  },
  {
   "cell_type": "markdown",
   "id": "7235d084",
   "metadata": {},
   "source": [
    "### Build a Flask app that allows users to upload files and display them on the website."
   ]
  },
  {
   "cell_type": "code",
   "execution_count": null,
   "id": "bcfb3a86",
   "metadata": {},
   "outputs": [],
   "source": [
    "from flask import Flask, render_template, request, redirect, url_for, send_from_directory \n",
    "from werkzeug.utils import secure_filename\n",
    "from werkzeug.datastructures import FileStorage \n",
    "from flask_uploads import UploadSet, configure_uploads, TEXT, DOCUMENTS \n",
    "\n",
    "app = Flask(__name__)\n",
    "app.config['UPLOADED_FILES_DEST'] = 'uploads'  # Destination folder for uploaded files\n",
    "files = UploadSet('files', TEXT + DOCUMENTS)\n",
    "configure_uploads(app, files)\n",
    "\n",
    "@app.route('/')\n",
    "def index():\n",
    "    return render_template('index.html')\n",
    "\n",
    "@app.route('/upload', methods=['POST'])\n",
    "def upload():\n",
    "    if 'file' in request.files:\n",
    "        file = request.files['file']\n",
    "        if file:\n",
    "            filename = files.save(file)\n",
    "            return f'File \"{filename}\" uploaded successfully!'\n",
    "    return 'No file provided.'\n",
    "\n",
    "@app.route('/uploads/<filename>')\n",
    "def uploaded_file(filename):\n",
    "    return send_from_directory(app.config['UPLOADED_FILES_DEST'], filename)\n",
    "\n",
    "if __name__ == '__main__':\n",
    "    app.run(host=\"0.0.0.0\")"
   ]
  },
  {
   "cell_type": "code",
   "execution_count": null,
   "id": "656c7f5b",
   "metadata": {},
   "outputs": [],
   "source": [
    "### Code of index.html file"
   ]
  },
  {
   "cell_type": "code",
   "execution_count": null,
   "id": "4f15966a",
   "metadata": {},
   "outputs": [],
   "source": [
    "<!DOCTYPE html>\n",
    "<html>\n",
    "<head>\n",
    "    <title>File Upload</title>\n",
    "</head>\n",
    "<body>\n",
    "    <h1>File Upload</h1>\n",
    "    <form method=\"POST\" action=\"/upload\" enctype=\"multipart/form-data\">\n",
    "        <select name=\"file_type\">\n",
    "            <option value=\"files\">Text</option>\n",
    "            <option value=\"photos\">Image</option>\n",
    "            <option value=\"pdfs\">PDF</option>\n",
    "        </select>\n",
    "        <input type=\"file\" name=\"file\">\n",
    "        <input type=\"submit\" value=\"Upload\">\n",
    "    </form>\n",
    "</body>\n",
    "</html>\n"
   ]
  },
  {
   "cell_type": "markdown",
   "id": "ab909cfe",
   "metadata": {},
   "source": [
    "### Integrate a SQLite database with Flask to perform CRUD operations on a list of items."
   ]
  },
  {
   "cell_type": "code",
   "execution_count": null,
   "id": "3d4c653a",
   "metadata": {},
   "outputs": [],
   "source": []
  }
 ],
 "metadata": {
  "kernelspec": {
   "display_name": "Python 3 (ipykernel)",
   "language": "python",
   "name": "python3"
  },
  "language_info": {
   "codemirror_mode": {
    "name": "ipython",
    "version": 3
   },
   "file_extension": ".py",
   "mimetype": "text/x-python",
   "name": "python",
   "nbconvert_exporter": "python",
   "pygments_lexer": "ipython3",
   "version": "3.11.1"
  }
 },
 "nbformat": 4,
 "nbformat_minor": 5
}
