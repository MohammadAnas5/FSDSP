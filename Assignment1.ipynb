{
 "cells": [
  {
   "cell_type": "markdown",
   "id": "56574af3-ed9b-4acb-ad12-c5972927857e",
   "metadata": {},
   "source": [
    "# First Assignment on Python basics"
   ]
  },
  {
   "cell_type": "markdown",
   "id": "3ac1bc4b-0b89-4713-aa6a-a5962581a8a2",
   "metadata": {},
   "source": [
    "### Q1 -  Declare two variables, `x` and `y`, and assign them integer values. Swap the values of these variables without using any temporary variable. "
   ]
  },
  {
   "cell_type": "code",
   "execution_count": 2,
   "id": "e271c88a-b74c-44ea-b46b-e4932f84c91f",
   "metadata": {},
   "outputs": [
    {
     "name": "stdout",
     "output_type": "stream",
     "text": [
      "Before Swaping  2 78\n",
      "After Swaping  78 2\n"
     ]
    }
   ],
   "source": [
    "# Declare two variables, x and y then assign them values\n",
    "x = 2\n",
    "y = 78 \n",
    "\n",
    "# create a function for swapping of variables\n",
    "def swap(x,y):\n",
    "    print(\"Before Swaping \",x,y) \n",
    "    x,y=y,x\n",
    "    print(\"After Swaping \",x,y)\n",
    "\n",
    "\n",
    "# calling th function \n",
    "swap(x,y) "
   ]
  },
  {
   "cell_type": "markdown",
   "id": "99b7d722-4832-4896-b6f2-095978bff8f1",
   "metadata": {},
   "source": [
    "### Q2 - Create a program that calculates the area of a rectangle. Take the length and width as inputs from the user and store them in variables. Calculate and display the area."
   ]
  },
  {
   "cell_type": "code",
   "execution_count": 6,
   "id": "61afedef-bd28-4ac7-aea4-4462e15dc7b4",
   "metadata": {},
   "outputs": [
    {
     "name": "stdin",
     "output_type": "stream",
     "text": [
      "please enter the length 55\n",
      "please enter the width 33\n"
     ]
    },
    {
     "name": "stdout",
     "output_type": "stream",
     "text": [
      "The area of the rectangle is  1815\n"
     ]
    }
   ],
   "source": [
    "# creating a function for calculating the area of a rectangle\n",
    "def area_rec(l,w):\n",
    "    return l*w \n",
    "\n",
    "# Taking the length as inputs from the user \n",
    "length = int(input(\"please enter the length\"))\n",
    "\n",
    "# Taking the width as inputs from the user\n",
    "width = int(input(\"please enter the width\"))\n",
    "\n",
    "# calling the function and printing it\n",
    "print(\"The area of the rectangle is \",area_rec(length,width)) "
   ]
  },
  {
   "cell_type": "markdown",
   "id": "c05519bb-19e6-4bf4-a3b4-d25bea5c69c3",
   "metadata": {},
   "source": [
    "### Q3 - Write a Python program that converts temperatures from Celsius to Fahrenheit. Take the temperature in Celsius as input, store it in a variable, convert it to Fahrenheit, and display the result."
   ]
  },
  {
   "cell_type": "code",
   "execution_count": 5,
   "id": "90024c1f-1d6b-4238-8492-8b712318e6ee",
   "metadata": {},
   "outputs": [
    {
     "name": "stdin",
     "output_type": "stream",
     "text": [
      "please enter the length 55\n"
     ]
    },
    {
     "data": {
      "text/plain": [
       "'55°C Celsius  is 131.0 °F Fahrenheit'"
      ]
     },
     "execution_count": 5,
     "metadata": {},
     "output_type": "execute_result"
    }
   ],
   "source": [
    "# creating a function for converting temperatures from Celsius to Fahrenheit\n",
    "def cel_to_fah(cal):\n",
    "    # applyinf formula\n",
    "    fah = cal*(9/5)+32\n",
    "    # returning the output\n",
    "    return f\"{cal}°C Celsius  is {fah} °F Fahrenheit\"\n",
    "\n",
    "# Taking the Celsius as inputs from the user \n",
    "cel = int(input(\"please enter the Celsius\"))\n",
    "\n",
    "\n",
    "# calling the function and printing it\n",
    "cel_to_fah(cel)"
   ]
  },
  {
   "cell_type": "markdown",
   "id": "e11b5cdb-afc3-4867-9934-c9589daeefa2",
   "metadata": {},
   "source": [
    "### Q4 - Write a Python program that takes a string as input and prints the length of the string."
   ]
  },
  {
   "cell_type": "code",
   "execution_count": 1,
   "id": "10e93619-f38d-48f1-a6aa-80a9b19adb14",
   "metadata": {},
   "outputs": [
    {
     "name": "stdin",
     "output_type": "stream",
     "text": [
      "Please enter the string anas\n"
     ]
    },
    {
     "name": "stdout",
     "output_type": "stream",
     "text": [
      "The length of the string  4\n"
     ]
    }
   ],
   "source": [
    "# creating a function \n",
    "def length(x):\n",
    "    return len(x) \n",
    "\n",
    "# Taking input string fro the user\n",
    "string = input(\"Please enter the string\")\n",
    "\n",
    "# calling the function and printing the string  \n",
    "print(\"The length of the string \",length(string))"
   ]
  },
  {
   "cell_type": "markdown",
   "id": "1183ed69-d6c5-458c-b76d-8dfef197378b",
   "metadata": {},
   "source": [
    "### Q5 - Create a program that takes a sentence from the user and counts the number of vowels (a, e, i, o, u) in the string."
   ]
  },
  {
   "cell_type": "code",
   "execution_count": 13,
   "id": "fef60ab7-9628-4ca7-b25d-2f80e9f70165",
   "metadata": {},
   "outputs": [
    {
     "data": {
      "text/plain": [
       "17"
      ]
     },
     "execution_count": 13,
     "metadata": {},
     "output_type": "execute_result"
    }
   ],
   "source": [
    "# Creating a function for counting the number of vowels in the sentence\n",
    "def countthevowels(sentence):\n",
    "    temp=0\n",
    "    sentence = sentence.lower() \n",
    "    for i in sentence:\n",
    "        # using The membership operator to check if an object (for every letter of our sentence) is a member of a sequence (all vowels).\n",
    "        if i in ('a','e','i','o','u'):\n",
    "            # if condition will be true it increase its value by one\n",
    "            temp+=1\n",
    "    # return it s value        \n",
    "    return temp\n",
    "\n",
    "countthevowels(\"Caught up in mEasmerizing and materialistic world\")"
   ]
  },
  {
   "cell_type": "markdown",
   "id": "8ae270b9-a054-45e8-8737-27d263f2b580",
   "metadata": {},
   "source": [
    "### Q6 - Given a string, reverse the order of characters using string slicing and print the reversed string."
   ]
  },
  {
   "cell_type": "code",
   "execution_count": 10,
   "id": "7ac606d4-cbee-427f-a127-58393b237e58",
   "metadata": {},
   "outputs": [
    {
     "name": "stdout",
     "output_type": "stream",
     "text": [
      "Before reversing -  Gargentuan amount\n",
      "Before reversing -  tnuoma nautnegraG\n"
     ]
    }
   ],
   "source": [
    "# Creating a function for reversing the order of characters\n",
    "def reverse(x):\n",
    "    return x[::-1] \n",
    "\n",
    "\n",
    "string = \"Gargentuan amount\"\n",
    "print(\"Before reversing - \", string) \n",
    "\n",
    "# calling the function and printing the reversed string\n",
    "print(\"Before reversing - \", reverse(string)) "
   ]
  },
  {
   "cell_type": "markdown",
   "id": "8d2ab500-28bd-4114-84e4-d507eb635e67",
   "metadata": {},
   "source": [
    "### Q7 - Write a program that takes a string as input and checks if it is a palindrome (reads the same forwards and backwards)."
   ]
  },
  {
   "cell_type": "code",
   "execution_count": 15,
   "id": "f84f7622-50a8-46fc-ae34-959c97156207",
   "metadata": {},
   "outputs": [
    {
     "name": "stdout",
     "output_type": "stream",
     "text": [
      "yes it is palindrome\n"
     ]
    }
   ],
   "source": [
    "# Creating a function for  checks if it is a palindrome or not\n",
    "def reverse(x):\n",
    "    x = x.lower() \n",
    "    if x == x[::-1]:\n",
    "        return \"yes it is palindrome\"\n",
    "    else:\n",
    "        return \"No it is not palindrome\"\n",
    "\n",
    "\n",
    "string = \"Racecar\"\n",
    "\n",
    "\n",
    "# calling the function \n",
    "print( reverse(string))"
   ]
  },
  {
   "cell_type": "markdown",
   "id": "da57c20d-f62d-4351-ac81-5f104e27dcd4",
   "metadata": {},
   "source": [
    "### Q8 - Create a program that takes a string as input and removes all the spaces from it. Print the modified string without spaces."
   ]
  },
  {
   "cell_type": "code",
   "execution_count": 17,
   "id": "5ad51df4-8343-4311-ba94-70a89a0e9b8d",
   "metadata": {},
   "outputs": [
    {
     "name": "stdout",
     "output_type": "stream",
     "text": [
      "Birdsarechirping\n"
     ]
    }
   ],
   "source": [
    "# takes a string as input\n",
    "string = \"Birds are chirping   \" \n",
    "\n",
    "# creating the variable for final input\n",
    "final = \"\"\n",
    "for i in string:\n",
    "    # checking not a space\n",
    "    if i!=\" \":\n",
    "        # letter will be put into the new string\n",
    "        final=final+i\n",
    "\n",
    "# print the final string without spaces         \n",
    "print(final)         "
   ]
  },
  {
   "cell_type": "code",
   "execution_count": null,
   "id": "62e2eb2a-765b-497c-9bc9-47f466ba82af",
   "metadata": {},
   "outputs": [],
   "source": []
  }
 ],
 "metadata": {
  "kernelspec": {
   "display_name": "Python 3 (ipykernel)",
   "language": "python",
   "name": "python3"
  },
  "language_info": {
   "codemirror_mode": {
    "name": "ipython",
    "version": 3
   },
   "file_extension": ".py",
   "mimetype": "text/x-python",
   "name": "python",
   "nbconvert_exporter": "python",
   "pygments_lexer": "ipython3",
   "version": "3.10.8"
  }
 },
 "nbformat": 4,
 "nbformat_minor": 5
}
